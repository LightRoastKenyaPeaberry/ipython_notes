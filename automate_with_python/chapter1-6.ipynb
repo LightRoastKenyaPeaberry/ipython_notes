{
 "cells": [
  {
   "cell_type": "code",
   "execution_count": 3,
   "id": "ff59c9b2-ac54-4ff9-9621-f41074a65879",
   "metadata": {},
   "outputs": [
    {
     "name": "stdin",
     "output_type": "stream",
     "text": [
      "please input password: 12345\n"
     ]
    },
    {
     "name": "stdout",
     "output_type": "stream",
     "text": [
      "That's far too idiot\n"
     ]
    }
   ],
   "source": [
    "inpassword = input('please input password:')\n",
    "if inpassword =='12345':\n",
    "    print('That\\'s far too idiot')\n",
    "else:\n",
    "    print('access denied')"
   ]
  },
  {
   "cell_type": "code",
   "execution_count": 2,
   "id": "84dd8ed4-435f-44fc-b17e-2fa4093ee7e8",
   "metadata": {},
   "outputs": [
    {
     "name": "stdout",
     "output_type": "stream",
     "text": [
      "Hello world\n",
      "What's your name?\n"
     ]
    },
    {
     "name": "stdin",
     "output_type": "stream",
     "text": [
      " kiki\n"
     ]
    },
    {
     "name": "stdout",
     "output_type": "stream",
     "text": [
      "It is good to meet you, kiki\n",
      "How old are you?\n"
     ]
    },
    {
     "name": "stdin",
     "output_type": "stream",
     "text": [
      " 25\n"
     ]
    },
    {
     "name": "stdout",
     "output_type": "stream",
     "text": [
      "You will be 26 in a year.\n"
     ]
    }
   ],
   "source": [
    "# This program says Hello and asks for my name\n",
    "print('Hello world')\n",
    "print('What\\'s your name?')\n",
    "myName = input()\n",
    "print(f'It is good to meet you, {myName}')\n",
    "print('How old are you?')\n",
    "myAge=input()\n",
    "print(f'You will be {str(int(myAge)+1)} in a year.')"
   ]
  },
  {
   "cell_type": "code",
   "execution_count": 3,
   "id": "6829257a-9595-41d6-9fa6-51d61f7b8d9b",
   "metadata": {},
   "outputs": [
    {
     "name": "stdin",
     "output_type": "stream",
     "text": [
      "name mary\n",
      "password swordfish\n"
     ]
    },
    {
     "name": "stdout",
     "output_type": "stream",
     "text": [
      "hello, mary\n",
      "access granted\n"
     ]
    }
   ],
   "source": [
    "name =input('name')\n",
    "passwd = input('password')\n",
    "if name == 'mary':\n",
    "    print('hello, mary')\n",
    "    if passwd == 'swordfish':\n",
    "        print('access granted')\n",
    "    else:\n",
    "        print('wrong password')"
   ]
  },
  {
   "cell_type": "code",
   "execution_count": 4,
   "id": "2f417429-959f-4ed4-894f-3840602db0cd",
   "metadata": {},
   "outputs": [
    {
     "name": "stdin",
     "output_type": "stream",
     "text": [
      "name kiki\n",
      "password fdasjlfa d\n"
     ]
    }
   ],
   "source": [
    "name =input('name')\n",
    "passwd = input('password')\n",
    "if name == 'mary':\n",
    "    print('hello, mary')\n",
    "    if passwd == 'swordfish':\n",
    "        print('access granted')\n",
    "    else:\n",
    "        print('wrong password')"
   ]
  },
  {
   "cell_type": "code",
   "execution_count": 5,
   "id": "ef0eda28-2db2-40be-a418-ddfa019d6f30",
   "metadata": {},
   "outputs": [
    {
     "name": "stdin",
     "output_type": "stream",
     "text": [
      "name mary\n",
      "password fdasfad\n"
     ]
    },
    {
     "name": "stdout",
     "output_type": "stream",
     "text": [
      "hello, mary\n",
      "wrong password\n"
     ]
    }
   ],
   "source": [
    "name =input('name')\n",
    "passwd = input('password')\n",
    "if name == 'mary':\n",
    "    print('hello, mary')\n",
    "    if passwd == 'swordfish':\n",
    "        print('access granted')\n",
    "    else:\n",
    "        print('wrong password')"
   ]
  },
  {
   "cell_type": "code",
   "execution_count": 6,
   "id": "ecbda49c-77df-4443-8f26-5b764f5afd57",
   "metadata": {},
   "outputs": [
    {
     "name": "stdout",
     "output_type": "stream",
     "text": [
      "Please input your name.\n"
     ]
    },
    {
     "name": "stdin",
     "output_type": "stream",
     "text": [
      " fsadljf\n"
     ]
    },
    {
     "name": "stdout",
     "output_type": "stream",
     "text": [
      "Please input your name.\n"
     ]
    },
    {
     "name": "stdin",
     "output_type": "stream",
     "text": [
      " fdslkjfa\n"
     ]
    },
    {
     "name": "stdout",
     "output_type": "stream",
     "text": [
      "Please input your name.\n"
     ]
    },
    {
     "name": "stdin",
     "output_type": "stream",
     "text": [
      " 255\n"
     ]
    },
    {
     "name": "stdout",
     "output_type": "stream",
     "text": [
      "Please input your name.\n"
     ]
    },
    {
     "name": "stdin",
     "output_type": "stream",
     "text": [
      " your name\n"
     ]
    },
    {
     "name": "stdout",
     "output_type": "stream",
     "text": [
      "Thank you\n"
     ]
    }
   ],
   "source": [
    "name = ''\n",
    "while name !='your name':\n",
    "    print('Please input your name.')\n",
    "    name =input()\n",
    "print('Thank you')"
   ]
  },
  {
   "cell_type": "code",
   "execution_count": 7,
   "id": "24ae7a19-d713-4da2-9e8e-76e8e8907ef6",
   "metadata": {},
   "outputs": [
    {
     "name": "stdout",
     "output_type": "stream",
     "text": [
      "type exit to exit\n"
     ]
    },
    {
     "name": "stdin",
     "output_type": "stream",
     "text": [
      " dlf\n"
     ]
    },
    {
     "name": "stdout",
     "output_type": "stream",
     "text": [
      "you typed dlf.\n",
      "type exit to exit\n"
     ]
    },
    {
     "name": "stdin",
     "output_type": "stream",
     "text": [
      " flakere\n"
     ]
    },
    {
     "name": "stdout",
     "output_type": "stream",
     "text": [
      "you typed flakere.\n",
      "type exit to exit\n"
     ]
    },
    {
     "name": "stdin",
     "output_type": "stream",
     "text": [
      " lajrerewjr\n"
     ]
    },
    {
     "name": "stdout",
     "output_type": "stream",
     "text": [
      "you typed lajrerewjr.\n",
      "type exit to exit\n"
     ]
    },
    {
     "name": "stdin",
     "output_type": "stream",
     "text": [
      " what the heck\n"
     ]
    },
    {
     "name": "stdout",
     "output_type": "stream",
     "text": [
      "you typed what the heck.\n",
      "type exit to exit\n"
     ]
    },
    {
     "name": "stdin",
     "output_type": "stream",
     "text": [
      " exit\n"
     ]
    },
    {
     "ename": "SystemExit",
     "evalue": "",
     "output_type": "error",
     "traceback": [
      "An exception has occurred, use %tb to see the full traceback.\n",
      "\u001b[1;31mSystemExit\u001b[0m\n"
     ]
    },
    {
     "name": "stderr",
     "output_type": "stream",
     "text": [
      "D:\\anaconda3\\Lib\\site-packages\\IPython\\core\\interactiveshell.py:3516: UserWarning: To exit: use 'exit', 'quit', or Ctrl-D.\n",
      "  warn(\"To exit: use 'exit', 'quit', or Ctrl-D.\", stacklevel=1)\n"
     ]
    }
   ],
   "source": [
    "import sys\n",
    "\n",
    "\n",
    "while True:\n",
    "    print('type exit to exit')\n",
    "    response = input()\n",
    "    if response =='exit':\n",
    "        sys.exit()\n",
    "    print(f'you typed {response}.')"
   ]
  },
  {
   "cell_type": "code",
   "execution_count": 14,
   "id": "78976fb6-eee5-4136-af83-97bcf0ce766e",
   "metadata": {},
   "outputs": [
    {
     "name": "stdout",
     "output_type": "stream",
     "text": [
      "ROCK PAPER SCISSORS\n",
      "wins 0, losses 0, ties 0\n",
      "Enter your move: (r)ock, (p)aper, (s)cissors, (q)uit\n"
     ]
    },
    {
     "name": "stdin",
     "output_type": "stream",
     "text": [
      " t\n"
     ]
    },
    {
     "name": "stdout",
     "output_type": "stream",
     "text": [
      "wrong move, please re-enter\n",
      "wins 0, losses 0, ties 0\n",
      "Enter your move: (r)ock, (p)aper, (s)cissors, (q)uit\n"
     ]
    },
    {
     "name": "stdin",
     "output_type": "stream",
     "text": [
      " r\n"
     ]
    },
    {
     "name": "stdout",
     "output_type": "stream",
     "text": [
      "ROCK VERSUS\n",
      "SCISSORS\n",
      "you win\n",
      "wins 1, losses 0, ties 0\n",
      "Enter your move: (r)ock, (p)aper, (s)cissors, (q)uit\n"
     ]
    },
    {
     "name": "stdin",
     "output_type": "stream",
     "text": [
      " r\n"
     ]
    },
    {
     "name": "stdout",
     "output_type": "stream",
     "text": [
      "ROCK VERSUS\n",
      "SCISSORS\n",
      "you win\n",
      "wins 2, losses 0, ties 0\n",
      "Enter your move: (r)ock, (p)aper, (s)cissors, (q)uit\n"
     ]
    },
    {
     "name": "stdin",
     "output_type": "stream",
     "text": [
      " r\n"
     ]
    },
    {
     "name": "stdout",
     "output_type": "stream",
     "text": [
      "ROCK VERSUS\n",
      "PAPER\n",
      "you fail\n",
      "wins 2, losses 1, ties 0\n",
      "Enter your move: (r)ock, (p)aper, (s)cissors, (q)uit\n"
     ]
    },
    {
     "name": "stdin",
     "output_type": "stream",
     "text": [
      " s\n"
     ]
    },
    {
     "name": "stdout",
     "output_type": "stream",
     "text": [
      "SCISSORS VERSUS\n",
      "ROCK\n",
      "you fail\n",
      "wins 2, losses 2, ties 0\n",
      "Enter your move: (r)ock, (p)aper, (s)cissors, (q)uit\n"
     ]
    },
    {
     "name": "stdin",
     "output_type": "stream",
     "text": [
      " s\n"
     ]
    },
    {
     "name": "stdout",
     "output_type": "stream",
     "text": [
      "SCISSORS VERSUS\n",
      "PAPER\n",
      "you win\n",
      "wins 3, losses 2, ties 0\n",
      "Enter your move: (r)ock, (p)aper, (s)cissors, (q)uit\n"
     ]
    },
    {
     "name": "stdin",
     "output_type": "stream",
     "text": [
      " s\n"
     ]
    },
    {
     "name": "stdout",
     "output_type": "stream",
     "text": [
      "SCISSORS VERSUS\n",
      "ROCK\n",
      "you fail\n",
      "wins 3, losses 3, ties 0\n",
      "Enter your move: (r)ock, (p)aper, (s)cissors, (q)uit\n"
     ]
    },
    {
     "name": "stdin",
     "output_type": "stream",
     "text": [
      " p\n"
     ]
    },
    {
     "name": "stdout",
     "output_type": "stream",
     "text": [
      "PAPER VERSUS\n",
      "ROCK\n",
      "you win\n",
      "wins 4, losses 3, ties 0\n",
      "Enter your move: (r)ock, (p)aper, (s)cissors, (q)uit\n"
     ]
    },
    {
     "name": "stdin",
     "output_type": "stream",
     "text": [
      " p\n"
     ]
    },
    {
     "name": "stdout",
     "output_type": "stream",
     "text": [
      "PAPER VERSUS\n",
      "ROCK\n",
      "you win\n",
      "wins 5, losses 3, ties 0\n",
      "Enter your move: (r)ock, (p)aper, (s)cissors, (q)uit\n"
     ]
    },
    {
     "name": "stdin",
     "output_type": "stream",
     "text": [
      " p\n"
     ]
    },
    {
     "name": "stdout",
     "output_type": "stream",
     "text": [
      "PAPER VERSUS\n",
      "SCISSORS\n",
      "you fail\n",
      "wins 5, losses 4, ties 0\n",
      "Enter your move: (r)ock, (p)aper, (s)cissors, (q)uit\n"
     ]
    },
    {
     "name": "stdin",
     "output_type": "stream",
     "text": [
      " p\n"
     ]
    },
    {
     "name": "stdout",
     "output_type": "stream",
     "text": [
      "PAPER VERSUS\n",
      "ROCK\n",
      "you win\n",
      "wins 6, losses 4, ties 0\n",
      "Enter your move: (r)ock, (p)aper, (s)cissors, (q)uit\n"
     ]
    },
    {
     "name": "stdin",
     "output_type": "stream",
     "text": [
      " r\n"
     ]
    },
    {
     "name": "stdout",
     "output_type": "stream",
     "text": [
      "ROCK VERSUS\n",
      "SCISSORS\n",
      "you win\n",
      "wins 7, losses 4, ties 0\n",
      "Enter your move: (r)ock, (p)aper, (s)cissors, (q)uit\n"
     ]
    },
    {
     "name": "stdin",
     "output_type": "stream",
     "text": [
      " r\n"
     ]
    },
    {
     "name": "stdout",
     "output_type": "stream",
     "text": [
      "ROCK VERSUS\n",
      "PAPER\n",
      "you fail\n",
      "wins 7, losses 5, ties 0\n",
      "Enter your move: (r)ock, (p)aper, (s)cissors, (q)uit\n"
     ]
    },
    {
     "name": "stdin",
     "output_type": "stream",
     "text": [
      " p\n"
     ]
    },
    {
     "name": "stdout",
     "output_type": "stream",
     "text": [
      "PAPER VERSUS\n",
      "SCISSORS\n",
      "you fail\n",
      "wins 7, losses 6, ties 0\n",
      "Enter your move: (r)ock, (p)aper, (s)cissors, (q)uit\n"
     ]
    },
    {
     "name": "stdin",
     "output_type": "stream",
     "text": [
      " s\n"
     ]
    },
    {
     "name": "stdout",
     "output_type": "stream",
     "text": [
      "SCISSORS VERSUS\n",
      "SCISSORS\n",
      "It is a tie\n",
      "wins 7, losses 6, ties 1\n",
      "Enter your move: (r)ock, (p)aper, (s)cissors, (q)uit\n"
     ]
    },
    {
     "name": "stdin",
     "output_type": "stream",
     "text": [
      " s\n"
     ]
    },
    {
     "name": "stdout",
     "output_type": "stream",
     "text": [
      "SCISSORS VERSUS\n",
      "PAPER\n",
      "you win\n",
      "wins 8, losses 6, ties 1\n",
      "Enter your move: (r)ock, (p)aper, (s)cissors, (q)uit\n"
     ]
    },
    {
     "name": "stdin",
     "output_type": "stream",
     "text": [
      " q\n"
     ]
    },
    {
     "ename": "SystemExit",
     "evalue": "bye",
     "output_type": "error",
     "traceback": [
      "An exception has occurred, use %tb to see the full traceback.\n",
      "\u001b[1;31mSystemExit\u001b[0m\u001b[1;31m:\u001b[0m bye\n"
     ]
    },
    {
     "name": "stderr",
     "output_type": "stream",
     "text": [
      "D:\\anaconda3\\Lib\\site-packages\\IPython\\core\\interactiveshell.py:3516: UserWarning: To exit: use 'exit', 'quit', or Ctrl-D.\n",
      "  warn(\"To exit: use 'exit', 'quit', or Ctrl-D.\", stacklevel=1)\n"
     ]
    }
   ],
   "source": [
    "# rpsGame.py\n",
    "import random, sys\n",
    "\n",
    "print('ROCK PAPER SCISSORS')\n",
    "wins, losses, ties = 0,0,0\n",
    "\n",
    "while True:\n",
    "    print(f'wins {wins}, losses {losses}, ties {ties}')\n",
    "    print('Enter your move: (r)ock, (p)aper, (s)cissors, (q)uit')\n",
    "    your_move = input()\n",
    "    if your_move =='q':\n",
    "        sys.exit('bye')\n",
    "    elif your_move == 'r':\n",
    "        print('ROCK VERSUS')\n",
    "    elif your_move =='p':\n",
    "        print('PAPER VERSUS')\n",
    "    elif your_move =='s':\n",
    "        print('SCISSORS VERSUS')\n",
    "    else:\n",
    "        print('wrong move, please re-enter')\n",
    "        continue\n",
    "    computer = random.randint(1,3)\n",
    "    if computer == 1:\n",
    "        print('ROCK')\n",
    "        computer_move = 'r'\n",
    "    elif computer == 2:\n",
    "        print('PAPER')\n",
    "        computer_move = 'p'\n",
    "    else:\n",
    "        print('SCISSORS')\n",
    "        computer_move = 's'\n",
    "    if your_move==computer_move:\n",
    "        print('It is a tie')\n",
    "        ties +=1\n",
    "    elif your_move =='r' and computer_move=='p':\n",
    "        print('you fail')\n",
    "        losses +=1\n",
    "    elif your_move =='r' and computer_move=='s':\n",
    "        print('you win')\n",
    "        wins +=1\n",
    "    elif your_move =='p' and computer_move=='r':\n",
    "        print('you win')\n",
    "        wins +=1\n",
    "    elif your_move =='p' and computer_move=='s':\n",
    "        print('you fail')\n",
    "        losses +=1\n",
    "    elif  your_move =='s' and computer_move=='r':\n",
    "        print('you fail')\n",
    "        losses +=1\n",
    "    else:\n",
    "        print('you win')\n",
    "        wins +=1"
   ]
  },
  {
   "cell_type": "code",
   "execution_count": 13,
   "id": "b7d3d512-88b1-47e2-a102-fea877991f64",
   "metadata": {},
   "outputs": [
    {
     "name": "stdout",
     "output_type": "stream",
     "text": [
      "2\n",
      "1\n",
      "2\n",
      "1\n",
      "2\n",
      "2\n",
      "3\n",
      "2\n",
      "1\n",
      "4\n",
      "2\n",
      "4\n",
      "1\n",
      "1\n",
      "4\n",
      "3\n",
      "1\n",
      "2\n",
      "3\n",
      "2\n"
     ]
    }
   ],
   "source": [
    "for i in range(20):\n",
    "    print(random.randint(1,4))"
   ]
  },
  {
   "cell_type": "code",
   "execution_count": null,
   "id": "c6679dfa",
   "metadata": {},
   "outputs": [],
   "source": [
    "# zigzag.py: run on terminal \n",
    "import time, sys\n",
    "\n",
    "indent = 0\n",
    "indentIncreasing = True\n",
    "\n",
    "try:\n",
    "    while True:\n",
    "        print(' '* indent, end='')\n",
    "        print('*'*7)\n",
    "        time.sleep(0.1)\n",
    "        \n",
    "        if indentIncreasing:\n",
    "            indent +=1\n",
    "            if indent == 20:\n",
    "                indentIncreasing = False\n",
    "        else:\n",
    "            indent -=1\n",
    "            if indent ==0:\n",
    "                indentIncreasing = True\n",
    "except KeyboardInterrupt:\n",
    "    sys.exit()"
   ]
  },
  {
   "cell_type": "code",
   "execution_count": 1,
   "id": "7d71f37f",
   "metadata": {},
   "outputs": [
    {
     "name": "stdout",
     "output_type": "stream",
     "text": [
      "Yes, definitely\n"
     ]
    }
   ],
   "source": [
    "from random import choice\n",
    "\n",
    "message = ['It is certain',\n",
    "          'It is definitely so',\n",
    "          'Yes, definitely',\n",
    "          'Reply hazy try again',\n",
    "          'Ask again later',\n",
    "          'Concentrate and ask again',\n",
    "          'My reply is no',\n",
    "          'Outlook not so good',\n",
    "          'Very doubtful']\n",
    "print(choice(message))"
   ]
  },
  {
   "cell_type": "code",
   "execution_count": null,
   "id": "e90394ae-d836-421b-89cb-224099029bc1",
   "metadata": {},
   "outputs": [],
   "source": [
    "# Conway's Game of Life\n",
    "import random, time, copy\n",
    "\n",
    "WIDTH = 6\n",
    "HEIGHT = 6\n",
    "nexCells =[]\n",
    "\n",
    "# Initialize\n",
    "for x in range(WIDTH):\n",
    "    column = []\n",
    "    for y in range(HEIGHT):\n",
    "        if random.randint(0,1) == 0:\n",
    "            column.append('#')\n",
    "        else:\n",
    "            column.append(' ')\n",
    "    nexCells.append(column)\n",
    "\n",
    "# Print on screen\n",
    "while True:\n",
    "    print('\\n'*5)\n",
    "    currentCells = copy.deepcopy(nexCells)\n",
    "    for y in range(HEIGHT):\n",
    "        for x in range(WIDTH):\n",
    "            print(currentCells[x][y], end='')\n",
    "        print()\n",
    "\n",
    "    # Update\n",
    "    for x in range(WIDTH):\n",
    "        for y in range(HEIGHT):\n",
    "            # get a cell's neighboring coordinates\n",
    "            leftCoord = (x-1) % WIDTH\n",
    "            rightCoord = (x+1) % WIDTH\n",
    "            aboveCoord = (y-1) % HEIGHT\n",
    "            belowCoord = (y+1) % HEIGHT\n",
    "            # count number of living neightbors \n",
    "            numNeighbors = 0\n",
    "\n",
    "            if currentCells[leftCoord][aboveCoord] == '#':\n",
    "                numNeighbors +=1\n",
    "            if currentCells[x][aboveCoord] == '#':\n",
    "                numNeighbors +=1\n",
    "            if currentCells[rightCoord][aboveCoord] == '#':\n",
    "                numNeighbors +=1\n",
    "            if currentCells[leftCoord][y] == '#':\n",
    "                numNeighbors +=1\n",
    "            if currentCells[rightCoord][y] == '#':\n",
    "                numNeighbors +=1\n",
    "            if currentCells[leftCoord][belowCoord] == '#':\n",
    "                numNeighbors +=1\n",
    "            if currentCells[x][belowCoord] == '#':\n",
    "                numNeighbors +=1\n",
    "            if currentCells[rightCoord][belowCoord] == '#':\n",
    "                numNeighbors +=1\n",
    "\n",
    "            # update with Conway's Game of Life rules\n",
    "            if currentCells[x][y] =='#' and (numNeighbors ==2 or numNeighbors==3):\n",
    "                nexCells[x][y] = '#'\n",
    "            elif currentCells[x][y] ==' ' and numNeighbors ==3:\n",
    "                nexCells[x][y] ='#'\n",
    "            else:\n",
    "                nexCells[x][y] = ' '\n",
    "\n",
    "    time.sleep(1)"
   ]
  },
  {
   "cell_type": "code",
   "execution_count": 1,
   "id": "cb1a978a-9bd5-42a1-919c-1cccb017960b",
   "metadata": {},
   "outputs": [],
   "source": [
    "# characterCount.py\n",
    "message = 'It was a bright cold day in April, and the clocks were striking thirteen.'\n",
    "count = {}\n",
    "\n",
    "for character in message:\n",
    "    count.setdefault(character,0)\n",
    "    count[character] +=1\n",
    "    "
   ]
  },
  {
   "cell_type": "code",
   "execution_count": 2,
   "id": "71f3249f-c54a-43a2-943e-ed127ddaa59c",
   "metadata": {},
   "outputs": [
    {
     "data": {
      "text/plain": [
       "{'I': 1,\n",
       " 't': 6,\n",
       " ' ': 13,\n",
       " 'w': 2,\n",
       " 'a': 4,\n",
       " 's': 3,\n",
       " 'b': 1,\n",
       " 'r': 5,\n",
       " 'i': 6,\n",
       " 'g': 2,\n",
       " 'h': 3,\n",
       " 'c': 3,\n",
       " 'o': 2,\n",
       " 'l': 3,\n",
       " 'd': 3,\n",
       " 'y': 1,\n",
       " 'n': 4,\n",
       " 'A': 1,\n",
       " 'p': 1,\n",
       " ',': 1,\n",
       " 'e': 5,\n",
       " 'k': 2,\n",
       " '.': 1}"
      ]
     },
     "execution_count": 2,
     "metadata": {},
     "output_type": "execute_result"
    }
   ],
   "source": [
    "count"
   ]
  },
  {
   "cell_type": "code",
   "execution_count": 3,
   "id": "22696c70-9b62-4cc4-b097-4da9d0a7b967",
   "metadata": {},
   "outputs": [
    {
     "name": "stdout",
     "output_type": "stream",
     "text": [
      "{' ': 13,\n",
      " ',': 1,\n",
      " '.': 1,\n",
      " 'A': 1,\n",
      " 'I': 1,\n",
      " 'a': 4,\n",
      " 'b': 1,\n",
      " 'c': 3,\n",
      " 'd': 3,\n",
      " 'e': 5,\n",
      " 'g': 2,\n",
      " 'h': 3,\n",
      " 'i': 6,\n",
      " 'k': 2,\n",
      " 'l': 3,\n",
      " 'n': 4,\n",
      " 'o': 2,\n",
      " 'p': 1,\n",
      " 'r': 5,\n",
      " 's': 3,\n",
      " 't': 6,\n",
      " 'w': 2,\n",
      " 'y': 1}\n"
     ]
    }
   ],
   "source": [
    "import pprint\n",
    "pprint.pprint(count)"
   ]
  },
  {
   "cell_type": "code",
   "execution_count": 18,
   "id": "be1a3883-2a73-4106-8e7a-f2f6e015dd3e",
   "metadata": {},
   "outputs": [
    {
     "name": "stdout",
     "output_type": "stream",
     "text": [
      "\n",
      " | | \n",
      "------\n",
      " | | \n",
      "------\n",
      " | | \n",
      "------\n",
      "\n",
      "Turn for X\n",
      "top_l  top_c  top_r  \n",
      "mid_l  mid_c  mid_r  \n",
      "low_l  low_c  low_r  \n",
      "\n",
      "Move to which space:  (q to quit)\n"
     ]
    },
    {
     "name": "stdin",
     "output_type": "stream",
     "text": [
      " q\n"
     ]
    },
    {
     "ename": "SystemExit",
     "evalue": "Bye~",
     "output_type": "error",
     "traceback": [
      "An exception has occurred, use %tb to see the full traceback.\n",
      "\u001b[1;31mSystemExit\u001b[0m\u001b[1;31m:\u001b[0m Bye~\n"
     ]
    },
    {
     "name": "stderr",
     "output_type": "stream",
     "text": [
      "D:\\anaconda3\\Lib\\site-packages\\IPython\\core\\interactiveshell.py:3516: UserWarning: To exit: use 'exit', 'quit', or Ctrl-D.\n",
      "  warn(\"To exit: use 'exit', 'quit', or Ctrl-D.\", stacklevel=1)\n"
     ]
    }
   ],
   "source": [
    "# Tictactoe.py\n",
    "# without wining mechanism\n",
    "import sys, os, platform\n",
    "\n",
    "theBoard = {'top_l': ' ', 'top_c': ' ', 'top_r': ' ',\n",
    "           'mid_l': ' ', 'mid_c': ' ', 'mid_r': ' ',\n",
    "           'low_l': ' ', 'low_c': ' ', 'low_r': ' '}\n",
    "def print_board(board):\n",
    "    print(board['top_l']+'|'+board['top_c']+'|'+board['top_r'])\n",
    "    print('--'*3)\n",
    "    print(board['mid_l']+'|'+board['mid_c']+'|'+board['mid_r'])\n",
    "    print('--'*3)\n",
    "    print(board['low_l']+'|'+board['low_c']+'|'+board['low_r'])\n",
    "    print('--'*3)\n",
    "\n",
    "def tictactoe(board):\n",
    "    move= 'X'\n",
    "    # print_board(board)\n",
    "    for _ in range(0,9):\n",
    "        print()\n",
    "        print_board(board)\n",
    "        print()\n",
    "        print(f'Turn for {move}')\n",
    "\n",
    "        i = 0\n",
    "        for item in board.items():\n",
    "            if item[-1] ==' ':\n",
    "                i +=1\n",
    "                print(item[0],end='  ')\n",
    "                if i %3 ==0:\n",
    "                    print()\n",
    "        print('\\nMove to which space:  (q to quit)')\n",
    "        space = input()\n",
    "        if space =='q':\n",
    "            sys.exit('Bye~')\n",
    "        board[space] = move\n",
    "        if move == 'X':\n",
    "            move = 'O'\n",
    "        else:\n",
    "            move = 'X'\n",
    "        if platform.system() == 'Windows':\n",
    "            os.system('cls')\n",
    "        else:\n",
    "            os.system('clear')\n",
    "\n",
    "    print_board(theBoard)\n",
    "    \n",
    "\n",
    "tictactoe(theBoard)"
   ]
  },
  {
   "cell_type": "code",
   "execution_count": 23,
   "id": "6927067e-0387-41be-8ef7-3cda817ccf3f",
   "metadata": {},
   "outputs": [
    {
     "data": {
      "text/plain": [
       "['1 9 9 6 6 4 8 6 9 2 8']"
      ]
     },
     "execution_count": 23,
     "metadata": {},
     "output_type": "execute_result"
    }
   ],
   "source": [
    "'1 9 9 6 6 4 8 6 9 2 8'.split(',')"
   ]
  },
  {
   "cell_type": "code",
   "execution_count": 35,
   "id": "4740fb74-9738-477e-acef-bba3780e23a8",
   "metadata": {},
   "outputs": [],
   "source": [
    "import os, json\n",
    "\n",
    "def create_repo(repo):\n",
    "    pass\n",
    "\n",
    "def load_repo(repo):\n",
    "    pass\n",
    "\n",
    "def del_repo(repo):\n",
    "    pass\n",
    "\n",
    "def del_list(list):\n",
    "    pass\n",
    "\n",
    "def save_list(list):\n",
    "    print('> do you want to save this list by its title?')\n",
    "    file_name = input('> enter the name or enter blank to name by title\\n')\n",
    "    # 可以固定repo的位置\n",
    "    repo = input('> where do you want to save?')\n",
    "    # print('repos:')\n",
    "    # 优化\n",
    "    if file_name == '' or file_name ==' ':\n",
    "        path = os.path.join(repo, list[0])\n",
    "    else:\n",
    "        path = os.path.join(repo, file_name)\n",
    "    \n",
    "    if os.path.exists(path):\n",
    "            print('\\033[1;31mthere is a file with the same name, please rename\\033[0m')\n",
    "            return True\n",
    "    else:\n",
    "        try:\n",
    "            with open(path, 'w') as f:\n",
    "                json.dump(list,f)\n",
    "        except:\n",
    "            print(f'\\033[1;31m{path} saving failed\\033[0m')\n",
    "            return True\n",
    "        else:\n",
    "            print(f'\\033[1;32m{path} saving success\\033[0m')\n",
    "    return False\n",
    "\n",
    "def modify_list(list):\n",
    "\n",
    "    if isinstance(list,str) and os.path.exists(list):\n",
    "        try:\n",
    "            with open(list, 'r') as f:\n",
    "                objects = json.load(f)\n",
    "        except:\n",
    "            print(f'\\033[1;31m open file failed\\033[0m')\n",
    "            return True\n",
    "\n",
    "    else:\n",
    "        objects = list\n",
    "    print()\n",
    "    print('> how do you modify?')\n",
    "    do = input('a(dd), d(el), u(pdate)')\n",
    "    if do =='a':\n",
    "        do ='add'\n",
    "    elif do =='d':\n",
    "        do = 'del'\n",
    "    elif do =='u':\n",
    "        do = 'update'\n",
    "    else:\n",
    "        print('\\033[1;31m please enter correctly\\033[0m')\n",
    "        return True\n",
    "                 \n",
    "    try:\n",
    "        line = int(input(f'> which line do you want to {do}?'))\n",
    "    except:\n",
    "        print('\\033[1;31m please enter a number\\033[0m')\n",
    "        return True\n",
    "    else:\n",
    "        if (line > 0 and line<len(objects)) or (line<0 and line > -len(objects)):\n",
    "            if do =='update':\n",
    "                objects[line][0] = input('> enter an object:')\n",
    "                objects[line][-1] = input('> enter the object unit:')\n",
    "            elif do == 'add':\n",
    "                object_ =[]\n",
    "                object_.append(input('> enter an object:'))\n",
    "                object_.append(input('> enter the object unit:'))\n",
    "                if line ==-1:\n",
    "                    objects.append(object_)\n",
    "                else:\n",
    "                    objects.insert(line,object_)\n",
    "            else:\n",
    "                del objects[line]\n",
    "        elif line ==0 or line == -len(objects):\n",
    "            if do =='update':\n",
    "                objects[line] = input('> enter your title\\n')\n",
    "            else:\n",
    "                print('\\033[1;31m you can\\'t add or del title\\033[0m')\n",
    "                return True\n",
    "        else:\n",
    "            print('\\033[1;31m ilegal line number\\033[0m')\n",
    "            return True\n",
    "    return False\n",
    "    \n",
    "\n",
    "\n",
    "# make_list()\n",
    "def show_list(list):\n",
    "    if isinstance(list,str) and os.path.exists(list):\n",
    "        with open(list, 'r') as f:\n",
    "            objects = json.load(f)\n",
    "\n",
    "    else:\n",
    "        objects = list\n",
    "    print()\n",
    "    for i, item in enumerate(objects):\n",
    "        if i == 0:\n",
    "            print(item.center(36, '-'),end='\\n'*2)\n",
    "        else:\n",
    "            print(' ',end='')\n",
    "            print(item[0].ljust(33-len(item[-1]), '-'), end=' ')\n",
    "            print(item[-1])\n",
    "            # print(item[0].encode('gbk').ljust(33-len(item[-1]), b'-').decode('gbk'),end=' ')\n",
    "            # print(item[-1].encode('gbk').ljust(2, b'-').decode('gbk'))\n",
    "    print()\n",
    "\n",
    "def make_list():\n",
    "    print('> enter your title:')\n",
    "    title = input()\n",
    "    objects =[]\n",
    "    objects.append(title)\n",
    "    \n",
    "    while True:\n",
    "        print('> enter an object: (blank to stop)')\n",
    "        object_ = []\n",
    "        object_name =input()\n",
    "        if object_name =='' or object_name==' ':\n",
    "            break\n",
    "        else:\n",
    "            print('> enter the object unit:')\n",
    "            object_unit = input()\n",
    "            object_.append(object_name)\n",
    "            object_.append(object_unit)\n",
    "        \n",
    "        objects.append(object_)\n",
    "\n",
    "    flag = True\n",
    "    s_fail = True\n",
    "    m_fail = True\n",
    "    while flag or s_fail or m_fail:\n",
    "        show_list(objects)\n",
    "        print('> do you want to save, modify or drop this list?' )\n",
    "        choice  = input('s(ave), m(odify), q(uit)\\n')\n",
    "        if choice =='s':\n",
    "            s_fail =  save_list(objects)\n",
    "            if not s_fail:\n",
    "                flag = False\n",
    "                m_fail =False\n",
    "        elif choice =='m':\n",
    "            # show_list(objects)\n",
    "            m_fail = modify_list(objects)\n",
    "            \n",
    "        elif choice =='q':\n",
    "            if s_fail:\n",
    "                confirm = input('quit without saving any file?  Y/n   ')\n",
    "                if confirm == 'Y':\n",
    "                    flag = False\n",
    "                    s_fail =False\n",
    "                    m_fail = False\n",
    "                else:\n",
    "                    pass                \n",
    "        else:\n",
    "            pass\n",
    "        \n",
    "    \n",
    "\n",
    "# def main():\n",
    "    # 载入仓库/操作\n",
    "    # 操作recipie/ 读取\n",
    "\n",
    "# show_list('./haha')\n",
    "# make_list()\n",
    "# show_list('./柠檬红茶')\n"
   ]
  },
  {
   "cell_type": "code",
   "execution_count": null,
   "id": "4f1a5ef3-952e-4533-a5a9-1f7881a79534",
   "metadata": {},
   "outputs": [],
   "source": []
  }
 ],
 "metadata": {
  "kernelspec": {
   "display_name": "Python 3 (ipykernel)",
   "language": "python",
   "name": "python3"
  },
  "language_info": {
   "codemirror_mode": {
    "name": "ipython",
    "version": 3
   },
   "file_extension": ".py",
   "mimetype": "text/x-python",
   "name": "python",
   "nbconvert_exporter": "python",
   "pygments_lexer": "ipython3",
   "version": "3.11.4"
  },
  "toc": {
   "base_numbering": 1,
   "nav_menu": {},
   "number_sections": true,
   "sideBar": true,
   "skip_h1_title": false,
   "title_cell": "Table of Contents",
   "title_sidebar": "Contents",
   "toc_cell": false,
   "toc_position": {},
   "toc_section_display": true,
   "toc_window_display": false
  }
 },
 "nbformat": 4,
 "nbformat_minor": 5
}
