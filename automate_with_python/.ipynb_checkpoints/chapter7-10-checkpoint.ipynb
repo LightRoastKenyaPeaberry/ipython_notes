{
 "cells": [
  {
   "cell_type": "markdown",
   "id": "017a93d0-06f2-4f5a-b053-28fb16ec1a53",
   "metadata": {},
   "source": [
    "# Chapter 7 模式匹配和正则表达式 "
   ]
  },
  {
   "cell_type": "markdown",
   "id": "1bc1525a-1f3e-43aa-bc42-830058775890",
   "metadata": {},
   "source": [
    "## 匹配方法"
   ]
  },
  {
   "cell_type": "markdown",
   "id": "63f6d8fa-26c9-4438-82f4-f06f452533d3",
   "metadata": {},
   "source": [
    "1. import re\n",
    "2. 用re.compile()创建一个regex对象\n",
    "3. 向regex的search()方法传入想查找的字符串，返回到一个Match对象\n",
    "4. 调用Match对象的group()方法，返回实际匹配的字符串"
   ]
  },
  {
   "cell_type": "code",
   "execution_count": 3,
   "id": "df66a774-3a26-447f-b8a8-ad220146f8ed",
   "metadata": {},
   "outputs": [
    {
     "name": "stdout",
     "output_type": "stream",
     "text": [
      "phone number found: 415-555-4242\n"
     ]
    }
   ],
   "source": [
    "import re\n",
    "\n",
    "phone_num_reg = re.compile(r'\\d{3}-\\d{3}-\\d{4}')\n",
    "mo = phone_num_reg.search('My number is 415-555-4242')\n",
    "# print(mo)\n",
    "print(f'phone number found: {mo.group()}')"
   ]
  },
  {
   "cell_type": "markdown",
   "id": "21325436-46fa-4b2f-9a81-c8d7b7bc8072",
   "metadata": {},
   "source": [
    "### 括号分组"
   ]
  },
  {
   "cell_type": "code",
   "execution_count": 8,
   "id": "d4ae785e-2fb1-43ce-8305-2f1e63c4eeee",
   "metadata": {},
   "outputs": [
    {
     "name": "stdout",
     "output_type": "stream",
     "text": [
      "phone number found: 415-555-4242\n"
     ]
    }
   ],
   "source": [
    "phone_num_reg = re.compile(r'(\\d{3})-(\\d{3}-\\d{4})')\n",
    "mo = phone_num_reg.search('My number is 415-555-4242')\n",
    "# print(mo)\n",
    "print(f'phone number found: {mo.group()}')"
   ]
  },
  {
   "cell_type": "code",
   "execution_count": 9,
   "id": "7fa12941-acc3-4af9-92d8-af3f7130a77c",
   "metadata": {},
   "outputs": [
    {
     "data": {
      "text/plain": [
       "'415'"
      ]
     },
     "execution_count": 9,
     "metadata": {},
     "output_type": "execute_result"
    }
   ],
   "source": [
    "mo.group(1)"
   ]
  },
  {
   "cell_type": "code",
   "execution_count": 10,
   "id": "19898fa1-3445-45ca-b2b8-0a65e60c4ea3",
   "metadata": {},
   "outputs": [
    {
     "data": {
      "text/plain": [
       "'555-4242'"
      ]
     },
     "execution_count": 10,
     "metadata": {},
     "output_type": "execute_result"
    }
   ],
   "source": [
    "mo.group(2)"
   ]
  },
  {
   "cell_type": "code",
   "execution_count": 11,
   "id": "2dddcbad-87a4-4bb3-a517-e6fd39616156",
   "metadata": {},
   "outputs": [
    {
     "data": {
      "text/plain": [
       "('415', '555-4242')"
      ]
     },
     "execution_count": 11,
     "metadata": {},
     "output_type": "execute_result"
    }
   ],
   "source": [
    "mo.groups()"
   ]
  },
  {
   "cell_type": "markdown",
   "id": "373b3efd-97d2-48c0-890c-14750cafc741",
   "metadata": {},
   "source": [
    "### 用管道匹配多个分组"
   ]
  },
  {
   "cell_type": "code",
   "execution_count": 12,
   "id": "dd13c96f-3661-4976-9af1-297c2253b1d7",
   "metadata": {},
   "outputs": [],
   "source": [
    "hero_reg = re.compile(r'Batman|Tina Fey')\n",
    "mo1 = hero_reg.search('Batman and Tina Fey')"
   ]
  },
  {
   "cell_type": "code",
   "execution_count": 13,
   "id": "07c13a54-cd1d-4457-ace2-39b113e11628",
   "metadata": {},
   "outputs": [
    {
     "data": {
      "text/plain": [
       "'Batman'"
      ]
     },
     "execution_count": 13,
     "metadata": {},
     "output_type": "execute_result"
    }
   ],
   "source": [
    "mo1.group()"
   ]
  },
  {
   "cell_type": "code",
   "execution_count": 19,
   "id": "ae67f6fb-d02e-4260-a31f-fe9cd6f6e042",
   "metadata": {},
   "outputs": [
    {
     "data": {
      "text/plain": [
       "re.Match"
      ]
     },
     "execution_count": 19,
     "metadata": {},
     "output_type": "execute_result"
    }
   ],
   "source": [
    "type(mo1)"
   ]
  },
  {
   "cell_type": "code",
   "execution_count": 14,
   "id": "6da53407-d675-4194-b865-db1ce3198898",
   "metadata": {},
   "outputs": [],
   "source": [
    "mo2= hero_reg.search('Tina Fey and Batman')"
   ]
  },
  {
   "cell_type": "code",
   "execution_count": 15,
   "id": "8ecf2627-9179-4afd-a68e-d3575fcd9d8a",
   "metadata": {},
   "outputs": [
    {
     "data": {
      "text/plain": [
       "'Tina Fey'"
      ]
     },
     "execution_count": 15,
     "metadata": {},
     "output_type": "execute_result"
    }
   ],
   "source": [
    "mo2.group()"
   ]
  },
  {
   "cell_type": "code",
   "execution_count": 16,
   "id": "f97842f8-9ccb-414d-bd0c-14740599ef54",
   "metadata": {},
   "outputs": [],
   "source": [
    "mo3 = hero_reg.findall('Batman and Tina Fey')"
   ]
  },
  {
   "cell_type": "code",
   "execution_count": 17,
   "id": "9b70308d-1721-45cb-b8bb-d22a7ff4dcd2",
   "metadata": {},
   "outputs": [
    {
     "data": {
      "text/plain": [
       "['Batman', 'Tina Fey']"
      ]
     },
     "execution_count": 17,
     "metadata": {},
     "output_type": "execute_result"
    }
   ],
   "source": [
    "mo3"
   ]
  },
  {
   "cell_type": "code",
   "execution_count": 18,
   "id": "b7acbd17-9fcd-484a-b600-b3006965beb2",
   "metadata": {},
   "outputs": [
    {
     "data": {
      "text/plain": [
       "list"
      ]
     },
     "execution_count": 18,
     "metadata": {},
     "output_type": "execute_result"
    }
   ],
   "source": [
    "type(mo3)"
   ]
  },
  {
   "cell_type": "code",
   "execution_count": 21,
   "id": "80591661-c9ae-4879-80ec-7416652e3917",
   "metadata": {},
   "outputs": [],
   "source": [
    "bat_reg = re.compile(r'Bat(man|mobile|copter|bat)')\n",
    "mo = bat_reg.search('Batmobile lost a wheel')"
   ]
  },
  {
   "cell_type": "code",
   "execution_count": 22,
   "id": "09f8a0b9-5246-42be-a105-8e69a6175aca",
   "metadata": {},
   "outputs": [
    {
     "data": {
      "text/plain": [
       "<re.Match object; span=(0, 9), match='Batmobile'>"
      ]
     },
     "execution_count": 22,
     "metadata": {},
     "output_type": "execute_result"
    }
   ],
   "source": [
    "mo"
   ]
  },
  {
   "cell_type": "markdown",
   "id": "6ce3c6bc-f6f8-48c3-9ff4-45c105a5bd9b",
   "metadata": {},
   "source": [
    "### 用?表示匹配0/1次"
   ]
  },
  {
   "cell_type": "markdown",
   "id": "350d63c8-278f-4e12-b0f3-9cb5c073f11e",
   "metadata": {},
   "source": [
    "### 用*表示匹配0/n次"
   ]
  },
  {
   "cell_type": "markdown",
   "id": "3a32c038-f257-4ad7-b837-9879f3f16efc",
   "metadata": {},
   "source": [
    "### 用+表示匹配1/n次"
   ]
  },
  {
   "cell_type": "markdown",
   "id": "dcb6a658-8f5a-4ddc-b908-1eb9026b7dcf",
   "metadata": {},
   "source": [
    "### 用{}表示匹配特定次数"
   ]
  },
  {
   "cell_type": "markdown",
   "id": "96d48550-cc4f-4acf-af68-9ac8fffb9f8c",
   "metadata": {},
   "source": [
    "{min,max}，闭区间，这个范围内的次数都能匹配"
   ]
  },
  {
   "cell_type": "markdown",
   "id": "fcf27259-c947-432b-9b8c-dd8e364887eb",
   "metadata": {},
   "source": [
    "### 贪心与非贪心匹配 ?表非贪心"
   ]
  },
  {
   "cell_type": "code",
   "execution_count": 24,
   "id": "6bc3cb07-24b4-477f-952b-ff25372ffe25",
   "metadata": {},
   "outputs": [],
   "source": [
    "greedy_ha_reg = re.compile(r'(ha){3,5}')\n",
    "mo = greedy_ha_reg.search('hahahahahaha')"
   ]
  },
  {
   "cell_type": "code",
   "execution_count": 26,
   "id": "1382d41b-71e3-4398-b0d6-492ce689bad8",
   "metadata": {},
   "outputs": [
    {
     "data": {
      "text/plain": [
       "'hahahahaha'"
      ]
     },
     "execution_count": 26,
     "metadata": {},
     "output_type": "execute_result"
    }
   ],
   "source": [
    "mo.group()"
   ]
  },
  {
   "cell_type": "code",
   "execution_count": 35,
   "id": "77d1349d-ef53-4bb2-a7c5-e5e3cef2a4dc",
   "metadata": {},
   "outputs": [],
   "source": [
    "nogreedy_ha_reg = re.compile(r'(ha){3,5}?')\n",
    "mo1 = nogreedy_ha_reg.search('hahahahahaha')"
   ]
  },
  {
   "cell_type": "code",
   "execution_count": 36,
   "id": "482461de-406e-495f-9416-3be100429e85",
   "metadata": {},
   "outputs": [
    {
     "data": {
      "text/plain": [
       "'hahaha'"
      ]
     },
     "execution_count": 36,
     "metadata": {},
     "output_type": "execute_result"
    }
   ],
   "source": [
    "mo1.group()"
   ]
  },
  {
   "cell_type": "markdown",
   "id": "0ded5f09-2585-4135-ae65-2224f2da66fc",
   "metadata": {},
   "source": [
    "### 字符分类"
   ]
  },
  {
   "cell_type": "markdown",
   "id": "413af4d0-c116-42f6-ac19-676557cb2b01",
   "metadata": {},
   "source": [
    "1. \\d  0-9的任何数字\n",
    "2. \\D 除了\\d的任何字符\n",
    "3. \\w  任何数字、字母、下划线\n",
    "4. \\W 除了\\w的任何字符\n",
    "5. \\s 空格、制表符、换行符\n",
    "6. \\S 除了\\s的任何字符   "
   ]
  },
  {
   "cell_type": "code",
   "execution_count": 37,
   "id": "8e52b21f-f639-407c-9d7f-7fa1f88ad338",
   "metadata": {},
   "outputs": [
    {
     "data": {
      "text/plain": [
       "['o', 'o', 'o', 'e', 'a', 'a', 'o', 'o', 'A', 'O', 'O']"
      ]
     },
     "execution_count": 37,
     "metadata": {},
     "output_type": "execute_result"
    }
   ],
   "source": [
    "vowel_reg = re.compile(r'[aeiouAEIOU]')\n",
    "vowel_reg.findall('RoboCop eats baby food, BABY FOOD')"
   ]
  },
  {
   "cell_type": "code",
   "execution_count": 38,
   "id": "c1bc5209-5c41-4ea8-a64b-95cde98b1fab",
   "metadata": {},
   "outputs": [
    {
     "data": {
      "text/plain": [
       "['R',\n",
       " 'b',\n",
       " 'C',\n",
       " 'p',\n",
       " ' ',\n",
       " 't',\n",
       " 's',\n",
       " ' ',\n",
       " 'b',\n",
       " 'b',\n",
       " 'y',\n",
       " ' ',\n",
       " 'f',\n",
       " 'd',\n",
       " ',',\n",
       " ' ',\n",
       " 'B',\n",
       " 'B',\n",
       " 'Y',\n",
       " ' ',\n",
       " 'F',\n",
       " 'D']"
      ]
     },
     "execution_count": 38,
     "metadata": {},
     "output_type": "execute_result"
    }
   ],
   "source": [
    "# ^在[]表示否认，即[]范围之外的\n",
    "constant_reg = re.compile(r'[^aeiouAEIOU]')\n",
    "constant_reg.findall('RoboCop eats baby food, BABY FOOD')"
   ]
  },
  {
   "cell_type": "markdown",
   "id": "e1c0553b-6b2b-45e6-8854-b4cdb6095388",
   "metadata": {},
   "source": [
    "### ^和$"
   ]
  },
  {
   "cell_type": "markdown",
   "id": "83384bd2-09a6-4742-a093-6566a415c8f9",
   "metadata": {},
   "source": [
    "^表示匹配必须发生在开头；$表示必须在结尾；二者都有表示整个字符串必须匹配该模式"
   ]
  },
  {
   "cell_type": "code",
   "execution_count": 40,
   "id": "76051932-9498-44ad-b741-1758507e72c8",
   "metadata": {},
   "outputs": [],
   "source": [
    "begin_with_hello_reg = re.compile(r'^Hello')\n",
    "mo = begin_with_hello_reg.search('Nick, Hello！')"
   ]
  },
  {
   "cell_type": "code",
   "execution_count": 42,
   "id": "0ba8535f-e12a-485a-bc35-bb674f06910a",
   "metadata": {},
   "outputs": [
    {
     "data": {
      "text/plain": [
       "True"
      ]
     },
     "execution_count": 42,
     "metadata": {},
     "output_type": "execute_result"
    }
   ],
   "source": [
    "mo == None"
   ]
  },
  {
   "cell_type": "code",
   "execution_count": 43,
   "id": "72c7a200-be22-4726-8082-df75ef8adc2d",
   "metadata": {},
   "outputs": [
    {
     "data": {
      "text/plain": [
       "<re.Match object; span=(0, 5), match='Hello'>"
      ]
     },
     "execution_count": 43,
     "metadata": {},
     "output_type": "execute_result"
    }
   ],
   "source": [
    "begin_with_hello_reg.search('Hello, world.')"
   ]
  },
  {
   "cell_type": "code",
   "execution_count": 44,
   "id": "68ed4bb3-fadd-4d30-8795-c2782b1dc1e2",
   "metadata": {},
   "outputs": [
    {
     "data": {
      "text/plain": [
       "<re.Match object; span=(13, 16), match='233'>"
      ]
     },
     "execution_count": 44,
     "metadata": {},
     "output_type": "execute_result"
    }
   ],
   "source": [
    "end_with_number = re.compile(r'\\d+$')\n",
    "end_with_number.search('nfisdaofhofja233')"
   ]
  },
  {
   "cell_type": "code",
   "execution_count": 45,
   "id": "13f1e62f-675f-4507-bd0b-6fd95ac5ce5e",
   "metadata": {},
   "outputs": [],
   "source": [
    "mo = end_with_number.search(r'ldsfjla32rfd')"
   ]
  },
  {
   "cell_type": "code",
   "execution_count": 47,
   "id": "81ae1f39-b25c-4452-9158-0726d78a7b27",
   "metadata": {},
   "outputs": [
    {
     "data": {
      "text/plain": [
       "True"
      ]
     },
     "execution_count": 47,
     "metadata": {},
     "output_type": "execute_result"
    }
   ],
   "source": [
    "mo == None"
   ]
  },
  {
   "cell_type": "code",
   "execution_count": 48,
   "id": "b72c566c-cc02-49ae-bd69-1b336cdb5d7c",
   "metadata": {},
   "outputs": [
    {
     "data": {
      "text/plain": [
       "<re.Match object; span=(15, 16), match='3'>"
      ]
     },
     "execution_count": 48,
     "metadata": {},
     "output_type": "execute_result"
    }
   ],
   "source": [
    "end_with_number = re.compile(r'\\d$')\n",
    "end_with_number.search('nfisdaofhofja233')"
   ]
  },
  {
   "cell_type": "code",
   "execution_count": 49,
   "id": "acda804e-c2ac-45e4-ab25-0c948ac20d5d",
   "metadata": {},
   "outputs": [
    {
     "data": {
      "text/plain": [
       "<re.Match object; span=(0, 10), match='1921346574'>"
      ]
     },
     "execution_count": 49,
     "metadata": {},
     "output_type": "execute_result"
    }
   ],
   "source": [
    "whole_string_is_number = re.compile(r'^\\d+$')\n",
    "whole_string_is_number.search('1921346574')"
   ]
  },
  {
   "cell_type": "code",
   "execution_count": 51,
   "id": "10b9b2cd-a858-48c0-8351-36aada187dad",
   "metadata": {},
   "outputs": [
    {
     "data": {
      "text/plain": [
       "True"
      ]
     },
     "execution_count": 51,
     "metadata": {},
     "output_type": "execute_result"
    }
   ],
   "source": [
    "whole_string_is_number.search('1921346574fdsf') == None"
   ]
  },
  {
   "cell_type": "markdown",
   "id": "37cdaf28-57a4-42e5-a40c-3bc4738ecda5",
   "metadata": {},
   "source": [
    "### .表示\\n外的一切字符"
   ]
  },
  {
   "cell_type": "code",
   "execution_count": 52,
   "id": "17d3b87e-be41-4817-9021-1bb4c03b3648",
   "metadata": {},
   "outputs": [
    {
     "data": {
      "text/plain": [
       "['cat', 'hat', 'sat', 'lat', 'mat']"
      ]
     },
     "execution_count": 52,
     "metadata": {},
     "output_type": "execute_result"
    }
   ],
   "source": [
    "at_reg = re.compile(r'.at')\n",
    "at_reg.findall('the cat in the hat sat on a flat mat')"
   ]
  },
  {
   "cell_type": "code",
   "execution_count": 55,
   "id": "3f0510d9-cd5a-4a2e-9e7e-43985e096792",
   "metadata": {},
   "outputs": [
    {
     "data": {
      "text/plain": [
       "['cat', 'hat', 'sat', 'flat', 'mat']"
      ]
     },
     "execution_count": 55,
     "metadata": {},
     "output_type": "execute_result"
    }
   ],
   "source": [
    "at_reg = re.compile(r'\\w*at')\n",
    "at_reg.findall('the cat in the hat sat on a flat mat')"
   ]
  },
  {
   "cell_type": "code",
   "execution_count": 58,
   "id": "5e4e62ab-e403-4b64-828e-e379476c262f",
   "metadata": {},
   "outputs": [
    {
     "data": {
      "text/plain": [
       "['cat', 'hat', 'sat', 'flat', 'mat']"
      ]
     },
     "execution_count": 58,
     "metadata": {},
     "output_type": "execute_result"
    }
   ],
   "source": [
    "at_reg = re.compile(r'[^\\s]*at')\n",
    "at_reg.findall('the cat in the hat sat on a flat mat')"
   ]
  },
  {
   "cell_type": "markdown",
   "id": "21dd0f59-4ed1-4f9e-9357-1d3d40e57832",
   "metadata": {},
   "source": [
    "### .* 匹配所有字符"
   ]
  },
  {
   "cell_type": "markdown",
   "id": "29e90058-4f35-4be1-b1a4-26c8bbab7b4a",
   "metadata": {},
   "source": [
    "### .*匹配包括换行符\\n  re.DOTALL"
   ]
  },
  {
   "cell_type": "code",
   "execution_count": 59,
   "id": "687cc718-d8ed-4441-b6ee-f451506584b7",
   "metadata": {},
   "outputs": [
    {
     "data": {
      "text/plain": [
       "<re.Match object; span=(0, 23), match='Serve the public trust.'>"
      ]
     },
     "execution_count": 59,
     "metadata": {},
     "output_type": "execute_result"
    }
   ],
   "source": [
    "no_newline_reg = re.compile(r'.*')\n",
    "no_newline_reg.search('Serve the public trust.\\n Protect the innocent.\\n Uphold the law')"
   ]
  },
  {
   "cell_type": "code",
   "execution_count": 60,
   "id": "210fb34e-f197-4488-83ac-761d851ce0b1",
   "metadata": {},
   "outputs": [
    {
     "data": {
      "text/plain": [
       "<re.Match object; span=(0, 62), match='Serve the public trust.\\n Protect the innocent.\\n>"
      ]
     },
     "execution_count": 60,
     "metadata": {},
     "output_type": "execute_result"
    }
   ],
   "source": [
    "newline_reg = re.compile(r'.*', re.DOTALL)\n",
    "newline_reg.search('Serve the public trust.\\n Protect the innocent.\\n Uphold the law')"
   ]
  },
  {
   "cell_type": "markdown",
   "id": "0d9031fe-bfcb-44e0-8583-a3ef6d0827a3",
   "metadata": {},
   "source": [
    "### 不分大小写的匹配"
   ]
  },
  {
   "cell_type": "code",
   "execution_count": 63,
   "id": "35986e1e-cc9e-48de-9452-92e64e8979ad",
   "metadata": {},
   "outputs": [
    {
     "data": {
      "text/plain": [
       "<re.Match object; span=(0, 7), match='ROBOcoP'>"
      ]
     },
     "execution_count": 63,
     "metadata": {},
     "output_type": "execute_result"
    }
   ],
   "source": [
    "robocop = re.compile(r'robocop', re.I)\n",
    "robocop.search('ROBOcoP is part man, part machine, all cop')"
   ]
  },
  {
   "cell_type": "markdown",
   "id": "d320b591-ab44-46c4-aa6b-6bfd6bcc3839",
   "metadata": {},
   "source": [
    "## sub()替换字符串"
   ]
  },
  {
   "cell_type": "code",
   "execution_count": 64,
   "id": "2b9180f6-33fa-42da-adff-f9e7a177d4c8",
   "metadata": {},
   "outputs": [
    {
     "data": {
      "text/plain": [
       "'CENSORED gave the secret documents to CENSORED'"
      ]
     },
     "execution_count": 64,
     "metadata": {},
     "output_type": "execute_result"
    }
   ],
   "source": [
    "names_reg = re.compile(r'Agent \\w+')\n",
    "names_reg.sub('CENSORED', 'Agent Alice gave the secret documents to Agent Bob')"
   ]
  },
  {
   "cell_type": "markdown",
   "id": "f7a9f764-c59b-40a6-bbf3-81888169b7a4",
   "metadata": {},
   "source": [
    "\\1 \\2 \\3 表示分组"
   ]
  },
  {
   "cell_type": "code",
   "execution_count": 68,
   "id": "b390a061-9659-476e-9ebc-189c021b0fc2",
   "metadata": {},
   "outputs": [
    {
     "data": {
      "text/plain": [
       "'A*** told C*** that E*** knew B*** was a double agent'"
      ]
     },
     "execution_count": 68,
     "metadata": {},
     "output_type": "execute_result"
    }
   ],
   "source": [
    "agent_name_reg = re.compile(r'Agent (\\w)\\w*')\n",
    "agent_name_reg.sub(r'\\1***', 'Agent Alice told Agent Carol that Agent Eve knew Agent Bob was a double agent')"
   ]
  },
  {
   "cell_type": "markdown",
   "id": "366e0f95-9f4a-437f-8cca-7f554a90f2c1",
   "metadata": {},
   "source": [
    "## 管理复杂的正则表达式"
   ]
  },
  {
   "cell_type": "markdown",
   "id": "6577ca62-55f8-4212-a9a1-714f88c1ba66",
   "metadata": {},
   "source": [
    "### re.VERBOSE"
   ]
  },
  {
   "cell_type": "code",
   "execution_count": 81,
   "id": "7e6209c9-710e-4626-9f2c-47902183b649",
   "metadata": {},
   "outputs": [],
   "source": [
    "phone_num_reg = re.compile(r'''(\n",
    "    (\\d{3}|\\(\\d{3}\\))?     # area code\n",
    "    (\\s|-|\\.)?             # seperator\n",
    "    \\d{3}                  # first 3 digits\n",
    "    (\\s|-|\\.)?             # seperator\n",
    "    \\d{4}                  # last 4 digits\n",
    "    (\\s*(ext|x|ext.)\\s*\\d{2,5})? # extension\n",
    "    )''', re.VERBOSE)"
   ]
  },
  {
   "cell_type": "code",
   "execution_count": 82,
   "id": "0ff79570-3cf2-4ece-8040-743464b42efb",
   "metadata": {},
   "outputs": [],
   "source": [
    "mo = phone_num_reg.findall('fdlasjflasdjflajfdl(100)-234-2356 x 22')"
   ]
  },
  {
   "cell_type": "code",
   "execution_count": 83,
   "id": "66199842-7166-4a79-b794-f75203152ce7",
   "metadata": {},
   "outputs": [
    {
     "data": {
      "text/plain": [
       "[('(100)-234-2356 x 22', '(100)', '-', '-', ' x 22', 'x')]"
      ]
     },
     "execution_count": 83,
     "metadata": {},
     "output_type": "execute_result"
    }
   ],
   "source": [
    "mo"
   ]
  },
  {
   "cell_type": "markdown",
   "id": "39a6fcf1-bbb1-4441-9a64-ee2a26f96297",
   "metadata": {},
   "source": [
    "## 组合使用re.I, re.DOTALL, re.VERBOSE"
   ]
  },
  {
   "cell_type": "code",
   "execution_count": 87,
   "id": "c5ccc9c8-320c-4c91-be01-3a91f947e717",
   "metadata": {},
   "outputs": [],
   "source": [
    "# re.compile只接受两个参数\n",
    "some_reg = re.compile('foo', re.IGNORECASE|re.DOTALL|re.VERBOSE)"
   ]
  },
  {
   "cell_type": "markdown",
   "id": "5ea326d0",
   "metadata": {},
   "source": [
    "## 案例： 匹配电话和邮箱"
   ]
  },
  {
   "cell_type": "code",
   "execution_count": 80,
   "id": "bdbe3a42-3bd8-4fad-8555-5a6bdf54d379",
   "metadata": {},
   "outputs": [],
   "source": [
    "#! python3\n",
    "# phoneAndEmail.py - Finds phone numbers and email addresses on the clipboard.\n",
    "\n",
    "import pyperclip, re\n",
    "\n",
    "phoneRegex = re.compile(r'''(\n",
    "    (\\d{3}|\\(\\d{3}\\))?                # area code\n",
    "    (\\s|-|\\.)?                        # separator\n",
    "    (\\d{3})                           # first 3 digits\n",
    "    (\\s|-|\\.)                         # separator\n",
    "    (\\d{4})                           # last 4 digits\n",
    "    (\\s*(ext|x|ext.)\\s*(\\d{2,5}))?    # extension\n",
    "    )''', re.VERBOSE)\n",
    "\n",
    "# TODO: Create email regex.\n",
    "emailRegex =re.compile(r'''(\n",
    "    [0-9a-zA-z_%+-.]+   # username\n",
    "    @                   # symbom\n",
    "    [0-9a-zA-z.]+       # company name\n",
    "    \\.\n",
    "    (com|cn|org)# ending\n",
    "    )''', re.VERBOSE)\n",
    "\n",
    "# TODO: Find matches in clipboard text.\n",
    "txt = pyperclip.paste()\n",
    "phones =[]\n",
    "emails = []\n",
    "\n",
    "for phone in phoneRegex.findall(txt):\n",
    "    norm_phone = f'{phone[1]}-{phone[3]}-{phone[5]}'\n",
    "    if phone[8] !='':\n",
    "        norm_phone +=f' x {phone[8]}'\n",
    "    phones.append(norm_phone)\n",
    "\n",
    "for email in emailRegex.findall(txt):\n",
    "    emails.append(email[0])\n",
    "\n",
    "# TODO: Copy results to the clipboard.\n",
    "if len(phones)+len(email) >0:\n",
    "    pyperclip.copy('\\n'.join(phones)+'\\n'+'\\n'.join(emails))\n",
    "    "
   ]
  },
  {
   "cell_type": "code",
   "execution_count": 83,
   "id": "0dca0805",
   "metadata": {},
   "outputs": [],
   "source": [
    "test =re.compile(r'''(\n",
    "    [0-9a-zA-z_%+-.]+   # username\n",
    "    @                   # \n",
    "    [0-9a-zA-z.]+       # company name\n",
    "    \\.\n",
    "    (com|cn|org)# ending\n",
    "    )''', re.VERBOSE)"
   ]
  },
  {
   "cell_type": "code",
   "execution_count": 100,
   "id": "106220d1",
   "metadata": {},
   "outputs": [
    {
     "data": {
      "text/plain": [
       "[('34323r@adsf.eee.ew.org', 'org')]"
      ]
     },
     "execution_count": 100,
     "metadata": {},
     "output_type": "execute_result"
    }
   ],
   "source": [
    "test.findall('34323r@adsf.eee.ew.org')"
   ]
  },
  {
   "cell_type": "code",
   "execution_count": 101,
   "id": "ba3a5311",
   "metadata": {},
   "outputs": [],
   "source": [
    "test2 = re.compile(r'''(\n",
    "    [0-9a-zA-z_%+-.]+   # username\n",
    "    @                   # \n",
    "    [0-9a-zA-z.]+       # company name\n",
    "    \\.\n",
    "    com|cn|org# ending\n",
    "    )''', re.VERBOSE)"
   ]
  },
  {
   "cell_type": "code",
   "execution_count": 102,
   "id": "8b07fe38",
   "metadata": {},
   "outputs": [
    {
     "data": {
      "text/plain": [
       "['org']"
      ]
     },
     "execution_count": 102,
     "metadata": {},
     "output_type": "execute_result"
    }
   ],
   "source": [
    "test2.findall('34323r@adsf.eee.ew.org')"
   ]
  },
  {
   "cell_type": "code",
   "execution_count": 103,
   "id": "35c34431",
   "metadata": {},
   "outputs": [
    {
     "data": {
      "text/plain": [
       "['cn']"
      ]
     },
     "execution_count": 103,
     "metadata": {},
     "output_type": "execute_result"
    }
   ],
   "source": [
    "test2.findall('34323r@adsf.eee.ew.cn')"
   ]
  },
  {
   "cell_type": "code",
   "execution_count": 108,
   "id": "b84c8ced",
   "metadata": {},
   "outputs": [
    {
     "data": {
      "text/plain": [
       "['34323r@adsf.eee.ew.com', 'org']"
      ]
     },
     "execution_count": 108,
     "metadata": {},
     "output_type": "execute_result"
    }
   ],
   "source": [
    "test2.findall('34323r@adsf.eee.ew.com.org')"
   ]
  },
  {
   "cell_type": "code",
   "execution_count": 104,
   "id": "36c4158a",
   "metadata": {},
   "outputs": [
    {
     "data": {
      "text/plain": [
       "<re.Match object; span=(19, 22), match='org'>"
      ]
     },
     "execution_count": 104,
     "metadata": {},
     "output_type": "execute_result"
    }
   ],
   "source": [
    "test2.search('34323r@adsf.eee.ew.org')"
   ]
  },
  {
   "cell_type": "markdown",
   "id": "149c2f60",
   "metadata": {},
   "source": [
    "编写的规则的意思： \n",
    "+  [0-9a-zA-z_%+-.]+   # username\n",
    "    @                   # \n",
    "    [0-9a-zA-z.]+       # company name\n",
    "    \\.\n",
    "    com\n",
    "    这是一个整体\n",
    "+    cn  是第二个整体\n",
    "+    org 是第三个整体\n",
    "+    三者是或关系"
   ]
  },
  {
   "cell_type": "code",
   "execution_count": 105,
   "id": "22e58224",
   "metadata": {},
   "outputs": [],
   "source": [
    "or3 = re.compile(r'com|cn|org')"
   ]
  },
  {
   "cell_type": "code",
   "execution_count": 106,
   "id": "0a4e80d9",
   "metadata": {},
   "outputs": [
    {
     "data": {
      "text/plain": [
       "['cn']"
      ]
     },
     "execution_count": 106,
     "metadata": {},
     "output_type": "execute_result"
    }
   ],
   "source": [
    "or3.findall('23434cn3443')"
   ]
  },
  {
   "cell_type": "code",
   "execution_count": 107,
   "id": "27e76202",
   "metadata": {},
   "outputs": [
    {
     "data": {
      "text/plain": [
       "['com', 'cn', 'org']"
      ]
     },
     "execution_count": 107,
     "metadata": {},
     "output_type": "execute_result"
    }
   ],
   "source": [
    "or3.findall('dsjaofjacomerrercn343rorg')"
   ]
  },
  {
   "cell_type": "markdown",
   "id": "7dfd30c7-88ac-4d90-8852-7c715b10d771",
   "metadata": {},
   "source": [
    "# Chapter 8 输入验证"
   ]
  },
  {
   "cell_type": "markdown",
   "id": "2a98e35a-8026-43da-8adb-d5a73c1ff9b6",
   "metadata": {},
   "source": [
    "## pyinputplus模块"
   ]
  },
  {
   "cell_type": "code",
   "execution_count": 8,
   "id": "d6f89a17-bc08-481a-ae7c-f4643765d66f",
   "metadata": {},
   "outputs": [
    {
     "name": "stdin",
     "output_type": "stream",
     "text": [
      "please input your age w\n"
     ]
    },
    {
     "name": "stdout",
     "output_type": "stream",
     "text": [
      "please input a number\n"
     ]
    },
    {
     "name": "stdin",
     "output_type": "stream",
     "text": [
      "please input your age -1\n"
     ]
    },
    {
     "name": "stdout",
     "output_type": "stream",
     "text": [
      "please input positive number\n"
     ]
    },
    {
     "name": "stdin",
     "output_type": "stream",
     "text": [
      "please input your age 23\n"
     ]
    },
    {
     "name": "stdout",
     "output_type": "stream",
     "text": [
      "your age is 23\n"
     ]
    }
   ],
   "source": [
    "while True:\n",
    "    age = input('please input your age')\n",
    "    try:\n",
    "        age = int(age)\n",
    "    except:\n",
    "        print(f'please input a number')\n",
    "        continue\n",
    "    if age < 1:\n",
    "        print(f'please input positive number')\n",
    "        continue\n",
    "    break\n",
    "print(f'your age is {age}')"
   ]
  },
  {
   "cell_type": "code",
   "execution_count": 3,
   "id": "65cc50e0-08f7-48f3-a86e-ad505f790798",
   "metadata": {},
   "outputs": [
    {
     "name": "stdin",
     "output_type": "stream",
     "text": [
      " five\n"
     ]
    },
    {
     "name": "stdout",
     "output_type": "stream",
     "text": [
      "'five' is not a number.\n"
     ]
    },
    {
     "name": "stdin",
     "output_type": "stream",
     "text": [
      " 5\n"
     ]
    }
   ],
   "source": [
    "import pyinputplus as pyip\n",
    "response = pyip.inputNum()"
   ]
  },
  {
   "cell_type": "markdown",
   "id": "1b82ac8e-a82c-4b85-b22b-fbf3f5f7b722",
   "metadata": {},
   "source": [
    "### 模块函数"
   ]
  },
  {
   "cell_type": "markdown",
   "id": "2b637b5a-7f2e-4065-9572-d24f2230c625",
   "metadata": {},
   "source": [
    "+ inputStr()\n",
    "+ iputNum()\n",
    "+ inputChoice()\n",
    "+ inputMenu()\n",
    "+ inputDatetime()\n",
    "+ inputYesNo()\n",
    "+ inputBool()\n",
    "+ inputEmail()\n",
    "+ inputFilepath()\n",
    "+ inputPassword()"
   ]
  },
  {
   "cell_type": "code",
   "execution_count": 4,
   "id": "dbcce3ef-12f1-4bce-8c22-3416e486c367",
   "metadata": {},
   "outputs": [
    {
     "data": {
      "text/plain": [
       "5"
      ]
     },
     "execution_count": 4,
     "metadata": {},
     "output_type": "execute_result"
    }
   ],
   "source": [
    "response"
   ]
  },
  {
   "cell_type": "code",
   "execution_count": 5,
   "id": "87219048-edc4-4366-9529-4ddf6bc712ab",
   "metadata": {},
   "outputs": [
    {
     "data": {
      "text/plain": [
       "int"
      ]
     },
     "execution_count": 5,
     "metadata": {},
     "output_type": "execute_result"
    }
   ],
   "source": [
    "type(response)"
   ]
  },
  {
   "cell_type": "markdown",
   "id": "8021235d-6f34-4bf4-9eee-d27bd647c909",
   "metadata": {},
   "source": [
    "### 关键字prompt"
   ]
  },
  {
   "cell_type": "code",
   "execution_count": 6,
   "id": "83a994f1-94c3-4faa-af7b-c8747becb514",
   "metadata": {},
   "outputs": [
    {
     "name": "stdout",
     "output_type": "stream",
     "text": [
      "Enter your age:"
     ]
    },
    {
     "name": "stdin",
     "output_type": "stream",
     "text": [
      " twenty three\n"
     ]
    },
    {
     "name": "stdout",
     "output_type": "stream",
     "text": [
      "'twenty three' is not an integer.\n",
      "Enter your age:"
     ]
    },
    {
     "name": "stdin",
     "output_type": "stream",
     "text": [
      " 23\n"
     ]
    }
   ],
   "source": [
    "response = pyip.inputInt(prompt='Enter your age:')"
   ]
  },
  {
   "cell_type": "markdown",
   "id": "463ed535-b70a-478c-b232-ac63bec23075",
   "metadata": {},
   "source": [
    "### 关键字min, max, greaterThan, lessThan"
   ]
  },
  {
   "cell_type": "code",
   "execution_count": 10,
   "id": "23a353b9-ef80-4d03-9099-3c05f577016e",
   "metadata": {},
   "outputs": [
    {
     "name": "stdout",
     "output_type": "stream",
     "text": [
      "Enter a number"
     ]
    },
    {
     "name": "stdin",
     "output_type": "stream",
     "text": [
      " 2\n"
     ]
    },
    {
     "name": "stdout",
     "output_type": "stream",
     "text": [
      "Number must be at minimum 3.\n",
      "Enter a number"
     ]
    },
    {
     "name": "stdin",
     "output_type": "stream",
     "text": [
      " 8\n"
     ]
    },
    {
     "name": "stdout",
     "output_type": "stream",
     "text": [
      "Number must be at maximum 7.\n",
      "Enter a number"
     ]
    },
    {
     "name": "stdin",
     "output_type": "stream",
     "text": [
      " 5\n"
     ]
    }
   ],
   "source": [
    "response = pyip.inputNum(prompt='Enter a number', min=3, max=7)"
   ]
  },
  {
   "cell_type": "markdown",
   "id": "6f172cf1-5f83-437a-ac64-2b982c7b22db",
   "metadata": {},
   "source": [
    "### 关键字blank"
   ]
  },
  {
   "cell_type": "code",
   "execution_count": 12,
   "id": "3028d09a-7f4b-4f75-9f2a-0038d3efade3",
   "metadata": {},
   "outputs": [
    {
     "name": "stdin",
     "output_type": "stream",
     "text": [
      "  \n"
     ]
    }
   ],
   "source": [
    "response = pyip.inputNum(blank=True)"
   ]
  },
  {
   "cell_type": "code",
   "execution_count": 13,
   "id": "bec27fde-e12b-44e7-b830-0d14db111d3a",
   "metadata": {},
   "outputs": [
    {
     "data": {
      "text/plain": [
       "''"
      ]
     },
     "execution_count": 13,
     "metadata": {},
     "output_type": "execute_result"
    }
   ],
   "source": [
    "response"
   ]
  },
  {
   "cell_type": "markdown",
   "id": "758b4d4e-fa0b-4931-b104-407a15a62091",
   "metadata": {},
   "source": [
    "### 关键字limit, timeout, default "
   ]
  },
  {
   "cell_type": "code",
   "execution_count": 14,
   "id": "baa73fe5-033a-403a-b234-06f69ac8e4b3",
   "metadata": {},
   "outputs": [
    {
     "name": "stdin",
     "output_type": "stream",
     "text": [
      " r\n"
     ]
    },
    {
     "name": "stdout",
     "output_type": "stream",
     "text": [
      "'r' is not a number.\n"
     ]
    },
    {
     "name": "stdin",
     "output_type": "stream",
     "text": [
      " a\n"
     ]
    },
    {
     "name": "stdout",
     "output_type": "stream",
     "text": [
      "'a' is not a number.\n"
     ]
    },
    {
     "ename": "RetryLimitException",
     "evalue": "",
     "output_type": "error",
     "traceback": [
      "\u001b[1;31m---------------------------------------------------------------------------\u001b[0m",
      "\u001b[1;31mValueError\u001b[0m                                Traceback (most recent call last)",
      "File \u001b[1;32mD:\\anaconda3\\Lib\\site-packages\\pysimplevalidate\\__init__.py:512\u001b[0m, in \u001b[0;36mvalidateNum\u001b[1;34m(value, blank, strip, allowRegexes, blockRegexes, _numType, min, max, lessThan, greaterThan, excMsg)\u001b[0m\n\u001b[0;32m    511\u001b[0m \u001b[38;5;28;01mtry\u001b[39;00m:\n\u001b[1;32m--> 512\u001b[0m     numericValue \u001b[38;5;241m=\u001b[39m \u001b[38;5;28;43mint\u001b[39;49m\u001b[43m(\u001b[49m\u001b[43mvalue\u001b[49m\u001b[43m)\u001b[49m\n\u001b[0;32m    513\u001b[0m \u001b[38;5;28;01mexcept\u001b[39;00m:\n",
      "\u001b[1;31mValueError\u001b[0m: invalid literal for int() with base 10: 'a'",
      "\nDuring handling of the above exception, another exception occurred:\n",
      "\u001b[1;31mValidationException\u001b[0m                       Traceback (most recent call last)",
      "File \u001b[1;32mD:\\anaconda3\\Lib\\site-packages\\pyinputplus\\__init__.py:167\u001b[0m, in \u001b[0;36m_genericInput\u001b[1;34m(prompt, default, timeout, limit, applyFunc, validationFunc, postValidateApplyFunc, passwordMask)\u001b[0m\n\u001b[0;32m    166\u001b[0m \u001b[38;5;28;01mtry\u001b[39;00m:\n\u001b[1;32m--> 167\u001b[0m     possibleNewUserInput \u001b[38;5;241m=\u001b[39m \u001b[43mvalidationFunc\u001b[49m\u001b[43m(\u001b[49m\n\u001b[0;32m    168\u001b[0m \u001b[43m        \u001b[49m\u001b[43muserInput\u001b[49m\n\u001b[0;32m    169\u001b[0m \u001b[43m    \u001b[49m\u001b[43m)\u001b[49m  \u001b[38;5;66;03m# If validation fails, this function will raise an exception. Returns an updated value to use as user input (e.g. stripped of whitespace, etc.)\u001b[39;00m\n\u001b[0;32m    170\u001b[0m     \u001b[38;5;28;01mif\u001b[39;00m possibleNewUserInput \u001b[38;5;129;01mis\u001b[39;00m \u001b[38;5;129;01mnot\u001b[39;00m \u001b[38;5;28;01mNone\u001b[39;00m:\n",
      "File \u001b[1;32mD:\\anaconda3\\Lib\\site-packages\\pyinputplus\\__init__.py:385\u001b[0m, in \u001b[0;36minputNum.<locals>.<lambda>\u001b[1;34m(value)\u001b[0m\n\u001b[0;32m    383\u001b[0m pysv\u001b[38;5;241m.\u001b[39m_validateParamsFor_validateNum(\u001b[38;5;28mmin\u001b[39m\u001b[38;5;241m=\u001b[39m\u001b[38;5;28mmin\u001b[39m, \u001b[38;5;28mmax\u001b[39m\u001b[38;5;241m=\u001b[39m\u001b[38;5;28mmax\u001b[39m, lessThan\u001b[38;5;241m=\u001b[39mlessThan, greaterThan\u001b[38;5;241m=\u001b[39mgreaterThan)\n\u001b[1;32m--> 385\u001b[0m validationFunc \u001b[38;5;241m=\u001b[39m \u001b[38;5;28;01mlambda\u001b[39;00m value: \u001b[43mpysv\u001b[49m\u001b[38;5;241;43m.\u001b[39;49m\u001b[43mvalidateNum\u001b[49m\u001b[43m(\u001b[49m\n\u001b[0;32m    386\u001b[0m \u001b[43m    \u001b[49m\u001b[43mvalue\u001b[49m\u001b[43m,\u001b[49m\n\u001b[0;32m    387\u001b[0m \u001b[43m    \u001b[49m\u001b[43mblank\u001b[49m\u001b[38;5;241;43m=\u001b[39;49m\u001b[43mblank\u001b[49m\u001b[43m,\u001b[49m\n\u001b[0;32m    388\u001b[0m \u001b[43m    \u001b[49m\u001b[43mstrip\u001b[49m\u001b[38;5;241;43m=\u001b[39;49m\u001b[43mstrip\u001b[49m\u001b[43m,\u001b[49m\n\u001b[0;32m    389\u001b[0m \u001b[43m    \u001b[49m\u001b[43mallowRegexes\u001b[49m\u001b[38;5;241;43m=\u001b[39;49m\u001b[43mallowRegexes\u001b[49m\u001b[43m,\u001b[49m\n\u001b[0;32m    390\u001b[0m \u001b[43m    \u001b[49m\u001b[43mblockRegexes\u001b[49m\u001b[38;5;241;43m=\u001b[39;49m\u001b[43mblockRegexes\u001b[49m\u001b[43m,\u001b[49m\n\u001b[0;32m    391\u001b[0m \u001b[43m    \u001b[49m\u001b[38;5;28;43mmin\u001b[39;49m\u001b[38;5;241;43m=\u001b[39;49m\u001b[38;5;28;43mmin\u001b[39;49m\u001b[43m,\u001b[49m\n\u001b[0;32m    392\u001b[0m \u001b[43m    \u001b[49m\u001b[38;5;28;43mmax\u001b[39;49m\u001b[38;5;241;43m=\u001b[39;49m\u001b[38;5;28;43mmax\u001b[39;49m\u001b[43m,\u001b[49m\n\u001b[0;32m    393\u001b[0m \u001b[43m    \u001b[49m\u001b[43mlessThan\u001b[49m\u001b[38;5;241;43m=\u001b[39;49m\u001b[43mlessThan\u001b[49m\u001b[43m,\u001b[49m\n\u001b[0;32m    394\u001b[0m \u001b[43m    \u001b[49m\u001b[43mgreaterThan\u001b[49m\u001b[38;5;241;43m=\u001b[39;49m\u001b[43mgreaterThan\u001b[49m\u001b[43m,\u001b[49m\n\u001b[0;32m    395\u001b[0m \u001b[43m    \u001b[49m\u001b[43m_numType\u001b[49m\u001b[38;5;241;43m=\u001b[39;49m\u001b[38;5;124;43m\"\u001b[39;49m\u001b[38;5;124;43mnum\u001b[39;49m\u001b[38;5;124;43m\"\u001b[39;49m\u001b[43m,\u001b[49m\n\u001b[0;32m    396\u001b[0m \u001b[43m\u001b[49m\u001b[43m)\u001b[49m\n\u001b[0;32m    398\u001b[0m \u001b[38;5;28;01mreturn\u001b[39;00m _genericInput(\n\u001b[0;32m    399\u001b[0m     prompt\u001b[38;5;241m=\u001b[39mprompt,\n\u001b[0;32m    400\u001b[0m     default\u001b[38;5;241m=\u001b[39mdefault,\n\u001b[1;32m   (...)\u001b[0m\n\u001b[0;32m    405\u001b[0m     validationFunc\u001b[38;5;241m=\u001b[39mvalidationFunc,\n\u001b[0;32m    406\u001b[0m )\n",
      "File \u001b[1;32mD:\\anaconda3\\Lib\\site-packages\\pysimplevalidate\\__init__.py:514\u001b[0m, in \u001b[0;36mvalidateNum\u001b[1;34m(value, blank, strip, allowRegexes, blockRegexes, _numType, min, max, lessThan, greaterThan, excMsg)\u001b[0m\n\u001b[0;32m    513\u001b[0m     \u001b[38;5;28;01mexcept\u001b[39;00m:\n\u001b[1;32m--> 514\u001b[0m         \u001b[43m_raiseValidationException\u001b[49m\u001b[43m(\u001b[49m\u001b[43m_\u001b[49m\u001b[43m(\u001b[49m\u001b[38;5;124;43m\"\u001b[39;49m\u001b[38;5;132;43;01m%r\u001b[39;49;00m\u001b[38;5;124;43m is not a number.\u001b[39;49m\u001b[38;5;124;43m\"\u001b[39;49m\u001b[43m)\u001b[49m\u001b[43m \u001b[49m\u001b[38;5;241;43m%\u001b[39;49m\u001b[43m \u001b[49m\u001b[43m(\u001b[49m\u001b[43m_errstr\u001b[49m\u001b[43m(\u001b[49m\u001b[43mvalue\u001b[49m\u001b[43m)\u001b[49m\u001b[43m)\u001b[49m\u001b[43m,\u001b[49m\u001b[43m \u001b[49m\u001b[43mexcMsg\u001b[49m\u001b[43m)\u001b[49m\n\u001b[0;32m    515\u001b[0m \u001b[38;5;28;01melif\u001b[39;00m _numType \u001b[38;5;241m==\u001b[39m \u001b[38;5;124m\"\u001b[39m\u001b[38;5;124mfloat\u001b[39m\u001b[38;5;124m\"\u001b[39m:\n",
      "File \u001b[1;32mD:\\anaconda3\\Lib\\site-packages\\pysimplevalidate\\__init__.py:222\u001b[0m, in \u001b[0;36m_raiseValidationException\u001b[1;34m(standardExcMsg, customExcMsg)\u001b[0m\n\u001b[0;32m    221\u001b[0m \u001b[38;5;28;01mif\u001b[39;00m customExcMsg \u001b[38;5;129;01mis\u001b[39;00m \u001b[38;5;28;01mNone\u001b[39;00m:\n\u001b[1;32m--> 222\u001b[0m     \u001b[38;5;28;01mraise\u001b[39;00m ValidationException(\u001b[38;5;28mstr\u001b[39m(standardExcMsg))\n\u001b[0;32m    223\u001b[0m \u001b[38;5;28;01melse\u001b[39;00m:\n",
      "\u001b[1;31mValidationException\u001b[0m: 'a' is not a number.",
      "\nDuring handling of the above exception, another exception occurred:\n",
      "\u001b[1;31mRetryLimitException\u001b[0m                       Traceback (most recent call last)",
      "Cell \u001b[1;32mIn[14], line 1\u001b[0m\n\u001b[1;32m----> 1\u001b[0m response \u001b[38;5;241m=\u001b[39m \u001b[43mpyip\u001b[49m\u001b[38;5;241;43m.\u001b[39;49m\u001b[43minputNum\u001b[49m\u001b[43m(\u001b[49m\u001b[43mlimit\u001b[49m\u001b[38;5;241;43m=\u001b[39;49m\u001b[38;5;241;43m2\u001b[39;49m\u001b[43m)\u001b[49m\n",
      "File \u001b[1;32mD:\\anaconda3\\Lib\\site-packages\\pyinputplus\\__init__.py:398\u001b[0m, in \u001b[0;36minputNum\u001b[1;34m(prompt, default, blank, timeout, limit, strip, allowRegexes, blockRegexes, applyFunc, postValidateApplyFunc, min, max, greaterThan, lessThan)\u001b[0m\n\u001b[0;32m    383\u001b[0m pysv\u001b[38;5;241m.\u001b[39m_validateParamsFor_validateNum(\u001b[38;5;28mmin\u001b[39m\u001b[38;5;241m=\u001b[39m\u001b[38;5;28mmin\u001b[39m, \u001b[38;5;28mmax\u001b[39m\u001b[38;5;241m=\u001b[39m\u001b[38;5;28mmax\u001b[39m, lessThan\u001b[38;5;241m=\u001b[39mlessThan, greaterThan\u001b[38;5;241m=\u001b[39mgreaterThan)\n\u001b[0;32m    385\u001b[0m validationFunc \u001b[38;5;241m=\u001b[39m \u001b[38;5;28;01mlambda\u001b[39;00m value: pysv\u001b[38;5;241m.\u001b[39mvalidateNum(\n\u001b[0;32m    386\u001b[0m     value,\n\u001b[0;32m    387\u001b[0m     blank\u001b[38;5;241m=\u001b[39mblank,\n\u001b[1;32m   (...)\u001b[0m\n\u001b[0;32m    395\u001b[0m     _numType\u001b[38;5;241m=\u001b[39m\u001b[38;5;124m\"\u001b[39m\u001b[38;5;124mnum\u001b[39m\u001b[38;5;124m\"\u001b[39m,\n\u001b[0;32m    396\u001b[0m )\n\u001b[1;32m--> 398\u001b[0m \u001b[38;5;28;01mreturn\u001b[39;00m \u001b[43m_genericInput\u001b[49m\u001b[43m(\u001b[49m\n\u001b[0;32m    399\u001b[0m \u001b[43m    \u001b[49m\u001b[43mprompt\u001b[49m\u001b[38;5;241;43m=\u001b[39;49m\u001b[43mprompt\u001b[49m\u001b[43m,\u001b[49m\n\u001b[0;32m    400\u001b[0m \u001b[43m    \u001b[49m\u001b[43mdefault\u001b[49m\u001b[38;5;241;43m=\u001b[39;49m\u001b[43mdefault\u001b[49m\u001b[43m,\u001b[49m\n\u001b[0;32m    401\u001b[0m \u001b[43m    \u001b[49m\u001b[43mtimeout\u001b[49m\u001b[38;5;241;43m=\u001b[39;49m\u001b[43mtimeout\u001b[49m\u001b[43m,\u001b[49m\n\u001b[0;32m    402\u001b[0m \u001b[43m    \u001b[49m\u001b[43mlimit\u001b[49m\u001b[38;5;241;43m=\u001b[39;49m\u001b[43mlimit\u001b[49m\u001b[43m,\u001b[49m\n\u001b[0;32m    403\u001b[0m \u001b[43m    \u001b[49m\u001b[43mapplyFunc\u001b[49m\u001b[38;5;241;43m=\u001b[39;49m\u001b[43mapplyFunc\u001b[49m\u001b[43m,\u001b[49m\n\u001b[0;32m    404\u001b[0m \u001b[43m    \u001b[49m\u001b[43mpostValidateApplyFunc\u001b[49m\u001b[38;5;241;43m=\u001b[39;49m\u001b[43mpostValidateApplyFunc\u001b[49m\u001b[43m,\u001b[49m\n\u001b[0;32m    405\u001b[0m \u001b[43m    \u001b[49m\u001b[43mvalidationFunc\u001b[49m\u001b[38;5;241;43m=\u001b[39;49m\u001b[43mvalidationFunc\u001b[49m\u001b[43m,\u001b[49m\n\u001b[0;32m    406\u001b[0m \u001b[43m\u001b[49m\u001b[43m)\u001b[49m\n",
      "File \u001b[1;32mD:\\anaconda3\\Lib\\site-packages\\pyinputplus\\__init__.py:188\u001b[0m, in \u001b[0;36m_genericInput\u001b[1;34m(prompt, default, timeout, limit, applyFunc, validationFunc, postValidateApplyFunc, passwordMask)\u001b[0m\n\u001b[0;32m    185\u001b[0m         \u001b[38;5;28;01mreturn\u001b[39;00m default\n\u001b[0;32m    186\u001b[0m     \u001b[38;5;28;01melse\u001b[39;00m:\n\u001b[0;32m    187\u001b[0m         \u001b[38;5;66;03m# If there is no default, then raise the timeout/limit exception.\u001b[39;00m\n\u001b[1;32m--> 188\u001b[0m         \u001b[38;5;28;01mraise\u001b[39;00m limitOrTimeoutException\n\u001b[0;32m    189\u001b[0m \u001b[38;5;28;01melse\u001b[39;00m:\n\u001b[0;32m    190\u001b[0m     \u001b[38;5;66;03m# If there was no timeout/limit exceeded, let the user enter input again.\u001b[39;00m\n\u001b[0;32m    191\u001b[0m     \u001b[38;5;28;01mcontinue\u001b[39;00m\n",
      "\u001b[1;31mRetryLimitException\u001b[0m: "
     ]
    }
   ],
   "source": [
    "response = pyip.inputNum(limit=2)"
   ]
  },
  {
   "cell_type": "code",
   "execution_count": 15,
   "id": "08fb6c25-a431-428d-985f-aefec2e28ddc",
   "metadata": {},
   "outputs": [
    {
     "name": "stdin",
     "output_type": "stream",
     "text": [
      " 5\n"
     ]
    },
    {
     "ename": "TimeoutException",
     "evalue": "",
     "output_type": "error",
     "traceback": [
      "\u001b[1;31m---------------------------------------------------------------------------\u001b[0m",
      "\u001b[1;31mTimeoutException\u001b[0m                          Traceback (most recent call last)",
      "Cell \u001b[1;32mIn[15], line 1\u001b[0m\n\u001b[1;32m----> 1\u001b[0m response \u001b[38;5;241m=\u001b[39m \u001b[43mpyip\u001b[49m\u001b[38;5;241;43m.\u001b[39;49m\u001b[43minputNum\u001b[49m\u001b[43m(\u001b[49m\u001b[43mtimeout\u001b[49m\u001b[38;5;241;43m=\u001b[39;49m\u001b[38;5;241;43m10\u001b[39;49m\u001b[43m)\u001b[49m\n",
      "File \u001b[1;32mD:\\anaconda3\\Lib\\site-packages\\pyinputplus\\__init__.py:398\u001b[0m, in \u001b[0;36minputNum\u001b[1;34m(prompt, default, blank, timeout, limit, strip, allowRegexes, blockRegexes, applyFunc, postValidateApplyFunc, min, max, greaterThan, lessThan)\u001b[0m\n\u001b[0;32m    383\u001b[0m pysv\u001b[38;5;241m.\u001b[39m_validateParamsFor_validateNum(\u001b[38;5;28mmin\u001b[39m\u001b[38;5;241m=\u001b[39m\u001b[38;5;28mmin\u001b[39m, \u001b[38;5;28mmax\u001b[39m\u001b[38;5;241m=\u001b[39m\u001b[38;5;28mmax\u001b[39m, lessThan\u001b[38;5;241m=\u001b[39mlessThan, greaterThan\u001b[38;5;241m=\u001b[39mgreaterThan)\n\u001b[0;32m    385\u001b[0m validationFunc \u001b[38;5;241m=\u001b[39m \u001b[38;5;28;01mlambda\u001b[39;00m value: pysv\u001b[38;5;241m.\u001b[39mvalidateNum(\n\u001b[0;32m    386\u001b[0m     value,\n\u001b[0;32m    387\u001b[0m     blank\u001b[38;5;241m=\u001b[39mblank,\n\u001b[1;32m   (...)\u001b[0m\n\u001b[0;32m    395\u001b[0m     _numType\u001b[38;5;241m=\u001b[39m\u001b[38;5;124m\"\u001b[39m\u001b[38;5;124mnum\u001b[39m\u001b[38;5;124m\"\u001b[39m,\n\u001b[0;32m    396\u001b[0m )\n\u001b[1;32m--> 398\u001b[0m \u001b[38;5;28;01mreturn\u001b[39;00m \u001b[43m_genericInput\u001b[49m\u001b[43m(\u001b[49m\n\u001b[0;32m    399\u001b[0m \u001b[43m    \u001b[49m\u001b[43mprompt\u001b[49m\u001b[38;5;241;43m=\u001b[39;49m\u001b[43mprompt\u001b[49m\u001b[43m,\u001b[49m\n\u001b[0;32m    400\u001b[0m \u001b[43m    \u001b[49m\u001b[43mdefault\u001b[49m\u001b[38;5;241;43m=\u001b[39;49m\u001b[43mdefault\u001b[49m\u001b[43m,\u001b[49m\n\u001b[0;32m    401\u001b[0m \u001b[43m    \u001b[49m\u001b[43mtimeout\u001b[49m\u001b[38;5;241;43m=\u001b[39;49m\u001b[43mtimeout\u001b[49m\u001b[43m,\u001b[49m\n\u001b[0;32m    402\u001b[0m \u001b[43m    \u001b[49m\u001b[43mlimit\u001b[49m\u001b[38;5;241;43m=\u001b[39;49m\u001b[43mlimit\u001b[49m\u001b[43m,\u001b[49m\n\u001b[0;32m    403\u001b[0m \u001b[43m    \u001b[49m\u001b[43mapplyFunc\u001b[49m\u001b[38;5;241;43m=\u001b[39;49m\u001b[43mapplyFunc\u001b[49m\u001b[43m,\u001b[49m\n\u001b[0;32m    404\u001b[0m \u001b[43m    \u001b[49m\u001b[43mpostValidateApplyFunc\u001b[49m\u001b[38;5;241;43m=\u001b[39;49m\u001b[43mpostValidateApplyFunc\u001b[49m\u001b[43m,\u001b[49m\n\u001b[0;32m    405\u001b[0m \u001b[43m    \u001b[49m\u001b[43mvalidationFunc\u001b[49m\u001b[38;5;241;43m=\u001b[39;49m\u001b[43mvalidationFunc\u001b[49m\u001b[43m,\u001b[49m\n\u001b[0;32m    406\u001b[0m \u001b[43m\u001b[49m\u001b[43m)\u001b[49m\n",
      "File \u001b[1;32mD:\\anaconda3\\Lib\\site-packages\\pyinputplus\\__init__.py:203\u001b[0m, in \u001b[0;36m_genericInput\u001b[1;34m(prompt, default, timeout, limit, applyFunc, validationFunc, postValidateApplyFunc, passwordMask)\u001b[0m\n\u001b[0;32m    201\u001b[0m         \u001b[38;5;28;01mreturn\u001b[39;00m default\n\u001b[0;32m    202\u001b[0m     \u001b[38;5;28;01melse\u001b[39;00m:\n\u001b[1;32m--> 203\u001b[0m         \u001b[38;5;28;01mraise\u001b[39;00m TimeoutException()\n\u001b[0;32m    205\u001b[0m \u001b[38;5;28;01mif\u001b[39;00m postValidateApplyFunc \u001b[38;5;129;01mis\u001b[39;00m \u001b[38;5;129;01mnot\u001b[39;00m \u001b[38;5;28;01mNone\u001b[39;00m:\n\u001b[0;32m    206\u001b[0m     \u001b[38;5;28;01mreturn\u001b[39;00m postValidateApplyFunc(userInput)\n",
      "\u001b[1;31mTimeoutException\u001b[0m: "
     ]
    }
   ],
   "source": [
    "response = pyip.inputNum(timeout=10)"
   ]
  },
  {
   "cell_type": "code",
   "execution_count": 16,
   "id": "17bcf369-6343-4a72-814a-e5504ce9a04b",
   "metadata": {},
   "outputs": [
    {
     "name": "stdin",
     "output_type": "stream",
     "text": [
      " hellp\n"
     ]
    },
    {
     "name": "stdout",
     "output_type": "stream",
     "text": [
      "'hellp' is not a number.\n"
     ]
    },
    {
     "name": "stdin",
     "output_type": "stream",
     "text": [
      " world\n"
     ]
    },
    {
     "name": "stdout",
     "output_type": "stream",
     "text": [
      "'world' is not a number.\n"
     ]
    }
   ],
   "source": [
    "res = pyip.inputNum(limit=2, default='N/A')"
   ]
  },
  {
   "cell_type": "code",
   "execution_count": 17,
   "id": "62e3c5c7-03c6-4ad6-8ed0-4583785f2490",
   "metadata": {},
   "outputs": [
    {
     "data": {
      "text/plain": [
       "'N/A'"
      ]
     },
     "execution_count": 17,
     "metadata": {},
     "output_type": "execute_result"
    }
   ],
   "source": [
    "res"
   ]
  },
  {
   "cell_type": "markdown",
   "id": "ef64dad3-cec5-4d29-981b-0385368900c4",
   "metadata": {},
   "source": [
    "### 关键字allowRegexes和blockRegexes"
   ]
  },
  {
   "cell_type": "code",
   "execution_count": 1,
   "id": "99f2354b-41ec-4dc8-b994-e95fd33cfb8d",
   "metadata": {},
   "outputs": [],
   "source": [
    "import pyinputplus as pyip"
   ]
  },
  {
   "cell_type": "code",
   "execution_count": 4,
   "id": "e1be8a8c-0b3e-4c4f-8139-4c971f1bbf2e",
   "metadata": {},
   "outputs": [
    {
     "name": "stdin",
     "output_type": "stream",
     "text": [
      " zero\n"
     ]
    }
   ],
   "source": [
    "res = pyip.inputNum(allowRegexes=[r'zero'])"
   ]
  },
  {
   "cell_type": "code",
   "execution_count": 5,
   "id": "7cdd44a7-6700-4bc3-be12-abb56c01c8bb",
   "metadata": {},
   "outputs": [
    {
     "name": "stdin",
     "output_type": "stream",
     "text": [
      " VII\n"
     ]
    }
   ],
   "source": [
    "res = pyip.inputNum(allowRegexes=[r'zero', r'(I|V|X|L|C|D|M)'])"
   ]
  },
  {
   "cell_type": "code",
   "execution_count": 5,
   "id": "24b9ce3d-e486-4594-9a09-0e44e572b8e9",
   "metadata": {},
   "outputs": [
    {
     "name": "stdin",
     "output_type": "stream",
     "text": [
      " 22\n"
     ]
    },
    {
     "name": "stdout",
     "output_type": "stream",
     "text": [
      "This response is invalid.\n"
     ]
    },
    {
     "name": "stdin",
     "output_type": "stream",
     "text": [
      " 3\n"
     ]
    }
   ],
   "source": [
    "# filter out even number\n",
    "res = pyip.inputNum(blockRegexes=[r'[02468]$'])"
   ]
  },
  {
   "cell_type": "markdown",
   "id": "ec1db6b8-0c1a-4377-8b82-2c0cd7eb348a",
   "metadata": {},
   "source": [
    "+ 如果allow和block都包含，block的优先级更高"
   ]
  },
  {
   "cell_type": "code",
   "execution_count": 3,
   "id": "be6b057a-a2ac-40cf-9b4a-58d97cb5a022",
   "metadata": {},
   "outputs": [
    {
     "name": "stdin",
     "output_type": "stream",
     "text": [
      " cat\n"
     ]
    },
    {
     "name": "stdout",
     "output_type": "stream",
     "text": [
      "This response is invalid.\n"
     ]
    },
    {
     "name": "stdin",
     "output_type": "stream",
     "text": [
      " catastrophy\n"
     ]
    },
    {
     "name": "stdout",
     "output_type": "stream",
     "text": [
      "This response is invalid.\n"
     ]
    },
    {
     "name": "stdin",
     "output_type": "stream",
     "text": [
      " catpillar\n"
     ]
    }
   ],
   "source": [
    "res = pyip.inputStr(allowRegexes=[r'catpillar', 'catgegory'], blockRegexes=[r'cat'])"
   ]
  },
  {
   "cell_type": "markdown",
   "id": "43782b07-f758-47ab-9757-5739019b674e",
   "metadata": {},
   "source": [
    "### 自定义验证函数传递给inputCustom()"
   ]
  },
  {
   "cell_type": "code",
   "execution_count": 4,
   "id": "eee13847-b449-4834-b586-3202dac1bcf6",
   "metadata": {},
   "outputs": [
    {
     "name": "stdin",
     "output_type": "stream",
     "text": [
      " 233\n"
     ]
    },
    {
     "name": "stdout",
     "output_type": "stream",
     "text": [
      "The digits must add up to 10\n"
     ]
    },
    {
     "name": "stdin",
     "output_type": "stream",
     "text": [
      " hello\n"
     ]
    },
    {
     "name": "stdout",
     "output_type": "stream",
     "text": [
      "invalid literal for int() with base 10: 'h'\n"
     ]
    },
    {
     "name": "stdin",
     "output_type": "stream",
     "text": [
      " 46\n"
     ]
    }
   ],
   "source": [
    "def add_up_to_ten(numbers):\n",
    "    numberList = list(numbers)\n",
    "    for i, digit in enumerate(numberList):\n",
    "        numberList[i] = int(digit)\n",
    "    if sum(numberList) !=10:\n",
    "        raise Exception('The digits must add up to 10')\n",
    "    return int(numbers)\n",
    "\n",
    "res = pyip.inputCustom(add_up_to_ten)\n",
    "            "
   ]
  },
  {
   "cell_type": "markdown",
   "id": "247fca7d-cb69-467c-9c44-77fe80bd4d40",
   "metadata": {},
   "source": [
    "## 案例：乘法测验"
   ]
  },
  {
   "cell_type": "code",
   "execution_count": 3,
   "id": "ac8f7133-97c6-49b6-9fcc-d6365c9ddbf8",
   "metadata": {},
   "outputs": [
    {
     "name": "stdout",
     "output_type": "stream",
     "text": [
      "#1: 1 x 3 = "
     ]
    },
    {
     "name": "stdin",
     "output_type": "stream",
     "text": [
      " 3\n"
     ]
    },
    {
     "name": "stdout",
     "output_type": "stream",
     "text": [
      "Correct!\n",
      "\u001b[1;32mScore: 1 / 10\n",
      "\u001b[0m\n",
      "#2: 4 x 9 = "
     ]
    },
    {
     "name": "stdin",
     "output_type": "stream",
     "text": [
      " 36\n"
     ]
    },
    {
     "name": "stdout",
     "output_type": "stream",
     "text": [
      "Correct!\n",
      "\u001b[1;32mScore: 2 / 10\n",
      "\u001b[0m\n",
      "#3: 7 x 1 = "
     ]
    },
    {
     "name": "stdin",
     "output_type": "stream",
     "text": [
      " 7\n"
     ]
    },
    {
     "name": "stdout",
     "output_type": "stream",
     "text": [
      "Correct!\n",
      "\u001b[1;32mScore: 3 / 10\n",
      "\u001b[0m\n",
      "#4: 7 x 5 = "
     ]
    },
    {
     "name": "stdin",
     "output_type": "stream",
     "text": [
      " 35\n"
     ]
    },
    {
     "name": "stdout",
     "output_type": "stream",
     "text": [
      "Correct!\n",
      "\u001b[1;32mScore: 4 / 10\n",
      "\u001b[0m\n",
      "#5: 7 x 4 = "
     ]
    },
    {
     "name": "stdin",
     "output_type": "stream",
     "text": [
      " 28\n"
     ]
    },
    {
     "name": "stdout",
     "output_type": "stream",
     "text": [
      "Correct!\n",
      "\u001b[1;32mScore: 5 / 10\n",
      "\u001b[0m\n",
      "#6: 8 x 5 = "
     ]
    },
    {
     "name": "stdin",
     "output_type": "stream",
     "text": [
      " 40\n"
     ]
    },
    {
     "name": "stdout",
     "output_type": "stream",
     "text": [
      "Correct!\n",
      "\u001b[1;32mScore: 6 / 10\n",
      "\u001b[0m\n",
      "#7: 3 x 1 = "
     ]
    },
    {
     "name": "stdin",
     "output_type": "stream",
     "text": [
      " 3\n"
     ]
    },
    {
     "name": "stdout",
     "output_type": "stream",
     "text": [
      "Correct!\n",
      "\u001b[1;32mScore: 7 / 10\n",
      "\u001b[0m\n",
      "#8: 0 x 8 = "
     ]
    },
    {
     "name": "stdin",
     "output_type": "stream",
     "text": [
      " 0\n"
     ]
    },
    {
     "name": "stdout",
     "output_type": "stream",
     "text": [
      "Correct!\n",
      "\u001b[1;32mScore: 8 / 10\n",
      "\u001b[0m\n",
      "#9: 1 x 4 = "
     ]
    },
    {
     "name": "stdin",
     "output_type": "stream",
     "text": [
      " 4\n"
     ]
    },
    {
     "name": "stdout",
     "output_type": "stream",
     "text": [
      "Correct!\n",
      "\u001b[1;32mScore: 9 / 10\n",
      "\u001b[0m\n",
      "#10: 3 x 2 = "
     ]
    },
    {
     "name": "stdin",
     "output_type": "stream",
     "text": [
      " 6\n"
     ]
    },
    {
     "name": "stdout",
     "output_type": "stream",
     "text": [
      "Correct!\n",
      "\u001b[1;32mScore: 10 / 10\n",
      "\u001b[0m\n"
     ]
    }
   ],
   "source": [
    "import pyinputplus as pyip, time, random\n",
    "\n",
    "total_questions = 10\n",
    "correct_questions = 0\n",
    "\n",
    "for i in range(total_questions):                    \n",
    "    num1 = random.randint(0,9)\n",
    "    num2 = random.randint(0,9)\n",
    "    prompt = f'#{i+1}: {num1} x {num2} = '\n",
    "    try:\n",
    "        ans = pyip.inputStr(prompt, allowRegexes=['^%s$' % (num1*num2)],\n",
    "                            blockRegexes=[(r'.*', 'Incorrect')],\n",
    "                           timeout=8, limit=3)\n",
    "    except pyip.TimeoutException:\n",
    "        print('Out of time')\n",
    "    except pyip.RetryLimitException:\n",
    "        print('Out of tries')\n",
    "    else:\n",
    "        print('Correct!')\n",
    "        correct_questions +=1\n",
    "        time.sleep(1)\n",
    "    print(f'\\033[1;32mScore: {correct_questions} / {total_questions}\\n\\033[0m')\n",
    "        \n",
    "    "
   ]
  },
  {
   "cell_type": "markdown",
   "id": "bf29c84b-a32b-48c6-8a57-cec4bdb0aa21",
   "metadata": {},
   "source": [
    "正则表达式的提醒功能"
   ]
  },
  {
   "cell_type": "code",
   "execution_count": 10,
   "id": "d06ed70c-a24b-45be-9a36-7677267b2c68",
   "metadata": {},
   "outputs": [
    {
     "name": "stdin",
     "output_type": "stream",
     "text": [
      " 2\n"
     ]
    },
    {
     "name": "stdout",
     "output_type": "stream",
     "text": [
      "we do not want even number\n"
     ]
    },
    {
     "name": "stdin",
     "output_type": "stream",
     "text": [
      " 3\n"
     ]
    }
   ],
   "source": [
    "res = pyip.inputNum(blockRegexes=[(r'[02468]$', 'we do not want even number')])"
   ]
  },
  {
   "cell_type": "markdown",
   "id": "988f70d9-bf7c-4a95-a20c-f7a6f1eb2fdb",
   "metadata": {},
   "source": [
    "# Chatpter 9 读写文件"
   ]
  },
  {
   "cell_type": "markdown",
   "id": "0b6f2fed-6c86-4c1b-ae71-5ca8a9ccb337",
   "metadata": {},
   "source": [
    "## pathlib模块"
   ]
  },
  {
   "cell_type": "markdown",
   "id": "cf6f72c7-37d9-47a8-8719-465dff80cee4",
   "metadata": {},
   "source": [
    "+ 保证路径的写法在不同系统上通用"
   ]
  },
  {
   "cell_type": "code",
   "execution_count": 11,
   "id": "b92c549c-ddf2-4fb2-9381-069f43f8308b",
   "metadata": {},
   "outputs": [
    {
     "name": "stdout",
     "output_type": "stream",
     "text": [
      "D:\\Code\\jupyter\\accounts.txt\n",
      "D:\\Code\\jupyter\\details.csv\n",
      "D:\\Code\\jupyter\\invite.docx\n"
     ]
    }
   ],
   "source": [
    "from pathlib import Path\n",
    "myFiles = ['accounts.txt', 'details.csv', 'invite.docx']\n",
    "for file in myFiles:\n",
    "    print(Path(r'D:\\Code\\jupyter', file))"
   ]
  },
  {
   "cell_type": "code",
   "execution_count": 12,
   "id": "c2b5628a-630e-4ad1-8285-914014beea4e",
   "metadata": {},
   "outputs": [
    {
     "data": {
      "text/plain": [
       "WindowsPath('spam/foo/eggs')"
      ]
     },
     "execution_count": 12,
     "metadata": {},
     "output_type": "execute_result"
    }
   ],
   "source": [
    "Path('spam', 'foo', 'eggs')"
   ]
  },
  {
   "cell_type": "code",
   "execution_count": 13,
   "id": "eb3e67d1-4bc3-43fc-8d10-fee26cfc7231",
   "metadata": {},
   "outputs": [
    {
     "data": {
      "text/plain": [
       "'spam\\\\foo\\\\eggs'"
      ]
     },
     "execution_count": 13,
     "metadata": {},
     "output_type": "execute_result"
    }
   ],
   "source": [
    "str(Path('spam', 'foo', 'eggs'))"
   ]
  },
  {
   "cell_type": "markdown",
   "id": "d4b6b782-5c82-4609-ac94-53a7a8ecee90",
   "metadata": {},
   "source": [
    "### 用/连接路径"
   ]
  },
  {
   "cell_type": "code",
   "execution_count": 14,
   "id": "5f7a8792-61b6-4852-a7ae-65c2e0adc819",
   "metadata": {},
   "outputs": [
    {
     "data": {
      "text/plain": [
       "WindowsPath('D:/Code/eggs.txt')"
      ]
     },
     "execution_count": 14,
     "metadata": {},
     "output_type": "execute_result"
    }
   ],
   "source": [
    "Path(r'D:\\Code') / 'eggs.txt'"
   ]
  },
  {
   "cell_type": "code",
   "execution_count": 16,
   "id": "ebfb891a-81b1-46ed-8bcb-02b073f45e5d",
   "metadata": {},
   "outputs": [
    {
     "data": {
      "text/plain": [
       "WindowsPath('D:/Code/eggs.txt')"
      ]
     },
     "execution_count": 16,
     "metadata": {},
     "output_type": "execute_result"
    }
   ],
   "source": [
    "Path(r'D:\\Code').joinpath('eggs.txt')"
   ]
  },
  {
   "cell_type": "markdown",
   "id": "5ae43a9d-d3fa-4a03-86ee-8d517f8da215",
   "metadata": {},
   "source": [
    "### 当前工作目录"
   ]
  },
  {
   "cell_type": "code",
   "execution_count": 17,
   "id": "6be72ddd-2288-498c-a2f4-b44b3dae02aa",
   "metadata": {},
   "outputs": [
    {
     "data": {
      "text/plain": [
       "WindowsPath('D:/Code/jupyter/automate_python')"
      ]
     },
     "execution_count": 17,
     "metadata": {},
     "output_type": "execute_result"
    }
   ],
   "source": [
    "Path.cwd()"
   ]
  },
  {
   "cell_type": "code",
   "execution_count": 18,
   "id": "193bd9f8-80d4-4fd7-b287-923d5775ff83",
   "metadata": {},
   "outputs": [],
   "source": [
    "import os"
   ]
  },
  {
   "cell_type": "code",
   "execution_count": 19,
   "id": "18b6c5c0-18a0-4435-92b1-778476aed896",
   "metadata": {},
   "outputs": [],
   "source": [
    "os.chdir('D:\\Code\\pilis_dl')"
   ]
  },
  {
   "cell_type": "code",
   "execution_count": 20,
   "id": "f3f4ad87-dbdd-48e6-aa7c-6957aa1e7823",
   "metadata": {},
   "outputs": [
    {
     "data": {
      "text/plain": [
       "WindowsPath('D:/Code/pilis_dl')"
      ]
     },
     "execution_count": 20,
     "metadata": {},
     "output_type": "execute_result"
    }
   ],
   "source": [
    "Path.cwd()"
   ]
  },
  {
   "cell_type": "code",
   "execution_count": 21,
   "id": "f2f2f561-1bf8-4fa6-b7dd-8ec5df4d5627",
   "metadata": {},
   "outputs": [
    {
     "data": {
      "text/plain": [
       "'D:\\\\Code\\\\pilis_dl'"
      ]
     },
     "execution_count": 21,
     "metadata": {},
     "output_type": "execute_result"
    }
   ],
   "source": [
    "os.getcwd()"
   ]
  },
  {
   "cell_type": "markdown",
   "id": "bf5744de-71d0-41dd-bfcb-9d700e4aac61",
   "metadata": {},
   "source": [
    "### 主目录"
   ]
  },
  {
   "cell_type": "code",
   "execution_count": 22,
   "id": "17e33657-4700-4163-8e72-6ee2810f0a54",
   "metadata": {},
   "outputs": [
    {
     "data": {
      "text/plain": [
       "WindowsPath('C:/Users/DELL')"
      ]
     },
     "execution_count": 22,
     "metadata": {},
     "output_type": "execute_result"
    }
   ],
   "source": [
    "Path.home()"
   ]
  },
  {
   "cell_type": "markdown",
   "id": "08abd629-ce5a-42b0-ab10-8003f9f46f0c",
   "metadata": {},
   "source": [
    "### 绝对路径与相对路径"
   ]
  },
  {
   "cell_type": "markdown",
   "id": "6cac0cb0-4fca-4ba0-b670-cefb96144fff",
   "metadata": {},
   "source": [
    "### 创建新文件夹"
   ]
  },
  {
   "cell_type": "code",
   "execution_count": 24,
   "id": "52382448-10c5-4506-b16d-786906128b84",
   "metadata": {},
   "outputs": [],
   "source": [
    "os.chdir(r'D:\\Code\\jupyter\\automate_python')"
   ]
  },
  {
   "cell_type": "code",
   "execution_count": 25,
   "id": "da028f84-7b23-49af-bcb2-e9714e9d4b20",
   "metadata": {},
   "outputs": [
    {
     "data": {
      "text/plain": [
       "WindowsPath('D:/Code/jupyter/automate_python')"
      ]
     },
     "execution_count": 25,
     "metadata": {},
     "output_type": "execute_result"
    }
   ],
   "source": [
    "Path.cwd()"
   ]
  },
  {
   "cell_type": "code",
   "execution_count": 27,
   "id": "ebde1294-651e-42a4-b8a1-2de228379d02",
   "metadata": {},
   "outputs": [],
   "source": [
    "os.makedirs('../spam')"
   ]
  },
  {
   "cell_type": "code",
   "execution_count": 30,
   "id": "9245108d-7df7-4f8a-9b6b-d79d7c4c0143",
   "metadata": {},
   "outputs": [],
   "source": [
    "Path(r'../spam2').mkdir()"
   ]
  },
  {
   "cell_type": "markdown",
   "id": "355a1b44-362b-47b3-9201-e57ccef6ffa3",
   "metadata": {},
   "source": [
    "+ ps: Path().mkdir()一次只能创建一个，不能像os.makedirs()一次多个"
   ]
  },
  {
   "cell_type": "markdown",
   "id": "cace324d-b257-4a60-bb60-36c6ee199092",
   "metadata": {},
   "source": [
    "### 处理绝对和相对路径"
   ]
  },
  {
   "cell_type": "code",
   "execution_count": 31,
   "id": "20d1b474-037c-4237-a04c-0c2342fc0b1e",
   "metadata": {},
   "outputs": [
    {
     "data": {
      "text/plain": [
       "WindowsPath('D:/Code/jupyter/automate_python')"
      ]
     },
     "execution_count": 31,
     "metadata": {},
     "output_type": "execute_result"
    }
   ],
   "source": [
    "Path.cwd()"
   ]
  },
  {
   "cell_type": "code",
   "execution_count": 33,
   "id": "5af99b4a-9dcf-4d2b-9ead-5820f56f6e03",
   "metadata": {},
   "outputs": [
    {
     "data": {
      "text/plain": [
       "True"
      ]
     },
     "execution_count": 33,
     "metadata": {},
     "output_type": "execute_result"
    }
   ],
   "source": [
    "Path.cwd().is_absolute()"
   ]
  },
  {
   "cell_type": "markdown",
   "id": "1520fbbe-ed75-4340-92c0-fe3e7b07e817",
   "metadata": {},
   "source": [
    "os.path的一些：\n",
    "+ os.path.abspath(some_path)，返回some_path的绝对路径\n",
    "+ os.path.isabs(some_path)， 判断是否\n",
    "+ os.path.relpath(some_path, start) 从start出发到some_path要怎么走，走法是用相对路径写的"
   ]
  },
  {
   "cell_type": "code",
   "execution_count": 37,
   "id": "5e3c7fe1-e2d2-4b7f-ba77-b2ad39d2da6e",
   "metadata": {},
   "outputs": [
    {
     "data": {
      "text/plain": [
       "'..\\\\..\\\\..\\\\Typora'"
      ]
     },
     "execution_count": 37,
     "metadata": {},
     "output_type": "execute_result"
    }
   ],
   "source": [
    "os.path.relpath(r'D:\\Typora', Path.cwd())"
   ]
  },
  {
   "cell_type": "markdown",
   "id": "a4b2df4a-f885-4cdd-a5d0-28f3077ac5ec",
   "metadata": {},
   "source": [
    "### 取得文件路径的各部分"
   ]
  },
  {
   "cell_type": "markdown",
   "id": "15cdc964-1069-4d91-9015-d612ec5a78fb",
   "metadata": {},
   "source": [
    "在windows系统里，文件路径分为：\n",
    "+ anchor,是根文件夹。 在windows里是drive，驱动器\n",
    "+ parent\n",
    "+ name: stem+suffix\n",
    "  \n",
    "Path对象在windows里有drive属性\n",
    "  "
   ]
  },
  {
   "cell_type": "code",
   "execution_count": 43,
   "id": "a161efb9-9536-447c-b6a2-d3c4f4184c4a",
   "metadata": {},
   "outputs": [],
   "source": [
    "p  = Path(r'D:\\Code\\jupyter\\spam2\\foo.txt')"
   ]
  },
  {
   "cell_type": "code",
   "execution_count": 45,
   "id": "93ff4722-e9b8-4bc6-8a7f-3a2a688bee4d",
   "metadata": {},
   "outputs": [
    {
     "data": {
      "text/plain": [
       "'D:\\\\'"
      ]
     },
     "execution_count": 45,
     "metadata": {},
     "output_type": "execute_result"
    }
   ],
   "source": [
    "p.anchor"
   ]
  },
  {
   "cell_type": "code",
   "execution_count": 47,
   "id": "dcfc6fde-840c-4b8a-b23b-e377727fc15a",
   "metadata": {},
   "outputs": [
    {
     "data": {
      "text/plain": [
       "WindowsPath('D:/Code/jupyter/spam2')"
      ]
     },
     "execution_count": 47,
     "metadata": {},
     "output_type": "execute_result"
    }
   ],
   "source": [
    "p.parent"
   ]
  },
  {
   "cell_type": "code",
   "execution_count": 49,
   "id": "46f29590-98a5-4da8-b56c-77e2a59c17c4",
   "metadata": {},
   "outputs": [
    {
     "data": {
      "text/plain": [
       "'foo.txt'"
      ]
     },
     "execution_count": 49,
     "metadata": {},
     "output_type": "execute_result"
    }
   ],
   "source": [
    "p.name"
   ]
  },
  {
   "cell_type": "code",
   "execution_count": 51,
   "id": "bab73b92-fd3d-46be-bee7-307e1ea482bf",
   "metadata": {},
   "outputs": [
    {
     "data": {
      "text/plain": [
       "'foo'"
      ]
     },
     "execution_count": 51,
     "metadata": {},
     "output_type": "execute_result"
    }
   ],
   "source": [
    "p.stem"
   ]
  },
  {
   "cell_type": "code",
   "execution_count": 52,
   "id": "a4743f51-c003-4414-b67f-22ca15e37a11",
   "metadata": {},
   "outputs": [
    {
     "data": {
      "text/plain": [
       "'.txt'"
      ]
     },
     "execution_count": 52,
     "metadata": {},
     "output_type": "execute_result"
    }
   ],
   "source": [
    "p.suffix"
   ]
  },
  {
   "cell_type": "code",
   "execution_count": 53,
   "id": "43943805-fee6-49d0-b5f7-e7121616daaa",
   "metadata": {},
   "outputs": [
    {
     "data": {
      "text/plain": [
       "<WindowsPath.parents>"
      ]
     },
     "execution_count": 53,
     "metadata": {},
     "output_type": "execute_result"
    }
   ],
   "source": [
    "p.parents"
   ]
  },
  {
   "cell_type": "code",
   "execution_count": 54,
   "id": "f97a2b97-9c7d-4ad7-99a8-cacbd83bac1b",
   "metadata": {},
   "outputs": [
    {
     "data": {
      "text/plain": [
       "WindowsPath('D:/Code/jupyter/spam2')"
      ]
     },
     "execution_count": 54,
     "metadata": {},
     "output_type": "execute_result"
    }
   ],
   "source": [
    "p.parents[0]"
   ]
  },
  {
   "cell_type": "code",
   "execution_count": 55,
   "id": "b5d6fbee-0072-405e-81be-5c42ebdb8b05",
   "metadata": {},
   "outputs": [
    {
     "data": {
      "text/plain": [
       "WindowsPath('D:/Code/jupyter')"
      ]
     },
     "execution_count": 55,
     "metadata": {},
     "output_type": "execute_result"
    }
   ],
   "source": [
    "p.parents[1]"
   ]
  },
  {
   "cell_type": "code",
   "execution_count": 56,
   "id": "c574fb56-bdaa-4bca-b3f2-2122487a3f61",
   "metadata": {},
   "outputs": [
    {
     "data": {
      "text/plain": [
       "WindowsPath('D:/Code')"
      ]
     },
     "execution_count": 56,
     "metadata": {},
     "output_type": "execute_result"
    }
   ],
   "source": [
    "p.parents[2]"
   ]
  },
  {
   "cell_type": "code",
   "execution_count": 57,
   "id": "0f006e3e-26e4-462c-b735-ae1bfda6580e",
   "metadata": {},
   "outputs": [
    {
     "data": {
      "text/plain": [
       "WindowsPath('D:/')"
      ]
     },
     "execution_count": 57,
     "metadata": {},
     "output_type": "execute_result"
    }
   ],
   "source": [
    "p.parents[3]"
   ]
  },
  {
   "cell_type": "code",
   "execution_count": 59,
   "id": "1230db2c-cba5-4007-8df0-8783e09d6efd",
   "metadata": {},
   "outputs": [
    {
     "data": {
      "text/plain": [
       "'D:\\\\Code\\\\jupyter\\\\spam2'"
      ]
     },
     "execution_count": 59,
     "metadata": {},
     "output_type": "execute_result"
    }
   ],
   "source": [
    "os.path.dirname(r'D:\\Code\\jupyter\\spam2\\foo.txt')"
   ]
  },
  {
   "cell_type": "code",
   "execution_count": 60,
   "id": "65652f18-0389-476d-ba37-3a9738e65130",
   "metadata": {},
   "outputs": [
    {
     "data": {
      "text/plain": [
       "'foo.txt'"
      ]
     },
     "execution_count": 60,
     "metadata": {},
     "output_type": "execute_result"
    }
   ],
   "source": [
    "os.path.basename(r'D:\\Code\\jupyter\\spam2\\foo.txt')"
   ]
  },
  {
   "cell_type": "code",
   "execution_count": 61,
   "id": "fd50605a-a692-45af-b4e2-396b484136a2",
   "metadata": {},
   "outputs": [
    {
     "data": {
      "text/plain": [
       "('D:\\\\Code\\\\jupyter\\\\spam2', 'foo.txt')"
      ]
     },
     "execution_count": 61,
     "metadata": {},
     "output_type": "execute_result"
    }
   ],
   "source": [
    "os.path.split(r'D:\\Code\\jupyter\\spam2\\foo.txt')"
   ]
  },
  {
   "cell_type": "code",
   "execution_count": 63,
   "id": "111449c7-ea93-45d8-b537-8a7d597c1e35",
   "metadata": {},
   "outputs": [
    {
     "data": {
      "text/plain": [
       "['D:', 'Code', 'jupyter', 'spam2', 'foo.txt']"
      ]
     },
     "execution_count": 63,
     "metadata": {},
     "output_type": "execute_result"
    }
   ],
   "source": [
    "calcFilePath = r'D:\\Code\\jupyter\\spam2\\foo.txt'\n",
    "calcFilePath.split(os.sep)"
   ]
  },
  {
   "cell_type": "markdown",
   "id": "47b4f838-465b-4ab9-8a24-23078b10482b",
   "metadata": {},
   "source": [
    "### 查看文件大小和文件夹内容"
   ]
  },
  {
   "cell_type": "code",
   "execution_count": 64,
   "id": "d052c411-3cb5-4b47-8f9c-3b3d66c1e0f2",
   "metadata": {},
   "outputs": [
    {
     "data": {
      "text/plain": [
       "5101"
      ]
     },
     "execution_count": 64,
     "metadata": {},
     "output_type": "execute_result"
    }
   ],
   "source": [
    "os.path.getsize(r'D:\\Code\\recipie.py')"
   ]
  },
  {
   "cell_type": "code",
   "execution_count": 65,
   "id": "3ecb72a2-0104-4794-bdfa-59680875ce5d",
   "metadata": {},
   "outputs": [
    {
     "data": {
      "text/plain": [
       "['.ipynb_checkpoints',\n",
       " 'automate_python',\n",
       " 'cv_course(opencv)',\n",
       " 'data_mining(test)',\n",
       " 'spam',\n",
       " 'spam2',\n",
       " '实验结果画图.ipynb',\n",
       " '新版jupyter测试.ipynb']"
      ]
     },
     "execution_count": 65,
     "metadata": {},
     "output_type": "execute_result"
    }
   ],
   "source": [
    "os.listdir(r'D:\\Code\\jupyter')"
   ]
  },
  {
   "cell_type": "code",
   "execution_count": 66,
   "id": "fb9caeae-6a2d-465f-9d25-7aff5f7bdad6",
   "metadata": {},
   "outputs": [
    {
     "data": {
      "text/plain": [
       "4096"
      ]
     },
     "execution_count": 66,
     "metadata": {},
     "output_type": "execute_result"
    }
   ],
   "source": [
    "os.path.getsize(r'D:\\Code\\jupyter')"
   ]
  },
  {
   "cell_type": "code",
   "execution_count": 67,
   "id": "06c1a207-aa21-4242-8ca7-185420292547",
   "metadata": {},
   "outputs": [
    {
     "data": {
      "text/plain": [
       "4096"
      ]
     },
     "execution_count": 67,
     "metadata": {},
     "output_type": "execute_result"
    }
   ],
   "source": [
    "os.path.getsize(r'D:\\Typora')"
   ]
  },
  {
   "cell_type": "markdown",
   "id": "91a59c66-3fc7-4989-a26e-160a7177cd22",
   "metadata": {},
   "source": [
    "+ os.path.getsize碰见文件夹会返回其描述文件的大小"
   ]
  },
  {
   "cell_type": "markdown",
   "id": "23e5f6f2-e707-4693-abf7-b4f2a4f2c82c",
   "metadata": {},
   "source": [
    "### 使用通配符模式修改文件列表 Path().glob()"
   ]
  },
  {
   "cell_type": "code",
   "execution_count": 68,
   "id": "dab168b1-43dd-4c25-9ffd-bf6be3381f26",
   "metadata": {},
   "outputs": [
    {
     "data": {
      "text/plain": [
       "<generator object Path.glob at 0x000001452B3F79A0>"
      ]
     },
     "execution_count": 68,
     "metadata": {},
     "output_type": "execute_result"
    }
   ],
   "source": [
    "p = Path(r'D:\\Code\\jupyter\\spam2')\n",
    "p.glob('*')"
   ]
  },
  {
   "cell_type": "code",
   "execution_count": 69,
   "id": "9656f865-faa1-4e70-a52c-0ad14e85bc9a",
   "metadata": {},
   "outputs": [
    {
     "data": {
      "text/plain": [
       "[WindowsPath('D:/Code/jupyter/spam2/foo.txt'),\n",
       " WindowsPath('D:/Code/jupyter/spam2/hah.csv'),\n",
       " WindowsPath('D:/Code/jupyter/spam2/others.bat'),\n",
       " WindowsPath('D:/Code/jupyter/spam2/test.docx')]"
      ]
     },
     "execution_count": 69,
     "metadata": {},
     "output_type": "execute_result"
    }
   ],
   "source": [
    "list(p.glob('*'))"
   ]
  },
  {
   "cell_type": "code",
   "execution_count": 71,
   "id": "ef621c37-d420-4272-8be1-0dcb23bb3a1d",
   "metadata": {},
   "outputs": [
    {
     "data": {
      "text/plain": [
       "[WindowsPath('D:/Code/jupyter/spam2/bar.txt'),\n",
       " WindowsPath('D:/Code/jupyter/spam2/foo.txt')]"
      ]
     },
     "execution_count": 71,
     "metadata": {},
     "output_type": "execute_result"
    }
   ],
   "source": [
    "list(p.glob('*.txt'))"
   ]
  },
  {
   "cell_type": "code",
   "execution_count": 73,
   "id": "ac6ef5cd-6283-40a6-b4fc-41cfba325c4a",
   "metadata": {},
   "outputs": [
    {
     "data": {
      "text/plain": [
       "[WindowsPath('D:/Code/jupyter/spam2/projectA'),\n",
       " WindowsPath('D:/Code/jupyter/spam2/projectB'),\n",
       " WindowsPath('D:/Code/jupyter/spam2/projectC')]"
      ]
     },
     "execution_count": 73,
     "metadata": {},
     "output_type": "execute_result"
    }
   ],
   "source": [
    "list(p.glob('project?'))"
   ]
  },
  {
   "cell_type": "markdown",
   "id": "f54a809e-6736-4651-ae3c-7a8b034c9354",
   "metadata": {},
   "source": [
    "### 检测路径的有效性"
   ]
  },
  {
   "cell_type": "markdown",
   "id": "fae20eeb-3cdb-4639-9185-635b1e47b9eb",
   "metadata": {},
   "source": [
    "+ Path().exists()   <====> os.path.exists()\n",
    "+ Path().is_dir()   <====>os.path.isdir()\n",
    "+ Path().is_file()  <====>os.path.isfile()"
   ]
  },
  {
   "cell_type": "code",
   "execution_count": 74,
   "id": "e7ec97f5-1388-413b-9bb9-8248d15266ad",
   "metadata": {},
   "outputs": [],
   "source": [
    "p = Path(r'D:\\Code\\jupyter')"
   ]
  },
  {
   "cell_type": "code",
   "execution_count": 75,
   "id": "5e160e64-1279-4cdf-be1c-3886cef5b7a4",
   "metadata": {},
   "outputs": [
    {
     "data": {
      "text/plain": [
       "True"
      ]
     },
     "execution_count": 75,
     "metadata": {},
     "output_type": "execute_result"
    }
   ],
   "source": [
    "p.exists()"
   ]
  },
  {
   "cell_type": "code",
   "execution_count": 76,
   "id": "d95b9a58-b987-4713-acf2-691b2fc85c2b",
   "metadata": {},
   "outputs": [
    {
     "data": {
      "text/plain": [
       "False"
      ]
     },
     "execution_count": 76,
     "metadata": {},
     "output_type": "execute_result"
    }
   ],
   "source": [
    "p.is_file()"
   ]
  },
  {
   "cell_type": "code",
   "execution_count": 77,
   "id": "f6a719c5-c937-46f7-aefa-77ed14ba5e5c",
   "metadata": {},
   "outputs": [
    {
     "data": {
      "text/plain": [
       "True"
      ]
     },
     "execution_count": 77,
     "metadata": {},
     "output_type": "execute_result"
    }
   ],
   "source": [
    "p.is_dir()"
   ]
  },
  {
   "cell_type": "code",
   "execution_count": 80,
   "id": "259f672f-f3bc-465d-8888-09ce53721e73",
   "metadata": {},
   "outputs": [],
   "source": [
    "p = Path(r'D:\\Code\\juju')"
   ]
  },
  {
   "cell_type": "code",
   "execution_count": 81,
   "id": "91868deb-72a9-459e-91b2-d17348ba4e04",
   "metadata": {},
   "outputs": [
    {
     "data": {
      "text/plain": [
       "False"
      ]
     },
     "execution_count": 81,
     "metadata": {},
     "output_type": "execute_result"
    }
   ],
   "source": [
    "p.exists()"
   ]
  },
  {
   "cell_type": "markdown",
   "id": "7f6fb79d-b7d2-4dc9-b30e-e060afe44f0a",
   "metadata": {},
   "source": [
    "###  另附 os.walk()"
   ]
  },
  {
   "cell_type": "code",
   "execution_count": 82,
   "id": "d92ed5c5-97ac-4ceb-bc41-d0a8fd8f8445",
   "metadata": {},
   "outputs": [],
   "source": [
    "def walkFile(file):\n",
    "    for root, dirs, files in os.walk(file):\n",
    "\n",
    "        # root 表示当前正在访问的文件夹路径\n",
    "        # dirs 表示该文件夹下的子目录名list\n",
    "        # files 表示该文件夹下的文件list\n",
    "\n",
    "        # 遍历文件\n",
    "        for f in files:\n",
    "            print(os.path.join(root, f))\n",
    "\n",
    "        # 遍历所有的文件夹\n",
    "        for d in dirs:\n",
    "            print(os.path.join(root, d))"
   ]
  },
  {
   "cell_type": "markdown",
   "id": "7bc568fb-9c95-47df-9236-a05866e89387",
   "metadata": {},
   "source": [
    "## 文件读写过程"
   ]
  },
  {
   "cell_type": "code",
   "execution_count": 83,
   "id": "cc3a28fa-d8a3-4f35-be4f-d167f7e1c80d",
   "metadata": {},
   "outputs": [
    {
     "data": {
      "text/plain": [
       "WindowsPath('D:/Code/jupyter/automate_python')"
      ]
     },
     "execution_count": 83,
     "metadata": {},
     "output_type": "execute_result"
    }
   ],
   "source": [
    "Path.cwd()"
   ]
  },
  {
   "cell_type": "code",
   "execution_count": 101,
   "id": "5e62787e-bf58-4a2d-9869-da6ee68bbbed",
   "metadata": {},
   "outputs": [],
   "source": [
    "p = p.parent"
   ]
  },
  {
   "cell_type": "code",
   "execution_count": 102,
   "id": "4259725a-a463-4cd0-ba09-6971818b24d3",
   "metadata": {},
   "outputs": [
    {
     "data": {
      "text/plain": [
       "WindowsPath('D:/Code/jupyter')"
      ]
     },
     "execution_count": 102,
     "metadata": {},
     "output_type": "execute_result"
    }
   ],
   "source": [
    "p"
   ]
  },
  {
   "cell_type": "code",
   "execution_count": 103,
   "id": "f645d043-0c95-4e49-8330-7585adc613b9",
   "metadata": {},
   "outputs": [],
   "source": [
    "p = p / 'spam.txt'"
   ]
  },
  {
   "cell_type": "code",
   "execution_count": 104,
   "id": "2c1044d9-53af-49ac-a3c1-a5918470299b",
   "metadata": {},
   "outputs": [
    {
     "data": {
      "text/plain": [
       "WindowsPath('D:/Code/jupyter/spam.txt')"
      ]
     },
     "execution_count": 104,
     "metadata": {},
     "output_type": "execute_result"
    }
   ],
   "source": [
    "p"
   ]
  },
  {
   "cell_type": "code",
   "execution_count": 105,
   "id": "e681d975-2e69-44fd-bf87-4cb8913e5133",
   "metadata": {},
   "outputs": [
    {
     "data": {
      "text/plain": [
       "12"
      ]
     },
     "execution_count": 105,
     "metadata": {},
     "output_type": "execute_result"
    }
   ],
   "source": [
    "p.write_text('hello, spam!')"
   ]
  },
  {
   "cell_type": "code",
   "execution_count": 106,
   "id": "4d899659-8c79-4f97-a2ca-b9f3c36d87ea",
   "metadata": {},
   "outputs": [
    {
     "data": {
      "text/plain": [
       "'hello, spam!'"
      ]
     },
     "execution_count": 106,
     "metadata": {},
     "output_type": "execute_result"
    }
   ],
   "source": [
    "p.read_text()"
   ]
  },
  {
   "cell_type": "markdown",
   "id": "a894230b-2271-4172-93d5-39be4fec4fc6",
   "metadata": {},
   "source": [
    "## shelve模块保存变量"
   ]
  },
  {
   "cell_type": "markdown",
   "id": "f3b0760e-1305-4243-a518-83328a063481",
   "metadata": {},
   "source": [
    "+ 利用这个模块将python程序中的变量保存到二进制的shelf文件中，下次即可从硬盘中恢复变量数据"
   ]
  },
  {
   "cell_type": "code",
   "execution_count": 107,
   "id": "4c2540ab-dd3c-431c-b207-4a22b4de3672",
   "metadata": {},
   "outputs": [],
   "source": [
    "import shelve"
   ]
  },
  {
   "cell_type": "code",
   "execution_count": 109,
   "id": "39ee04a2-d41f-466c-b11b-7a4077362439",
   "metadata": {},
   "outputs": [],
   "source": [
    "shelf_file = shelve.open('mydata')\n",
    "cats = ['Zophine', 'Pooka', 'Simon']\n",
    "shelf_file['cats'] = cats\n",
    "shelf_file.close()"
   ]
  },
  {
   "cell_type": "code",
   "execution_count": 110,
   "id": "ab2f3888-1658-4fd5-bac9-f4d396834ac0",
   "metadata": {},
   "outputs": [
    {
     "data": {
      "text/plain": [
       "<shelve.DbfilenameShelf at 0x1452ed4c3d0>"
      ]
     },
     "execution_count": 110,
     "metadata": {},
     "output_type": "execute_result"
    }
   ],
   "source": [
    "shelf_file"
   ]
  },
  {
   "cell_type": "code",
   "execution_count": 111,
   "id": "314c54e9-95ed-429c-af78-1fef50856cde",
   "metadata": {},
   "outputs": [],
   "source": [
    "shelf_file = shelve.open('mydata')"
   ]
  },
  {
   "cell_type": "code",
   "execution_count": 112,
   "id": "5746869a-86a2-4d7e-bcf7-f4c8c53db3ae",
   "metadata": {},
   "outputs": [
    {
     "data": {
      "text/plain": [
       "<shelve.DbfilenameShelf at 0x1452e469fd0>"
      ]
     },
     "execution_count": 112,
     "metadata": {},
     "output_type": "execute_result"
    }
   ],
   "source": [
    "shelf_file"
   ]
  },
  {
   "cell_type": "code",
   "execution_count": 116,
   "id": "1b87e33e-6749-4426-845f-ac852038aa42",
   "metadata": {},
   "outputs": [
    {
     "data": {
      "text/plain": [
       "['cats']"
      ]
     },
     "execution_count": 116,
     "metadata": {},
     "output_type": "execute_result"
    }
   ],
   "source": [
    "list(shelf_file.keys())"
   ]
  },
  {
   "cell_type": "code",
   "execution_count": 117,
   "id": "5356abd8-78c1-45e6-b2f8-092822b00094",
   "metadata": {},
   "outputs": [
    {
     "data": {
      "text/plain": [
       "[['Zophine', 'Pooka', 'Simon']]"
      ]
     },
     "execution_count": 117,
     "metadata": {},
     "output_type": "execute_result"
    }
   ],
   "source": [
    "list(shelf_file.values())"
   ]
  },
  {
   "cell_type": "code",
   "execution_count": 118,
   "id": "ee8f24e1-daf2-43f5-a48f-b2271ef6ad21",
   "metadata": {},
   "outputs": [
    {
     "data": {
      "text/plain": [
       "['Zophine', 'Pooka', 'Simon']"
      ]
     },
     "execution_count": 118,
     "metadata": {},
     "output_type": "execute_result"
    }
   ],
   "source": [
    "shelf_file['cats']"
   ]
  },
  {
   "cell_type": "code",
   "execution_count": 119,
   "id": "ff1e2793-4026-42da-b10e-aa33b61323a3",
   "metadata": {},
   "outputs": [],
   "source": [
    "shelf_file['dogs'] = ['Peter', 'Ralph']"
   ]
  },
  {
   "cell_type": "code",
   "execution_count": 120,
   "id": "b25ca644-fb96-44f1-8766-b8ef45a64ecb",
   "metadata": {},
   "outputs": [
    {
     "data": {
      "text/plain": [
       "[['Zophine', 'Pooka', 'Simon'], ['Peter', 'Ralph']]"
      ]
     },
     "execution_count": 120,
     "metadata": {},
     "output_type": "execute_result"
    }
   ],
   "source": [
    "list(shelf_file.values())"
   ]
  },
  {
   "cell_type": "code",
   "execution_count": 121,
   "id": "7d6d13bd-0802-4b72-841c-21394a8e7c1b",
   "metadata": {},
   "outputs": [],
   "source": [
    "shelf_file.clear()"
   ]
  },
  {
   "cell_type": "code",
   "execution_count": 122,
   "id": "d21b5357-9b63-4267-b3b9-528fec3aaca9",
   "metadata": {},
   "outputs": [
    {
     "data": {
      "text/plain": [
       "[]"
      ]
     },
     "execution_count": 122,
     "metadata": {},
     "output_type": "execute_result"
    }
   ],
   "source": [
    "list(shelf_file.keys())"
   ]
  },
  {
   "cell_type": "code",
   "execution_count": 123,
   "id": "7a22c79a-64f8-4696-ae0e-e5d7692e1008",
   "metadata": {},
   "outputs": [
    {
     "data": {
      "text/plain": [
       "[]"
      ]
     },
     "execution_count": 123,
     "metadata": {},
     "output_type": "execute_result"
    }
   ],
   "source": [
    "list(shelf_file.values())"
   ]
  },
  {
   "cell_type": "code",
   "execution_count": 124,
   "id": "1b833948-29c9-4ee8-aff3-153f71750186",
   "metadata": {},
   "outputs": [],
   "source": [
    "shelf_file.close()"
   ]
  },
  {
   "cell_type": "markdown",
   "id": "0c74b171-dfe5-4fb7-b90e-e4833fb8ab25",
   "metadata": {},
   "source": [
    "### 综合用法"
   ]
  },
  {
   "cell_type": "code",
   "execution_count": 125,
   "id": "b012abef-016e-4c50-b5bb-e8ef007cf4bc",
   "metadata": {},
   "outputs": [
    {
     "data": {
      "text/plain": [
       "\"[{'desc': 'chubby', 'name': 'Zophie'}, {'desc': 'fluffy', 'name': 'Pooka'}]\""
      ]
     },
     "execution_count": 125,
     "metadata": {},
     "output_type": "execute_result"
    }
   ],
   "source": [
    "import pprint\n",
    "cats = [{'name': 'Zophie', 'desc':'chubby'}, {'name':'Pooka', 'desc':'fluffy'}]\n",
    "pprint.pformat(cats)"
   ]
  },
  {
   "cell_type": "code",
   "execution_count": 126,
   "id": "28118d4c-706b-4a33-a88d-463c84490846",
   "metadata": {},
   "outputs": [],
   "source": [
    "with open('my_cats.py', 'w') as f:\n",
    "    f.write('cats = '+ pprint.pformat(cats) + '\\n')"
   ]
  },
  {
   "cell_type": "code",
   "execution_count": 127,
   "id": "313b1200-19ce-466f-8fcb-1c8c38a303c3",
   "metadata": {},
   "outputs": [
    {
     "data": {
      "text/plain": [
       "[{'desc': 'chubby', 'name': 'Zophie'}, {'desc': 'fluffy', 'name': 'Pooka'}]"
      ]
     },
     "execution_count": 127,
     "metadata": {},
     "output_type": "execute_result"
    }
   ],
   "source": [
    "import my_cats\n",
    "my_cats.cats"
   ]
  },
  {
   "cell_type": "markdown",
   "id": "58f08a51-85d7-4d99-ae7d-169601fbdb08",
   "metadata": {},
   "source": [
    "## 综合案例1： 生成随机试卷TODO"
   ]
  },
  {
   "cell_type": "markdown",
   "id": "527600c9-e36a-4260-a11c-aa2901e8c59e",
   "metadata": {},
   "source": [
    "## 综合案例2： 生成多重粘贴板TODO"
   ]
  },
  {
   "cell_type": "markdown",
   "id": "a21e2014-53f0-4aa4-852e-be6874fabfaf",
   "metadata": {},
   "source": [
    "# Chapter 10 组织文件"
   ]
  },
  {
   "cell_type": "markdown",
   "id": "c4375343-bfaa-4e7c-b218-57e1ca911e20",
   "metadata": {},
   "source": [
    "## shutil模块"
   ]
  },
  {
   "cell_type": "markdown",
   "id": "2edcecc0-4760-422c-8111-08f808b3aa10",
   "metadata": {},
   "source": [
    "+ 利用其对文件进行复制， 移动， 重命名和删除"
   ]
  },
  {
   "cell_type": "markdown",
   "id": "4a57caec-d0f3-4ea2-9cc9-dfc41bed9e80",
   "metadata": {},
   "source": [
    "### shutil.copy(source, dest) 复制文件"
   ]
  },
  {
   "cell_type": "code",
   "execution_count": 128,
   "id": "f1eb4586-8d43-482d-acf7-f82c95b379fd",
   "metadata": {},
   "outputs": [],
   "source": [
    "import shutil, os\n",
    "from pathlib import Path"
   ]
  },
  {
   "cell_type": "code",
   "execution_count": 149,
   "id": "647812f1-8e66-4acc-a98b-1e58fd4aec3a",
   "metadata": {},
   "outputs": [],
   "source": [
    "p = Path(r'D:\\\\')"
   ]
  },
  {
   "cell_type": "code",
   "execution_count": 151,
   "id": "b40b4b2d-f268-436f-b767-17b0373c2fdf",
   "metadata": {},
   "outputs": [
    {
     "data": {
      "text/plain": [
       "WindowsPath('D:/')"
      ]
     },
     "execution_count": 151,
     "metadata": {},
     "output_type": "execute_result"
    }
   ],
   "source": [
    "p"
   ]
  },
  {
   "cell_type": "code",
   "execution_count": 160,
   "id": "57392212-f8ec-4787-85ff-4cfb0ef9dc8c",
   "metadata": {},
   "outputs": [
    {
     "data": {
      "text/plain": [
       "'D:\\\\Code\\\\spam.txt'"
      ]
     },
     "execution_count": 160,
     "metadata": {},
     "output_type": "execute_result"
    }
   ],
   "source": [
    "# 原封不动拷贝\n",
    "shutil.copy(p/'spam.txt', r'D:\\Code')"
   ]
  },
  {
   "cell_type": "code",
   "execution_count": 155,
   "id": "bc3d1905-844d-4f12-a96d-94095bff0e52",
   "metadata": {},
   "outputs": [],
   "source": [
    "ss = p / 'spam.txt'"
   ]
  },
  {
   "cell_type": "code",
   "execution_count": 156,
   "id": "7fbd09fd-01ac-4b27-aee1-1b4e2e5b3e9c",
   "metadata": {},
   "outputs": [
    {
     "data": {
      "text/plain": [
       "WindowsPath('D:/spam.txt')"
      ]
     },
     "execution_count": 156,
     "metadata": {},
     "output_type": "execute_result"
    }
   ],
   "source": [
    "ss "
   ]
  },
  {
   "cell_type": "code",
   "execution_count": 158,
   "id": "7d43b4f5-51a4-4e67-8f69-233eab993622",
   "metadata": {},
   "outputs": [
    {
     "data": {
      "text/plain": [
       "True"
      ]
     },
     "execution_count": 158,
     "metadata": {},
     "output_type": "execute_result"
    }
   ],
   "source": [
    "ss.exists()"
   ]
  },
  {
   "cell_type": "code",
   "execution_count": 162,
   "id": "f397fe7b-53a7-4ed3-8756-4e3d0d8da987",
   "metadata": {},
   "outputs": [
    {
     "data": {
      "text/plain": [
       "'D:\\\\Code\\\\jupyter\\\\haha.txt'"
      ]
     },
     "execution_count": 162,
     "metadata": {},
     "output_type": "execute_result"
    }
   ],
   "source": [
    "# 重命名拷贝\n",
    "shutil.copy(p/'spam.txt', r'D:\\Code\\jupyter\\haha.txt')"
   ]
  },
  {
   "cell_type": "markdown",
   "id": "45d12d01-cc96-4161-897d-0fde475afd9c",
   "metadata": {},
   "source": [
    "### shutil.copytree(source, dest) 复制文件夹"
   ]
  },
  {
   "cell_type": "code",
   "execution_count": 163,
   "id": "9a1f158a-7784-4cb5-8f1d-6b85c72e73b9",
   "metadata": {},
   "outputs": [
    {
     "data": {
      "text/plain": [
       "'D:\\\\Code\\\\jupyter\\\\spam_back'"
      ]
     },
     "execution_count": 163,
     "metadata": {},
     "output_type": "execute_result"
    }
   ],
   "source": [
    "shutil.copytree('D:\\Code\\jupyter\\spam', 'D:\\Code\\jupyter\\spam_back')"
   ]
  },
  {
   "cell_type": "markdown",
   "id": "cf4d20bf-f377-4771-9e2b-4af330a7dc2f",
   "metadata": {},
   "source": [
    "### shutil.move(source, dest) 移动/重命名"
   ]
  },
  {
   "cell_type": "markdown",
   "id": "284186fc-4f51-49e7-82fc-69b2f0713fd2",
   "metadata": {},
   "source": [
    "+ os.unlik(path) 删除path文件\n",
    "+ os.rmdir(path) 删除path<font size=5>空文件夹</font>\n",
    "+ shutil.rmtree(path) 删除path文件夹"
   ]
  },
  {
   "cell_type": "code",
   "execution_count": 166,
   "id": "1e8b5f6d-9175-49dd-b1a4-7e2e045687fa",
   "metadata": {},
   "outputs": [],
   "source": [
    "os.unlink(r'D:\\Code\\jupyter\\spam_back\\foo.txt')"
   ]
  },
  {
   "cell_type": "code",
   "execution_count": 167,
   "id": "cbd84dc4-48b7-4dcd-9577-be378e07a543",
   "metadata": {},
   "outputs": [
    {
     "ename": "OSError",
     "evalue": "[WinError 145] 目录不是空的。: 'D:/Code/jupyter/spam_back/'",
     "output_type": "error",
     "traceback": [
      "\u001b[1;31m---------------------------------------------------------------------------\u001b[0m",
      "\u001b[1;31mOSError\u001b[0m                                   Traceback (most recent call last)",
      "Cell \u001b[1;32mIn[167], line 1\u001b[0m\n\u001b[1;32m----> 1\u001b[0m \u001b[43mos\u001b[49m\u001b[38;5;241;43m.\u001b[39;49m\u001b[43mrmdir\u001b[49m\u001b[43m(\u001b[49m\u001b[38;5;124;43mr\u001b[39;49m\u001b[38;5;124;43m'\u001b[39;49m\u001b[38;5;124;43mD:/Code/jupyter/spam_back/\u001b[39;49m\u001b[38;5;124;43m'\u001b[39;49m\u001b[43m)\u001b[49m\n",
      "\u001b[1;31mOSError\u001b[0m: [WinError 145] 目录不是空的。: 'D:/Code/jupyter/spam_back/'"
     ]
    }
   ],
   "source": [
    "os.rmdir(r'D:/Code/jupyter/spam_back/')"
   ]
  },
  {
   "cell_type": "code",
   "execution_count": 168,
   "id": "022a685e-5ab1-4e7e-8d69-c2ada357d9e8",
   "metadata": {},
   "outputs": [],
   "source": [
    "os.rmdir(r'D:/Code/jupyter/empty_dir')"
   ]
  },
  {
   "cell_type": "code",
   "execution_count": 169,
   "id": "2fa8ed36-738a-457e-badb-294576badb74",
   "metadata": {},
   "outputs": [],
   "source": [
    "shutil.rmtree(r'D:/Code/jupyter/spam_back/')"
   ]
  },
  {
   "cell_type": "markdown",
   "id": "cd68a9a4-b4f4-40ee-ab29-c3345902e3e1",
   "metadata": {},
   "source": [
    "### 用send2trash模块安全删除"
   ]
  },
  {
   "cell_type": "markdown",
   "id": "91d16a13-efaf-4133-bea5-2a5c54c488dc",
   "metadata": {},
   "source": [
    "+ 由于前面的都是不可恢复的删除，所以使用该模块将文件送入垃圾箱内"
   ]
  },
  {
   "cell_type": "code",
   "execution_count": 1,
   "id": "1d10203c-1e0b-4332-bfdc-8dccb0120e22",
   "metadata": {},
   "outputs": [],
   "source": [
    "import send2trash\n",
    "\n",
    "with open('bacon.txt', 'a') as f:\n",
    "    f.write('bacon is not a vegetable.')"
   ]
  },
  {
   "cell_type": "code",
   "execution_count": 2,
   "id": "eeb817f2-1a17-459c-a5f3-2bc0fd655e63",
   "metadata": {},
   "outputs": [],
   "source": [
    "send2trash.send2trash('bacon.txt')"
   ]
  },
  {
   "cell_type": "markdown",
   "id": "da8fb415-6090-4285-9abf-e34b7f12eb83",
   "metadata": {},
   "source": [
    "### 遍历目录树"
   ]
  },
  {
   "cell_type": "code",
   "execution_count": 3,
   "id": "45001b22-1036-4f84-b1fa-1e2f253de4df",
   "metadata": {},
   "outputs": [],
   "source": [
    "import os"
   ]
  },
  {
   "cell_type": "code",
   "execution_count": 5,
   "id": "ac72e46f-1e65-41b5-9aae-fe70ed948e2b",
   "metadata": {},
   "outputs": [
    {
     "name": "stdout",
     "output_type": "stream",
     "text": [
      "The current folder is D:\\delicious\n",
      "SUBFOLDER OF D:\\delicious: cats\n",
      "SUBFOLDER OF D:\\delicious: walnut\n",
      "FILE INSIDE D:\\delicious: spam.txt\n",
      "The current folder is D:\\delicious\\cats\n",
      "The current folder is D:\\delicious\\walnut\n",
      "SUBFOLDER OF D:\\delicious\\walnut: waffles\n",
      "The current folder is D:\\delicious\\walnut\\waffles\n",
      "FILE INSIDE D:\\delicious\\walnut\\waffles: butter.txt\n"
     ]
    }
   ],
   "source": [
    "for folderName, subfolders, filenames in os.walk(r'D:\\delicious'):\n",
    "    print(f'The current folder is {folderName}')\n",
    "\n",
    "    for subfolder in subfolders:\n",
    "        print(f'SUBFOLDER OF {folderName}: {subfolder}')\n",
    "\n",
    "    for filename in filenames:\n",
    "        print(f'FILE INSIDE {folderName}: {filename}')"
   ]
  },
  {
   "cell_type": "markdown",
   "id": "537423f5-40ee-48fb-9eb6-71b1c0539e61",
   "metadata": {},
   "source": [
    "## 用zipfile模块压缩文件"
   ]
  },
  {
   "cell_type": "code",
   "execution_count": 7,
   "id": "cbe2d845-3725-4490-ae78-5a5cc8b6b8ae",
   "metadata": {},
   "outputs": [],
   "source": [
    "import zipfile, os\n",
    "from pathlib import Path"
   ]
  },
  {
   "cell_type": "code",
   "execution_count": 8,
   "id": "0038296c-b454-4efa-add9-ba529c51e138",
   "metadata": {},
   "outputs": [
    {
     "data": {
      "text/plain": [
       "['delicious/',\n",
       " 'delicious/cats/',\n",
       " 'delicious/cats/road.jpg',\n",
       " 'delicious/ChatGpt╡─╗╪┤≡║╧╝».md',\n",
       " 'delicious/DL.md',\n",
       " 'delicious/walnut/',\n",
       " 'delicious/walnut/waffles/',\n",
       " 'delicious/walnut/waffles/butter.txt']"
      ]
     },
     "execution_count": 8,
     "metadata": {},
     "output_type": "execute_result"
    }
   ],
   "source": [
    "p = Path('D:\\\\')\n",
    "delicousZip = zipfile.ZipFile(p / 'delicious.zip')\n",
    "delicousZip.namelist()       "
   ]
  },
  {
   "cell_type": "code",
   "execution_count": 11,
   "id": "4a4e07b2-3f3e-4fb7-b203-65f233690271",
   "metadata": {},
   "outputs": [],
   "source": [
    "# ↑看来是不支持中文\n",
    "dl_note = delicousZip.getinfo('delicious/DL.md')"
   ]
  },
  {
   "cell_type": "code",
   "execution_count": 12,
   "id": "84881a84-e838-48a3-bc3f-7638a66dcd9f",
   "metadata": {},
   "outputs": [
    {
     "data": {
      "text/plain": [
       "21684"
      ]
     },
     "execution_count": 12,
     "metadata": {},
     "output_type": "execute_result"
    }
   ],
   "source": [
    "dl_note.file_size"
   ]
  },
  {
   "cell_type": "code",
   "execution_count": 13,
   "id": "6877762e-f9bb-4e1c-acb8-d71ef8613df9",
   "metadata": {},
   "outputs": [
    {
     "data": {
      "text/plain": [
       "8258"
      ]
     },
     "execution_count": 13,
     "metadata": {},
     "output_type": "execute_result"
    }
   ],
   "source": [
    "dl_note.compress_size"
   ]
  },
  {
   "cell_type": "code",
   "execution_count": 15,
   "id": "d3d599a6-5f38-45e8-8582-6ffce4b6b82d",
   "metadata": {},
   "outputs": [
    {
     "data": {
      "text/plain": [
       "'Compressed files is 2.63x smaller'"
      ]
     },
     "execution_count": 15,
     "metadata": {},
     "output_type": "execute_result"
    }
   ],
   "source": [
    "f'Compressed files is {round(dl_note.file_size / dl_note.compress_size, 2)}x smaller'"
   ]
  },
  {
   "cell_type": "code",
   "execution_count": 16,
   "id": "31e1fede-e2af-4f37-bd7a-2a6547abec36",
   "metadata": {},
   "outputs": [],
   "source": [
    "delicousZip.close()"
   ]
  },
  {
   "cell_type": "markdown",
   "id": "ca23e501-2274-408f-b733-9f96b5e47fbb",
   "metadata": {},
   "source": [
    "### 从zip文件中解压缩"
   ]
  },
  {
   "cell_type": "code",
   "execution_count": 21,
   "id": "cea6154a-14af-4e07-a81e-21a90df8cd61",
   "metadata": {},
   "outputs": [],
   "source": [
    "elicious_zip = zipfile.ZipFile(p / 'elsarticle.zip')\n",
    "elicious_zip.extractall('D:\\DESKTOP')  # 不加参数的话会解压到当前工作路径\n",
    "elicious_zip.close()"
   ]
  },
  {
   "cell_type": "code",
   "execution_count": 22,
   "id": "d8b90f62-1f32-4534-82dc-a6c321ff91cc",
   "metadata": {},
   "outputs": [
    {
     "data": {
      "text/plain": [
       "<zipfile.ZipFile [closed]>"
      ]
     },
     "execution_count": 22,
     "metadata": {},
     "output_type": "execute_result"
    }
   ],
   "source": [
    "elicious_zip"
   ]
  },
  {
   "cell_type": "code",
   "execution_count": 23,
   "id": "e27dc639-abae-401b-abcc-8355f6b04d3d",
   "metadata": {},
   "outputs": [
    {
     "data": {
      "text/plain": [
       "['elsarticle/',\n",
       " 'elsarticle/elsarticle-template-num.tex',\n",
       " 'elsarticle/elsarticle-num.bst',\n",
       " 'elsarticle/elsarticle.dtx',\n",
       " 'elsarticle/elsarticle.ins',\n",
       " 'elsarticle/elsarticle-harv.bst',\n",
       " 'elsarticle/elsarticle-template-harv.tex',\n",
       " 'elsarticle/elsarticle-template-num-names.tex',\n",
       " 'elsarticle/doc/',\n",
       " 'elsarticle/doc/elsdoc.pdf',\n",
       " 'elsarticle/doc/elstest-1pdoubleblind.pdf',\n",
       " 'elsarticle/doc/1pseperateaug.pdf',\n",
       " 'elsarticle/doc/elstest-3p.pdf',\n",
       " 'elsarticle/doc/elsdoc.tex',\n",
       " 'elsarticle/doc/elstest-1p.pdf',\n",
       " 'elsarticle/doc/makefile',\n",
       " 'elsarticle/doc/rvdtx.sty',\n",
       " 'elsarticle/doc/pdfwidgets.sty',\n",
       " 'elsarticle/doc/1psingleauthorgroup.pdf',\n",
       " 'elsarticle/doc/elstest-5p.pdf',\n",
       " 'elsarticle/doc/jfigs.pdf',\n",
       " 'elsarticle/doc/elstest-3pd.pdf',\n",
       " 'elsarticle/manifest.txt',\n",
       " 'elsarticle/elsarticle-num-names.bst',\n",
       " 'elsarticle/README']"
      ]
     },
     "execution_count": 23,
     "metadata": {},
     "output_type": "execute_result"
    }
   ],
   "source": [
    "# extract解压单个文件\n",
    "elicious_zip = zipfile.ZipFile(p / 'elsarticle.zip')\n",
    "elicious_zip.namelist()"
   ]
  },
  {
   "cell_type": "code",
   "execution_count": 27,
   "id": "b6907abd-6431-454b-9f64-53da86096dda",
   "metadata": {},
   "outputs": [
    {
     "data": {
      "text/plain": [
       "'D:\\\\DESKTOP\\\\elsarticle\\\\doc\\\\elstest-3pd.pdf'"
      ]
     },
     "execution_count": 27,
     "metadata": {},
     "output_type": "execute_result"
    }
   ],
   "source": [
    "elicious_zip.extract('elsarticle/doc/elstest-3pd.pdf','D:\\\\DESKTOP')"
   ]
  },
  {
   "cell_type": "code",
   "execution_count": 28,
   "id": "1346a425-b8fe-43d0-b513-efffd4d54533",
   "metadata": {},
   "outputs": [],
   "source": [
    "elicious_zip.close()"
   ]
  },
  {
   "cell_type": "markdown",
   "id": "bc2ce20d-ff44-4156-825a-776b221f4b4f",
   "metadata": {},
   "source": [
    "### 创建和添加到zip文件"
   ]
  },
  {
   "cell_type": "code",
   "execution_count": 29,
   "id": "682fde96-63d5-419e-bfb7-6b81e353a880",
   "metadata": {},
   "outputs": [],
   "source": [
    "new_zip = zipfile.ZipFile('new.zip', 'w')\n",
    "new_zip.write(r'D:\\浏览器下载\\gan review.pdf', compress_type=zipfile.ZIP_DEFLATED)"
   ]
  },
  {
   "cell_type": "code",
   "execution_count": 30,
   "id": "08bdeeb3-d649-46b1-a423-bb1896baf816",
   "metadata": {},
   "outputs": [],
   "source": [
    "new_zip.close()"
   ]
  },
  {
   "cell_type": "code",
   "execution_count": 31,
   "id": "ca92ef0b-c1a6-49b0-a480-a3effbd7b9fe",
   "metadata": {},
   "outputs": [],
   "source": [
    "new_zip = zipfile.ZipFile('new.zip', 'a')\n",
    "new_zip.write(r'D:\\浏览器下载\\gan review_ch.pdf', compress_type=zipfile.ZIP_DEFLATED)"
   ]
  },
  {
   "cell_type": "code",
   "execution_count": 32,
   "id": "03e094ff-b01b-42c0-9eb8-ea9a9729c248",
   "metadata": {},
   "outputs": [],
   "source": [
    "new_zip.close()"
   ]
  },
  {
   "cell_type": "markdown",
   "id": "2472fcb6-e132-49a1-a96f-f913fff7e21a",
   "metadata": {},
   "source": [
    "## 综合案例1：美国日期转欧洲日期TODO"
   ]
  },
  {
   "cell_type": "markdown",
   "id": "2118ae02-ef3c-42cd-b6f0-c221e1f4ca1f",
   "metadata": {},
   "source": [
    "## 综合案例2：将文件夹备份到ZIP文件TODO"
   ]
  },
  {
   "cell_type": "code",
   "execution_count": null,
   "id": "8d93f958-f810-43ac-bf25-cc9390bccf02",
   "metadata": {},
   "outputs": [],
   "source": []
  }
 ],
 "metadata": {
  "kernelspec": {
   "display_name": "Python 3 (ipykernel)",
   "language": "python",
   "name": "python3"
  },
  "language_info": {
   "codemirror_mode": {
    "name": "ipython",
    "version": 3
   },
   "file_extension": ".py",
   "mimetype": "text/x-python",
   "name": "python",
   "nbconvert_exporter": "python",
   "pygments_lexer": "ipython3",
   "version": "3.11.5"
  },
  "toc": {
   "base_numbering": 1,
   "nav_menu": {},
   "number_sections": true,
   "sideBar": true,
   "skip_h1_title": false,
   "title_cell": "Table of Contents",
   "title_sidebar": "Contents",
   "toc_cell": false,
   "toc_position": {
    "height": "calc(100% - 180px)",
    "left": "10px",
    "top": "150px",
    "width": "302.398px"
   },
   "toc_section_display": true,
   "toc_window_display": true
  }
 },
 "nbformat": 4,
 "nbformat_minor": 5
}
