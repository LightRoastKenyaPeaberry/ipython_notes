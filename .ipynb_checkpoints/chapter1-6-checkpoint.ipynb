{
 "cells": [
  {
   "cell_type": "code",
   "execution_count": 3,
   "id": "ff59c9b2-ac54-4ff9-9621-f41074a65879",
   "metadata": {},
   "outputs": [
    {
     "name": "stdin",
     "output_type": "stream",
     "text": [
      "please input password: 12345\n"
     ]
    },
    {
     "name": "stdout",
     "output_type": "stream",
     "text": [
      "That's far too idiot\n"
     ]
    }
   ],
   "source": [
    "inpassword = input('please input password:')\n",
    "if inpassword =='12345':\n",
    "    print('That\\'s far too idiot')\n",
    "else:\n",
    "    print('access denied')"
   ]
  },
  {
   "cell_type": "code",
   "execution_count": 2,
   "id": "84dd8ed4-435f-44fc-b17e-2fa4093ee7e8",
   "metadata": {},
   "outputs": [
    {
     "name": "stdout",
     "output_type": "stream",
     "text": [
      "Hello world\n",
      "What's your name?\n"
     ]
    },
    {
     "name": "stdin",
     "output_type": "stream",
     "text": [
      " kiki\n"
     ]
    },
    {
     "name": "stdout",
     "output_type": "stream",
     "text": [
      "It is good to meet you, kiki\n",
      "How old are you?\n"
     ]
    },
    {
     "name": "stdin",
     "output_type": "stream",
     "text": [
      " 25\n"
     ]
    },
    {
     "name": "stdout",
     "output_type": "stream",
     "text": [
      "You will be 26 in a year.\n"
     ]
    }
   ],
   "source": [
    "# This program says Hello and asks for my name\n",
    "print('Hello world')\n",
    "print('What\\'s your name?')\n",
    "myName = input()\n",
    "print(f'It is good to meet you, {myName}')\n",
    "print('How old are you?')\n",
    "myAge=input()\n",
    "print(f'You will be {str(int(myAge)+1)} in a year.')"
   ]
  },
  {
   "cell_type": "code",
   "execution_count": 3,
   "id": "6829257a-9595-41d6-9fa6-51d61f7b8d9b",
   "metadata": {},
   "outputs": [
    {
     "name": "stdin",
     "output_type": "stream",
     "text": [
      "name mary\n",
      "password swordfish\n"
     ]
    },
    {
     "name": "stdout",
     "output_type": "stream",
     "text": [
      "hello, mary\n",
      "access granted\n"
     ]
    }
   ],
   "source": [
    "name =input('name')\n",
    "passwd = input('password')\n",
    "if name == 'mary':\n",
    "    print('hello, mary')\n",
    "    if passwd == 'swordfish':\n",
    "        print('access granted')\n",
    "    else:\n",
    "        print('wrong password')"
   ]
  },
  {
   "cell_type": "code",
   "execution_count": 4,
   "id": "2f417429-959f-4ed4-894f-3840602db0cd",
   "metadata": {},
   "outputs": [
    {
     "name": "stdin",
     "output_type": "stream",
     "text": [
      "name kiki\n",
      "password fdasjlfa d\n"
     ]
    }
   ],
   "source": [
    "name =input('name')\n",
    "passwd = input('password')\n",
    "if name == 'mary':\n",
    "    print('hello, mary')\n",
    "    if passwd == 'swordfish':\n",
    "        print('access granted')\n",
    "    else:\n",
    "        print('wrong password')"
   ]
  },
  {
   "cell_type": "code",
   "execution_count": 5,
   "id": "ef0eda28-2db2-40be-a418-ddfa019d6f30",
   "metadata": {},
   "outputs": [
    {
     "name": "stdin",
     "output_type": "stream",
     "text": [
      "name mary\n",
      "password fdasfad\n"
     ]
    },
    {
     "name": "stdout",
     "output_type": "stream",
     "text": [
      "hello, mary\n",
      "wrong password\n"
     ]
    }
   ],
   "source": [
    "name =input('name')\n",
    "passwd = input('password')\n",
    "if name == 'mary':\n",
    "    print('hello, mary')\n",
    "    if passwd == 'swordfish':\n",
    "        print('access granted')\n",
    "    else:\n",
    "        print('wrong password')"
   ]
  },
  {
   "cell_type": "code",
   "execution_count": 6,
   "id": "ecbda49c-77df-4443-8f26-5b764f5afd57",
   "metadata": {},
   "outputs": [
    {
     "name": "stdout",
     "output_type": "stream",
     "text": [
      "Please input your name.\n"
     ]
    },
    {
     "name": "stdin",
     "output_type": "stream",
     "text": [
      " fsadljf\n"
     ]
    },
    {
     "name": "stdout",
     "output_type": "stream",
     "text": [
      "Please input your name.\n"
     ]
    },
    {
     "name": "stdin",
     "output_type": "stream",
     "text": [
      " fdslkjfa\n"
     ]
    },
    {
     "name": "stdout",
     "output_type": "stream",
     "text": [
      "Please input your name.\n"
     ]
    },
    {
     "name": "stdin",
     "output_type": "stream",
     "text": [
      " 255\n"
     ]
    },
    {
     "name": "stdout",
     "output_type": "stream",
     "text": [
      "Please input your name.\n"
     ]
    },
    {
     "name": "stdin",
     "output_type": "stream",
     "text": [
      " your name\n"
     ]
    },
    {
     "name": "stdout",
     "output_type": "stream",
     "text": [
      "Thank you\n"
     ]
    }
   ],
   "source": [
    "name = ''\n",
    "while name !='your name':\n",
    "    print('Please input your name.')\n",
    "    name =input()\n",
    "print('Thank you')"
   ]
  },
  {
   "cell_type": "code",
   "execution_count": 7,
   "id": "24ae7a19-d713-4da2-9e8e-76e8e8907ef6",
   "metadata": {},
   "outputs": [
    {
     "name": "stdout",
     "output_type": "stream",
     "text": [
      "type exit to exit\n"
     ]
    },
    {
     "name": "stdin",
     "output_type": "stream",
     "text": [
      " dlf\n"
     ]
    },
    {
     "name": "stdout",
     "output_type": "stream",
     "text": [
      "you typed dlf.\n",
      "type exit to exit\n"
     ]
    },
    {
     "name": "stdin",
     "output_type": "stream",
     "text": [
      " flakere\n"
     ]
    },
    {
     "name": "stdout",
     "output_type": "stream",
     "text": [
      "you typed flakere.\n",
      "type exit to exit\n"
     ]
    },
    {
     "name": "stdin",
     "output_type": "stream",
     "text": [
      " lajrerewjr\n"
     ]
    },
    {
     "name": "stdout",
     "output_type": "stream",
     "text": [
      "you typed lajrerewjr.\n",
      "type exit to exit\n"
     ]
    },
    {
     "name": "stdin",
     "output_type": "stream",
     "text": [
      " what the heck\n"
     ]
    },
    {
     "name": "stdout",
     "output_type": "stream",
     "text": [
      "you typed what the heck.\n",
      "type exit to exit\n"
     ]
    },
    {
     "name": "stdin",
     "output_type": "stream",
     "text": [
      " exit\n"
     ]
    },
    {
     "ename": "SystemExit",
     "evalue": "",
     "output_type": "error",
     "traceback": [
      "An exception has occurred, use %tb to see the full traceback.\n",
      "\u001b[1;31mSystemExit\u001b[0m\n"
     ]
    },
    {
     "name": "stderr",
     "output_type": "stream",
     "text": [
      "D:\\anaconda3\\Lib\\site-packages\\IPython\\core\\interactiveshell.py:3516: UserWarning: To exit: use 'exit', 'quit', or Ctrl-D.\n",
      "  warn(\"To exit: use 'exit', 'quit', or Ctrl-D.\", stacklevel=1)\n"
     ]
    }
   ],
   "source": [
    "import sys\n",
    "\n",
    "\n",
    "while True:\n",
    "    print('type exit to exit')\n",
    "    response = input()\n",
    "    if response =='exit':\n",
    "        sys.exit()\n",
    "    print(f'you typed {response}.')"
   ]
  },
  {
   "cell_type": "code",
   "execution_count": 14,
   "id": "78976fb6-eee5-4136-af83-97bcf0ce766e",
   "metadata": {},
   "outputs": [
    {
     "name": "stdout",
     "output_type": "stream",
     "text": [
      "ROCK PAPER SCISSORS\n",
      "wins 0, losses 0, ties 0\n",
      "Enter your move: (r)ock, (p)aper, (s)cissors, (q)uit\n"
     ]
    },
    {
     "name": "stdin",
     "output_type": "stream",
     "text": [
      " t\n"
     ]
    },
    {
     "name": "stdout",
     "output_type": "stream",
     "text": [
      "wrong move, please re-enter\n",
      "wins 0, losses 0, ties 0\n",
      "Enter your move: (r)ock, (p)aper, (s)cissors, (q)uit\n"
     ]
    },
    {
     "name": "stdin",
     "output_type": "stream",
     "text": [
      " r\n"
     ]
    },
    {
     "name": "stdout",
     "output_type": "stream",
     "text": [
      "ROCK VERSUS\n",
      "SCISSORS\n",
      "you win\n",
      "wins 1, losses 0, ties 0\n",
      "Enter your move: (r)ock, (p)aper, (s)cissors, (q)uit\n"
     ]
    },
    {
     "name": "stdin",
     "output_type": "stream",
     "text": [
      " r\n"
     ]
    },
    {
     "name": "stdout",
     "output_type": "stream",
     "text": [
      "ROCK VERSUS\n",
      "SCISSORS\n",
      "you win\n",
      "wins 2, losses 0, ties 0\n",
      "Enter your move: (r)ock, (p)aper, (s)cissors, (q)uit\n"
     ]
    },
    {
     "name": "stdin",
     "output_type": "stream",
     "text": [
      " r\n"
     ]
    },
    {
     "name": "stdout",
     "output_type": "stream",
     "text": [
      "ROCK VERSUS\n",
      "PAPER\n",
      "you fail\n",
      "wins 2, losses 1, ties 0\n",
      "Enter your move: (r)ock, (p)aper, (s)cissors, (q)uit\n"
     ]
    },
    {
     "name": "stdin",
     "output_type": "stream",
     "text": [
      " s\n"
     ]
    },
    {
     "name": "stdout",
     "output_type": "stream",
     "text": [
      "SCISSORS VERSUS\n",
      "ROCK\n",
      "you fail\n",
      "wins 2, losses 2, ties 0\n",
      "Enter your move: (r)ock, (p)aper, (s)cissors, (q)uit\n"
     ]
    },
    {
     "name": "stdin",
     "output_type": "stream",
     "text": [
      " s\n"
     ]
    },
    {
     "name": "stdout",
     "output_type": "stream",
     "text": [
      "SCISSORS VERSUS\n",
      "PAPER\n",
      "you win\n",
      "wins 3, losses 2, ties 0\n",
      "Enter your move: (r)ock, (p)aper, (s)cissors, (q)uit\n"
     ]
    },
    {
     "name": "stdin",
     "output_type": "stream",
     "text": [
      " s\n"
     ]
    },
    {
     "name": "stdout",
     "output_type": "stream",
     "text": [
      "SCISSORS VERSUS\n",
      "ROCK\n",
      "you fail\n",
      "wins 3, losses 3, ties 0\n",
      "Enter your move: (r)ock, (p)aper, (s)cissors, (q)uit\n"
     ]
    },
    {
     "name": "stdin",
     "output_type": "stream",
     "text": [
      " p\n"
     ]
    },
    {
     "name": "stdout",
     "output_type": "stream",
     "text": [
      "PAPER VERSUS\n",
      "ROCK\n",
      "you win\n",
      "wins 4, losses 3, ties 0\n",
      "Enter your move: (r)ock, (p)aper, (s)cissors, (q)uit\n"
     ]
    },
    {
     "name": "stdin",
     "output_type": "stream",
     "text": [
      " p\n"
     ]
    },
    {
     "name": "stdout",
     "output_type": "stream",
     "text": [
      "PAPER VERSUS\n",
      "ROCK\n",
      "you win\n",
      "wins 5, losses 3, ties 0\n",
      "Enter your move: (r)ock, (p)aper, (s)cissors, (q)uit\n"
     ]
    },
    {
     "name": "stdin",
     "output_type": "stream",
     "text": [
      " p\n"
     ]
    },
    {
     "name": "stdout",
     "output_type": "stream",
     "text": [
      "PAPER VERSUS\n",
      "SCISSORS\n",
      "you fail\n",
      "wins 5, losses 4, ties 0\n",
      "Enter your move: (r)ock, (p)aper, (s)cissors, (q)uit\n"
     ]
    },
    {
     "name": "stdin",
     "output_type": "stream",
     "text": [
      " p\n"
     ]
    },
    {
     "name": "stdout",
     "output_type": "stream",
     "text": [
      "PAPER VERSUS\n",
      "ROCK\n",
      "you win\n",
      "wins 6, losses 4, ties 0\n",
      "Enter your move: (r)ock, (p)aper, (s)cissors, (q)uit\n"
     ]
    },
    {
     "name": "stdin",
     "output_type": "stream",
     "text": [
      " r\n"
     ]
    },
    {
     "name": "stdout",
     "output_type": "stream",
     "text": [
      "ROCK VERSUS\n",
      "SCISSORS\n",
      "you win\n",
      "wins 7, losses 4, ties 0\n",
      "Enter your move: (r)ock, (p)aper, (s)cissors, (q)uit\n"
     ]
    },
    {
     "name": "stdin",
     "output_type": "stream",
     "text": [
      " r\n"
     ]
    },
    {
     "name": "stdout",
     "output_type": "stream",
     "text": [
      "ROCK VERSUS\n",
      "PAPER\n",
      "you fail\n",
      "wins 7, losses 5, ties 0\n",
      "Enter your move: (r)ock, (p)aper, (s)cissors, (q)uit\n"
     ]
    },
    {
     "name": "stdin",
     "output_type": "stream",
     "text": [
      " p\n"
     ]
    },
    {
     "name": "stdout",
     "output_type": "stream",
     "text": [
      "PAPER VERSUS\n",
      "SCISSORS\n",
      "you fail\n",
      "wins 7, losses 6, ties 0\n",
      "Enter your move: (r)ock, (p)aper, (s)cissors, (q)uit\n"
     ]
    },
    {
     "name": "stdin",
     "output_type": "stream",
     "text": [
      " s\n"
     ]
    },
    {
     "name": "stdout",
     "output_type": "stream",
     "text": [
      "SCISSORS VERSUS\n",
      "SCISSORS\n",
      "It is a tie\n",
      "wins 7, losses 6, ties 1\n",
      "Enter your move: (r)ock, (p)aper, (s)cissors, (q)uit\n"
     ]
    },
    {
     "name": "stdin",
     "output_type": "stream",
     "text": [
      " s\n"
     ]
    },
    {
     "name": "stdout",
     "output_type": "stream",
     "text": [
      "SCISSORS VERSUS\n",
      "PAPER\n",
      "you win\n",
      "wins 8, losses 6, ties 1\n",
      "Enter your move: (r)ock, (p)aper, (s)cissors, (q)uit\n"
     ]
    },
    {
     "name": "stdin",
     "output_type": "stream",
     "text": [
      " q\n"
     ]
    },
    {
     "ename": "SystemExit",
     "evalue": "bye",
     "output_type": "error",
     "traceback": [
      "An exception has occurred, use %tb to see the full traceback.\n",
      "\u001b[1;31mSystemExit\u001b[0m\u001b[1;31m:\u001b[0m bye\n"
     ]
    },
    {
     "name": "stderr",
     "output_type": "stream",
     "text": [
      "D:\\anaconda3\\Lib\\site-packages\\IPython\\core\\interactiveshell.py:3516: UserWarning: To exit: use 'exit', 'quit', or Ctrl-D.\n",
      "  warn(\"To exit: use 'exit', 'quit', or Ctrl-D.\", stacklevel=1)\n"
     ]
    }
   ],
   "source": [
    "# rpsGame.py\n",
    "import random, sys\n",
    "\n",
    "print('ROCK PAPER SCISSORS')\n",
    "wins, losses, ties = 0,0,0\n",
    "\n",
    "while True:\n",
    "    print(f'wins {wins}, losses {losses}, ties {ties}')\n",
    "    print('Enter your move: (r)ock, (p)aper, (s)cissors, (q)uit')\n",
    "    your_move = input()\n",
    "    if your_move =='q':\n",
    "        sys.exit('bye')\n",
    "    elif your_move == 'r':\n",
    "        print('ROCK VERSUS')\n",
    "    elif your_move =='p':\n",
    "        print('PAPER VERSUS')\n",
    "    elif your_move =='s':\n",
    "        print('SCISSORS VERSUS')\n",
    "    else:\n",
    "        print('wrong move, please re-enter')\n",
    "        continue\n",
    "    computer = random.randint(1,3)\n",
    "    if computer == 1:\n",
    "        print('ROCK')\n",
    "        computer_move = 'r'\n",
    "    elif computer == 2:\n",
    "        print('PAPER')\n",
    "        computer_move = 'p'\n",
    "    else:\n",
    "        print('SCISSORS')\n",
    "        computer_move = 's'\n",
    "    if your_move==computer_move:\n",
    "        print('It is a tie')\n",
    "        ties +=1\n",
    "    elif your_move =='r' and computer_move=='p':\n",
    "        print('you fail')\n",
    "        losses +=1\n",
    "    elif your_move =='r' and computer_move=='s':\n",
    "        print('you win')\n",
    "        wins +=1\n",
    "    elif your_move =='p' and computer_move=='r':\n",
    "        print('you win')\n",
    "        wins +=1\n",
    "    elif your_move =='p' and computer_move=='s':\n",
    "        print('you fail')\n",
    "        losses +=1\n",
    "    elif  your_move =='s' and computer_move=='r':\n",
    "        print('you fail')\n",
    "        losses +=1\n",
    "    else:\n",
    "        print('you win')\n",
    "        wins +=1"
   ]
  },
  {
   "cell_type": "code",
   "execution_count": 13,
   "id": "b7d3d512-88b1-47e2-a102-fea877991f64",
   "metadata": {},
   "outputs": [
    {
     "name": "stdout",
     "output_type": "stream",
     "text": [
      "2\n",
      "1\n",
      "2\n",
      "1\n",
      "2\n",
      "2\n",
      "3\n",
      "2\n",
      "1\n",
      "4\n",
      "2\n",
      "4\n",
      "1\n",
      "1\n",
      "4\n",
      "3\n",
      "1\n",
      "2\n",
      "3\n",
      "2\n"
     ]
    }
   ],
   "source": [
    "for i in range(20):\n",
    "    print(random.randint(1,4))"
   ]
  },
  {
   "cell_type": "code",
   "execution_count": null,
   "id": "44de8851-b3e6-4a5d-8dd5-3ccd19378bac",
   "metadata": {},
   "outputs": [],
   "source": []
  }
 ],
 "metadata": {
  "kernelspec": {
   "display_name": "Python 3 (ipykernel)",
   "language": "python",
   "name": "python3"
  },
  "language_info": {
   "codemirror_mode": {
    "name": "ipython",
    "version": 3
   },
   "file_extension": ".py",
   "mimetype": "text/x-python",
   "name": "python",
   "nbconvert_exporter": "python",
   "pygments_lexer": "ipython3",
   "version": "3.11.4"
  }
 },
 "nbformat": 4,
 "nbformat_minor": 5
}
