{
 "cells": [
  {
   "cell_type": "markdown",
   "id": "67139ada-5060-430c-9d37-cd8fdc687176",
   "metadata": {},
   "source": [
    "# Chapter 16: 处理CSV文件和JSON数据"
   ]
  },
  {
   "cell_type": "markdown",
   "id": "2077be06-9768-4bdb-98fa-1aff2ee1e7f3",
   "metadata": {},
   "source": [
    "## csv模块"
   ]
  },
  {
   "cell_type": "markdown",
   "id": "446ccb41-c8f3-491b-9eaa-b7eb4dc57174",
   "metadata": {},
   "source": [
    "### reader对象"
   ]
  },
  {
   "cell_type": "code",
   "execution_count": 1,
   "id": "e6fbf12e-3923-499d-8481-cc18dc3e0234",
   "metadata": {},
   "outputs": [],
   "source": [
    "import csv"
   ]
  },
  {
   "cell_type": "code",
   "execution_count": 2,
   "id": "cf5b7cdc-5744-476b-8979-f023208e9ff6",
   "metadata": {},
   "outputs": [],
   "source": [
    "example_file = open(r'D:/Code/automate_online-materials/example.csv')\n",
    "example_reader = csv.reader(example_file)\n",
    "example_data = list(example_reader)"
   ]
  },
  {
   "cell_type": "code",
   "execution_count": 3,
   "id": "f5512b65-5cef-4616-a296-9d0f2f1642d6",
   "metadata": {},
   "outputs": [
    {
     "data": {
      "text/plain": [
       "[['4/5/2014 13:34', 'Apples', '73'],\n",
       " ['4/5/2014 3:41', 'Cherries', '85'],\n",
       " ['4/6/2014 12:46', 'Pears', '14'],\n",
       " ['4/8/2014 8:59', 'Oranges', '52'],\n",
       " ['4/10/2014 2:07', 'Apples', '152'],\n",
       " ['4/10/2014 18:10', 'Bananas', '23'],\n",
       " ['4/10/2014 2:40', 'Strawberries', '98']]"
      ]
     },
     "execution_count": 3,
     "metadata": {},
     "output_type": "execute_result"
    }
   ],
   "source": [
    "example_data"
   ]
  },
  {
   "cell_type": "code",
   "execution_count": 4,
   "id": "1b97f6eb-4245-47ad-8d68-87566e839e46",
   "metadata": {},
   "outputs": [
    {
     "data": {
      "text/plain": [
       "'85'"
      ]
     },
     "execution_count": 4,
     "metadata": {},
     "output_type": "execute_result"
    }
   ],
   "source": [
    "example_data[1][2]"
   ]
  },
  {
   "cell_type": "markdown",
   "id": "23b8527b-3c8c-44cf-b33a-9b442f24bbb3",
   "metadata": {},
   "source": [
    "### 在for循环中，从reader对象读取数据"
   ]
  },
  {
   "cell_type": "code",
   "execution_count": 10,
   "id": "6fb08917-8c51-415c-960d-b23470f17b22",
   "metadata": {},
   "outputs": [
    {
     "name": "stdout",
     "output_type": "stream",
     "text": [
      "['4/5/2014 13:34', 'Apples', '73']\n",
      "['4/5/2014 3:41', 'Cherries', '85']\n",
      "['4/6/2014 12:46', 'Pears', '14']\n",
      "['4/8/2014 8:59', 'Oranges', '52']\n",
      "['4/10/2014 2:07', 'Apples', '152']\n",
      "['4/10/2014 18:10', 'Bananas', '23']\n",
      "['4/10/2014 2:40', 'Strawberries', '98']\n"
     ]
    }
   ],
   "source": [
    "example_file = open(r'D:/Code/automate_online-materials/example.csv')\n",
    "example_reader = csv.reader(example_file)\n",
    "for row in example_reader:\n",
    "    print(str(row))"
   ]
  },
  {
   "cell_type": "code",
   "execution_count": 11,
   "id": "500e80f4-16f6-4f1f-b5be-3f62e9ad70e2",
   "metadata": {},
   "outputs": [],
   "source": [
    "for row in example_reader:\n",
    "    print(str(row))"
   ]
  },
  {
   "cell_type": "code",
   "execution_count": 12,
   "id": "e2a53ffd-b3cd-45c7-80ca-e87a0756852d",
   "metadata": {},
   "outputs": [],
   "source": [
    "example_file.close()"
   ]
  },
  {
   "cell_type": "markdown",
   "id": "a66ba386-7ed1-4e00-8f15-8f5fb3733b66",
   "metadata": {},
   "source": [
    "+ ps: ↑ reader对象只能循环遍历一次"
   ]
  },
  {
   "cell_type": "markdown",
   "id": "e698711d-714f-4944-95e3-55592cc9a857",
   "metadata": {},
   "source": [
    "### writer对象"
   ]
  },
  {
   "cell_type": "code",
   "execution_count": 13,
   "id": "f38d41bc-1e28-41c4-995c-e26722358341",
   "metadata": {},
   "outputs": [
    {
     "data": {
      "text/plain": [
       "21"
      ]
     },
     "execution_count": 13,
     "metadata": {},
     "output_type": "execute_result"
    }
   ],
   "source": [
    "output_file = open(r'../output.csv', 'w', newline='')\n",
    "output_writer = csv.writer(output_file)\n",
    "output_writer.writerow(['spam', 'eggs', 'bacon', 'ham'])"
   ]
  },
  {
   "cell_type": "code",
   "execution_count": 14,
   "id": "2f19654e-6c63-4a39-8863-54fe9abe1934",
   "metadata": {},
   "outputs": [
    {
     "data": {
      "text/plain": [
       "26"
      ]
     },
     "execution_count": 14,
     "metadata": {},
     "output_type": "execute_result"
    }
   ],
   "source": [
    "output_writer.writerow(['hello world', 'bar', 'foo', 'star'])"
   ]
  },
  {
   "cell_type": "code",
   "execution_count": 15,
   "id": "6a774498-9cff-48da-a9e2-935e02eb601b",
   "metadata": {},
   "outputs": [],
   "source": [
    "output_file.close()"
   ]
  },
  {
   "cell_type": "markdown",
   "id": "3027541a-b762-4bd9-b143-594faa32796d",
   "metadata": {},
   "source": [
    "### delimiter和linetermninator关键字参数"
   ]
  },
  {
   "cell_type": "markdown",
   "id": "17bbaf12-8c2c-4e6d-bf3a-f50b0b4f3e71",
   "metadata": {},
   "source": [
    "+ 假如要将分隔符从，换成制表符，并且两倍行距"
   ]
  },
  {
   "cell_type": "code",
   "execution_count": 23,
   "id": "3609f543-9ffb-4714-8f14-6a43ef9e8f8e",
   "metadata": {},
   "outputs": [],
   "source": [
    "csv_file= open(r'D:/Code/automate_online-materials/example.csv', 'w', newline='')\n",
    "csv_writer = csv.writer(csv_file,delimiter='\\t', lineterminator='\\n\\n')"
   ]
  },
  {
   "cell_type": "code",
   "execution_count": 24,
   "id": "7dad90ef-7017-4762-838d-cd1f203ce902",
   "metadata": {},
   "outputs": [
    {
     "data": {
      "text/plain": [
       "16"
      ]
     },
     "execution_count": 24,
     "metadata": {},
     "output_type": "execute_result"
    }
   ],
   "source": [
    "csv_writer.writerow(['eggs','ham','bacon'])"
   ]
  },
  {
   "cell_type": "code",
   "execution_count": 25,
   "id": "6861525a-2401-4566-9f2b-e9ec2a61f464",
   "metadata": {},
   "outputs": [
    {
     "data": {
      "text/plain": [
       "31"
      ]
     },
     "execution_count": 25,
     "metadata": {},
     "output_type": "execute_result"
    }
   ],
   "source": [
    "csv_writer.writerow(['spam', 'spam', 'spam','spam', 'spam', 'spam'])"
   ]
  },
  {
   "cell_type": "code",
   "execution_count": 26,
   "id": "9a965ccb-d3da-464f-8569-559387ef1c1f",
   "metadata": {},
   "outputs": [],
   "source": [
    "csv_file.close()"
   ]
  },
  {
   "cell_type": "markdown",
   "id": "c73fec0a-8204-4640-9dc2-fecfbcbf11ec",
   "metadata": {},
   "source": [
    "### DictReader和DictWriter对象"
   ]
  },
  {
   "cell_type": "markdown",
   "id": "d967673e-9a02-40bd-974a-32a688df1b68",
   "metadata": {},
   "source": [
    "+ 对于有标题行的CSV文件"
   ]
  },
  {
   "cell_type": "code",
   "execution_count": 28,
   "id": "a60d72be-83b0-4e96-a1dc-29b283b1c277",
   "metadata": {},
   "outputs": [
    {
     "name": "stdout",
     "output_type": "stream",
     "text": [
      "{'Timestamp': '4/5/2014 13:34', 'Fruit': 'Apples', 'Quantity': '73'}\n",
      "{'Timestamp': '4/5/2014 3:41', 'Fruit': 'Cherries', 'Quantity': '85'}\n",
      "{'Timestamp': '4/6/2014 12:46', 'Fruit': 'Pears', 'Quantity': '14'}\n",
      "{'Timestamp': '4/8/2014 8:59', 'Fruit': 'Oranges', 'Quantity': '52'}\n",
      "{'Timestamp': '4/10/2014 2:07', 'Fruit': 'Apples', 'Quantity': '152'}\n",
      "{'Timestamp': '4/10/2014 18:10', 'Fruit': 'Bananas', 'Quantity': '23'}\n",
      "{'Timestamp': '4/10/2014 2:40', 'Fruit': 'Strawberries', 'Quantity': '98'}\n"
     ]
    }
   ],
   "source": [
    "example_file = open(r'D:/Code/automate_online-materials/exampleWithHeader.csv')\n",
    "example_reader = csv.DictReader(example_file)\n",
    "for row in example_reader:\n",
    "    print(str(row))"
   ]
  },
  {
   "cell_type": "markdown",
   "id": "357553e3-7699-4103-9160-5694602f2ff2",
   "metadata": {},
   "source": [
    "+ 如果用DictReader读没有标题的文件，如example.csv，会将第一行作为标题\n",
    "+ 为了避免这种情况，在DictReader()中加入第二个参数"
   ]
  },
  {
   "cell_type": "code",
   "execution_count": 29,
   "id": "e8d4de5a-c486-4f0a-892d-928730035575",
   "metadata": {},
   "outputs": [
    {
     "name": "stdout",
     "output_type": "stream",
     "text": [
      "{'time': '4/5/2014 13:34', 'fruit': 'Apples', 'quantity': '73'}\n",
      "{'time': '4/5/2014 3:41', 'fruit': 'Cherries', 'quantity': '85'}\n",
      "{'time': '4/6/2014 12:46', 'fruit': 'Pears', 'quantity': '14'}\n",
      "{'time': '4/8/2014 8:59', 'fruit': 'Oranges', 'quantity': '52'}\n",
      "{'time': '4/10/2014 2:07', 'fruit': 'Apples', 'quantity': '152'}\n",
      "{'time': '4/10/2014 18:10', 'fruit': 'Bananas', 'quantity': '23'}\n",
      "{'time': '4/10/2014 2:40', 'fruit': 'Strawberries', 'quantity': '98'}\n"
     ]
    }
   ],
   "source": [
    "example_file = open(r'D:/Code/automate_online-materials/example.csv')\n",
    "example_reader = csv.DictReader(example_file, ['time', 'fruit', 'quantity'])\n",
    "for row in example_reader:\n",
    "    print(str(row))"
   ]
  },
  {
   "cell_type": "code",
   "execution_count": 33,
   "id": "61dfd042-637d-46f6-aed9-67435712bbdf",
   "metadata": {},
   "outputs": [
    {
     "data": {
      "text/plain": [
       "16"
      ]
     },
     "execution_count": 33,
     "metadata": {},
     "output_type": "execute_result"
    }
   ],
   "source": [
    "output_file = open('../output2.csv', 'w', newline='')\n",
    "output_writer = csv.DictWriter(output_file, ['name', 'pet', 'phone'])\n",
    "output_writer.writeheader()"
   ]
  },
  {
   "cell_type": "code",
   "execution_count": 34,
   "id": "81b33c28-39b4-45a2-b126-86dbf1b7254e",
   "metadata": {},
   "outputs": [
    {
     "data": {
      "text/plain": [
       "14"
      ]
     },
     "execution_count": 34,
     "metadata": {},
     "output_type": "execute_result"
    }
   ],
   "source": [
    "output_writer.writerow({'name':'alex', 'pet':'dog', 'phone':'233'})"
   ]
  },
  {
   "cell_type": "code",
   "execution_count": 35,
   "id": "15b20f57-392a-415f-b455-870deeec3775",
   "metadata": {},
   "outputs": [
    {
     "data": {
      "text/plain": [
       "17"
      ]
     },
     "execution_count": 35,
     "metadata": {},
     "output_type": "execute_result"
    }
   ],
   "source": [
    "output_writer.writerow({'name':'gaga', 'pet':'homer', 'phone':'1323'})"
   ]
  },
  {
   "cell_type": "code",
   "execution_count": 37,
   "id": "9cfe0aa5-a06e-4758-91ab-1abd8caeb662",
   "metadata": {},
   "outputs": [],
   "source": [
    "output_file.close()"
   ]
  },
  {
   "cell_type": "markdown",
   "id": "fc2f6425-d15f-4960-965f-e8923adbe686",
   "metadata": {},
   "source": [
    "## 项目：从csv文件中删除标题行"
   ]
  },
  {
   "cell_type": "code",
   "execution_count": 1,
   "id": "2c48cd91-9b34-45fa-a031-0aceaf9c4070",
   "metadata": {},
   "outputs": [],
   "source": [
    "import shutil, os, csv\n",
    "\n",
    "def remove_csv_header(root):\n",
    "    files = os.listdir(root)\n",
    "    for file in files:\n",
    "        file = os.path.join(root, file)\n",
    "        if os.path.isfile(file) and file.endswith('.csv'):\n",
    "            shutil.copy(file, f'{file}.back')\n",
    "            content =[]\n",
    "            r_file = open(file,'r')            \n",
    "            r_file_reader = csv.reader(r_file)\n",
    "            for i, row in enumerate(r_file_reader):\n",
    "                if i == 0:\n",
    "                    continue\n",
    "                else:\n",
    "                    content.append(row)\n",
    "            r_file.close()\n",
    "            w_file = open(file,'w', newline='')\n",
    "            w_file_writer = csv.writer(w_file)\n",
    "            w_file_writer.writerows(content)\n",
    "            w_file.close()\n",
    "            \n",
    "            "
   ]
  },
  {
   "cell_type": "code",
   "execution_count": 4,
   "id": "29ff7c9a-a829-43af-801e-056720523714",
   "metadata": {},
   "outputs": [],
   "source": [
    "remove_csv_header(r'D:\\Code\\jupyter')"
   ]
  },
  {
   "cell_type": "code",
   "execution_count": 3,
   "id": "f63226bf-20e6-46c8-9242-c94c720e9ebd",
   "metadata": {},
   "outputs": [
    {
     "data": {
      "text/plain": [
       "True"
      ]
     },
     "execution_count": 3,
     "metadata": {},
     "output_type": "execute_result"
    }
   ],
   "source": [
    "'home.csv'.endswith('.csv')"
   ]
  },
  {
   "cell_type": "code",
   "execution_count": 5,
   "id": "036be37e-025d-4b1b-b1ba-c00888c85f09",
   "metadata": {},
   "outputs": [],
   "source": [
    "content = [['a', 'b', 'c'], ['d','e', 'f']]\n",
    "test_file = open('./test.csv', 'w', newline='')\n",
    "test_writer = csv.writer(test_file)\n",
    "test_writer.writerows(content)"
   ]
  },
  {
   "cell_type": "code",
   "execution_count": 6,
   "id": "82ddfcab-38e8-4f19-b940-74c7a10e38a7",
   "metadata": {},
   "outputs": [],
   "source": [
    "test_file.close()"
   ]
  },
  {
   "cell_type": "code",
   "execution_count": 12,
   "id": "31fc4c95-b4ea-4a4d-8a70-5734cec797b8",
   "metadata": {},
   "outputs": [],
   "source": [
    "test_file = open('./test.csv','r')\n",
    "test_reader = csv.reader(test_file)"
   ]
  },
  {
   "cell_type": "code",
   "execution_count": 16,
   "id": "7f064483-0d7a-4144-adcd-5b04fcce7efd",
   "metadata": {},
   "outputs": [],
   "source": [
    "test_data = list(test_reader)"
   ]
  },
  {
   "cell_type": "code",
   "execution_count": 17,
   "id": "c71a3db7-350d-482d-ad8c-ccecdfdf35df",
   "metadata": {},
   "outputs": [
    {
     "data": {
      "text/plain": [
       "2"
      ]
     },
     "execution_count": 17,
     "metadata": {},
     "output_type": "execute_result"
    }
   ],
   "source": [
    "len(test_data)"
   ]
  },
  {
   "cell_type": "code",
   "execution_count": 18,
   "id": "1ca08132-2049-4d79-898c-7229fa2bfeba",
   "metadata": {},
   "outputs": [],
   "source": [
    "test_file.close()"
   ]
  },
  {
   "cell_type": "markdown",
   "id": "91c27704-f282-4e58-87ab-03cee8f8db59",
   "metadata": {},
   "source": [
    "## JSON和API"
   ]
  },
  {
   "cell_type": "markdown",
   "id": "89b4f97a-5d6c-4cf0-9f06-9c016c6d12a0",
   "metadata": {},
   "source": [
    "### 用loads()函数读取JSON"
   ]
  },
  {
   "cell_type": "code",
   "execution_count": 21,
   "id": "27314fb9-e6f5-41eb-812c-83dbe0b14c84",
   "metadata": {},
   "outputs": [],
   "source": [
    "stringOfJsonData = '{\"name\": \"Zophie\", \"isCat\": true, \"miceCaught\": 0, \"felineIQ\": null}'"
   ]
  },
  {
   "cell_type": "code",
   "execution_count": 22,
   "id": "0d6eae3d-dda9-4bd9-aeda-81e0127b5d52",
   "metadata": {},
   "outputs": [],
   "source": [
    "import json"
   ]
  },
  {
   "cell_type": "code",
   "execution_count": 23,
   "id": "5286f780-e774-4018-89f3-2088b0757fa7",
   "metadata": {},
   "outputs": [
    {
     "data": {
      "text/plain": [
       "{'name': 'Zophie', 'isCat': True, 'miceCaught': 0, 'felineIQ': None}"
      ]
     },
     "execution_count": 23,
     "metadata": {},
     "output_type": "execute_result"
    }
   ],
   "source": [
    "json.loads(stringOfJsonData)"
   ]
  },
  {
   "cell_type": "code",
   "execution_count": 25,
   "id": "299c950e-23be-4231-8cb1-27c19abcc080",
   "metadata": {},
   "outputs": [],
   "source": [
    "resume = json.loads(stringOfJsonData)"
   ]
  },
  {
   "cell_type": "code",
   "execution_count": 26,
   "id": "2c49ce5e-5673-4393-8ae6-d846b13cda98",
   "metadata": {},
   "outputs": [
    {
     "data": {
      "text/plain": [
       "{'name': 'Zophie', 'isCat': True, 'miceCaught': 0, 'felineIQ': None}"
      ]
     },
     "execution_count": 26,
     "metadata": {},
     "output_type": "execute_result"
    }
   ],
   "source": [
    "resume"
   ]
  },
  {
   "cell_type": "code",
   "execution_count": 44,
   "id": "e963f296-203d-42df-9696-65d9bd5002fa",
   "metadata": {},
   "outputs": [],
   "source": [
    "with open('../haha.json','r') as f:\n",
    "    data = json.load(f)"
   ]
  },
  {
   "cell_type": "code",
   "execution_count": 45,
   "id": "0578a6a4-73a6-41ce-8a6c-45797f270314",
   "metadata": {},
   "outputs": [
    {
     "data": {
      "text/plain": [
       "{'a': 'hehe', 'b': 5}"
      ]
     },
     "execution_count": 45,
     "metadata": {},
     "output_type": "execute_result"
    }
   ],
   "source": [
    "data"
   ]
  },
  {
   "cell_type": "code",
   "execution_count": 46,
   "id": "fd245754-9904-4c07-b888-ccab3f263a02",
   "metadata": {},
   "outputs": [
    {
     "data": {
      "text/plain": [
       "dict"
      ]
     },
     "execution_count": 46,
     "metadata": {},
     "output_type": "execute_result"
    }
   ],
   "source": [
    "type(data)"
   ]
  },
  {
   "cell_type": "code",
   "execution_count": 51,
   "id": "219762f1-0ae9-48ee-a400-e436c73c029b",
   "metadata": {},
   "outputs": [],
   "source": [
    "with open('../haha.json','r') as f:\n",
    "    data2 = json.loads(f.read())"
   ]
  },
  {
   "cell_type": "code",
   "execution_count": 52,
   "id": "fc1199bc-a971-4424-bf6c-37311c70e77c",
   "metadata": {},
   "outputs": [
    {
     "data": {
      "text/plain": [
       "{'a': 'hehe', 'b': 5}"
      ]
     },
     "execution_count": 52,
     "metadata": {},
     "output_type": "execute_result"
    }
   ],
   "source": [
    "data2"
   ]
  },
  {
   "cell_type": "code",
   "execution_count": 53,
   "id": "8a30dff2-89b0-4c7d-a13e-626565bd7c68",
   "metadata": {},
   "outputs": [
    {
     "data": {
      "text/plain": [
       "dict"
      ]
     },
     "execution_count": 53,
     "metadata": {},
     "output_type": "execute_result"
    }
   ],
   "source": [
    "type(data2)"
   ]
  },
  {
   "cell_type": "code",
   "execution_count": 54,
   "id": "10cb164f-c28b-4d72-ad2d-ad373841c05f",
   "metadata": {},
   "outputs": [],
   "source": [
    "with open('../hehe.json', 'r') as f:\n",
    "    data3 = json.load(f)"
   ]
  },
  {
   "cell_type": "code",
   "execution_count": 55,
   "id": "5a2cadd4-2238-459c-9a5d-4e7211c6c480",
   "metadata": {},
   "outputs": [
    {
     "data": {
      "text/plain": [
       "{'a': 'hehe', 'b': 5}"
      ]
     },
     "execution_count": 55,
     "metadata": {},
     "output_type": "execute_result"
    }
   ],
   "source": [
    "data3"
   ]
  },
  {
   "cell_type": "markdown",
   "id": "19bcf3d9-ac17-4582-a1b0-be095beb2715",
   "metadata": {},
   "source": [
    "### 用dumps函数写出JSON"
   ]
  },
  {
   "cell_type": "code",
   "execution_count": 56,
   "id": "a48b85fd-c016-40a0-80ac-063ccb37b3f4",
   "metadata": {},
   "outputs": [],
   "source": [
    " pythonValue = {'isCat': True, 'miceCaught': 0, 'name': 'Zophie', 'felineIQ': None}"
   ]
  },
  {
   "cell_type": "code",
   "execution_count": 57,
   "id": "bd4e176a-9800-4bbd-b8e7-e4cfabb040a7",
   "metadata": {},
   "outputs": [
    {
     "data": {
      "text/plain": [
       "{'isCat': True, 'miceCaught': 0, 'name': 'Zophie', 'felineIQ': None}"
      ]
     },
     "execution_count": 57,
     "metadata": {},
     "output_type": "execute_result"
    }
   ],
   "source": [
    "pythonValue"
   ]
  },
  {
   "cell_type": "code",
   "execution_count": 58,
   "id": "262e4247-fa82-43b8-a820-2c5b59c6b064",
   "metadata": {},
   "outputs": [
    {
     "data": {
      "text/plain": [
       "dict"
      ]
     },
     "execution_count": 58,
     "metadata": {},
     "output_type": "execute_result"
    }
   ],
   "source": [
    "type(pythonValue)"
   ]
  },
  {
   "cell_type": "code",
   "execution_count": 59,
   "id": "e0949fde-ef5d-416f-ac77-9fd8a82bd6e5",
   "metadata": {},
   "outputs": [],
   "source": [
    "result = json.dumps(pythonValue)"
   ]
  },
  {
   "cell_type": "code",
   "execution_count": 60,
   "id": "22579e76-8a1f-435f-8304-fd1c7d5dafaa",
   "metadata": {},
   "outputs": [
    {
     "data": {
      "text/plain": [
       "'{\"isCat\": true, \"miceCaught\": 0, \"name\": \"Zophie\", \"felineIQ\": null}'"
      ]
     },
     "execution_count": 60,
     "metadata": {},
     "output_type": "execute_result"
    }
   ],
   "source": [
    "result"
   ]
  },
  {
   "cell_type": "code",
   "execution_count": 61,
   "id": "1af4791d-86fa-4eec-846b-6accba551084",
   "metadata": {},
   "outputs": [
    {
     "data": {
      "text/plain": [
       "str"
      ]
     },
     "execution_count": 61,
     "metadata": {},
     "output_type": "execute_result"
    }
   ],
   "source": [
    "type(result)"
   ]
  },
  {
   "cell_type": "markdown",
   "id": "955522a2-0a78-48a1-aa3a-8a05e05dfc39",
   "metadata": {},
   "source": [
    "## 项目：获取当前的天气数据"
   ]
  },
  {
   "cell_type": "code",
   "execution_count": null,
   "id": "1c23672b-53bd-46ce-b78e-b10d10b63f16",
   "metadata": {},
   "outputs": [],
   "source": [
    "#! python3\n",
    "# getOpenWeather.py - Prints the weather for a location from the command line.\n",
    "\n",
    "# APPID = 'YOUR_APPID_HERE'\n",
    "\n",
    "# import json, requests, sys\n",
    "\n",
    "# # Compute location from command line arguments.\n",
    "# if len(sys.argv) < 2:\n",
    "#     print('Usage: getOpenWeather.py city_name, 2-letter_country_code')\n",
    "#     sys.exit()\n",
    "# location = ' '.join(sys.argv[1:])\n",
    "\n",
    "# # Download the JSON data from OpenWeatherMap.org's API.\n",
    "# url ='https://api.openweathermap.org/data/2.5/forecast/daily?q=%s&cnt=3&APPID=%s ' % (location,\n",
    "# APPID)\n",
    "# response = requests.get(url)\n",
    "# response.raise_for_status()\n",
    "\n",
    "# # TODO: Load JSON data into a Python variable.\n",
    "# weatherData = json.loads(response.text)\n",
    "\n",
    "# # Print weather descriptions.\n",
    "# w = weatherData['list']\n",
    "# print('Current weather in %s:' % (location))\n",
    "# print(w[0]['weather'][0]['main'], '-', w[0]['weather'][0]['description'])\n",
    "# print()\n",
    "# print('Tomorrow:')\n",
    "# print(w[1]['weather'][0]['main'], '-', w[1]['weather'][0]['description'])\n",
    "# print()\n",
    "# print('Day after tomorrow:')\n",
    "# print(w[2]['weather'][0]['main'], '-', w[2]['weather'][0]['description'])"
   ]
  },
  {
   "cell_type": "markdown",
   "id": "bf0f2bab-498a-47bb-812e-8de0b6c76ad1",
   "metadata": {},
   "source": [
    "## 项目：将Excel文件转成CSV"
   ]
  },
  {
   "cell_type": "markdown",
   "id": "b7af3733-aef7-4cf8-ba10-47de5b6403a6",
   "metadata": {},
   "source": [
    "# Chapter 17: 保持时间、计划任务和启动程序"
   ]
  },
  {
   "cell_type": "markdown",
   "id": "8fe043a2-8839-4ba5-9d02-5a782e1f1488",
   "metadata": {},
   "source": [
    "## time模块"
   ]
  },
  {
   "cell_type": "code",
   "execution_count": 13,
   "id": "5c48f36b-6e2b-495f-8a78-3b9f32905b78",
   "metadata": {},
   "outputs": [],
   "source": [
    "import sys\n",
    "sys.set_int_max_str_digits(100000)"
   ]
  },
  {
   "cell_type": "code",
   "execution_count": 9,
   "id": "20c94dc7-6ef5-483f-9ade-217d6f144109",
   "metadata": {},
   "outputs": [
    {
     "data": {
      "text/plain": [
       "1698914335.7009728"
      ]
     },
     "execution_count": 9,
     "metadata": {},
     "output_type": "execute_result"
    }
   ],
   "source": [
    "import time\n",
    "time.time()"
   ]
  },
  {
   "cell_type": "markdown",
   "id": "7628c2da-bfcf-4093-9b84-24d83d6f55be",
   "metadata": {},
   "source": [
    "+ ↑ UNIX纪元时间戳"
   ]
  },
  {
   "cell_type": "code",
   "execution_count": 14,
   "id": "5ba778db-4c2e-4278-831f-2bc1ed8b4415",
   "metadata": {},
   "outputs": [],
   "source": [
    "def cal_prod():\n",
    "    product = 1\n",
    "    for i in range(1,10000):\n",
    "        product = product * i\n",
    "    return product"
   ]
  },
  {
   "cell_type": "code",
   "execution_count": 15,
   "id": "ed0dc38b-0059-4c67-9f25-b128c35e7cca",
   "metadata": {},
   "outputs": [
    {
     "name": "stdout",
     "output_type": "stream",
     "text": [
      "the result is 35656 digits long\n",
      "took 0.017920494079589844 seconds to calculate\n"
     ]
    }
   ],
   "source": [
    "start_time = time.time()\n",
    "prod = cal_prod()\n",
    "end_time = time.time()\n",
    "print(f'the result is {len(str(prod))} digits long')\n",
    "print(f'took {end_time-start_time} seconds to calculate')"
   ]
  },
  {
   "cell_type": "code",
   "execution_count": 16,
   "id": "11056413-07ed-4ce2-8bd1-cdbfa8fc4be0",
   "metadata": {},
   "outputs": [
    {
     "data": {
      "text/plain": [
       "'Thu Nov  2 16:40:17 2023'"
      ]
     },
     "execution_count": 16,
     "metadata": {},
     "output_type": "execute_result"
    }
   ],
   "source": [
    "time.ctime()"
   ]
  },
  {
   "cell_type": "code",
   "execution_count": 17,
   "id": "b0d7df39-eed3-4491-9689-7096f63d791c",
   "metadata": {},
   "outputs": [
    {
     "data": {
      "text/plain": [
       "1698914439.63"
      ]
     },
     "execution_count": 17,
     "metadata": {},
     "output_type": "execute_result"
    }
   ],
   "source": [
    "round(time.time(),2)"
   ]
  },
  {
   "cell_type": "code",
   "execution_count": 18,
   "id": "0b224cb9-3296-4a77-a1af-99ce09d70e6f",
   "metadata": {},
   "outputs": [],
   "source": [
    "this_moment = time.time()"
   ]
  },
  {
   "cell_type": "code",
   "execution_count": 21,
   "id": "2a7d7af8-d172-4818-9390-62edba8afe4b",
   "metadata": {},
   "outputs": [
    {
     "data": {
      "text/plain": [
       "'Thu Nov  2 16:48:23 2023'"
      ]
     },
     "execution_count": 21,
     "metadata": {},
     "output_type": "execute_result"
    }
   ],
   "source": [
    "time.ctime(this_moment)"
   ]
  },
  {
   "cell_type": "markdown",
   "id": "c884c83c-62f1-4171-b6c0-fb9ce2e1ae35",
   "metadata": {},
   "source": [
    "## datetime模块"
   ]
  },
  {
   "cell_type": "markdown",
   "id": "8dd13ec5-2117-4d6c-ac00-08c5d7bd23e9",
   "metadata": {},
   "source": [
    "+ 对日期进行算数运算"
   ]
  },
  {
   "cell_type": "code",
   "execution_count": 19,
   "id": "4945633d-0adc-4644-b08b-cc2fadfd0818",
   "metadata": {},
   "outputs": [],
   "source": [
    "import datetime"
   ]
  },
  {
   "cell_type": "code",
   "execution_count": 20,
   "id": "9876d9fb-f4c3-495f-8e57-e6eda7c0eeea",
   "metadata": {},
   "outputs": [
    {
     "data": {
      "text/plain": [
       "datetime.datetime(2023, 11, 2, 16, 48, 53, 318663)"
      ]
     },
     "execution_count": 20,
     "metadata": {},
     "output_type": "execute_result"
    }
   ],
   "source": [
    "datetime.datetime.now()"
   ]
  },
  {
   "cell_type": "code",
   "execution_count": 22,
   "id": "dbfc03fb-84fc-484f-afa6-cbdeead6027a",
   "metadata": {},
   "outputs": [],
   "source": [
    "dt = datetime.datetime(2019,12,20,18,0,0,0)"
   ]
  },
  {
   "cell_type": "markdown",
   "id": "5b6f7973-7726-4b6d-b2b1-2943465ecf90",
   "metadata": {},
   "source": [
    "+ 年月日时分秒微秒"
   ]
  },
  {
   "cell_type": "code",
   "execution_count": 23,
   "id": "1d7d9c28-9baa-4421-9491-4a636a22473a",
   "metadata": {},
   "outputs": [
    {
     "data": {
      "text/plain": [
       "20"
      ]
     },
     "execution_count": 23,
     "metadata": {},
     "output_type": "execute_result"
    }
   ],
   "source": [
    "dt.day"
   ]
  },
  {
   "cell_type": "code",
   "execution_count": 24,
   "id": "6737bf59-b563-4db1-82ac-0794f5841639",
   "metadata": {},
   "outputs": [
    {
     "data": {
      "text/plain": [
       "0"
      ]
     },
     "execution_count": 24,
     "metadata": {},
     "output_type": "execute_result"
    }
   ],
   "source": [
    "dt.second"
   ]
  },
  {
   "cell_type": "code",
   "execution_count": 25,
   "id": "54523335-2741-408a-84b9-eee5642987dc",
   "metadata": {},
   "outputs": [
    {
     "data": {
      "text/plain": [
       "0"
      ]
     },
     "execution_count": 25,
     "metadata": {},
     "output_type": "execute_result"
    }
   ],
   "source": [
    "dt.microsecond"
   ]
  },
  {
   "cell_type": "code",
   "execution_count": 26,
   "id": "f13d1b54-1184-4e35-aecf-62165281845f",
   "metadata": {},
   "outputs": [
    {
     "data": {
      "text/plain": [
       "0"
      ]
     },
     "execution_count": 26,
     "metadata": {},
     "output_type": "execute_result"
    }
   ],
   "source": [
    "dt.minute"
   ]
  },
  {
   "cell_type": "code",
   "execution_count": 27,
   "id": "3295248d-e2f0-4f02-8c48-345f6d9d0e84",
   "metadata": {},
   "outputs": [
    {
     "data": {
      "text/plain": [
       "18"
      ]
     },
     "execution_count": 27,
     "metadata": {},
     "output_type": "execute_result"
    }
   ],
   "source": [
    "dt.hour"
   ]
  },
  {
   "cell_type": "markdown",
   "id": "cc75ed01-dfc2-4699-9373-0036bdc1a042",
   "metadata": {},
   "source": [
    "+ UNIX纪元时间戳可以通过datetime.datetime.fromtimestamp()转换为datetime对象"
   ]
  },
  {
   "cell_type": "code",
   "execution_count": 30,
   "id": "fe23d5b6-dc45-4c50-8fe5-b83ebb112075",
   "metadata": {},
   "outputs": [
    {
     "data": {
      "text/plain": [
       "datetime.datetime(1970, 1, 12, 21, 46, 40)"
      ]
     },
     "execution_count": 30,
     "metadata": {},
     "output_type": "execute_result"
    }
   ],
   "source": [
    "# 表示UNIX纪元后的1000000秒的时刻\n",
    "datetime.datetime.fromtimestamp(1000000)"
   ]
  },
  {
   "cell_type": "code",
   "execution_count": 31,
   "id": "47f228ae-5ed0-4a5b-b3ee-faeb4ae52cf3",
   "metadata": {},
   "outputs": [
    {
     "data": {
      "text/plain": [
       "datetime.datetime(2023, 11, 2, 16, 58, 9, 741725)"
      ]
     },
     "execution_count": 31,
     "metadata": {},
     "output_type": "execute_result"
    }
   ],
   "source": [
    "# 将此刻的UNIX纪元时间戳返回给fromtimestamp\n",
    "datetime.datetime.fromtimestamp(time.time())"
   ]
  },
  {
   "cell_type": "code",
   "execution_count": 32,
   "id": "85ed45cd-c107-4060-b8d9-5571a9052f55",
   "metadata": {},
   "outputs": [],
   "source": [
    "hallowwen2019 = datetime.datetime(2019,10,31,0,0,0)\n",
    "newyear2020 = datetime.datetime(2020,1,1,0,0,0)\n",
    "oct31_2019 = datetime.datetime(2019,10,31,0,0,0)"
   ]
  },
  {
   "cell_type": "code",
   "execution_count": 33,
   "id": "f91e2061-3c27-4ab7-a081-084786c16414",
   "metadata": {},
   "outputs": [
    {
     "data": {
      "text/plain": [
       "True"
      ]
     },
     "execution_count": 33,
     "metadata": {},
     "output_type": "execute_result"
    }
   ],
   "source": [
    "newyear2020 > hallowwen2019 and newyear2020 > oct31_2019"
   ]
  },
  {
   "cell_type": "code",
   "execution_count": 34,
   "id": "1e625ed7-755d-4679-a2af-db91ec9bb05f",
   "metadata": {},
   "outputs": [
    {
     "data": {
      "text/plain": [
       "True"
      ]
     },
     "execution_count": 34,
     "metadata": {},
     "output_type": "execute_result"
    }
   ],
   "source": [
    "hallowwen2019 == oct31_2019"
   ]
  },
  {
   "cell_type": "markdown",
   "id": "a11cb9e3-9ae9-419b-80ab-8b458789d6f9",
   "metadata": {},
   "source": [
    "### timedelta数据类型"
   ]
  },
  {
   "cell_type": "code",
   "execution_count": 35,
   "id": "a8fa641a-52f1-44ac-967b-ca8fa33ca1ea",
   "metadata": {},
   "outputs": [],
   "source": [
    "delta = datetime.timedelta(days=11, hours=10, minutes=9,seconds=8)"
   ]
  },
  {
   "cell_type": "code",
   "execution_count": 36,
   "id": "1a5bc182-b404-4bf5-92ee-aef0417a44f5",
   "metadata": {},
   "outputs": [
    {
     "data": {
      "text/plain": [
       "datetime.datetime(2020, 1, 12, 10, 9, 8)"
      ]
     },
     "execution_count": 36,
     "metadata": {},
     "output_type": "execute_result"
    }
   ],
   "source": [
    "newyear2020 + delta"
   ]
  },
  {
   "cell_type": "code",
   "execution_count": 41,
   "id": "0d5ceb7f-862f-44e1-9d64-a4501aac50d0",
   "metadata": {},
   "outputs": [],
   "source": [
    "another_day = datetime.datetime(2018,12,31,11,50,0)"
   ]
  },
  {
   "cell_type": "code",
   "execution_count": 42,
   "id": "f9b39991-c349-4034-a95c-3edb718d7ce7",
   "metadata": {},
   "outputs": [
    {
     "data": {
      "text/plain": [
       "datetime.datetime(2019, 1, 11, 21, 59, 8)"
      ]
     },
     "execution_count": 42,
     "metadata": {},
     "output_type": "execute_result"
    }
   ],
   "source": [
    "another_day + delta"
   ]
  },
  {
   "cell_type": "code",
   "execution_count": 44,
   "id": "0c9a76bb-88f6-4174-ac89-b1dbfae80b8d",
   "metadata": {},
   "outputs": [
    {
     "data": {
      "text/plain": [
       "986948.0"
      ]
     },
     "execution_count": 44,
     "metadata": {},
     "output_type": "execute_result"
    }
   ],
   "source": [
    "delta.total_seconds()"
   ]
  },
  {
   "cell_type": "code",
   "execution_count": 45,
   "id": "4d074d51-4e4b-404b-8acc-eb9c7123fdf2",
   "metadata": {},
   "outputs": [
    {
     "data": {
      "text/plain": [
       "datetime.timedelta(days=11, seconds=36548)"
      ]
     },
     "execution_count": 45,
     "metadata": {},
     "output_type": "execute_result"
    }
   ],
   "source": [
    "delta"
   ]
  },
  {
   "cell_type": "code",
   "execution_count": 46,
   "id": "d39b9d43-02d0-44e3-a722-571d89e063df",
   "metadata": {},
   "outputs": [
    {
     "data": {
      "text/plain": [
       "'11 days, 10:09:08'"
      ]
     },
     "execution_count": 46,
     "metadata": {},
     "output_type": "execute_result"
    }
   ],
   "source": [
    "str(delta)"
   ]
  },
  {
   "cell_type": "code",
   "execution_count": 47,
   "id": "53478e02-11a7-428a-82ce-45366a639d09",
   "metadata": {},
   "outputs": [],
   "source": [
    "newyear2024 = datetime.datetime(2024,1,1,0,0,0)"
   ]
  },
  {
   "cell_type": "code",
   "execution_count": 48,
   "id": "14538d2c-84a5-4dba-ac7b-3b7406fb2170",
   "metadata": {},
   "outputs": [
    {
     "data": {
      "text/plain": [
       "datetime.timedelta(days=59, seconds=20023, microseconds=134369)"
      ]
     },
     "execution_count": 48,
     "metadata": {},
     "output_type": "execute_result"
    }
   ],
   "source": [
    "newyear2024 - datetime.datetime.now()"
   ]
  },
  {
   "cell_type": "markdown",
   "id": "c4eb3a4a-4b65-41fc-8994-a194a9123fce",
   "metadata": {},
   "source": [
    "### 暂停至特定日期"
   ]
  },
  {
   "cell_type": "code",
   "execution_count": 49,
   "id": "52a2f9ef-32d9-482f-8aeb-b54c3427c753",
   "metadata": {},
   "outputs": [],
   "source": [
    "tomorrow = datetime.datetime(2023,11,3,15,0,0)"
   ]
  },
  {
   "cell_type": "code",
   "execution_count": null,
   "id": "ee9ef162-b3bd-484d-aea5-3e49b0ed7eb9",
   "metadata": {},
   "outputs": [],
   "source": [
    "while datetime.datetime.now() < tomorrow:\n",
    "    time.sleep(1)\n",
    "print('time\\'s up')"
   ]
  },
  {
   "cell_type": "markdown",
   "id": "d7cb9eb0-1d1c-48ef-b5a4-d64d803ab627",
   "metadata": {},
   "source": [
    "### 将datetime对象转换为字符串"
   ]
  },
  {
   "cell_type": "markdown",
   "id": "3afaced0-70a7-467c-a08e-79e8c44d22c1",
   "metadata": {},
   "source": [
    "+ datetime.datetime.strftime()"
   ]
  },
  {
   "cell_type": "markdown",
   "id": "335b6f13-69e1-46f9-aaa2-28df6f09b9ad",
   "metadata": {},
   "source": [
    "|strftime指令|含义|\n",
    "|--|--|\n",
    "|%Y|带世纪的年份，2024|\n",
    "|%y|不带，24|\n",
    "|%m|数字月份，01-12|\n",
    "|%B|英文月份，May|\n",
    "|%b|英文月简写|\n",
    "|%d|01-31|\n",
    "|%j|001-366|\n",
    "|%w|一周的第几天，0周日，6周六|\n",
    "|%A|Monday|\n",
    "|%a|Mon|\n",
    "|%H|00-23|\n",
    "|%I|01-12|\n",
    "|%M|分，00-59|\n",
    "|%S|秒，00-59|\n",
    "|%p|AM/PM|\n",
    "|%%|%|\n"
   ]
  },
  {
   "cell_type": "code",
   "execution_count": 52,
   "id": "0c875426-ed4a-4b8b-9b57-bdf1c2f51b02",
   "metadata": {},
   "outputs": [
    {
     "data": {
      "text/plain": [
       "'23.11.03 15:00:00'"
      ]
     },
     "execution_count": 52,
     "metadata": {},
     "output_type": "execute_result"
    }
   ],
   "source": [
    "tomorrow.strftime('%y.%m.%d %H:%M:%S')"
   ]
  },
  {
   "cell_type": "markdown",
   "id": "a0165e8f-c276-4e4c-8b51-a0eb0e5ddce4",
   "metadata": {},
   "source": [
    "### 将字符串转换成datetime对象"
   ]
  },
  {
   "cell_type": "markdown",
   "id": "7e316c8a-789d-48e9-b8e5-77e5f43ea1a1",
   "metadata": {},
   "source": [
    "+ datetime.datetime.strptime()"
   ]
  },
  {
   "cell_type": "code",
   "execution_count": 55,
   "id": "668792fa-34b4-4fdc-bd58-6e115c5908fc",
   "metadata": {},
   "outputs": [
    {
     "data": {
      "text/plain": [
       "datetime.datetime(1900, 10, 19, 15, 0)"
      ]
     },
     "execution_count": 55,
     "metadata": {},
     "output_type": "execute_result"
    }
   ],
   "source": [
    "datetime.datetime.strptime('Oct 19, 15:00','%b %d, %H:%M')"
   ]
  },
  {
   "cell_type": "code",
   "execution_count": 60,
   "id": "e32c7e2e-6567-422d-ad39-39ca2b9ac9ac",
   "metadata": {},
   "outputs": [
    {
     "ename": "ValueError",
     "evalue": "time data 'Novermber 03 of 2008' does not match format '%B %d of %Y'",
     "output_type": "error",
     "traceback": [
      "\u001b[1;31m---------------------------------------------------------------------------\u001b[0m",
      "\u001b[1;31mValueError\u001b[0m                                Traceback (most recent call last)",
      "Cell \u001b[1;32mIn[60], line 1\u001b[0m\n\u001b[1;32m----> 1\u001b[0m \u001b[43mdatetime\u001b[49m\u001b[38;5;241;43m.\u001b[39;49m\u001b[43mdatetime\u001b[49m\u001b[38;5;241;43m.\u001b[39;49m\u001b[43mstrptime\u001b[49m\u001b[43m(\u001b[49m\u001b[38;5;124;43m'\u001b[39;49m\u001b[38;5;124;43mNovermber 03 of 2008\u001b[39;49m\u001b[38;5;124;43m'\u001b[39;49m\u001b[43m,\u001b[49m\u001b[43m \u001b[49m\u001b[38;5;124;43m'\u001b[39;49m\u001b[38;5;124;43m%\u001b[39;49m\u001b[38;5;124;43mB \u001b[39;49m\u001b[38;5;132;43;01m%d\u001b[39;49;00m\u001b[38;5;124;43m of \u001b[39;49m\u001b[38;5;124;43m%\u001b[39;49m\u001b[38;5;124;43mY\u001b[39;49m\u001b[38;5;124;43m'\u001b[39;49m\u001b[43m)\u001b[49m\n",
      "File \u001b[1;32mD:\\anaconda3\\Lib\\_strptime.py:568\u001b[0m, in \u001b[0;36m_strptime_datetime\u001b[1;34m(cls, data_string, format)\u001b[0m\n\u001b[0;32m    565\u001b[0m \u001b[38;5;28;01mdef\u001b[39;00m \u001b[38;5;21m_strptime_datetime\u001b[39m(\u001b[38;5;28mcls\u001b[39m, data_string, \u001b[38;5;28mformat\u001b[39m\u001b[38;5;241m=\u001b[39m\u001b[38;5;124m\"\u001b[39m\u001b[38;5;132;01m%a\u001b[39;00m\u001b[38;5;124m \u001b[39m\u001b[38;5;124m%\u001b[39m\u001b[38;5;124mb \u001b[39m\u001b[38;5;132;01m%d\u001b[39;00m\u001b[38;5;124m \u001b[39m\u001b[38;5;124m%\u001b[39m\u001b[38;5;124mH:\u001b[39m\u001b[38;5;124m%\u001b[39m\u001b[38;5;124mM:\u001b[39m\u001b[38;5;124m%\u001b[39m\u001b[38;5;124mS \u001b[39m\u001b[38;5;124m%\u001b[39m\u001b[38;5;124mY\u001b[39m\u001b[38;5;124m\"\u001b[39m):\n\u001b[0;32m    566\u001b[0m \u001b[38;5;250m    \u001b[39m\u001b[38;5;124;03m\"\"\"Return a class cls instance based on the input string and the\u001b[39;00m\n\u001b[0;32m    567\u001b[0m \u001b[38;5;124;03m    format string.\"\"\"\u001b[39;00m\n\u001b[1;32m--> 568\u001b[0m     tt, fraction, gmtoff_fraction \u001b[38;5;241m=\u001b[39m \u001b[43m_strptime\u001b[49m\u001b[43m(\u001b[49m\u001b[43mdata_string\u001b[49m\u001b[43m,\u001b[49m\u001b[43m \u001b[49m\u001b[38;5;28;43mformat\u001b[39;49m\u001b[43m)\u001b[49m\n\u001b[0;32m    569\u001b[0m     tzname, gmtoff \u001b[38;5;241m=\u001b[39m tt[\u001b[38;5;241m-\u001b[39m\u001b[38;5;241m2\u001b[39m:]\n\u001b[0;32m    570\u001b[0m     args \u001b[38;5;241m=\u001b[39m tt[:\u001b[38;5;241m6\u001b[39m] \u001b[38;5;241m+\u001b[39m (fraction,)\n",
      "File \u001b[1;32mD:\\anaconda3\\Lib\\_strptime.py:349\u001b[0m, in \u001b[0;36m_strptime\u001b[1;34m(data_string, format)\u001b[0m\n\u001b[0;32m    347\u001b[0m found \u001b[38;5;241m=\u001b[39m format_regex\u001b[38;5;241m.\u001b[39mmatch(data_string)\n\u001b[0;32m    348\u001b[0m \u001b[38;5;28;01mif\u001b[39;00m \u001b[38;5;129;01mnot\u001b[39;00m found:\n\u001b[1;32m--> 349\u001b[0m     \u001b[38;5;28;01mraise\u001b[39;00m \u001b[38;5;167;01mValueError\u001b[39;00m(\u001b[38;5;124m\"\u001b[39m\u001b[38;5;124mtime data \u001b[39m\u001b[38;5;132;01m%r\u001b[39;00m\u001b[38;5;124m does not match format \u001b[39m\u001b[38;5;132;01m%r\u001b[39;00m\u001b[38;5;124m\"\u001b[39m \u001b[38;5;241m%\u001b[39m\n\u001b[0;32m    350\u001b[0m                      (data_string, \u001b[38;5;28mformat\u001b[39m))\n\u001b[0;32m    351\u001b[0m \u001b[38;5;28;01mif\u001b[39;00m \u001b[38;5;28mlen\u001b[39m(data_string) \u001b[38;5;241m!=\u001b[39m found\u001b[38;5;241m.\u001b[39mend():\n\u001b[0;32m    352\u001b[0m     \u001b[38;5;28;01mraise\u001b[39;00m \u001b[38;5;167;01mValueError\u001b[39;00m(\u001b[38;5;124m\"\u001b[39m\u001b[38;5;124munconverted data remains: \u001b[39m\u001b[38;5;132;01m%s\u001b[39;00m\u001b[38;5;124m\"\u001b[39m \u001b[38;5;241m%\u001b[39m\n\u001b[0;32m    353\u001b[0m                       data_string[found\u001b[38;5;241m.\u001b[39mend():])\n",
      "\u001b[1;31mValueError\u001b[0m: time data 'Novermber 03 of 2008' does not match format '%B %d of %Y'"
     ]
    }
   ],
   "source": [
    "datetime.datetime.strptime('Novermber 03 of 2008', '%B %d of %Y')"
   ]
  },
  {
   "cell_type": "code",
   "execution_count": 65,
   "id": "867457a6-06ee-4571-b719-26fda2e40e65",
   "metadata": {},
   "outputs": [
    {
     "data": {
      "text/plain": [
       "datetime.datetime(2008, 11, 3, 0, 0)"
      ]
     },
     "execution_count": 65,
     "metadata": {},
     "output_type": "execute_result"
    }
   ],
   "source": [
    "datetime.datetime.strptime(\"November 03 of '2008\", \"%B %d of '%Y\")"
   ]
  },
  {
   "cell_type": "markdown",
   "id": "c637802b-cf64-4971-9203-cce059c1db78",
   "metadata": {},
   "source": [
    "## 多线程"
   ]
  },
  {
   "cell_type": "code",
   "execution_count": 66,
   "id": "002e69da-75d5-4be5-95b6-173ccc072df5",
   "metadata": {},
   "outputs": [
    {
     "name": "stdout",
     "output_type": "stream",
     "text": [
      "start of program\n",
      "end of program\n",
      "wake up \n"
     ]
    }
   ],
   "source": [
    "import threading, time\n",
    "\n",
    "print('start of program')\n",
    "\n",
    "def take_a_nap():\n",
    "    time.sleep(5)\n",
    "    print('wake up ')\n",
    "\n",
    "threading_obj = threading.Thread(target=take_a_nap)\n",
    "threading_obj.start()\n",
    "\n",
    "print('end of program')"
   ]
  },
  {
   "cell_type": "markdown",
   "id": "3bca3655-b1f1-450e-8bf0-4f0557adb96c",
   "metadata": {},
   "source": [
    "### 向线程的目标函数传递参数"
   ]
  },
  {
   "cell_type": "code",
   "execution_count": 67,
   "id": "361f5d3b-29df-4a4e-a161-ec95489f2369",
   "metadata": {},
   "outputs": [],
   "source": [
    "threading_obj= threading.Thread(target=print, args=['cats', 'dogs', 'lions'], kwargs={'sep':'&'})"
   ]
  },
  {
   "cell_type": "code",
   "execution_count": 68,
   "id": "ff900887-6df6-417e-8e06-1cf111d7cb20",
   "metadata": {},
   "outputs": [
    {
     "name": "stdout",
     "output_type": "stream",
     "text": [
      "cats&dogs&lions\n"
     ]
    }
   ],
   "source": [
    "threading_obj.start()"
   ]
  },
  {
   "cell_type": "markdown",
   "id": "619220f2-c3fa-41fa-baa7-d94e311fe8bc",
   "metadata": {},
   "source": [
    "### 并发问题"
   ]
  },
  {
   "cell_type": "markdown",
   "id": "c9db4376-33b8-4148-a845-54810f959df5",
   "metadata": {},
   "source": [
    "<font size=3>提醒</font>: 为避免并发问题，绝不能让多个线程读/写相同的变量。当创建一个新的Thread对象时，要确保其目标函数只使用该函数中的局部变量"
   ]
  },
  {
   "cell_type": "markdown",
   "id": "06934844-efd3-4ed8-a8d5-c5c90a9aedd8",
   "metadata": {},
   "source": [
    "## 项目：多线程XKCD下载程序TODO"
   ]
  },
  {
   "cell_type": "markdown",
   "id": "3f79247e-1d3a-4bee-bc96-4386232256e7",
   "metadata": {},
   "source": [
    "## 从python中启动其他程序"
   ]
  },
  {
   "cell_type": "code",
   "execution_count": 1,
   "id": "52d7013b-2b3a-448a-8d23-79c75bce3bf0",
   "metadata": {},
   "outputs": [
    {
     "data": {
      "text/plain": [
       "<Popen: returncode: None args: 'C:\\\\Windows\\\\System32\\\\calc.exe'>"
      ]
     },
     "execution_count": 1,
     "metadata": {},
     "output_type": "execute_result"
    }
   ],
   "source": [
    "import subprocess\n",
    "subprocess.Popen(r'C:\\Windows\\System32\\calc.exe')"
   ]
  },
  {
   "cell_type": "code",
   "execution_count": 2,
   "id": "13545d65-9678-4d70-bb58-8be9c789115a",
   "metadata": {},
   "outputs": [],
   "source": [
    "paint_proc = subprocess.Popen('C:\\Windows\\System32\\mspaint.exe')"
   ]
  },
  {
   "cell_type": "markdown",
   "id": "b9888502-b290-4162-a76d-c86dafc4a135",
   "metadata": {},
   "source": [
    "+ poll() 轮询，进程运行中返回None，正常中止返回0,异常中止为其他整数（通常1)\n",
    "+ wait()等待，至进程结束。"
   ]
  },
  {
   "cell_type": "code",
   "execution_count": 4,
   "id": "4a402f78-883b-4a09-aca6-02231c22a869",
   "metadata": {},
   "outputs": [
    {
     "data": {
      "text/plain": [
       "True"
      ]
     },
     "execution_count": 4,
     "metadata": {},
     "output_type": "execute_result"
    }
   ],
   "source": [
    "paint_proc.poll() == None"
   ]
  },
  {
   "cell_type": "code",
   "execution_count": 5,
   "id": "a2170be0-7a3f-4f1a-9eec-441c6f529520",
   "metadata": {},
   "outputs": [
    {
     "data": {
      "text/plain": [
       "0"
      ]
     },
     "execution_count": 5,
     "metadata": {},
     "output_type": "execute_result"
    }
   ],
   "source": [
    "paint_proc.wait()"
   ]
  },
  {
   "cell_type": "code",
   "execution_count": 6,
   "id": "6a72ef58-d6e3-4875-8444-0628b7da8698",
   "metadata": {},
   "outputs": [
    {
     "data": {
      "text/plain": [
       "0"
      ]
     },
     "execution_count": 6,
     "metadata": {},
     "output_type": "execute_result"
    }
   ],
   "source": [
    "paint_proc.poll()"
   ]
  },
  {
   "cell_type": "markdown",
   "id": "2f1d69c8-44cc-4acb-b2a8-d9d9bbadac43",
   "metadata": {},
   "source": [
    "### 向Popen()传递命令行参数"
   ]
  },
  {
   "cell_type": "markdown",
   "id": "abf7ec1d-18a2-46e8-ae7d-8082fb9a80f0",
   "metadata": {},
   "source": [
    "+ 使用列表作为唯一的参数"
   ]
  },
  {
   "cell_type": "code",
   "execution_count": 10,
   "id": "8745a01b-02d9-44a5-9085-c375342efded",
   "metadata": {},
   "outputs": [],
   "source": [
    "note_obj = subprocess.Popen([r'C:\\Windows\\notepad.exe', r'../hell.txt'])"
   ]
  },
  {
   "cell_type": "code",
   "execution_count": 11,
   "id": "c6956e99-c6c5-4607-bad3-8e794c09e328",
   "metadata": {},
   "outputs": [
    {
     "data": {
      "text/plain": [
       "True"
      ]
     },
     "execution_count": 11,
     "metadata": {},
     "output_type": "execute_result"
    }
   ],
   "source": [
    "note_obj.poll() == None"
   ]
  },
  {
   "cell_type": "code",
   "execution_count": 12,
   "id": "ee066ad4-ed7c-48bf-99f0-dcc9ac4c2527",
   "metadata": {},
   "outputs": [
    {
     "data": {
      "text/plain": [
       "0"
      ]
     },
     "execution_count": 12,
     "metadata": {},
     "output_type": "execute_result"
    }
   ],
   "source": [
    "note_obj.poll()"
   ]
  },
  {
   "cell_type": "markdown",
   "id": "2e6cdc70-5c17-4876-ac20-023bb3532b0e",
   "metadata": {},
   "source": [
    "### Task Scheduler, launchd, corn"
   ]
  },
  {
   "cell_type": "markdown",
   "id": "fb3fec70-86f5-4fe2-ab79-d3e9d66f38ab",
   "metadata": {},
   "source": [
    "+ 系统内置的调度程序"
   ]
  },
  {
   "cell_type": "markdown",
   "id": "3375d32e-3fab-43ca-8254-963289fb21ef",
   "metadata": {},
   "source": [
    "### 用Python打开网站"
   ]
  },
  {
   "cell_type": "markdown",
   "id": "1379577f-c181-4237-8ce6-b08512df4104",
   "metadata": {},
   "source": [
    "+ 详情见第十二章 webbrowser.open() 和 map_it.py"
   ]
  },
  {
   "cell_type": "markdown",
   "id": "c010611d-5606-4009-a98d-aa3e1129db67",
   "metadata": {},
   "source": [
    "### 运行其他python脚本"
   ]
  },
  {
   "cell_type": "markdown",
   "id": "ab000ac6-cb5a-4b53-839f-ed4f04b2aba5",
   "metadata": {},
   "source": [
    "#### test on mac!!!"
   ]
  },
  {
   "cell_type": "code",
   "execution_count": 30,
   "id": "ad6c1abc-a6b1-4e63-be34-1a0d0e7131c7",
   "metadata": {},
   "outputs": [
    {
     "data": {
      "text/plain": [
       "<Popen: returncode: None args: ['C:\\\\Users\\\\DELL\\\\AppData\\\\Local\\\\Programs\\\\...>"
      ]
     },
     "execution_count": 30,
     "metadata": {},
     "output_type": "execute_result"
    }
   ],
   "source": [
    "subprocess.Popen(['C:\\\\Users\\\\DELL\\\\AppData\\\\Local\\\\Programs\\\\Python\\\\Python311\\\\python.exe', 'D:\\\\Code\\\\hello2.py'])"
   ]
  },
  {
   "cell_type": "code",
   "execution_count": null,
   "id": "a9e32a78-aa5d-4a8a-a9ab-a97a6eb57645",
   "metadata": {},
   "outputs": [],
   "source": [
    "# subprocess.Popen(['', ''])"
   ]
  },
  {
   "cell_type": "markdown",
   "id": "b6de8497-675d-4690-8716-ca332fe504c4",
   "metadata": {},
   "source": [
    "### 用默认的应用程序打开文件"
   ]
  },
  {
   "cell_type": "markdown",
   "id": "a78194b6-2f24-436d-95f2-aafbd3cd5c21",
   "metadata": {},
   "source": [
    "+ windows: start ---- 必须要<font size=5>关键字shell = True</font>\n",
    "+ mac: open\n",
    "+ linux: see"
   ]
  },
  {
   "cell_type": "code",
   "execution_count": 31,
   "id": "9a82e23e-c3f7-40fe-a1ed-9b74fa34dd8a",
   "metadata": {},
   "outputs": [
    {
     "data": {
      "text/plain": [
       "<Popen: returncode: None args: ['start', 'D:\\\\Code\\\\hello2.py']>"
      ]
     },
     "execution_count": 31,
     "metadata": {},
     "output_type": "execute_result"
    }
   ],
   "source": [
    "subprocess.Popen(['start', 'D:\\\\Code\\\\hello2.py'], shell=True)"
   ]
  },
  {
   "cell_type": "markdown",
   "id": "97f9a6c2-90ee-47e7-a665-4f06671361c7",
   "metadata": {},
   "source": [
    "## 项目：简单的倒计时程序"
   ]
  },
  {
   "cell_type": "code",
   "execution_count": 38,
   "id": "52c88ca7-ff77-4257-a843-8dbb4f209451",
   "metadata": {},
   "outputs": [
    {
     "name": "stdout",
     "output_type": "stream",
     "text": [
      "1    "
     ]
    },
    {
     "data": {
      "text/plain": [
       "<Popen: returncode: None args: ['start', 'D:/Code/automate_online-materials/...>"
      ]
     },
     "execution_count": 38,
     "metadata": {},
     "output_type": "execute_result"
    }
   ],
   "source": [
    "#!python3\n",
    "# countdown.py -- A simple countdown script\n",
    "import time, subprocess\n",
    "\n",
    "countdown_total  = 10\n",
    "\n",
    "while countdown_total > 0:\n",
    "    print(f'\\r{countdown_total}   ',end='')\n",
    "    time.sleep(1)\n",
    "    countdown_total -=1\n",
    "\n",
    "subprocess.Popen(['start', 'D:/Code/automate_online-materials/alarm.wav'], shell=True)"
   ]
  },
  {
   "cell_type": "markdown",
   "id": "73f94037-2c8a-414e-bcfd-16a5214e871d",
   "metadata": {},
   "source": [
    "## 项目：计划的web漫画下载TODO"
   ]
  },
  {
   "cell_type": "markdown",
   "id": "dfe75f66-eebc-4cf5-99f5-e1ecfc8b34ab",
   "metadata": {},
   "source": [
    "# Chapter 18： 发送电子邮件和短信"
   ]
  },
  {
   "cell_type": "markdown",
   "id": "cb31ced8-3743-4547-a207-59ecb808709e",
   "metadata": {},
   "source": [
    "## 使用GMail API发送和接受电子邮件"
   ]
  },
  {
   "cell_type": "markdown",
   "id": "dd44421a-004a-4fe3-85d3-7bf2504634ca",
   "metadata": {},
   "source": [
    "## SMTP"
   ]
  },
  {
   "cell_type": "code",
   "execution_count": 15,
   "id": "17637cd9-4516-4d6c-a27f-6a6b1fa5d9a1",
   "metadata": {},
   "outputs": [],
   "source": [
    "import smtplib"
   ]
  },
  {
   "cell_type": "markdown",
   "id": "e71f5db6-c877-477f-8565-2f9bb13ba20b",
   "metadata": {},
   "source": [
    "+ <font size=4>QQ邮箱有问题！！！！</font>"
   ]
  },
  {
   "cell_type": "code",
   "execution_count": 33,
   "id": "655e8aed-efb7-4db6-9cb0-74f16ac00c7b",
   "metadata": {},
   "outputs": [],
   "source": [
    "import smtplib\n",
    "import pyinputplus as pyip\n",
    "from email.mime.text import MIMEText\n",
    " \n",
    "# 第三方 SMTP 服务\n",
    "mail_host = \"smtp.qq.com\"  # SMTP服务器\n",
    "mail_user=input('mail user: ')    #用户名\n",
    "mail_pass=pyip.inputPassword(prompt='mail pass: ')\n",
    " \n",
    "sender = mail_user\n",
    "receivers = ['@qq.com']  # 接收人邮箱\n",
    " \n",
    " \n",
    "content = input('content:\\n')\n",
    "title = input('title: ')\n",
    "message = MIMEText(content, 'plain', 'utf-8')  # 内容, 格式, 编码\n",
    "message['From'] = \"{}\".format(sender)\n",
    "message['To'] = \",\".join(receivers)\n",
    "message['Subject'] = title\n",
    " \n",
    "try:\n",
    "    smtpObj = smtplib.SMTP_SSL(mail_host, 465)  # 启用SSL发信, 端口一般是465\n",
    "    smtpObj.login(mail_user, mail_pass)  # 登录验证\n",
    "    smtpObj.sendmail(sender, receivers, message.as_string())  # 发送\n",
    "    print(\"mail has been send successfully.\")\n",
    "except smtplib.SMTPException as e:\n",
    "    print(e)"
   ]
  },
  {
   "cell_type": "code",
   "execution_count": 6,
   "id": "bbbd11c0-5aa2-4842-a01e-48082ada4732",
   "metadata": {},
   "outputs": [
    {
     "data": {
      "text/plain": [
       "<email.mime.text.MIMEText at 0x2050b263550>"
      ]
     },
     "execution_count": 6,
     "metadata": {},
     "output_type": "execute_result"
    }
   ],
   "source": [
    "message"
   ]
  },
  {
   "cell_type": "code",
   "execution_count": 35,
   "id": "80727a21-23e9-41ea-8e48-ff6e972e9a09",
   "metadata": {},
   "outputs": [],
   "source": [
    "message.as_string()"
   ]
  },
  {
   "cell_type": "code",
   "execution_count": 14,
   "id": "5e6b6ee3-7834-46a4-8fc7-32f8fc64e98d",
   "metadata": {},
   "outputs": [
    {
     "data": {
      "text/plain": [
       "(221, b'Bye.')"
      ]
     },
     "execution_count": 14,
     "metadata": {},
     "output_type": "execute_result"
    }
   ],
   "source": [
    "smtpObj.quit()"
   ]
  },
  {
   "cell_type": "markdown",
   "id": "7d00c5e7-6fd9-4f8b-94dc-471546591c5d",
   "metadata": {},
   "source": [
    "## IMAP"
   ]
  },
  {
   "cell_type": "markdown",
   "id": "d8644910-e794-4c71-ab62-ce8cc6f54da0",
   "metadata": {},
   "source": [
    "### imapclient和pyzmail模块"
   ]
  },
  {
   "cell_type": "code",
   "execution_count": 1,
   "id": "c698be1d-04c4-48ab-b9b3-bb698b84e0d6",
   "metadata": {},
   "outputs": [],
   "source": [
    "import imapclient\n",
    "import pyzmail"
   ]
  },
  {
   "cell_type": "code",
   "execution_count": 2,
   "id": "1005cef1-36d6-4796-abf7-c27381da28da",
   "metadata": {},
   "outputs": [],
   "source": [
    "imap_obj = imapclient.IMAPClient('imap.qq.com',ssl=True )"
   ]
  },
  {
   "cell_type": "code",
   "execution_count": 3,
   "id": "27d8756d-a9d5-4a14-a8c1-7f22982adfda",
   "metadata": {},
   "outputs": [
    {
     "data": {
      "text/plain": [
       "b'Success login ok'"
      ]
     },
     "execution_count": 3,
     "metadata": {},
     "output_type": "execute_result"
    }
   ],
   "source": [
    "imap_obj.login(mail_user, mail_pass)"
   ]
  },
  {
   "cell_type": "code",
   "execution_count": 4,
   "id": "18dee1e7-723f-4524-ae90-f7901f2f5122",
   "metadata": {},
   "outputs": [
    {
     "data": {
      "text/plain": [
       "{b'PERMANENTFLAGS': (),\n",
       " b'EXISTS': 8,\n",
       " b'RECENT': 0,\n",
       " b'UIDVALIDITY': 1681298846,\n",
       " b'UIDNEXT': 263,\n",
       " b'FLAGS': (b'\\\\Answered', b'\\\\Flagged', b'\\\\Deleted', b'\\\\Draft', b'\\\\Seen'),\n",
       " b'READ-ONLY': [b'']}"
      ]
     },
     "execution_count": 4,
     "metadata": {},
     "output_type": "execute_result"
    }
   ],
   "source": [
    "imap_obj.select_folder('INBOX', readonly=True)"
   ]
  },
  {
   "cell_type": "code",
   "execution_count": 8,
   "id": "c4cdeee1-031a-4f98-9e6f-57dac2c3b76a",
   "metadata": {},
   "outputs": [],
   "source": [
    "uids = imap_obj.search(['ON 03-Nov-2023'])"
   ]
  },
  {
   "cell_type": "code",
   "execution_count": 9,
   "id": "36336369-4293-40b2-9d45-78571af4a6d6",
   "metadata": {},
   "outputs": [
    {
     "data": {
      "text/plain": [
       "8"
      ]
     },
     "execution_count": 9,
     "metadata": {},
     "output_type": "execute_result"
    }
   ],
   "source": [
    "len(uids)"
   ]
  },
  {
   "cell_type": "code",
   "execution_count": 10,
   "id": "e68ba35d-2afc-4f51-81cd-0545ae664338",
   "metadata": {},
   "outputs": [
    {
     "data": {
      "text/plain": [
       "[255, 256, 257, 258, 259, 260, 261, 262]"
      ]
     },
     "execution_count": 10,
     "metadata": {},
     "output_type": "execute_result"
    }
   ],
   "source": [
    "uids"
   ]
  },
  {
   "cell_type": "code",
   "execution_count": 12,
   "id": "3496963f-4629-42ed-af63-d3c75219043c",
   "metadata": {},
   "outputs": [],
   "source": [
    "raw_msg = imap_obj.fetch([262], ['BODY[]', 'FLAGS'])"
   ]
  },
  {
   "cell_type": "code",
   "execution_count": 13,
   "id": "9c83df14-6d8a-4bf5-8e48-1d34b333dfe5",
   "metadata": {},
   "outputs": [],
   "source": [
    "msg = pyzmail.PyzMessage.factory(raw_msg[262][b'BODY[]'])"
   ]
  },
  {
   "cell_type": "code",
   "execution_count": 14,
   "id": "1c5acffd-f0ab-48dd-b1cf-e65b5ec6ed6f",
   "metadata": {},
   "outputs": [
    {
     "data": {
      "text/plain": [
       "'由非认可的发件人发送的个人文件'"
      ]
     },
     "execution_count": 14,
     "metadata": {},
     "output_type": "execute_result"
    }
   ],
   "source": [
    "msg.get_subject()"
   ]
  },
  {
   "cell_type": "code",
   "execution_count": 15,
   "id": "1629846d-74ef-4863-844d-80d356d2663a",
   "metadata": {},
   "outputs": [
    {
     "data": {
      "text/plain": [
       "[('亚马逊Kindle客服', 'do-not-reply@amazon.com')]"
      ]
     },
     "execution_count": 15,
     "metadata": {},
     "output_type": "execute_result"
    }
   ],
   "source": [
    "msg.get_addresses('from')"
   ]
  },
  {
   "cell_type": "code",
   "execution_count": 34,
   "id": "86f82fcd-0504-44f4-b999-875d113f50dd",
   "metadata": {},
   "outputs": [],
   "source": [
    "msg.get_addresses('to')"
   ]
  },
  {
   "cell_type": "code",
   "execution_count": 17,
   "id": "aabee727-e944-4348-90d2-40f7c64d4c73",
   "metadata": {},
   "outputs": [
    {
     "data": {
      "text/plain": [
       "[]"
      ]
     },
     "execution_count": 17,
     "metadata": {},
     "output_type": "execute_result"
    }
   ],
   "source": [
    "# 抄送人\n",
    "msg.get_addresses('cc')"
   ]
  },
  {
   "cell_type": "code",
   "execution_count": 18,
   "id": "0dd429b0-0ba9-49b7-817a-b16cbfe3fd24",
   "metadata": {},
   "outputs": [
    {
     "data": {
      "text/plain": [
       "[]"
      ]
     },
     "execution_count": 18,
     "metadata": {},
     "output_type": "execute_result"
    }
   ],
   "source": [
    "# 密抄送人\n",
    "msg.get_addresses('bcc')"
   ]
  },
  {
   "cell_type": "code",
   "execution_count": 19,
   "id": "084535d0-5b3f-40cf-85d4-641aecf429be",
   "metadata": {},
   "outputs": [
    {
     "data": {
      "text/plain": [
       "True"
      ]
     },
     "execution_count": 19,
     "metadata": {},
     "output_type": "execute_result"
    }
   ],
   "source": [
    "msg.text_part != None"
   ]
  },
  {
   "cell_type": "code",
   "execution_count": 26,
   "id": "2cf1f891-5b37-4501-be41-c0596e3a81ee",
   "metadata": {},
   "outputs": [
    {
     "data": {
      "text/plain": [
       "True"
      ]
     },
     "execution_count": 26,
     "metadata": {},
     "output_type": "execute_result"
    }
   ],
   "source": [
    "msg.html_part !=None"
   ]
  },
  {
   "cell_type": "code",
   "execution_count": 22,
   "id": "d037b5ad-a464-408b-8fb3-882dbcf4ab9b",
   "metadata": {},
   "outputs": [
    {
     "data": {
      "text/plain": [
       "8"
      ]
     },
     "execution_count": 22,
     "metadata": {},
     "output_type": "execute_result"
    }
   ],
   "source": [
    "len(imap_obj.search(['SINCE 01-Oct-2023']))"
   ]
  },
  {
   "cell_type": "code",
   "execution_count": 31,
   "id": "6bac56cb-508a-4241-9b9a-9d7d9dfa0d24",
   "metadata": {},
   "outputs": [
    {
     "data": {
      "text/plain": [
       "[((b'\\\\NoSelect', b'\\\\HasChildren'), b'/', '其他文件夹'),\n",
       " ((b'\\\\HasNoChildren',), b'/', 'INBOX'),\n",
       " ((b'\\\\HasNoChildren',), b'/', 'Sent Messages'),\n",
       " ((b'\\\\HasNoChildren',), b'/', 'Drafts'),\n",
       " ((b'\\\\HasNoChildren',), b'/', 'Deleted Messages'),\n",
       " ((b'\\\\HasNoChildren',), b'/', 'Junk'),\n",
       " ((b'\\\\HasNoChildren',), b'/', '其他文件夹/QQ邮件订阅')]"
      ]
     },
     "execution_count": 31,
     "metadata": {},
     "output_type": "execute_result"
    }
   ],
   "source": [
    "imap_obj.list_folders()"
   ]
  },
  {
   "cell_type": "code",
   "execution_count": 32,
   "id": "76aca671-3860-44c0-9733-11874d07997b",
   "metadata": {},
   "outputs": [
    {
     "data": {
      "text/plain": [
       "{b'PERMANENTFLAGS': (),\n",
       " b'EXISTS': 219,\n",
       " b'RECENT': 0,\n",
       " b'UNSEEN': [b'1'],\n",
       " b'UIDVALIDITY': 1681298846,\n",
       " b'UIDNEXT': 263,\n",
       " b'FLAGS': (b'\\\\Answered', b'\\\\Flagged', b'\\\\Deleted', b'\\\\Draft', b'\\\\Seen'),\n",
       " b'READ-ONLY': [b'']}"
      ]
     },
     "execution_count": 32,
     "metadata": {},
     "output_type": "execute_result"
    }
   ],
   "source": [
    "imap_obj.select_folder('INBOX', readonly=True)"
   ]
  },
  {
   "cell_type": "code",
   "execution_count": 40,
   "id": "6162c8e3-ca4a-487b-b346-2e99b2a06f69",
   "metadata": {},
   "outputs": [
    {
     "data": {
      "text/plain": [
       "'\\n  \\n\\n尊敬的客户：  发件人 zxy_zhao@qq.com 尝试发送文档到您的 Kindle。由于 zxy_zhao@qq.com 不在您 Kindle 获核准的电子邮件列表中，该发件人向您发送的任何文档均无法送达您的 Kindle。  如需核准该发件人的电子邮件地址，请执行以下操作：  1.访问管理我的内容和设备页面。 2.登录您的亚马逊账户。 3.转至“管理您的内容和设备”下的“个人文档设置”。 4.在“获核准的个人文档电子邮件列表”下，点击“添加获核准的新电子邮件地址”。 5.输入要核准的电子邮件地址，然后选择“添加地址”。  然后，通知发件人重新发送文档。  请记住，只有您信任电子邮件地址的来源时，才将其添加为获核准的联系人。  请注意，您只会收到一次此通知。今后，您只会收到通过获核准的电子邮件地址发送的文档。  如需了解更多信息，请访问我们的帮助页面。下载或使用 Send to Kindle 即表示您同意此处的条款。  谨启！ 亚马逊 Kindle 支持团队  此电子邮件地址仅用于发送通知，无法接收电子邮件。请勿回复此电子邮件。\\n© 2023 Amazon.com公司或其关联公司。保留所有权利。Amazon以及所有相关商标均是Amazon.com公司或其关联公司的商标.\\n\\n亚马逊'"
      ]
     },
     "execution_count": 40,
     "metadata": {},
     "output_type": "execute_result"
    }
   ],
   "source": [
    "msg.text_part.get_payload().decode(msg.text_part.charset)"
   ]
  },
  {
   "cell_type": "code",
   "execution_count": 27,
   "id": "2c298e1d-c642-4cd0-8eda-2385109e24cb",
   "metadata": {},
   "outputs": [
    {
     "data": {
      "text/plain": [
       "'<!DOCTYPE html><html lang=\"zh_CN\" xmlns=\"http://www.w3.org/1999/xhtml\"><head><meta content=\"text/html; charset=UTF-8\" http-equiv=\"Content-Type\"><meta content=\"telephone=no\" name=\"format-detection\"><meta content=\"width=device-width,initial-scale=1;user-scalable=no;\" name=\"viewport\"><meta content=\"IE=9; IE=8; IE=7; IE=EDGE\" http-equiv=\"X-UA-Compatible\"><meta name=\"x-apple-disable-message-reformatting\"><meta content=\"light dark\" name=\"color-scheme\"><meta content=\"light dark\" name=\"supported-color-schemes\"><style type=\"text/css\">@font-face{font-family:Ember;font-weight:700;src:local(\"Ember\"),url(https://m.media-amazon.com/images/G/01/outbound/AmazonEmber_Bd._CB1515450239_.WOFF) format(\"woff\")}@font-face{font-family:Ember;font-weight:600;src:local(\"Ember\"),url(https://m.media-amazon.com/images/G/01/outbound/AmazonEmber_Bd._CB1515450239_.WOFF) format(\"woff\")}@font-face{font-family:Ember;font-style:normal;font-weight:400;src:local(\"Ember\"),url(https://m.media-amazon.com/images/G/01/outbound/AmazonEmber_Rg._CB1515450239_.WOFF) format(\"woff\")}@font-face{font-family:Ember;font-weight:200;src:local(\"Ember\"),url(https://m.media-amazon.com/images/G/01/outbound/AmazonEmber_Lt._CB1515450239_.WOFF) format(\"woff\")}@font-face{font-family:Ember;font-weight:500;src:local(\"Ember\"),url(https://m.media-amazon.com/images/G/01/outbound/AmazonEmber_Md._CB1515450239_.WOFF) format(\"woff\")}*{font-family:Ember,Helvetica,Arial,sans-serif;border-spacing:0;margin:0;padding:0}[data-ogsc] :root{--body-bg:#181A1A;--body-color:#ffffff}.rootContent{background:#fff!important}.fonts,.sans,h1,h2,h3,h4,h5,li,p,table,td,th{color:#0f1111}a{color:#007185;text-decoration:none}@media screen and (max-width:599px){.mobile-only{display:initial!important}.desktop-only{display:none!important;mso-hide:all!important}}@media screen and (min-width:600px){.mobile-only{display:none!important;mso-hide:all!important}}@media (prefers-color-scheme:light){:root{--body-bg:#ffffff;--body-color:#000000}}@media (prefers-color-scheme:dark){:root{--body-bg:#181A1A;--body-color:#ffffff}body{background-color:#181a1a!important}.fonts,.sans,h1,h2,h3,h4,h5,li,p,table,td,th{color:#fff}a{color:#6ed6e6}.rootContent{background:#181a1a!important}}[data-ogsc] .fonts,[data-ogsc] .sans,[data-ogsc] h1,[data-ogsc] h2,[data-ogsc] h3,[data-ogsc] h4,[data-ogsc] h5,[data-ogsc] li,[data-ogsc] p{color:#fff}[data-ogsc] a{color:#6ed6e6}[data-ogsc] .rootContent{background:#181a1a}body{background-color:var(--body-bg)!important;color:var(--body-color)!important;margin:0!important;padding:0}body>img{position:absolute}table{border-spacing:0}h3,h4,h5,table th{font-weight:400;margin:0;padding:0}td{padding:0}img{border:0}a,span,td{word-break:keep-all!important}ol,ul{margin-left:32px}.button{background-color:#ffd814;color:#0f1111;border-radius:24px;padding:1px 16px;display:inline-block;box-shadow:1px 2px 4px rgba(153,153,153,.2);font-size:13px;line-height:29px;white-space:nowrap;text-decoration:none;margin-top:4px}a,body,table,td{-ms-text-size-adjust:100%;-webkit-text-size-adjust:100%}.appleBody a,.appleFooter a{color:#007185!important;text-decoration:none}a[x-apple-data-detectors]{color:#007185!important;font-family:inherit!important;font-size:inherit!important;font-weight:inherit!important;line-height:inherit!important}u+#body a{color:#007185!important;font-family:inherit!important;font-size:inherit!important;font-weight:inherit!important;line-height:inherit!important}#MessageViewBody a{color:#007185!important;font-family:inherit!important;font-size:inherit!important;font-weight:inherit!important;line-height:inherit!important}</style><style type=\"text/css\">.productListPrice{color:#565959}.productDiscount{color:#cc0c39}.productPrice{color:#0f1111}@media (prefers-color-scheme:dark){.productListPrice{color:#fff!important}.productDiscount{color:#ff8c8c!important}.productPrice{color:#fff!important}}[data-ogsc] .productListPrice{color:#fff!important}[data-ogsc] .productDiscount{color:#ff8c8c!important}[data-ogsc] .productPrice{color:#fff!important}</style><style type=\"text/css\">.dealBadge{background-color:#cc0c39;color:#fff}.dealText{color:#cc0c39}@media (prefers-color-scheme:dark){.dealBadge{background-color:#ff8c8c!important;color:#000!important}.dealText{color:#ff8c8c!important}}[data-ogsc] .dealBadge{background-color:#ff8c8c!important;color:#000!important}[data-ogsc] .dealText{color:#ff8c8c!important}</style><style type=\"text/css\">#amazonLogomEZTLJPs8y1bAKS35iRzU7.full{max-width:100%!important;padding-left:0!important;padding-right:0!important;width:100%!important}#amazonLogomEZTLJPs8y1bAKS35iRzU7.zeroBorder{border:0;border-collapse:collapse;border-spacing:0}#amazonLogomEZTLJPs8y1bAKS35iRzU7 .full{max-width:100%!important;padding-left:0!important;padding-right:0!important;width:100%!important}#amazonLogomEZTLJPs8y1bAKS35iRzU7 .zeroBorder{border:0;border-collapse:collapse;border-spacing:0}#amazonLogomEZTLJPs8y1bAKS35iRzU7 .light-img{background-color:#fff;background-image:linear-gradient(#fff,#fff)}@media (prefers-color-scheme:light){#amazonLogomEZTLJPs8y1bAKS35iRzU7 .light-img{display:block!important}#amazonLogomEZTLJPs8y1bAKS35iRzU7 .dark-img{display:none!important}}@media (prefers-color-scheme:dark){#amazonLogomEZTLJPs8y1bAKS35iRzU7 .content{background-color:#181a1a!important}#amazonLogomEZTLJPs8y1bAKS35iRzU7 .light-img{display:none!important}#amazonLogomEZTLJPs8y1bAKS35iRzU7 .dark-img{display:block!important}}[data-ogsc] #amazonLogomEZTLJPs8y1bAKS35iRzU7 .content{background-color:#181a1a!important}[data-ogsc] #amazonLogomEZTLJPs8y1bAKS35iRzU7 .light-img{display:none!important}[data-ogsc] #amazonLogomEZTLJPs8y1bAKS35iRzU7 .dark-img{display:block!important}</style><style type=\"text/css\">#surveyCopypEm97UgFLm1RWkMKSL3aqy{margin-left:auto;margin-right:auto;width:100%;max-width:100%}#surveyCopypEm97UgFLm1RWkMKSL3aqy .zeroBorder{border:0;border-collapse:collapse;border-spacing:0}#surveyCopypEm97UgFLm1RWkMKSL3aqy .header{font-weight:700;font-size:18px;line-height:22px}#surveyCopypEm97UgFLm1RWkMKSL3aqy .description{font-weight:400;font-size:15px;line-height:20px}#surveyCopypEm97UgFLm1RWkMKSL3aqy .button{background-color:#ffd814;color:#0f1111;border-radius:24px;padding:1px 16px;display:inline-block;box-shadow:1px 2px 4px rgba(153,153,153,.2);font-size:13px;line-height:29px;white-space:nowrap;text-decoration:none;margin-top:4px}@media (prefers-color-scheme:dark){#surveyCopypEm97UgFLm1RWkMKSL3aqy .content{background-color:#181a1a!important}#surveyCopypEm97UgFLm1RWkMKSL3aqy .description,#surveyCopypEm97UgFLm1RWkMKSL3aqy .header{color:#fff!important}}[data-ogsc] #surveyCopypEm97UgFLm1RWkMKSL3aqy .content{background-color:#181a1a!important}[data-ogsc] #surveyCopypEm97UgFLm1RWkMKSL3aqy .description,[data-ogsc] #surveyCopypEm97UgFLm1RWkMKSL3aqy .header{color:#fff!important}</style><style type=\"text/css\">#transactionalFooter988moCYwqgy3mn55iN7LNY.full{max-width:100%!important;padding-left:0!important;padding-right:0!important;width:100%!important}#transactionalFooter988moCYwqgy3mn55iN7LNY.zeroBorder{border:0;border-collapse:collapse;border-spacing:0}#transactionalFooter988moCYwqgy3mn55iN7LNY .sans{font-family:Ember,Helvetica,Arial,sans-serif;color:#494d4d}#transactionalFooter988moCYwqgy3mn55iN7LNY .additionalText *,#transactionalFooter988moCYwqgy3mn55iN7LNY p{color:#494d4d;font-size:14px;font-weight:400;line-height:20px;margin:0;text-decoration:none}#transactionalFooter988moCYwqgy3mn55iN7LNY .footerlinks a,#transactionalFooter988moCYwqgy3mn55iN7LNY a{color:#007185!important;text-decoration:none}#transactionalFooter988moCYwqgy3mn55iN7LNY .full{max-width:100%!important;padding-left:0!important;padding-right:0!important;width:100%!important}#transactionalFooter988moCYwqgy3mn55iN7LNY .zeroBorder{border:0;border-collapse:collapse;border-spacing:0}#transactionalFooter988moCYwqgy3mn55iN7LNY .light-img{background-color:#fff;background-image:linear-gradient(#fff,#fff)}@media (prefers-color-scheme:light){#transactionalFooter988moCYwqgy3mn55iN7LNY .light-img{display:block!important}#transactionalFooter988moCYwqgy3mn55iN7LNY .dark-img{display:none!important}#transactionalFooter988moCYwqgy3mn55iN7LNY .content{background-color:#f0f2f2!important}}@media (prefers-color-scheme:dark){#transactionalFooter988moCYwqgy3mn55iN7LNY .light-img{display:none!important}#transactionalFooter988moCYwqgy3mn55iN7LNY .dark-img{display:block!important}#transactionalFooter988moCYwqgy3mn55iN7LNY .sans{color:#c8cccc!important}#transactionalFooter988moCYwqgy3mn55iN7LNY .additionalText *{color:#c8cccc!important}#transactionalFooter988moCYwqgy3mn55iN7LNY .footerlinks a,#transactionalFooter988moCYwqgy3mn55iN7LNY a{color:#6ed6e6!important}#transactionalFooter988moCYwqgy3mn55iN7LNY .content{background-color:#303333!important}}[data-ogsc] #transactionalFooter988moCYwqgy3mn55iN7LNY .content{background-color:#303333!important}[data-ogsc] #transactionalFooter988moCYwqgy3mn55iN7LNY .light-img{display:none!important}[data-ogsc] #transactionalFooter988moCYwqgy3mn55iN7LNY .dark-img{display:block!important}[data-ogsc] #transactionalFooter988moCYwqgy3mn55iN7LNY .sans{color:#c8cccc!important}[data-ogsc] #transactionalFooter988moCYwqgy3mn55iN7LNY .additionalText *{color:#c8cccc!important}[data-ogsc] #transactionalFooter988moCYwqgy3mn55iN7LNY .footerlinks a,[data-ogsc] #transactionalFooter988moCYwqgy3mn55iN7LNY a{color:#6ed6e6!important}</style><!--[if gte mso 9]>    <xml>        <o:OfficeDocumentSettings>            <o:AllowPNG />            <o:PixelsPerInch>96</o:PixelsPerInch>        </o:OfficeDocumentSettings>    </xml>    <style>        body, h1, h2, h3, h4, table, th, td, p, li, a, .sans, .fonts {            font-family: Helvetica, Arial, sans-serif !important;        }        [data-ogsc] .rootContent{          background: #181A1A !important;        }    </style>    <![endif]--></head><body class=\"body\"><img width=\"1\" height=\"1\" src=\"https://www.amazon.com/gp/r.html?C=1TNYRM0L2P6OO&K=2YOQK0ZLUFFON&M=urn:rtn:msg:202311031038276e8cfbc5a55d4364b3fae328c2a0p0na&R=29PGIUKBHCUW6&T=O&U=https%3A%2F%2Fimages-na.ssl-images-amazon.com%2Fimages%2FG%2F01%2Fnav%2Ftransp.gif&H=IOLBUIBKYXRS3DZEDDBHT949XNOA&ref_=pe_1825130_138612720_opens\" /><!--[if (gte mso 9)|(IE)]><table    align=\"center\"    class=\"zeroBorder\"    width=\"600\"    style=\"margin-left: auto; margin-right: auto; width: 600px;\">    <tbody width=\"600\">    <tr>        <td width=\"600\" style=\"width: 600px;\"><![endif]--><table class=\"zeroBorder\" style=\"margin-left:auto;margin-right:auto;width:100%\" role=\"presentation\"><tbody><tr><td width=\"600\"><table width=\"600\" role=\"presentation\" class=\"sans zeroBorder\" style=\"width:100%;max-width:600px;margin:0 auto\"><tbody><tr><td class=\"rootContent\" style=\"background-color:#fff\"><table role=\"presentation\" style=\"width:100%\"><tr><td><tr><td style=\"padding-top:0;padding-bottom:4px\"><!-- LOGO --><!-- PRIME LOGO --><!-- ALEXA LOGO --><table id=\"amazonLogomEZTLJPs8y1bAKS35iRzU7\" class=\"full zeroBorder\" style=\"width:100%\" role=\"presentation\"><tbody><tr><td class=\"content\" style=\"padding:16px 16px 12px 16px; text-align:left; background-color: #FFFFFF\"><a href=\"https://www.amazon.com/gp/r.html?C=1TNYRM0L2P6OO&K=2YOQK0ZLUFFON&M=urn:rtn:msg:202311031038276e8cfbc5a55d4364b3fae328c2a0p0na&R=3C0NJL02X72T8&T=C&U=http%3A%2F%2Fwww.amazon.cn&H=GIRWCOGX43OYFBNDC811Q5KATMAA\" target=\"_blank\"><img class=\"light-img\" height=\"30\" role=\"presentation\" src=\"https://m.media-amazon.com/images/G/01/automated/2022/amazon_cn_half_logo_RGB_SQUID.png\" style=\"width:auto; height:30px; max-width:100%; display:block; border:0; float:left; background-color: #ffffff;\" alt=\"\"><!--[if !mso]><! --> <img class=\"dark-img\" height=\"30\" role=\"presentation\" src=\"https://m.media-amazon.com/images/G/01/automated/2022/amazon_cn_half_logo_RGB_WHITE.png\" style=\"display:none; width:auto; height:30px; max-width:100%; border:0; float:left;\" alt=\"\"><!--<![endif]--></a></td></tr></tbody></table></td></tr><tr><td style=\"padding-top:4px;padding-bottom:4px\"> <table id=\"surveyCopypEm97UgFLm1RWkMKSL3aqy\" class=\"zeroBorder\" role=\"presentation\" style=\"width:100%\"><tbody><tr><td style=\"padding:0 8px\"><table style=\"width:100%\" role=\"presentation\"><tbody><tr><td class=\"content\" style=\"padding:12px 8px 16px;background-color:#fff;border-radius:4px;width:100%\"><table style=\"width:100%\" role=\"presentation\"><tbody><tr><td style=\"padding-bottom:12px\" class=\"fonts description\"><p style=\"word-break:break-word!important\" class=\"fonts description\">尊敬的客户： \\r\\n<br />\\r\\n<br /> 发件人 zxy_zhao@qq.com 尝试发送文档到您的 Kindle。由于 zxy_zhao@qq.com 不在您 Kindle 获核准的电子邮件列表中，该发件人向您发送的任何文档均无法送达您的 Kindle。 \\r\\n<br />\\r\\n<br /> 如需核准该发件人的电子邮件地址，请执行以下操作： \\r\\n<br /> 1.访问\\r\\n<a href=\"https://www.amazon.com/gp/f.html?C=1TNYRM0L2P6OO&K=2YOQK0ZLUFFON&M=urn:rtn:msg:202311031038276e8cfbc5a55d4364b3fae328c2a0p0na&R=1FUJIUHPA4SQL&T=C&U=http%3A%2F%2Fwww.amazon.cn%2Fmanageyourkindle%2F%3Fref_%3Dpe_1825130_138612720&H=8ZSTVSBLNGQ3TMQDISKAITMNMLAA&ref_=pe_1825130_138612720\" rel=\"nofollow\">管理我的内容和设备</a>页面。\\r\\n<br /> 2.登录您的\\r\\n<a href=\"https://www.amazon.com/gp/r.html?C=1TNYRM0L2P6OO&K=2YOQK0ZLUFFON&M=urn:rtn:msg:202311031038276e8cfbc5a55d4364b3fae328c2a0p0na&R=2UQZLEQ1VTWV3&T=C&U=http%3A%2F%2Fwww.amazon.cn%3Fref_%3Dpe_1825130_138612720&H=S476ZPQTKITAMTYF06JUDG8M5YMA&ref_=pe_1825130_138612720\" rel=\"nofollow\">亚马逊</a>账户。\\r\\n<br /> 3.转至“管理您的内容和设备”下的“个人文档设置”。\\r\\n<br /> 4.在“获核准的个人文档电子邮件列表”下，点击“添加获核准的新电子邮件地址”。\\r\\n<br /> 5.输入要核准的电子邮件地址，然后选择“添加地址”。 \\r\\n<br />\\r\\n<br /> 然后，通知发件人重新发送文档。 \\r\\n<br />\\r\\n<br /> 请记住，只有您信任电子邮件地址的来源时，才将其添加为获核准的联系人。 \\r\\n<br />\\r\\n<br /> 请注意，您只会收到一次此通知。今后，您只会收到通过获核准的电子邮件地址发送的文档。 \\r\\n<br />\\r\\n<br /> 如需了解更多信息，请访问我们的\\r\\n<a href=\"https://www.amazon.com/gp/f.html?C=1TNYRM0L2P6OO&K=2YOQK0ZLUFFON&M=urn:rtn:msg:202311031038276e8cfbc5a55d4364b3fae328c2a0p0na&R=2PJHFGVH14GDE&T=C&U=http%3A%2F%2Fwww.amazon.cn%2FKindledocuments%2F%3Fref_%3Dpe_1825130_138612720&H=HN9QYAMDQZMJIDMBS3QOTCLZOKQA&ref_=pe_1825130_138612720\" rel=\"nofollow\">帮助页面</a>。下载或使用 Send to Kindle 即表示您同意\\r\\n<a href=\"https://www.amazon.com/gp/r.html?C=1TNYRM0L2P6OO&K=2YOQK0ZLUFFON&M=urn:rtn:msg:202311031038276e8cfbc5a55d4364b3fae328c2a0p0na&R=FSSAGHCENCS7&T=C&U=https%3A%2F%2Fwww.amazon.com%2Fgp%2Fhelp%2Fcustomer%2Fdisplay.html%3FnodeId%3DThDuDmqnYd2Ouy8c6i%26ref_%3Dpe_1825130_138612720&H=PCTAHTCFALXAZ5A0KKVF9ZMWXDKA&ref_=pe_1825130_138612720\" rel=\"nofollow\">此处</a>的条款。 \\r\\n<br />\\r\\n<br /> 谨启！\\r\\n<br /> 亚马逊 Kindle 支持团队 \\r\\n<br />\\r\\n<br /> \\r\\n<i>此电子邮件地址仅用于发送通知，无法接收电子邮件。请勿回复此电子邮件。</i></p></td></tr></tbody></table></td></tr></tbody></table></td></tr></tbody></table></td></tr><tr><td style=\"padding-top:4px;padding-bottom:0\"> <table id=\"transactionalFooter988moCYwqgy3mn55iN7LNY\" class=\"zeroBorder footer\" style=\"margin-left:auto;margin-right:auto;width:100%\" role=\"presentation\"><tbody><tr><td class=\"content\" style=\"background-color:#f0f2f2\"><table role=\"presentation\"><tbody><tr><td style=\"padding:32px 16px 0;word-break:break-word!important\"><p class=\"sans footerlinks\" style=\"word-break:break-word!important\">© 2023 Amazon.com公司或其关联公司。保留所有权利。Amazon以及所有相关商标均是Amazon.com公司或其关联公司的商标.</p></td></tr><tr><td style=\"padding:36px 16px 36px\"><img class=\"light-img\" height=\"12\" role=\"presentation\" src=\"https://m.media-amazon.com/images/G/01/automated/2022/Smile_logo_US.png\" style=\"width:auto;height:12px;max-width:100%;display:block;border:0;float:left;background-color:#f0f2f2;background-image:linear-gradient(#f0f2f2,#f0f2f2)\" alt=\"亚马逊\"><!--[if !mso]><! --> <img class=\"dark-img\" style=\"display:none;width:auto;height:12px;max-width:100%;border:0;float:left\" height=\"12\" role=\"presentation\" src=\"https://m.media-amazon.com/images/G/01/automated/2022/Smile_Mark_RGB_WHITE.png\" alt=\"亚马逊\"><!--<![endif]--></td></tr></tbody></table></td></tr></tbody></table></td></tr></td></tr></table></td></tr></tbody></table></td></tr></tbody></table><!--[if (gte mso 9)|(IE)]></td></tr></tbody></table><![endif]--><img width=\"1\" height=\"1\" src=\"https://www.amazon.com/gp/r.html?C=1TNYRM0L2P6OO&K=2YOQK0ZLUFFON&M=urn:rtn:msg:202311031038276e8cfbc5a55d4364b3fae328c2a0p0na&R=3FX7BYGHDANPG&T=E&U=https%3A%2F%2Fimages-na.ssl-images-amazon.com%2Fimages%2FG%2F01%2Fnav%2Ftransp.gif&H=CWF0Y98HMG4N1AHW3Q6QEVPESSWA&ref_=pe_1825130_138612720_open\" /></body></html>'"
      ]
     },
     "execution_count": 27,
     "metadata": {},
     "output_type": "execute_result"
    }
   ],
   "source": [
    "msg.html_part.get_payload().decode(msg.html_part.charset)"
   ]
  },
  {
   "cell_type": "code",
   "execution_count": 24,
   "id": "6699b36f-dcdf-4890-9bdc-c1ecc1b3bb2e",
   "metadata": {},
   "outputs": [],
   "source": [
    "import pprint"
   ]
  },
  {
   "cell_type": "code",
   "execution_count": 25,
   "id": "425dffca-07b7-48f1-8ade-676fc4c4c20c",
   "metadata": {},
   "outputs": [
    {
     "name": "stdout",
     "output_type": "stream",
     "text": [
      "defaultdict(<class 'dict'>,\n",
      "            {262: {b'BODY[]': b'Received: from a13-94.smtp-out.amazonses.com'\n",
      "                              b' (a13-94.smtp-out.amazonses.com [54.240.13.9'\n",
      "                              b'4])\\r\\n\\tby newxmmxszc6-4.qq.com (NewMX) with S'\n",
      "                              b'MTP id 99C0CAF5\\r\\n\\tfor <635663494@qq.com>; Fr'\n",
      "                              b'i, 03 Nov 2023 18:38:28 +0800\\r\\nX-QQ-mid: xmm'\n",
      "                              b'xszc6-4t1699007908tkdgba0ie\\r\\nSender: 2023110'\n",
      "                              b'31038276e8cfbc5a55d4364b3fae328c2a0p0na-c3e6'\n",
      "                              b't8idgbf79v@bounces.\\r\\n\\t amazon.com\\r\\nX-QQ-'\n",
      "                              b'CSender: 202311031038276e8cfbc5a55d4364b3fae'\n",
      "                              b'328c2a0p0na-c3e6t8idgbf79v@bo\\r\\n\\t unces.amazo'\n",
      "                              b'n.com\\r\\nX-QQ-XMAILINFO: OWyLqRrhqYtO79Y3u+QLL'\n",
      "                              b'HHrDK6p4hk8R9uDVQ1DmS+ps+Al18bqxT0zZiB8jg\\r\\n\\t'\n",
      "                              b' RjWBRkj2pT3F4JN6PzznBRBajp+FhwmBnIBG0I+sWf+'\n",
      "                              b'dsr/TH9AVf6cVk0c9vUv0ul+95TwtvOJr\\r\\n\\t lV8tSrW'\n",
      "                              b'lCvoseDMyUsu7Zp6whfF1IAiUs6C3GWXOh+EH2SyLQDu'\n",
      "                              b'MDk6GOYZgBrrwOVqixOchTS2+\\r\\n\\t 5thTEF4Mc4j3BXu'\n",
      "                              b'A70pquc5U2BARkU/TGT1y0AlxTMIAMycAe3TtZiErxLi'\n",
      "                              b'g577hKG7QN/VaxaAJ\\r\\n\\t O14xmfjbIoyU3JHQ5R+EMDx'\n",
      "                              b'WcFX51KdOQQC7A0F3rIRMuCPqkDAbrrSa+YoyDYt0qfw'\n",
      "                              b'6Hfk21EB4\\r\\n\\t o3C462DGyVooHELSoXb+Qi8uSvdyOQC'\n",
      "                              b'9ovikQc/dWCU3lO3nF/GmN1S3Azikq+l4addutpdl9oq'\n",
      "                              b'j\\r\\n\\t av0erd2dmXjYaXJpBd1rMHyzVv2/7nVRjFtqDq7'\n",
      "                              b'oby9aQAxOHHaysuWs/hlbCQrVTBwNBU4wFSbK\\r\\n\\t HOh'\n",
      "                              b'MhAQWAAjmCsf14UaU2+nC5dE6JmXrbPFA9T+UR9FRlHW'\n",
      "                              b'V7Bbf4LgbSUyvDRmt1XX9NC3Oe0wp\\r\\n\\t 8YsPqCIP2ZN'\n",
      "                              b'qQEEvNRKylIwMdvYsgfZ9zSr9DqPWWS40n2z9Q9nN0wi'\n",
      "                              b'gdAbuBPJl8l3c4iQjdRO+\\r\\n\\t OUtesZvbruiC8NRjQ6/'\n",
      "                              b'rPfbmnEpGWrG6zR571tt7fMoL4ZGzZ1L6PKxs5wtQebu'\n",
      "                              b'UTUjJam33dH6e\\r\\n\\t TRJzMIs5QDMe0GVJS5ND6DITLY5'\n",
      "                              b'jcVDyHsocSM1x6dXkrWA0vM0gU50O6agwwUk280JynD+'\n",
      "                              b'Vbgm+\\r\\n\\t NMSykiTMW1iMcn7FakGUwNq9CVly4MLAI4a'\n",
      "                              b'bKiE+CGEo1aCrKehDKQu4Dz9NpxMtw5en+Ka/IhvK\\r\\n\\t'\n",
      "                              b' gIpZqbBYwTXhb2x+Hk+HX4tZ7yQAoedb0o8JlGMgWpC'\n",
      "                              b'GGoK3wNhu04wpTo9RAZI5J8cnCrm/yIbQ\\r\\n\\t MBav/DZ'\n",
      "                              b'HY9TY06RV+Xu4igFkFU6hWnpSWk4BzOrFvXPAKTKvkDM'\n",
      "                              b'I+4761va5N3Tba0SqzR4u/Dpj\\r\\n\\t zH87XDY0wLiFkyD'\n",
      "                              b'72vKBBr0rZ5eyb3kFUc/EPMLetKCIBh7xE7aylrylnvY'\n",
      "                              b'6mmhJJINeFj4Z4DAX\\r\\n\\t 7Ed8vQ5VtZ3lO2BNRhFV5lH'\n",
      "                              b'/31SXZVFJ8nifadDaKWPRoJgB0qOwbbNIIGrqama1gMu'\n",
      "                              b'w25A//yWU\\r\\n\\t 1QGZ3WLMfS+HIbcj9+8ON8+swn/4dPi'\n",
      "                              b'n75mgNUZyX1Sn002NS+/fxqKUZomCAzwgypSQRbnu0nb'\n",
      "                              b'H\\r\\n\\t nlsFMDP1Xrhf6Iea1J3P3417W/WKxSAM7K/MxAd'\n",
      "                              b'9tVAsmKv1WsSmRQ6kdHPm/Ui2vxWSX3L5KVOd\\r\\n\\t quC'\n",
      "                              b'yTTarrao9DZHy9U+bRJcutn3JANNzRRcJ6ClnQkF1uvv'\n",
      "                              b'E19pSrlLVkTNMV7wSmS\\r\\nX-QQ-XMRINFO: NI4Ajvh11'\n",
      "                              b'aEj8Xl/2s1/T8w=\\r\\nDKIM-Signature: v=1; a=rsa-'\n",
      "                              b'sha256; q=dns/txt; c=relaxed/simple;\\r\\n\\ts=yg4'\n",
      "                              b'mwqurec7fkhzutopddd3ytuaqrvuz; d=amazon.com;'\n",
      "                              b' t=1699007907;\\r\\n\\th=Date:From:To:Message-ID:S'\n",
      "                              b'ubject:MIME-Version:Content-Type;\\r\\n\\tbh=62G5f'\n",
      "                              b'U72wICIVq8KRmL2E7hrhEuxxjAOM8mwm/Q7xio=;\\r\\n\\tb'\n",
      "                              b'=TdoTM5y1rU3eklMMnaQrZB6L3xHgc06jNjwjJZX0nk0'\n",
      "                              b'farA9x1xJ4dg7pgtKN9Xi\\r\\n\\tL/Pv9NuZE6OQbO15mSdC'\n",
      "                              b'DhCuPIxMJLDqlljkp7LQGNoA4/HjidoIpaovWkI13Buq'\n",
      "                              b'qCq\\r\\n\\tdSq5uDdW8JbqauEkB0O7T/PFrL9Tg8cvir+JWt'\n",
      "                              b'YU=\\r\\nDKIM-Signature: v=1; a=rsa-sha256; q=dn'\n",
      "                              b's/txt; c=relaxed/simple;\\r\\n\\ts=224i4yxa5dv7c2x'\n",
      "                              b'z3womw6peuasteono; d=amazonses.com; t=169900'\n",
      "                              b'7907;\\r\\n\\th=Date:From:To:Message-ID:Subject:MI'\n",
      "                              b'ME-Version:Content-Type:Feedback-ID;\\r\\n\\tbh=62'\n",
      "                              b'G5fU72wICIVq8KRmL2E7hrhEuxxjAOM8mwm/Q7xio=;\\r'\n",
      "                              b'\\n\\tb=GzEsFEq+20cBv55GY2FSfSqLQdn8kRiea0wpr7fj'\n",
      "                              b'Q4yxUktyiw0DO0QaVq+vBzkt\\r\\n\\t3HVinnD5t4Vls6Z1B'\n",
      "                              b'1nZ73vlLRZdpd4TIoo0+SZTagRxWjsexojuG8TqWsc/T'\n",
      "                              b'9BnXMn\\r\\n\\tOf08b4PFEjUtmB2IiF8EV8WzJ4q6H2oZZC6'\n",
      "                              b'Jbwu0=\\r\\nDate: Fri, 3 Nov 2023 10:38:27 +0000'\n",
      "                              b'\\r\\nFrom: =?UTF-8?Q?=E4=BA=9A=E9=A9=AC=E9=80=8'\n",
      "                              b'AKindle=E5=AE=A2=E6=9C=8D?= <do-not-reply@am'\n",
      "                              b'azon.com>\\r\\nTo: 635663494@qq.com\\r\\nMessage'\n",
      "                              b'-ID: <0100018b94c34768-9e2bbc3b-f428-4b46-88'\n",
      "                              b'98-d735579d4482-000000@email.amazonses.com>\\r'\n",
      "                              b'\\nSubject: =?UTF-8?B?55Sx6Z2e6K6k5Y+v55qE5Y+R'\n",
      "                              b'5Lu25Lq65Y+R6YCB55qE5Liq5Lq65paH5Lu2?=\\r\\nMIME'\n",
      "                              b'-Version: 1.0\\r\\nContent-Type: multipart/alter'\n",
      "                              b'native; \\r\\n\\tboundary=\"----=_Part_2347539_1859'\n",
      "                              b'18508.1699007907682\"\\r\\nX-AMAZON-MAIL-RELAY-TY'\n",
      "                              b'PE: notification\\r\\nBounces-to: 20231103103827'\n",
      "                              b'6e8cfbc5a55d4364b3fae328c2a0p0na-C3E6T8IDGBF'\n",
      "                              b'79V@bounces.amazon.com\\r\\nX-AMAZON-METADATA: C'\n",
      "                              b'A=C3E6T8IDGBF79V-CU=A1O6BJA46SJEO3\\r\\nX-Origin'\n",
      "                              b'al-MessageID: <urn.rtn.msg.202311031038276e8'\n",
      "                              b'cfbc5a55d4364b3fae328c2a0p0na@1699007907683.'\n",
      "                              b'>\\r\\nFeedback-ID: 1.us-east-1.ZHcGJK6s+x+i9lRH'\n",
      "                              b'Kog4RW3tECwWIf1xzTYCZyUaiec=:AmazonSES\\r\\nX-SE'\n",
      "                              b'S-Outgoing: 2023.11.03-54.240.13.94\\r\\n\\r\\n-'\n",
      "                              b'-----=_Part_2347539_185918508.1699007907682\\r'\n",
      "                              b'\\nContent-Type: text/plain; charset=utf-8\\r\\nCo'\n",
      "                              b'ntent-Transfer-Encoding: base64\\r\\n\\r\\nCiAgC'\n",
      "                              b'grlsIrmlaznmoTlrqLmiLfvvJogIOWPkeS7tuS6uiB6e'\n",
      "                              b'Hlfemhhb0BxcS5jb20g5bCd6K+V\\r\\n5Y+R6YCB5paH5qG'\n",
      "                              b'j5Yiw5oKo55qEIEtpbmRsZeOAgueUseS6jiB6eHlfemh'\n",
      "                              b'hb0BxcS5jb20g5LiN\\r\\n5Zyo5oKoIEtpbmRsZSDojrfmo'\n",
      "                              b'Ljlh4bnmoTnlLXlrZDpgq7ku7bliJfooajkuK3vvIzor'\n",
      "                              b'6Xlj5Hk\\r\\nu7bkurrlkJHmgqjlj5HpgIHnmoTku7vkvZX'\n",
      "                              b'mlofmoaPlnYfml6Dms5XpgIHovr7mgqjnmoQgS2lu\\r\\nZ'\n",
      "                              b'Gxl44CCICDlpoLpnIDmoLjlh4bor6Xlj5Hku7bkurrnm'\n",
      "                              b'oTnlLXlrZDpgq7ku7blnLDlnYDvvIzo\\r\\nr7fmiafooYz'\n",
      "                              b'ku6XkuIvmk43kvZzvvJogIDEu6K6/6Zeu566h55CG5oi'\n",
      "                              b'R55qE5YaF5a655ZKM6K6+\\r\\n5aSH6aG16Z2i44CCIDIu5'\n",
      "                              b'5m75b2V5oKo55qE5Lqa6ams6YCK6LSm5oi344CCIDMu6'\n",
      "                              b'L2s6Iez4oCc\\r\\n566h55CG5oKo55qE5YaF5a655ZKM6K6'\n",
      "                              b'+5aSH4oCd5LiL55qE4oCc5Liq5Lq65paH5qGj6K6+572'\n",
      "                              b'u\\r\\n4oCd44CCIDQu5Zyo4oCc6I635qC45YeG55qE5Liq5'\n",
      "                              b'Lq65paH5qGj55S15a2Q6YKu5Lu25YiX6KGo\\r\\n4oCd5Li'\n",
      "                              b'L77yM54K55Ye74oCc5re75Yqg6I635qC45YeG55qE5pa'\n",
      "                              b'w55S15a2Q6YKu5Lu25Zyw5Z2A\\r\\n4oCd44CCIDUu6L6T5'\n",
      "                              b'YWl6KaB5qC45YeG55qE55S15a2Q6YKu5Lu25Zyw5Z2A7'\n",
      "                              b'7yM54S25ZCO6YCJ\\r\\n5oup4oCc5re75Yqg5Zyw5Z2A4oC'\n",
      "                              b'd44CCICDnhLblkI7vvIzpgJrnn6Xlj5Hku7bkurrph43'\n",
      "                              b'mlrDl\\r\\nj5HpgIHmlofmoaPjgIIgIOivt+iusOS9j++8j'\n",
      "                              b'OWPquacieaCqOS/oeS7u+eUteWtkOmCruS7tuWc\\r\\nsOW'\n",
      "                              b'dgOeahOadpea6kOaXtu+8jOaJjeWwhuWFtua3u+WKoOS'\n",
      "                              b'4uuiOt+aguOWHhueahOiBlOezu+S6\\r\\nuuOAgiAg6K+35'\n",
      "                              b'rOo5oSP77yM5oKo5Y+q5Lya5pS25Yiw5LiA5qyh5q2k6'\n",
      "                              b'YCa55+l44CC5LuK5ZCO\\r\\n77yM5oKo5Y+q5Lya5pS25Yi'\n",
      "                              b'w6YCa6L+H6I635qC45YeG55qE55S15a2Q6YKu5Lu25Zy'\n",
      "                              b'w5Z2A5Y+R\\r\\n6YCB55qE5paH5qGj44CCICDlpoLpnIDku'\n",
      "                              b'obop6Pmm7TlpJrkv6Hmga/vvIzor7forr/pl67miJHk\\r'\n",
      "                              b'\\nu6znmoTluK7liqnpobXpnaLjgILkuIvovb3miJbkvb/'\n",
      "                              b'nlKggU2VuZCB0byBLaW5kbGUg5Y2z6KGo\\r\\n56S65oKo5'\n",
      "                              b'ZCM5oSP5q2k5aSE55qE5p2h5qy+44CCICDosKjlkK/vv'\n",
      "                              b'IEg5Lqa6ams6YCKIEtpbmRs\\r\\nZSDmlK/mjIHlm6LpmJ8'\n",
      "                              b'gIOatpOeUteWtkOmCruS7tuWcsOWdgOS7heeUqOS6juW'\n",
      "                              b'PkemAgemAmuef\\r\\npe+8jOaXoOazleaOpeaUtueUteWtk'\n",
      "                              b'OmCruS7tuOAguivt+WLv+WbnuWkjeatpOeUteWtkOmCr'\n",
      "                              b'uS7\\r\\ntuOAggrCqSAyMDIzIEFtYXpvbi5jb23lhazlj7j'\n",
      "                              b'miJblhbblhbPogZTlhazlj7jjgILkv53nlZnm\\r\\niYDmn'\n",
      "                              b'InmnYPliKnjgIJBbWF6b27ku6Xlj4rmiYDmnInnm7jlh'\n",
      "                              b'bPllYbmoIflnYfmmK9BbWF6b24u\\r\\nY29t5YWs5Y+45oi'\n",
      "                              b'W5YW25YWz6IGU5YWs5Y+455qE5ZWG5qCHLgoK5Lqa6am'\n",
      "                              b's6YCK\\r\\n------=_Part_2347539_185918508.169900'\n",
      "                              b'7907682\\r\\nContent-Type: text/html; charset=ut'\n",
      "                              b'f-8\\r\\nContent-Transfer-Encoding: quoted-print'\n",
      "                              b'able\\r\\n\\r\\n<!DOCTYPE html><html lang=3D\"zh_'\n",
      "                              b'CN\" xmlns=3D\"http://www.w3.org/1999/xhtml\">='\n",
      "                              b'\\r\\n<head><meta content=3D\"text/html; charset='\n",
      "                              b'3DUTF-8\" http-equiv=3D\"Content-Ty=\\r\\npe\"><met'\n",
      "                              b'a content=3D\"telephone=3Dno\" name=3D\"format-'\n",
      "                              b'detection\"><meta conten=\\r\\nt=3D\"width=3Ddevic'\n",
      "                              b'e-width,initial-scale=3D1;user-scalable=3Dno'\n",
      "                              b';\" name=3D\"vi=\\r\\newport\"><meta content=3D\"IE='\n",
      "                              b'3D9; IE=3D8; IE=3D7; IE=3DEDGE\" http-equiv=3'\n",
      "                              b'D\"X=\\r\\n-UA-Compatible\"><meta name=3D\"x-apple-'\n",
      "                              b'disable-message-reformatting\"><meta c=\\r\\nonte'\n",
      "                              b'nt=3D\"light dark\" name=3D\"color-scheme\"><met'\n",
      "                              b'a content=3D\"light dark\" na=\\r\\nme=3D\"supporte'\n",
      "                              b'd-color-schemes\"><style type=3D\"text/css\">@f'\n",
      "                              b'ont-face{font-fam=\\r\\nily:Ember;font-weight:70'\n",
      "                              b'0;src:local(\"Ember\"),url(https://m.media-ama'\n",
      "                              b'zon.com=\\r\\n/images/G/01/outbound/AmazonEmber_'\n",
      "                              b'Bd._CB1515450239_.WOFF) format(\"woff\")}@f=\\r\\n'\n",
      "                              b'ont-face{font-family:Ember;font-weight:600;s'\n",
      "                              b'rc:local(\"Ember\"),url(https://m=\\r\\n.media-ama'\n",
      "                              b'zon.com/images/G/01/outbound/AmazonEmber_Bd.'\n",
      "                              b'_CB1515450239_.WOFF) =\\r\\nformat(\"woff\")}@font'\n",
      "                              b'-face{font-family:Ember;font-style:normal;fo'\n",
      "                              b'nt-weight:4=\\r\\n00;src:local(\"Ember\"),url(http'\n",
      "                              b's://m.media-amazon.com/images/G/01/outbound/'\n",
      "                              b'A=\\r\\nmazonEmber_Rg._CB1515450239_.WOFF) forma'\n",
      "                              b't(\"woff\")}@font-face{font-family:Em=\\r\\nber;fo'\n",
      "                              b'nt-weight:200;src:local(\"Ember\"),url(https:/'\n",
      "                              b'/m.media-amazon.com/image=\\r\\ns/G/01/outbound/'\n",
      "                              b'AmazonEmber_Lt._CB1515450239_.WOFF) format(\"'\n",
      "                              b'woff\")}@font-fa=\\r\\nce{font-family:Ember;font-'\n",
      "                              b'weight:500;src:local(\"Ember\"),url(https://m.'\n",
      "                              b'media=\\r\\n-amazon.com/images/G/01/outbound/Ama'\n",
      "                              b'zonEmber_Md._CB1515450239_.WOFF) format=\\r\\n(\"'\n",
      "                              b'woff\")}*{font-family:Ember,Helvetica,Arial,s'\n",
      "                              b'ans-serif;border-spacing:0;ma=\\r\\nrgin:0;paddi'\n",
      "                              b'ng:0}[data-ogsc] :root{--body-bg:#181A1A;--b'\n",
      "                              b'ody-color:#ffffff}.=\\r\\nrootContent{background'\n",
      "                              b':#fff!important}.fonts,.sans,h1,h2,h3,h4,h5,'\n",
      "                              b'li,p,tabl=\\r\\ne,td,th{color:#0f1111}a{color:#0'\n",
      "                              b'07185;text-decoration:none}@media screen an='\n",
      "                              b'\\r\\nd (max-width:599px){.mobile-only{display:i'\n",
      "                              b'nitial!important}.desktop-only{di=\\r\\nsplay:no'\n",
      "                              b'ne!important;mso-hide:all!important}}@media '\n",
      "                              b'screen and (min-width:6=\\r\\n00px){.mobile-only'\n",
      "                              b'{display:none!important;mso-hide:all!importa'\n",
      "                              b'nt}}@media (p=\\r\\nrefers-color-scheme:light){:'\n",
      "                              b'root{--body-bg:#ffffff;--body-color:#000000}'\n",
      "                              b'}@m=\\r\\nedia (prefers-color-scheme:dark){:root'\n",
      "                              b'{--body-bg:#181A1A;--body-color:#ffff=\\r\\nff}b'\n",
      "                              b'ody{background-color:#181a1a!important}.font'\n",
      "                              b's,.sans,h1,h2,h3,h4,h5,li,p=\\r\\n,table,td,th{c'\n",
      "                              b'olor:#fff}a{color:#6ed6e6}.rootContent{backg'\n",
      "                              b'round:#181a1a!imp=\\r\\nortant}}[data-ogsc] .fon'\n",
      "                              b'ts,[data-ogsc] .sans,[data-ogsc] h1,[data-og'\n",
      "                              b'sc] h2,=\\r\\n[data-ogsc] h3,[data-ogsc] h4,[dat'\n",
      "                              b'a-ogsc] h5,[data-ogsc] li,[data-ogsc] p{c=\\r\\n'\n",
      "                              b'olor:#fff}[data-ogsc] a{color:#6ed6e6}[data-'\n",
      "                              b'ogsc] .rootContent{background:#=\\r\\n181a1a}bod'\n",
      "                              b'y{background-color:var(--body-bg)!important;'\n",
      "                              b'color:var(--body-colo=\\r\\nr)!important;margin:'\n",
      "                              b'0!important;padding:0}body>img{position:abso'\n",
      "                              b'lute}table{=\\r\\nborder-spacing:0}h3,h4,h5,tabl'\n",
      "                              b'e th{font-weight:400;margin:0;padding:0}td{p'\n",
      "                              b'a=\\r\\ndding:0}img{border:0}a,span,td{word-brea'\n",
      "                              b'k:keep-all!important}ol,ul{margin-l=\\r\\neft:32'\n",
      "                              b'px}.button{background-color:#ffd814;color:#0'\n",
      "                              b'f1111;border-radius:24px;=\\r\\npadding:1px 16px'\n",
      "                              b';display:inline-block;box-shadow:1px 2px 4px'\n",
      "                              b' rgba(153,153,1=\\r\\n53,.2);font-size:13px;line'\n",
      "                              b'-height:29px;white-space:nowrap;text-decorat'\n",
      "                              b'ion:n=\\r\\none;margin-top:4px}a,body,table,td{-'\n",
      "                              b'ms-text-size-adjust:100%;-webkit-text-s=\\r\\niz'\n",
      "                              b'e-adjust:100%}.appleBody a,.appleFooter a{co'\n",
      "                              b'lor:#007185!important;text-de=\\r\\ncoration:non'\n",
      "                              b'e}a[x-apple-data-detectors]{color:#007185!im'\n",
      "                              b'portant;font-family=\\r\\n:inherit!important;fon'\n",
      "                              b't-size:inherit!important;font-weight:inherit'\n",
      "                              b'!importan=\\r\\nt;line-height:inherit!important}'\n",
      "                              b'u+#body a{color:#007185!important;font-fami='\n",
      "                              b'\\r\\nly:inherit!important;font-size:inherit!imp'\n",
      "                              b'ortant;font-weight:inherit!import=\\r\\nant;line'\n",
      "                              b'-height:inherit!important}#MessageViewBody a'\n",
      "                              b'{color:#007185!importan=\\r\\nt;font-family:inhe'\n",
      "                              b'rit!important;font-size:inherit!important;fo'\n",
      "                              b'nt-weight:inh=\\r\\nerit!important;line-height:i'\n",
      "                              b'nherit!important}</style><style type=3D\"text'\n",
      "                              b'/cs=\\r\\ns\">.productListPrice{color:#565959}.pr'\n",
      "                              b'oductDiscount{color:#cc0c39}.productP=\\r\\nrice'\n",
      "                              b'{color:#0f1111}@media (prefers-color-scheme:'\n",
      "                              b'dark){.productListPrice{col=\\r\\nor:#fff!import'\n",
      "                              b'ant}.productDiscount{color:#ff8c8c!important'\n",
      "                              b'}.productPrice{co=\\r\\nlor:#fff!important}}[dat'\n",
      "                              b'a-ogsc] .productListPrice{color:#fff!importa'\n",
      "                              b'nt}[dat=\\r\\na-ogsc] .productDiscount{color:#ff'\n",
      "                              b'8c8c!important}[data-ogsc] .productPrice{=\\r\\n'\n",
      "                              b'color:#fff!important}</style><style type=3D\"'\n",
      "                              b'text/css\">.dealBadge{background=\\r\\n-color:#cc'\n",
      "                              b'0c39;color:#fff}.dealText{color:#cc0c39}@med'\n",
      "                              b'ia (prefers-color-sch=\\r\\neme:dark){.dealBadge'\n",
      "                              b'{background-color:#ff8c8c!important;color:#0'\n",
      "                              b'00!importan=\\r\\nt}.dealText{color:#ff8c8c!impo'\n",
      "                              b'rtant}}[data-ogsc] .dealBadge{background-col'\n",
      "                              b'o=\\r\\nr:#ff8c8c!important;color:#000!important'\n",
      "                              b'}[data-ogsc] .dealText{color:#ff8c8=\\r\\nc!impo'\n",
      "                              b'rtant}</style><style type=3D\"text/css\">#amaz'\n",
      "                              b'onLogomEZTLJPs8y1bAKS35iR=\\r\\nzU7.full{max-wid'\n",
      "                              b'th:100%!important;padding-left:0!important;p'\n",
      "                              b'adding-right:0!=\\r\\nimportant;width:100%!impor'\n",
      "                              b'tant}#amazonLogomEZTLJPs8y1bAKS35iRzU7.zeroB'\n",
      "                              b'order=\\r\\n{border:0;border-collapse:collapse;b'\n",
      "                              b'order-spacing:0}#amazonLogomEZTLJPs8y1b=\\r\\nAK'\n",
      "                              b'S35iRzU7 .full{max-width:100%!important;padd'\n",
      "                              b'ing-left:0!important;padding-=\\r\\nright:0!impo'\n",
      "                              b'rtant;width:100%!important}#amazonLogomEZTLJ'\n",
      "                              b'Ps8y1bAKS35iRzU7 .z=\\r\\neroBorder{border:0;bor'\n",
      "                              b'der-collapse:collapse;border-spacing:0}#amaz'\n",
      "                              b'onLogomEZ=\\r\\nTLJPs8y1bAKS35iRzU7 .light-img{b'\n",
      "                              b'ackground-color:#fff;background-image:linea='\n",
      "                              b'\\r\\nr-gradient(#fff,#fff)}@media (prefers-colo'\n",
      "                              b'r-scheme:light){#amazonLogomEZTLJ=\\r\\nPs8y1bAK'\n",
      "                              b'S35iRzU7 .light-img{display:block!important}'\n",
      "                              b'#amazonLogomEZTLJPs8y1b=\\r\\nAKS35iRzU7 .dark-i'\n",
      "                              b'mg{display:none!important}}@media (prefers-c'\n",
      "                              b'olor-scheme:d=\\r\\nark){#amazonLogomEZTLJPs8y1b'\n",
      "                              b'AKS35iRzU7 .content{background-color:#181a1a'\n",
      "                              b'!im=\\r\\nportant}#amazonLogomEZTLJPs8y1bAKS35iR'\n",
      "                              b'zU7 .light-img{display:none!important=\\r\\n}#am'\n",
      "                              b'azonLogomEZTLJPs8y1bAKS35iRzU7 .dark-img{dis'\n",
      "                              b'play:block!important}}[data=\\r\\n-ogsc] #amazon'\n",
      "                              b'LogomEZTLJPs8y1bAKS35iRzU7 .content{backgrou'\n",
      "                              b'nd-color:#181a1a!=\\r\\nimportant}[data-ogsc] #a'\n",
      "                              b'mazonLogomEZTLJPs8y1bAKS35iRzU7 .light-img{d'\n",
      "                              b'isplay:=\\r\\nnone!important}[data-ogsc] #amazon'\n",
      "                              b'LogomEZTLJPs8y1bAKS35iRzU7 .dark-img{disp=\\r\\n'\n",
      "                              b'lay:block!important}</style><style type=3D\"t'\n",
      "                              b'ext/css\">#surveyCopypEm97UgFLm1=\\r\\nRWkMKSL3aq'\n",
      "                              b'y{margin-left:auto;margin-right:auto;width:1'\n",
      "                              b'00%;max-width:100%}#s=\\r\\nurveyCopypEm97UgFLm1'\n",
      "                              b'RWkMKSL3aqy .zeroBorder{border:0;border-coll'\n",
      "                              b'apse:collap=\\r\\nse;border-spacing:0}#surveyCop'\n",
      "                              b'ypEm97UgFLm1RWkMKSL3aqy .header{font-weight:'\n",
      "                              b'7=\\r\\n00;font-size:18px;line-height:22px}#surv'\n",
      "                              b'eyCopypEm97UgFLm1RWkMKSL3aqy .descr=\\r\\niption'\n",
      "                              b'{font-weight:400;font-size:15px;line-height:'\n",
      "                              b'20px}#surveyCopypEm97UgFL=\\r\\nm1RWkMKSL3aqy .b'\n",
      "                              b'utton{background-color:#ffd814;color:#0f1111'\n",
      "                              b';border-radius:=\\r\\n24px;padding:1px 16px;disp'\n",
      "                              b'lay:inline-block;box-shadow:1px 2px 4px rgba'\n",
      "                              b'(153,=\\r\\n153,153,.2);font-size:13px;line-heig'\n",
      "                              b'ht:29px;white-space:nowrap;text-decorat=\\r\\nio'\n",
      "                              b'n:none;margin-top:4px}@media (prefers-color-'\n",
      "                              b'scheme:dark){#surveyCopypEm97=\\r\\nUgFLm1RWkMKS'\n",
      "                              b'L3aqy .content{background-color:#181a1a!impo'\n",
      "                              b'rtant}#surveyCopypE=\\r\\nm97UgFLm1RWkMKSL3aqy .'\n",
      "                              b'description,#surveyCopypEm97UgFLm1RWkMKSL3aq'\n",
      "                              b'y .header=\\r\\n{color:#fff!important}}[data-ogs'\n",
      "                              b'c] #surveyCopypEm97UgFLm1RWkMKSL3aqy .conte='\n",
      "                              b'\\r\\nnt{background-color:#181a1a!important}[dat'\n",
      "                              b'a-ogsc] #surveyCopypEm97UgFLm1RWk=\\r\\nMKSL3aqy'\n",
      "                              b' .description,[data-ogsc] #surveyCopypEm97Ug'\n",
      "                              b'FLm1RWkMKSL3aqy .header=\\r\\n{color:#fff!import'\n",
      "                              b'ant}</style><style type=3D\"text/css\">#transa'\n",
      "                              b'ctionalFooter=\\r\\n988moCYwqgy3mn55iN7LNY.full{'\n",
      "                              b'max-width:100%!important;padding-left:0!impo'\n",
      "                              b'rta=\\r\\nnt;padding-right:0!important;width:100'\n",
      "                              b'%!important}#transactionalFooter988mo=\\r\\nCYwq'\n",
      "                              b'gy3mn55iN7LNY.zeroBorder{border:0;border-col'\n",
      "                              b'lapse:collapse;border-spaci=\\r\\nng:0}#transact'\n",
      "                              b'ionalFooter988moCYwqgy3mn55iN7LNY .sans{font'\n",
      "                              b'-family:Ember,Hel=\\r\\nvetica,Arial,sans-serif;'\n",
      "                              b'color:#494d4d}#transactionalFooter988moCYwqg'\n",
      "                              b'y3mn55i=\\r\\nN7LNY .additionalText *,#transacti'\n",
      "                              b'onalFooter988moCYwqgy3mn55iN7LNY p{color:=\\r\\n'\n",
      "                              b'#494d4d;font-size:14px;font-weight:400;line-'\n",
      "                              b'height:20px;margin:0;text-decor=\\r\\nation:none'\n",
      "                              b'}#transactionalFooter988moCYwqgy3mn55iN7LNY '\n",
      "                              b'.footerlinks a,#trans=\\r\\nactionalFooter988moC'\n",
      "                              b'Ywqgy3mn55iN7LNY a{color:#007185!important;t'\n",
      "                              b'ext-decorat=\\r\\nion:none}#transactionalFooter9'\n",
      "                              b'88moCYwqgy3mn55iN7LNY .full{max-width:100%!i'\n",
      "                              b'm=\\r\\nportant;padding-left:0!important;padding'\n",
      "                              b'-right:0!important;width:100%!impor=\\r\\ntant}#'\n",
      "                              b'transactionalFooter988moCYwqgy3mn55iN7LNY .z'\n",
      "                              b'eroBorder{border:0;border=\\r\\n-collapse:collap'\n",
      "                              b'se;border-spacing:0}#transactionalFooter988m'\n",
      "                              b'oCYwqgy3mn55iN7=\\r\\nLNY .light-img{background-'\n",
      "                              b'color:#fff;background-image:linear-gradient('\n",
      "                              b'#fff,=\\r\\n#fff)}@media (prefers-color-scheme:l'\n",
      "                              b'ight){#transactionalFooter988moCYwqgy3m=\\r\\nn5'\n",
      "                              b'5iN7LNY .light-img{display:block!important}#'\n",
      "                              b'transactionalFooter988moCYwqg=\\r\\ny3mn55iN7LNY'\n",
      "                              b' .dark-img{display:none!important}#transacti'\n",
      "                              b'onalFooter988moCYwq=\\r\\ngy3mn55iN7LNY .content'\n",
      "                              b'{background-color:#f0f2f2!important}}@media '\n",
      "                              b'(prefers-=\\r\\ncolor-scheme:dark){#transactiona'\n",
      "                              b'lFooter988moCYwqgy3mn55iN7LNY .light-img{di='\n",
      "                              b'\\r\\nsplay:none!important}#transactionalFooter9'\n",
      "                              b'88moCYwqgy3mn55iN7LNY .dark-img{d=\\r\\nisplay:b'\n",
      "                              b'lock!important}#transactionalFooter988moCYwq'\n",
      "                              b'gy3mn55iN7LNY .sans{col=\\r\\nor:#c8cccc!importa'\n",
      "                              b'nt}#transactionalFooter988moCYwqgy3mn55iN7LN'\n",
      "                              b'Y .additional=\\r\\nText *{color:#c8cccc!importa'\n",
      "                              b'nt}#transactionalFooter988moCYwqgy3mn55iN7LN'\n",
      "                              b'Y .=\\r\\nfooterlinks a,#transactionalFooter988m'\n",
      "                              b'oCYwqgy3mn55iN7LNY a{color:#6ed6e6!im=\\r\\nport'\n",
      "                              b'ant}#transactionalFooter988moCYwqgy3mn55iN7L'\n",
      "                              b'NY .content{background-colo=\\r\\nr:#303333!impo'\n",
      "                              b'rtant}}[data-ogsc] #transactionalFooter988mo'\n",
      "                              b'CYwqgy3mn55iN7LNY=\\r\\n .content{background-col'\n",
      "                              b'or:#303333!important}[data-ogsc] #transactio'\n",
      "                              b'nalFoot=\\r\\ner988moCYwqgy3mn55iN7LNY .light-im'\n",
      "                              b'g{display:none!important}[data-ogsc] #tra=\\r\\n'\n",
      "                              b'nsactionalFooter988moCYwqgy3mn55iN7LNY .dark'\n",
      "                              b'-img{display:block!important}[d=\\r\\nata-ogsc] '\n",
      "                              b'#transactionalFooter988moCYwqgy3mn55iN7LNY .'\n",
      "                              b'sans{color:#c8cccc!im=\\r\\nportant}[data-ogsc] '\n",
      "                              b'#transactionalFooter988moCYwqgy3mn55iN7LNY .'\n",
      "                              b'additionalT=\\r\\next *{color:#c8cccc!important}'\n",
      "                              b'[data-ogsc] #transactionalFooter988moCYwqgy3'\n",
      "                              b'm=\\r\\nn55iN7LNY .footerlinks a,[data-ogsc] #tr'\n",
      "                              b'ansactionalFooter988moCYwqgy3mn55iN=\\r\\n7LNY a'\n",
      "                              b'{color:#6ed6e6!important}</style><!--[if gte'\n",
      "                              b' mso 9]>    <xml>        =\\r\\n<o:OfficeDocumen'\n",
      "                              b'tSettings>            <o:AllowPNG />        '\n",
      "                              b'    <o:PixelsPe=\\r\\nrInch>96</o:PixelsPerInch>'\n",
      "                              b'        </o:OfficeDocumentSettings>    </xml'\n",
      "                              b'>    =\\r\\n<style>        body, h1, h2, h3, h4,'\n",
      "                              b' table, th, td, p, li, a, .sans, .fonts=\\r\\n {'\n",
      "                              b'            font-family: Helvetica, Arial, s'\n",
      "                              b'ans-serif !important;        =\\r\\n}        [da'\n",
      "                              b'ta-ogsc] .rootContent{          background: '\n",
      "                              b'#181A1A !important;=\\r\\n        }    </style> '\n",
      "                              b'   <![endif]--></head><body class=3D\"body\"><'\n",
      "                              b'img width=\\r\\n=3D\"1\" height=3D\"1\" src=3D\"https'\n",
      "                              b'://www.amazon.com/gp/r.html?C=3D1TNYRM0L2P6='\n",
      "                              b'\\r\\nOO&K=3D2YOQK0ZLUFFON&M=3Durn:rtn:msg:20231'\n",
      "                              b'1031038276e8cfbc5a55d4364b3fae328=\\r\\nc2a0p0na'\n",
      "                              b'&R=3D29PGIUKBHCUW6&T=3DO&U=3Dhttps%3A%2F%2Fi'\n",
      "                              b'mages-na.ssl-images-ama=\\r\\nzon.com%2Fimages%2'\n",
      "                              b'FG%2F01%2Fnav%2Ftransp.gif&H=3DIOLBUIBKYXRS3'\n",
      "                              b'DZEDDBHT949XN=\\r\\nOA&ref_=3Dpe_1825130_1386127'\n",
      "                              b'20_opens\" /><!--[if (gte mso 9)|(IE)]><table'\n",
      "                              b'   =\\r\\n align=3D\"center\"    class=3D\"zeroBord'\n",
      "                              b'er\"    width=3D\"600\"    style=3D\"marg=\\r\\nin-l'\n",
      "                              b'eft: auto; margin-right: auto; width: 600px;'\n",
      "                              b'\">    <tbody width=3D\"600\">=\\r\\n    <tr>      '\n",
      "                              b'  <td width=3D\"600\" style=3D\"width: 600px;\">'\n",
      "                              b'<![endif]--><tabl=\\r\\ne class=3D\"zeroBorder\" s'\n",
      "                              b'tyle=3D\"margin-left:auto;margin-right:auto;w'\n",
      "                              b'idth:10=\\r\\n0%\" role=3D\"presentation\"><tbody><'\n",
      "                              b'tr><td width=3D\"600\"><table width=3D\"600\"=\\r\\n'\n",
      "                              b' role=3D\"presentation\" class=3D\"sans zeroBor'\n",
      "                              b'der\" style=3D\"width:100%;max-wi=\\r\\ndth:600px;'\n",
      "                              b'margin:0 auto\"><tbody><tr><td class=3D\"rootC'\n",
      "                              b'ontent\" style=3D\"back=\\r\\nground-color:#fff\"><'\n",
      "                              b'table role=3D\"presentation\" style=3D\"width:1'\n",
      "                              b'00%\"><tr><t=\\r\\nd><tr><td style=3D\"padding-top'\n",
      "                              b':0;padding-bottom:4px\"><!-- LOGO --><!-- PRI'\n",
      "                              b'M=\\r\\nE LOGO --><!-- ALEXA LOGO --><table id=3'\n",
      "                              b'D\"amazonLogomEZTLJPs8y1bAKS35iRzU7\"=\\r\\n class'\n",
      "                              b'=3D\"full zeroBorder\" style=3D\"width:100%\" ro'\n",
      "                              b'le=3D\"presentation\"><tbod=\\r\\ny><tr><td class='\n",
      "                              b'3D\"content\" style=3D\"padding:16px 16px 12px '\n",
      "                              b'16px; text-alig=\\r\\nn:left; background-color: '\n",
      "                              b'#FFFFFF\"><a href=3D\"https://www.amazon.com/g'\n",
      "                              b'p/r.h=\\r\\ntml?C=3D1TNYRM0L2P6OO&K=3D2YOQK0ZLUF'\n",
      "                              b'FON&M=3Durn:rtn:msg:202311031038276e8cf=\\r\\nbc'\n",
      "                              b'5a55d4364b3fae328c2a0p0na&R=3D3C0NJL02X72T8&'\n",
      "                              b'T=3DC&U=3Dhttp%3A%2F%2Fwww.am=\\r\\nazon.cn&H=3D'\n",
      "                              b'GIRWCOGX43OYFBNDC811Q5KATMAA\" target=3D\"_bla'\n",
      "                              b'nk\"><img class=3D\"l=\\r\\night-img\" height=3D\"30'\n",
      "                              b'\" role=3D\"presentation\" src=3D\"https://m.med'\n",
      "                              b'ia-amazon=\\r\\n.com/images/G/01/automated/2022/'\n",
      "                              b'amazon_cn_half_logo_RGB_SQUID.png\" style=3D='\n",
      "                              b'\\r\\n\"width:auto; height:30px; max-width:100%; '\n",
      "                              b'display:block; border:0; float:le=\\r\\nft; back'\n",
      "                              b'ground-color: #ffffff;\" alt=3D\"\"><!--[if !ms'\n",
      "                              b'o]><! --> <img class=3D=\\r\\n\"dark-img\" height='\n",
      "                              b'3D\"30\" role=3D\"presentation\" src=3D\"https://'\n",
      "                              b'm.media-amazo=\\r\\nn.com/images/G/01/automated/'\n",
      "                              b'2022/amazon_cn_half_logo_RGB_WHITE.png\" styl'\n",
      "                              b'e=\\r\\n=3D\"display:none; width:auto; height:30p'\n",
      "                              b'x; max-width:100%; border:0; float:=\\r\\nleft;\"'\n",
      "                              b' alt=3D\"\"><!--<![endif]--></a></td></tr></tb'\n",
      "                              b'ody></table></td></tr><tr=\\r\\n><td style=3D\"pa'\n",
      "                              b'dding-top:4px;padding-bottom:4px\"> <table id'\n",
      "                              b'=3D\"surveyCopyp=\\r\\nEm97UgFLm1RWkMKSL3aqy\" cla'\n",
      "                              b'ss=3D\"zeroBorder\" role=3D\"presentation\" styl'\n",
      "                              b'e=3D\"=\\r\\nwidth:100%\"><tbody><tr><td style=3D\"'\n",
      "                              b'padding:0 8px\"><table style=3D\"width:10=\\r\\n0%'\n",
      "                              b'\" role=3D\"presentation\"><tbody><tr><td class'\n",
      "                              b'=3D\"content\" style=3D\"padding=\\r\\n:12px 8px 16'\n",
      "                              b'px;background-color:#fff;border-radius:4px;w'\n",
      "                              b'idth:100%\"><table s=\\r\\ntyle=3D\"width:100%\" ro'\n",
      "                              b'le=3D\"presentation\"><tbody><tr><td style=3D\"'\n",
      "                              b'padding-b=\\r\\nottom:12px\" class=3D\"fonts descr'\n",
      "                              b'iption\"><p style=3D\"word-break:break-word!i='\n",
      "                              b'\\r\\nmportant\" class=3D\"fonts description\">=E5='\n",
      "                              b'B0=8A=E6=95=AC=E7=9A=84=E5=AE=A2=\\r\\n=E6=88=B7'\n",
      "                              b'=EF=BC=9A=20\\r\\n<br />\\r\\n<br /> =E5=8F=91=E'\n",
      "                              b'4=BB=B6=E4=BA=BA zxy_zhao@qq.com =E5=B0=9D=E'\n",
      "                              b'8=AF=95=E5=8F=\\r\\n=91=E9=80=81=E6=96=87=E6=A1='\n",
      "                              b'A3=E5=88=B0=E6=82=A8=E7=9A=84 Kindle=E3=80=8'\n",
      "                              b'2=\\r\\n=E7=94=B1=E4=BA=8E zxy_zhao@qq.com =E4=B'\n",
      "                              b'8=8D=E5=9C=A8=E6=82=A8 Kindle =E8=\\r\\n=8E=B7=E'\n",
      "                              b'6=A0=B8=E5=87=86=E7=9A=84=E7=94=B5=E5=AD=90='\n",
      "                              b'E9=82=AE=E4=BB=B6=E5=88=\\r\\n=97=E8=A1=A8=E4=B8'\n",
      "                              b'=AD=EF=BC=8C=E8=AF=A5=E5=8F=91=E4=BB=B6=E4=B'\n",
      "                              b'A=BA=E5=90=91=\\r\\n=E6=82=A8=E5=8F=91=E9=80=81='\n",
      "                              b'E7=9A=84=E4=BB=BB=E4=BD=95=E6=96=87=E6=A1=A3'\n",
      "                              b'=E5=\\r\\n=9D=87=E6=97=A0=E6=B3=95=E9=80=81=E8=B'\n",
      "                              b'E=BE=E6=82=A8=E7=9A=84 Kindle=E3=80=\\r\\n=82=20'\n",
      "                              b'\\r\\n<br />\\r\\n<br /> =E5=A6=82=E9=9C=80=E6=A'\n",
      "                              b'0=B8=E5=87=86=E8=AF=A5=E5=8F=91=E4=BB=B6=E4='\n",
      "                              b'\\r\\n=BA=BA=E7=9A=84=E7=94=B5=E5=AD=90=E9=82=AE'\n",
      "                              b'=E4=BB=B6=E5=9C=B0=E5=9D=80=EF=BC=\\r\\n=8C=E8=A'\n",
      "                              b'F=B7=E6=89=A7=E8=A1=8C=E4=BB=A5=E4=B8=8B=E6='\n",
      "                              b'93=8D=E4=BD=9C=EF=BC=9A=\\r\\n=20\\r\\n<br /> 1.'\n",
      "                              b'=E8=AE=BF=E9=97=AE\\r\\n<a href=3D\"https://www.a'\n",
      "                              b'mazon.com/gp/f.html?C=3D1TNYRM0L2P6OO&K=3D2Y'\n",
      "                              b'OQK0ZLU=\\r\\nFFON&M=3Durn:rtn:msg:2023110310382'\n",
      "                              b'76e8cfbc5a55d4364b3fae328c2a0p0na&R=3D1FU=\\r\\n'\n",
      "                              b'JIUHPA4SQL&T=3DC&U=3Dhttp%3A%2F%2Fwww.amazon'\n",
      "                              b'.cn%2Fmanageyourkindle%2F%3Fref=\\r\\n_%3Dpe_182'\n",
      "                              b'5130_138612720&H=3D8ZSTVSBLNGQ3TMQDISKAITMNM'\n",
      "                              b'LAA&ref_=3Dpe_1825130=\\r\\n_138612720\" rel=3D\"n'\n",
      "                              b'ofollow\">=E7=AE=A1=E7=90=86=E6=88=91=E7=9A=8'\n",
      "                              b'4=E5=86=85=\\r\\n=E5=AE=B9=E5=92=8C=E8=AE=BE=E5='\n",
      "                              b'A4=87</a>=E9=A1=B5=E9=9D=A2=E3=80=82\\r\\n<br />'\n",
      "                              b' 2.=E7=99=BB=E5=BD=95=E6=82=A8=E7=9A=84\\r\\n<a '\n",
      "                              b'href=3D\"https://www.amazon.com/gp/r.html?C=3'\n",
      "                              b'D1TNYRM0L2P6OO&K=3D2YOQK0ZLU=\\r\\nFFON&M=3Durn:'\n",
      "                              b'rtn:msg:202311031038276e8cfbc5a55d4364b3fae3'\n",
      "                              b'28c2a0p0na&R=3D2UQ=\\r\\nZLEQ1VTWV3&T=3DC&U=3Dht'\n",
      "                              b'tp%3A%2F%2Fwww.amazon.cn%3Fref_%3Dpe_1825130'\n",
      "                              b'_1386127=\\r\\n20&H=3DS476ZPQTKITAMTYF06JUDG8M5Y'\n",
      "                              b'MA&ref_=3Dpe_1825130_138612720\" rel=3D\"nof=\\r'\n",
      "                              b'\\nollow\">=E4=BA=9A=E9=A9=AC=E9=80=8A</a>=E8=B'\n",
      "                              b'4=A6=E6=88=B7=E3=80=82\\r\\n<br /> 3.=E8=BD=AC=E'\n",
      "                              b'8=87=B3=E2=80=9C=E7=AE=A1=E7=90=86=E6=82=A8='\n",
      "                              b'E7=9A=84=E5=\\r\\n=86=85=E5=AE=B9=E5=92=8C=E8=AE'\n",
      "                              b'=BE=E5=A4=87=E2=80=9D=E4=B8=8B=E7=9A=84=E2=8'\n",
      "                              b'0=\\r\\n=9C=E4=B8=AA=E4=BA=BA=E6=96=87=E6=A1=A3='\n",
      "                              b'E8=AE=BE=E7=BD=AE=E2=80=9D=E3=80=82\\r\\n<br /> '\n",
      "                              b'4.=E5=9C=A8=E2=80=9C=E8=8E=B7=E6=A0=B8=E5=87'\n",
      "                              b'=86=E7=9A=84=E4=B8=AA=E4=\\r\\n=BA=BA=E6=96=87=E'\n",
      "                              b'6=A1=A3=E7=94=B5=E5=AD=90=E9=82=AE=E4=BB=B6='\n",
      "                              b'E5=88=97=E8=A1=\\r\\n=A8=E2=80=9D=E4=B8=8B=EF=BC'\n",
      "                              b'=8C=E7=82=B9=E5=87=BB=E2=80=9C=E6=B7=BB=E5=8'\n",
      "                              b'A=A0=\\r\\n=E8=8E=B7=E6=A0=B8=E5=87=86=E7=9A=84='\n",
      "                              b'E6=96=B0=E7=94=B5=E5=AD=90=E9=82=AE=E4=\\r\\n=BB'\n",
      "                              b'=B6=E5=9C=B0=E5=9D=80=E2=80=9D=E3=80=82\\r\\n<br'\n",
      "                              b' /> 5.=E8=BE=93=E5=85=A5=E8=A6=81=E6=A0=B8=E'\n",
      "                              b'5=87=86=E7=9A=84=E7=94=B5=E5=\\r\\n=AD=90=E9=82='\n",
      "                              b'AE=E4=BB=B6=E5=9C=B0=E5=9D=80=EF=BC=8C=E7=84'\n",
      "                              b'=B6=E5=90=8E=E9=80=\\r\\n=89=E6=8B=A9=E2=80=9C=E'\n",
      "                              b'6=B7=BB=E5=8A=A0=E5=9C=B0=E5=9D=80=E2=80=9D='\n",
      "                              b'E3=80=82=\\r\\n=20\\r\\n<br />\\r\\n<br /> =E7=84=B6'\n",
      "                              b'=E5=90=8E=EF=BC=8C=E9=80=9A=E7=9F=A5=E5=8F=9'\n",
      "                              b'1=E4=BB=B6=E4=\\r\\n=BA=BA=E9=87=8D=E6=96=B0=E5='\n",
      "                              b'8F=91=E9=80=81=E6=96=87=E6=A1=A3=E3=80=82=20'\n",
      "                              b'\\r\\n<br />\\r\\n<br /> =E8=AF=B7=E8=AE=B0=E4=B'\n",
      "                              b'D=8F=EF=BC=8C=E5=8F=AA=E6=9C=89=E6=82=A8=E4='\n",
      "                              b'\\r\\n=BF=A1=E4=BB=BB=E7=94=B5=E5=AD=90=E9=82=AE'\n",
      "                              b'=E4=BB=B6=E5=9C=B0=E5=9D=80=E7=9A=\\r\\n=84=E6=9'\n",
      "                              b'D=A5=E6=BA=90=E6=97=B6=EF=BC=8C=E6=89=8D=E5='\n",
      "                              b'B0=86=E5=85=B6=E6=B7=BB=\\r\\n=E5=8A=A0=E4=B8=BA'\n",
      "                              b'=E8=8E=B7=E6=A0=B8=E5=87=86=E7=9A=84=E8=81=9'\n",
      "                              b'4=E7=B3=BB=E4=\\r\\n=BA=BA=E3=80=82=20\\r\\n<br '\n",
      "                              b'/>\\r\\n<br /> =E8=AF=B7=E6=B3=A8=E6=84=8F=EF=BC'\n",
      "                              b'=8C=E6=82=A8=E5=8F=AA=E4=BC=9A=E6=\\r\\n=94=B6=E'\n",
      "                              b'5=88=B0=E4=B8=80=E6=AC=A1=E6=AD=A4=E9=80=9A='\n",
      "                              b'E7=9F=A5=E3=80=82=E4=BB=\\r\\n=8A=E5=90=8E=EF=BC'\n",
      "                              b'=8C=E6=82=A8=E5=8F=AA=E4=BC=9A=E6=94=B6=E5=8'\n",
      "                              b'8=B0=E9=80=9A=\\r\\n=E8=BF=87=E8=8E=B7=E6=A0=B8='\n",
      "                              b'E5=87=86=E7=9A=84=E7=94=B5=E5=AD=90=E9=82=AE'\n",
      "                              b'=E4=\\r\\n=BB=B6=E5=9C=B0=E5=9D=80=E5=8F=91=E9=8'\n",
      "                              b'0=81=E7=9A=84=E6=96=87=E6=A1=A3=E3=80=\\r\\n=82='\n",
      "                              b'20\\r\\n<br />\\r\\n<br /> =E5=A6=82=E9=9C=80=E4'\n",
      "                              b'=BA=86=E8=A7=A3=E6=9B=B4=E5=A4=9A=E4=BF=A1=E'\n",
      "                              b'6=\\r\\n=81=AF=EF=BC=8C=E8=AF=B7=E8=AE=BF=E9=97='\n",
      "                              b'AE=E6=88=91=E4=BB=AC=E7=9A=84\\r\\n<a href=3D\"ht'\n",
      "                              b'tps://www.amazon.com/gp/f.html?C=3D1TNYRM0L2'\n",
      "                              b'P6OO&K=3D2YOQK0ZLU=\\r\\nFFON&M=3Durn:rtn:msg:20'\n",
      "                              b'2311031038276e8cfbc5a55d4364b3fae328c2a0p0na'\n",
      "                              b'&R=3D2PJ=\\r\\nHFGVH14GDE&T=3DC&U=3Dhttp%3A%2F%2'\n",
      "                              b'Fwww.amazon.cn%2FKindledocuments%2F%3Fref_=\\r'\n",
      "                              b'\\n%3Dpe_1825130_138612720&H=3DHN9QYAMDQZMJIDM'\n",
      "                              b'BS3QOTCLZOKQA&ref_=3Dpe_1825130_=\\r\\n138612720'\n",
      "                              b'\" rel=3D\"nofollow\">=E5=B8=AE=E5=8A=A9=E9=A1='\n",
      "                              b'B5=E9=9D=A2</a>=E3=80=\\r\\n=82=E4=B8=8B=E8=BD=B'\n",
      "                              b'D=E6=88=96=E4=BD=BF=E7=94=A8 Send to Kindle '\n",
      "                              b'=E5=8D=B3=\\r\\n=E8=A1=A8=E7=A4=BA=E6=82=A8=E5=9'\n",
      "                              b'0=8C=E6=84=8F\\r\\n<a href=3D\"https://www.amazon'\n",
      "                              b'.com/gp/r.html?C=3D1TNYRM0L2P6OO&K=3D2YOQK0Z'\n",
      "                              b'LU=\\r\\nFFON&M=3Durn:rtn:msg:202311031038276e8c'\n",
      "                              b'fbc5a55d4364b3fae328c2a0p0na&R=3DFSS=\\r\\nAGHCE'\n",
      "                              b'NCS7&T=3DC&U=3Dhttps%3A%2F%2Fwww.amazon.com%'\n",
      "                              b'2Fgp%2Fhelp%2Fcustomer%2Fd=\\r\\nisplay.html%3Fn'\n",
      "                              b'odeId%3DThDuDmqnYd2Ouy8c6i%26ref_%3Dpe_18251'\n",
      "                              b'30_138612720&H=\\r\\n=3DPCTAHTCFALXAZ5A0KKVF9ZMW'\n",
      "                              b'XDKA&ref_=3Dpe_1825130_138612720\" rel=3D\"nof'\n",
      "                              b'ollo=\\r\\nw\">=E6=AD=A4=E5=A4=84</a>=E7=9A=84=E6'\n",
      "                              b'=9D=A1=E6=AC=BE=E3=80=82=20\\r\\n<br />\\r\\n<br'\n",
      "                              b' /> =E8=B0=A8=E5=90=AF=EF=BC=81\\r\\n<br /> =E4='\n",
      "                              b'BA=9A=E9=A9=AC=E9=80=8A Kindle =E6=94=AF=E6='\n",
      "                              b'8C=81=E5=9B=A2=E9=98=\\r\\n=9F=20\\r\\n<br />\\r\\n<'\n",
      "                              b'br />=20\\r\\n<i>=E6=AD=A4=E7=94=B5=E5=AD=90=E9='\n",
      "                              b'82=AE=E4=BB=B6=E5=9C=B0=E5=9D=80=E4=BB=85=\\r\\n'\n",
      "                              b'=E7=94=A8=E4=BA=8E=E5=8F=91=E9=80=81=E9=80=9'\n",
      "                              b'A=E7=9F=A5=EF=BC=8C=E6=97=A0=E6=\\r\\n=B3=95=E6='\n",
      "                              b'8E=A5=E6=94=B6=E7=94=B5=E5=AD=90=E9=82=AE=E4'\n",
      "                              b'=BB=B6=E3=80=82=E8=AF=\\r\\n=B7=E5=8B=BF=E5=9B=9'\n",
      "                              b'E=E5=A4=8D=E6=AD=A4=E7=94=B5=E5=AD=90=E9=82='\n",
      "                              b'AE=E4=BB=B6=\\r\\n=E3=80=82</i></p></td></tr></t'\n",
      "                              b'body></table></td></tr></tbody></table></td>'\n",
      "                              b'<=\\r\\n/tr></tbody></table></td></tr><tr><td st'\n",
      "                              b'yle=3D\"padding-top:4px;padding-bott=\\r\\nom:0\">'\n",
      "                              b' <table id=3D\"transactionalFooter988moCYwqgy'\n",
      "                              b'3mn55iN7LNY\" class=3D\"zer=\\r\\noBorder footer\" '\n",
      "                              b'style=3D\"margin-left:auto;margin-right:auto;'\n",
      "                              b'width:100%\" rol=\\r\\ne=3D\"presentation\"><tbody>'\n",
      "                              b'<tr><td class=3D\"content\" style=3D\"backgroun'\n",
      "                              b'd-col=\\r\\nor:#f0f2f2\"><table role=3D\"presentat'\n",
      "                              b'ion\"><tbody><tr><td style=3D\"padding:32=\\r\\npx'\n",
      "                              b' 16px 0;word-break:break-word!important\"><p '\n",
      "                              b'class=3D\"sans footerlinks\" st=\\r\\nyle=3D\"word-'\n",
      "                              b'break:break-word!important\">=C2=A9 2023 Amaz'\n",
      "                              b'on.com=E5=85=AC=E5=\\r\\n=8F=B8=E6=88=96=E5=85=B'\n",
      "                              b'6=E5=85=B3=E8=81=94=E5=85=AC=E5=8F=B8=E3=80='\n",
      "                              b'82=E4=BF=\\r\\n=9D=E7=95=99=E6=89=80=E6=9C=89=E6'\n",
      "                              b'=9D=83=E5=88=A9=E3=80=82Amazon=E4=BB=A5=E5=\\r'\n",
      "                              b'\\n=8F=8A=E6=89=80=E6=9C=89=E7=9B=B8=E5=85=B3='\n",
      "                              b'E5=95=86=E6=A0=87=E5=9D=87=E6=98=\\r\\n=AFAmazon'\n",
      "                              b'.com=E5=85=AC=E5=8F=B8=E6=88=96=E5=85=B6=E5='\n",
      "                              b'85=B3=E8=81=94=E5=85=\\r\\n=AC=E5=8F=B8=E7=9A=84'\n",
      "                              b'=E5=95=86=E6=A0=87.</p></td></tr><tr><td sty'\n",
      "                              b'le=3D\"padd=\\r\\ning:36px 16px 36px\"><img class='\n",
      "                              b'3D\"light-img\" height=3D\"12\" role=3D\"presenta'\n",
      "                              b'=\\r\\ntion\" src=3D\"https://m.media-amazon.com/i'\n",
      "                              b'mages/G/01/automated/2022/Smile_lo=\\r\\ngo_US.p'\n",
      "                              b'ng\" style=3D\"width:auto;height:12px;max-widt'\n",
      "                              b'h:100%;display:block;bor=\\r\\nder:0;float:left;'\n",
      "                              b'background-color:#f0f2f2;background-image:li'\n",
      "                              b'near-gradient(=\\r\\n#f0f2f2,#f0f2f2)\" alt=3D\"=E'\n",
      "                              b'4=BA=9A=E9=A9=AC=E9=80=8A\"><!--[if !mso]><! '\n",
      "                              b'--> =\\r\\n<img class=3D\"dark-img\" style=3D\"disp'\n",
      "                              b'lay:none;width:auto;height:12px;max-wi=\\r\\ndth'\n",
      "                              b':100%;border:0;float:left\" height=3D\"12\" rol'\n",
      "                              b'e=3D\"presentation\" src=3D\"ht=\\r\\ntps://m.media'\n",
      "                              b'-amazon.com/images/G/01/automated/2022/Smile'\n",
      "                              b'_Mark_RGB_WHITE.pn=\\r\\ng\" alt=3D\"=E4=BA=9A=E9='\n",
      "                              b'A9=AC=E9=80=8A\"><!--<![endif]--></td></tr></'\n",
      "                              b'tbody></=\\r\\ntable></td></tr></tbody></table><'\n",
      "                              b'/td></tr></td></tr></table></td></tr></tbo=\\r'\n",
      "                              b'\\ndy></table></td></tr></tbody></table><!--[i'\n",
      "                              b'f (gte mso 9)|(IE)]></td></tr></=\\r\\ntbody></t'\n",
      "                              b'able><![endif]--><img width=3D\"1\" height=3D\"'\n",
      "                              b'1\" src=3D\"https://www.=\\r\\namazon.com/gp/r.htm'\n",
      "                              b'l?C=3D1TNYRM0L2P6OO&K=3D2YOQK0ZLUFFON&M=3Dur'\n",
      "                              b'n:rtn:msg:20=\\r\\n2311031038276e8cfbc5a55d4364b'\n",
      "                              b'3fae328c2a0p0na&R=3D3FX7BYGHDANPG&T=3DE&U=3D'\n",
      "                              b'ht=\\r\\ntps%3A%2F%2Fimages-na.ssl-images-amazon'\n",
      "                              b'.com%2Fimages%2FG%2F01%2Fnav%2Ftrans=\\r\\np.gif'\n",
      "                              b'&H=3DCWF0Y98HMG4N1AHW3Q6QEVPESSWA&ref_=3Dpe_'\n",
      "                              b'1825130_138612720_open\" />=\\r\\n</body></html>\\r'\n",
      "                              b'\\n------=_Part_2347539_185918508.169900790768'\n",
      "                              b'2--\\r\\n',\n",
      "                   b'FLAGS': (b'\\\\Seen',),\n",
      "                   b'SEQ': 8}})\n"
     ]
    }
   ],
   "source": [
    "pprint.pprint(raw_msg)"
   ]
  },
  {
   "cell_type": "code",
   "execution_count": 28,
   "id": "c6787fd3-aea8-487c-b238-6766079ea369",
   "metadata": {},
   "outputs": [
    {
     "data": {
      "text/plain": [
       "[255, 256, 257, 258, 259, 260, 261, 262]"
      ]
     },
     "execution_count": 28,
     "metadata": {},
     "output_type": "execute_result"
    }
   ],
   "source": [
    "uids"
   ]
  },
  {
   "cell_type": "code",
   "execution_count": 29,
   "id": "1d2044fc-145d-4da4-967f-f9f05fda9ae7",
   "metadata": {},
   "outputs": [
    {
     "data": {
      "text/plain": [
       "{262: (b'\\\\Deleted', b'\\\\Seen')}"
      ]
     },
     "execution_count": 29,
     "metadata": {},
     "output_type": "execute_result"
    }
   ],
   "source": [
    "imap_obj.delete_messages(262)"
   ]
  },
  {
   "cell_type": "code",
   "execution_count": 30,
   "id": "c15ba9d6-da5f-42ff-8a35-48654dbe9eff",
   "metadata": {},
   "outputs": [
    {
     "data": {
      "text/plain": [
       "(b'EXPUNGE Done', [(8, b'EXPUNGE')])"
      ]
     },
     "execution_count": 30,
     "metadata": {},
     "output_type": "execute_result"
    }
   ],
   "source": [
    "imap_obj.expunge()"
   ]
  },
  {
   "cell_type": "code",
   "execution_count": 32,
   "id": "ef75d3b0-ffcc-4a86-80aa-224d74eca057",
   "metadata": {},
   "outputs": [
    {
     "data": {
      "text/plain": [
       "b'LOGOUT received'"
      ]
     },
     "execution_count": 32,
     "metadata": {},
     "output_type": "execute_result"
    }
   ],
   "source": [
    "imap_obj.logout()"
   ]
  },
  {
   "cell_type": "markdown",
   "id": "409833e1-1642-4753-90fb-ab2e7e5ecf4e",
   "metadata": {},
   "source": [
    "## 项目： 向会员发送会费提醒电子邮件TODO"
   ]
  },
  {
   "cell_type": "markdown",
   "id": "2d147445-c524-468d-bc1b-2f9787792ded",
   "metadata": {},
   "source": [
    "## 使用短信电子邮件网关发送短信"
   ]
  },
  {
   "cell_type": "markdown",
   "id": "7d5e312f-b08c-4818-bc37-a3fe125a8d52",
   "metadata": {},
   "source": [
    "## ~~用Twilio发送短信~~"
   ]
  },
  {
   "cell_type": "markdown",
   "id": "480d9e0f-2653-403a-a8b5-8b26de7d2dad",
   "metadata": {},
   "source": [
    "## 项目：只给我发短信"
   ]
  },
  {
   "cell_type": "code",
   "execution_count": 1,
   "id": "3dcd4fb3-dd53-45fb-87ee-b97416a5801f",
   "metadata": {},
   "outputs": [],
   "source": [
    "import subprocess"
   ]
  },
  {
   "cell_type": "code",
   "execution_count": 1,
   "id": "9f6a6dc9-e6aa-48ca-9376-fa7f4ad6ee72",
   "metadata": {},
   "outputs": [
    {
     "name": "stdout",
     "output_type": "stream",
     "text": [
      "ok\n"
     ]
    }
   ],
   "source": [
    "import time\n",
    "import smtplib\n",
    "import pyinputplus as pyip\n",
    "from email.mime.text import MIMEText\n",
    "import subprocess\n",
    "\n",
    "calc = subprocess.Popen(r'C:\\Windows\\System32\\mspaint.exe')\n",
    "if calc.wait() == 0:\n",
    "    print('ok')"
   ]
  },
  {
   "cell_type": "code",
   "execution_count": null,
   "id": "231aa42d-00fd-46f8-9a83-391133248693",
   "metadata": {},
   "outputs": [],
   "source": []
  },
  {
   "cell_type": "code",
   "execution_count": null,
   "id": "5358c332-23b0-43b0-9a89-555f48161065",
   "metadata": {},
   "outputs": [],
   "source": []
  }
 ],
 "metadata": {
  "kernelspec": {
   "display_name": "Python 3 (ipykernel)",
   "language": "python",
   "name": "python3"
  },
  "language_info": {
   "codemirror_mode": {
    "name": "ipython",
    "version": 3
   },
   "file_extension": ".py",
   "mimetype": "text/x-python",
   "name": "python",
   "nbconvert_exporter": "python",
   "pygments_lexer": "ipython3",
   "version": "3.11.4"
  }
 },
 "nbformat": 4,
 "nbformat_minor": 5
}
