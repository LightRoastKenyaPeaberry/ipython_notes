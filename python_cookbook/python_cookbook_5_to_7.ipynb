{
 "cells": [
  {
   "cell_type": "markdown",
   "id": "c6fd6204",
   "metadata": {},
   "source": [
    "# 第五章\n",
    "# 文件与IO"
   ]
  },
  {
   "cell_type": "code",
   "execution_count": 1,
   "id": "b1b028d9",
   "metadata": {},
   "outputs": [],
   "source": [
    "with open('somefile.txt', 'rt') as f:\n",
    "    data = f.read()"
   ]
  },
  {
   "cell_type": "code",
   "execution_count": 2,
   "id": "357b2d4d",
   "metadata": {},
   "outputs": [
    {
     "data": {
      "text/plain": [
       "'this is the 1st line of python\\nthis is the 2nd line \\nthis is the 3rd line of \\nthis is the 4th line\\nthis is the 5th line python\\n'"
      ]
     },
     "execution_count": 2,
     "metadata": {},
     "output_type": "execute_result"
    }
   ],
   "source": [
    "data"
   ]
  },
  {
   "cell_type": "code",
   "execution_count": 3,
   "id": "d75d77e0",
   "metadata": {},
   "outputs": [
    {
     "data": {
      "text/plain": [
       "'utf-8'"
      ]
     },
     "execution_count": 3,
     "metadata": {},
     "output_type": "execute_result"
    }
   ],
   "source": [
    "import sys\n",
    "sys.getdefaultencoding()"
   ]
  },
  {
   "cell_type": "code",
   "execution_count": 10,
   "id": "88161541",
   "metadata": {},
   "outputs": [],
   "source": [
    "with open('somefile.txt', 'wt') as f:\n",
    "    f.write('haha1\\n')\n",
    "    f.write('hehe2\\n')"
   ]
  },
  {
   "cell_type": "code",
   "execution_count": 11,
   "id": "b8545c2a",
   "metadata": {},
   "outputs": [],
   "source": [
    "with open('somefile.txt', 'rt', newline='') as f:\n",
    "    data = f.read()"
   ]
  },
  {
   "cell_type": "code",
   "execution_count": 12,
   "id": "d76687a7",
   "metadata": {},
   "outputs": [
    {
     "data": {
      "text/plain": [
       "'haha1\\nhehe2\\n'"
      ]
     },
     "execution_count": 12,
     "metadata": {},
     "output_type": "execute_result"
    }
   ],
   "source": [
    "data"
   ]
  },
  {
   "cell_type": "code",
   "execution_count": 16,
   "id": "dff7157a",
   "metadata": {},
   "outputs": [
    {
     "ename": "UnicodeDecodeError",
     "evalue": "'ascii' codec can't decode byte 0xe5 in position 0: ordinal not in range(128)",
     "output_type": "error",
     "traceback": [
      "\u001b[0;31m---------------------------------------------------------------------------\u001b[0m",
      "\u001b[0;31mUnicodeDecodeError\u001b[0m                        Traceback (most recent call last)",
      "\u001b[0;32m/var/folders/x8/t__p3dnn0fbdd76k016s5c540000gn/T/ipykernel_40282/3046775163.py\u001b[0m in \u001b[0;36m<module>\u001b[0;34m\u001b[0m\n\u001b[1;32m      1\u001b[0m \u001b[0;32mwith\u001b[0m \u001b[0mopen\u001b[0m\u001b[0;34m(\u001b[0m\u001b[0;34m'anotherfile.txt'\u001b[0m\u001b[0;34m,\u001b[0m \u001b[0;34m'rt'\u001b[0m\u001b[0;34m,\u001b[0m \u001b[0mencoding\u001b[0m\u001b[0;34m=\u001b[0m\u001b[0;34m'ascii'\u001b[0m\u001b[0;34m)\u001b[0m \u001b[0;32mas\u001b[0m \u001b[0mf\u001b[0m\u001b[0;34m:\u001b[0m\u001b[0;34m\u001b[0m\u001b[0;34m\u001b[0m\u001b[0m\n\u001b[0;32m----> 2\u001b[0;31m     \u001b[0mdata\u001b[0m \u001b[0;34m=\u001b[0m \u001b[0mf\u001b[0m\u001b[0;34m.\u001b[0m\u001b[0mread\u001b[0m\u001b[0;34m(\u001b[0m\u001b[0;34m)\u001b[0m\u001b[0;34m\u001b[0m\u001b[0;34m\u001b[0m\u001b[0m\n\u001b[0m",
      "\u001b[0;32m~/opt/anaconda3/lib/python3.9/encodings/ascii.py\u001b[0m in \u001b[0;36mdecode\u001b[0;34m(self, input, final)\u001b[0m\n\u001b[1;32m     24\u001b[0m \u001b[0;32mclass\u001b[0m \u001b[0mIncrementalDecoder\u001b[0m\u001b[0;34m(\u001b[0m\u001b[0mcodecs\u001b[0m\u001b[0;34m.\u001b[0m\u001b[0mIncrementalDecoder\u001b[0m\u001b[0;34m)\u001b[0m\u001b[0;34m:\u001b[0m\u001b[0;34m\u001b[0m\u001b[0;34m\u001b[0m\u001b[0m\n\u001b[1;32m     25\u001b[0m     \u001b[0;32mdef\u001b[0m \u001b[0mdecode\u001b[0m\u001b[0;34m(\u001b[0m\u001b[0mself\u001b[0m\u001b[0;34m,\u001b[0m \u001b[0minput\u001b[0m\u001b[0;34m,\u001b[0m \u001b[0mfinal\u001b[0m\u001b[0;34m=\u001b[0m\u001b[0;32mFalse\u001b[0m\u001b[0;34m)\u001b[0m\u001b[0;34m:\u001b[0m\u001b[0;34m\u001b[0m\u001b[0;34m\u001b[0m\u001b[0m\n\u001b[0;32m---> 26\u001b[0;31m         \u001b[0;32mreturn\u001b[0m \u001b[0mcodecs\u001b[0m\u001b[0;34m.\u001b[0m\u001b[0mascii_decode\u001b[0m\u001b[0;34m(\u001b[0m\u001b[0minput\u001b[0m\u001b[0;34m,\u001b[0m \u001b[0mself\u001b[0m\u001b[0;34m.\u001b[0m\u001b[0merrors\u001b[0m\u001b[0;34m)\u001b[0m\u001b[0;34m[\u001b[0m\u001b[0;36m0\u001b[0m\u001b[0;34m]\u001b[0m\u001b[0;34m\u001b[0m\u001b[0;34m\u001b[0m\u001b[0m\n\u001b[0m\u001b[1;32m     27\u001b[0m \u001b[0;34m\u001b[0m\u001b[0m\n\u001b[1;32m     28\u001b[0m \u001b[0;32mclass\u001b[0m \u001b[0mStreamWriter\u001b[0m\u001b[0;34m(\u001b[0m\u001b[0mCodec\u001b[0m\u001b[0;34m,\u001b[0m\u001b[0mcodecs\u001b[0m\u001b[0;34m.\u001b[0m\u001b[0mStreamWriter\u001b[0m\u001b[0;34m)\u001b[0m\u001b[0;34m:\u001b[0m\u001b[0;34m\u001b[0m\u001b[0;34m\u001b[0m\u001b[0m\n",
      "\u001b[0;31mUnicodeDecodeError\u001b[0m: 'ascii' codec can't decode byte 0xe5 in position 0: ordinal not in range(128)"
     ]
    }
   ],
   "source": [
    "# anotherfile.txt: 哈哈哈\\n 呵呵呵\n",
    "with open('anotherfile.txt', 'rt', encoding='ascii') as f:\n",
    "    data = f.read()"
   ]
  },
  {
   "cell_type": "code",
   "execution_count": 18,
   "id": "40e910b7",
   "metadata": {},
   "outputs": [],
   "source": [
    "with open('halape0.txt', 'rt', encoding='ascii', errors='replace') as f:\n",
    "    data = f.read()"
   ]
  },
  {
   "cell_type": "code",
   "execution_count": 19,
   "id": "6e8ee9b7",
   "metadata": {},
   "outputs": [
    {
     "data": {
      "text/plain": [
       "'spicy halape��0'"
      ]
     },
     "execution_count": 19,
     "metadata": {},
     "output_type": "execute_result"
    }
   ],
   "source": [
    "data"
   ]
  },
  {
   "cell_type": "code",
   "execution_count": 20,
   "id": "56cb405f",
   "metadata": {},
   "outputs": [],
   "source": [
    "with open('halape0.txt', 'rt', encoding='ascii', errors='ignore') as f:\n",
    "    data = f.read()"
   ]
  },
  {
   "cell_type": "code",
   "execution_count": 21,
   "id": "6e05f90b",
   "metadata": {},
   "outputs": [
    {
     "data": {
      "text/plain": [
       "'spicy halape0'"
      ]
     },
     "execution_count": 21,
     "metadata": {},
     "output_type": "execute_result"
    }
   ],
   "source": [
    "data"
   ]
  },
  {
   "cell_type": "markdown",
   "id": "40df7a16",
   "metadata": {},
   "source": [
    "## 打印输出至文件中"
   ]
  },
  {
   "cell_type": "code",
   "execution_count": 22,
   "id": "eaabebd2",
   "metadata": {},
   "outputs": [],
   "source": [
    "with open('./print_2_file.txt', 'wt') as f:\n",
    "    print('黑糖话梅', file=f)"
   ]
  },
  {
   "cell_type": "markdown",
   "id": "5c94609d",
   "metadata": {},
   "source": [
    "## 读写字节数据"
   ]
  },
  {
   "cell_type": "code",
   "execution_count": 24,
   "id": "7b222b1f",
   "metadata": {},
   "outputs": [],
   "source": [
    "with open('somefile.bin', 'wb') as f:\n",
    "    text = 'Hello World'\n",
    "    f.write(text.encode('utf-8'))"
   ]
  },
  {
   "cell_type": "code",
   "execution_count": 25,
   "id": "d011bb78",
   "metadata": {},
   "outputs": [],
   "source": [
    "with open('somefile.bin', 'rb') as f:\n",
    "    st = f.read()"
   ]
  },
  {
   "cell_type": "code",
   "execution_count": 26,
   "id": "2df61de9",
   "metadata": {},
   "outputs": [
    {
     "data": {
      "text/plain": [
       "b'Hello World'"
      ]
     },
     "execution_count": 26,
     "metadata": {},
     "output_type": "execute_result"
    }
   ],
   "source": [
    "st"
   ]
  },
  {
   "cell_type": "code",
   "execution_count": 27,
   "id": "e47be8dd",
   "metadata": {},
   "outputs": [
    {
     "data": {
      "text/plain": [
       "108"
      ]
     },
     "execution_count": 27,
     "metadata": {},
     "output_type": "execute_result"
    }
   ],
   "source": [
    "st[3]"
   ]
  },
  {
   "cell_type": "code",
   "execution_count": 28,
   "id": "bacf2bfd",
   "metadata": {},
   "outputs": [
    {
     "ename": "AttributeError",
     "evalue": "'int' object has no attribute 'decode'",
     "output_type": "error",
     "traceback": [
      "\u001b[0;31m---------------------------------------------------------------------------\u001b[0m",
      "\u001b[0;31mAttributeError\u001b[0m                            Traceback (most recent call last)",
      "\u001b[0;32m/var/folders/x8/t__p3dnn0fbdd76k016s5c540000gn/T/ipykernel_40282/2200953554.py\u001b[0m in \u001b[0;36m<module>\u001b[0;34m\u001b[0m\n\u001b[0;32m----> 1\u001b[0;31m \u001b[0mst\u001b[0m\u001b[0;34m[\u001b[0m\u001b[0;36m3\u001b[0m\u001b[0;34m]\u001b[0m\u001b[0;34m.\u001b[0m\u001b[0mdecode\u001b[0m\u001b[0;34m(\u001b[0m\u001b[0;34m'utf-8'\u001b[0m\u001b[0;34m)\u001b[0m\u001b[0;34m\u001b[0m\u001b[0;34m\u001b[0m\u001b[0m\n\u001b[0m",
      "\u001b[0;31mAttributeError\u001b[0m: 'int' object has no attribute 'decode'"
     ]
    }
   ],
   "source": [
    "st[3].decode('utf-8')"
   ]
  },
  {
   "cell_type": "code",
   "execution_count": 30,
   "id": "95adfda7",
   "metadata": {},
   "outputs": [
    {
     "data": {
      "text/plain": [
       "'Hello World'"
      ]
     },
     "execution_count": 30,
     "metadata": {},
     "output_type": "execute_result"
    }
   ],
   "source": [
    "st.decode('utf-8')"
   ]
  },
  {
   "cell_type": "markdown",
   "id": "faa54a21",
   "metadata": {},
   "source": [
    "### 二进I/O还有一个鲜为人知的特性就是数组C结构体类型能直接被写入，而不需要中间转换为自己对象"
   ]
  },
  {
   "cell_type": "code",
   "execution_count": 31,
   "id": "0b4f8096",
   "metadata": {},
   "outputs": [],
   "source": [
    "import array\n",
    "nums = array.array('i', [1,2,3,4])\n",
    "with open('data.bin', 'wb') as f:\n",
    "    f.write(nums)\n"
   ]
  },
  {
   "cell_type": "code",
   "execution_count": 32,
   "id": "87e61fc2",
   "metadata": {},
   "outputs": [
    {
     "data": {
      "text/plain": [
       "array('i', [1, 2, 3, 4])"
      ]
     },
     "execution_count": 32,
     "metadata": {},
     "output_type": "execute_result"
    }
   ],
   "source": [
    "nums"
   ]
  },
  {
   "cell_type": "code",
   "execution_count": 33,
   "id": "eff8f349",
   "metadata": {},
   "outputs": [],
   "source": [
    "a = array.array('i', [0,0,0,0,0,0,0,0])\n",
    "with open('data.bin', 'rb') as f:\n",
    "    f.readinto(a)"
   ]
  },
  {
   "cell_type": "code",
   "execution_count": 34,
   "id": "66d280c7",
   "metadata": {},
   "outputs": [
    {
     "data": {
      "text/plain": [
       "array('i', [1, 2, 3, 4, 0, 0, 0, 0])"
      ]
     },
     "execution_count": 34,
     "metadata": {},
     "output_type": "execute_result"
    }
   ],
   "source": [
    "a "
   ]
  },
  {
   "cell_type": "markdown",
   "id": "e1247406",
   "metadata": {},
   "source": [
    "## 文件不存在才能写入"
   ]
  },
  {
   "cell_type": "code",
   "execution_count": 1,
   "id": "2cb9b53e",
   "metadata": {},
   "outputs": [
    {
     "ename": "FileExistsError",
     "evalue": "[Errno 17] File exists: 'somefile.txt'",
     "output_type": "error",
     "traceback": [
      "\u001b[0;31m---------------------------------------------------------------------------\u001b[0m",
      "\u001b[0;31mFileExistsError\u001b[0m                           Traceback (most recent call last)",
      "\u001b[0;32m/var/folders/x8/t__p3dnn0fbdd76k016s5c540000gn/T/ipykernel_5577/622077800.py\u001b[0m in \u001b[0;36m<module>\u001b[0;34m\u001b[0m\n\u001b[0;32m----> 1\u001b[0;31m \u001b[0;32mwith\u001b[0m \u001b[0mopen\u001b[0m\u001b[0;34m(\u001b[0m\u001b[0;34m'somefile.txt'\u001b[0m\u001b[0;34m,\u001b[0m \u001b[0;34m'xt'\u001b[0m\u001b[0;34m)\u001b[0m \u001b[0;32mas\u001b[0m \u001b[0mf\u001b[0m\u001b[0;34m:\u001b[0m\u001b[0;34m\u001b[0m\u001b[0;34m\u001b[0m\u001b[0m\n\u001b[0m\u001b[1;32m      2\u001b[0m     \u001b[0mf\u001b[0m\u001b[0;34m.\u001b[0m\u001b[0mwrite\u001b[0m\u001b[0;34m(\u001b[0m\u001b[0;34m'Hello from other side'\u001b[0m\u001b[0;34m)\u001b[0m\u001b[0;34m\u001b[0m\u001b[0;34m\u001b[0m\u001b[0m\n",
      "\u001b[0;31mFileExistsError\u001b[0m: [Errno 17] File exists: 'somefile.txt'"
     ]
    }
   ],
   "source": [
    "with open('somefile.txt', 'xt') as f:\n",
    "    f.write('Hello from other side')"
   ]
  },
  {
   "cell_type": "code",
   "execution_count": 3,
   "id": "ef5299c7",
   "metadata": {},
   "outputs": [
    {
     "name": "stdout",
     "output_type": "stream",
     "text": [
      "File alreay exists!\n"
     ]
    }
   ],
   "source": [
    "import os\n",
    "if not os.path.exists('somefile.txt'):\n",
    "    with open('somefile.txt', 'wt') as f:\n",
    "        f.write('Hello from the other side\\n')\n",
    "else: \n",
    "    print('File alreay exists!')\n",
    "\n",
    "            \n",
    "    "
   ]
  },
  {
   "cell_type": "markdown",
   "id": "9f321f55",
   "metadata": {},
   "source": [
    "## 字符串的i/o操作"
   ]
  },
  {
   "cell_type": "code",
   "execution_count": 4,
   "id": "fce3ff19",
   "metadata": {},
   "outputs": [
    {
     "data": {
      "text/plain": [
       "25"
      ]
     },
     "execution_count": 4,
     "metadata": {},
     "output_type": "execute_result"
    }
   ],
   "source": [
    "import io\n",
    "s = io.StringIO()\n",
    "s.write('hello from the other side')"
   ]
  },
  {
   "cell_type": "code",
   "execution_count": 5,
   "id": "13f43f1a",
   "metadata": {},
   "outputs": [
    {
     "data": {
      "text/plain": [
       "'hello from the other side'"
      ]
     },
     "execution_count": 5,
     "metadata": {},
     "output_type": "execute_result"
    }
   ],
   "source": [
    "s.getvalue()"
   ]
  },
  {
   "cell_type": "code",
   "execution_count": 6,
   "id": "32c2056f",
   "metadata": {},
   "outputs": [
    {
     "data": {
      "text/plain": [
       "1"
      ]
     },
     "execution_count": 6,
     "metadata": {},
     "output_type": "execute_result"
    }
   ],
   "source": [
    "s.write('\\n')"
   ]
  },
  {
   "cell_type": "code",
   "execution_count": 7,
   "id": "3b4c6ff3",
   "metadata": {},
   "outputs": [
    {
     "data": {
      "text/plain": [
       "'hello from the other side\\n'"
      ]
     },
     "execution_count": 7,
     "metadata": {},
     "output_type": "execute_result"
    }
   ],
   "source": [
    "s.getvalue()"
   ]
  },
  {
   "cell_type": "code",
   "execution_count": 8,
   "id": "c3ed004d",
   "metadata": {},
   "outputs": [],
   "source": [
    "print('this is a test.\\n', file=s)"
   ]
  },
  {
   "cell_type": "code",
   "execution_count": 9,
   "id": "6f6e2da3",
   "metadata": {},
   "outputs": [
    {
     "data": {
      "text/plain": [
       "'hello from the other side\\nthis is a test.\\n\\n'"
      ]
     },
     "execution_count": 9,
     "metadata": {},
     "output_type": "execute_result"
    }
   ],
   "source": [
    "s.getvalue()"
   ]
  },
  {
   "cell_type": "code",
   "execution_count": 11,
   "id": "36a820d0",
   "metadata": {},
   "outputs": [
    {
     "data": {
      "text/plain": [
       "<_io.StringIO at 0x7f94823a0700>"
      ]
     },
     "execution_count": 11,
     "metadata": {},
     "output_type": "execute_result"
    }
   ],
   "source": [
    "s"
   ]
  },
  {
   "cell_type": "code",
   "execution_count": 14,
   "id": "790fa00e",
   "metadata": {},
   "outputs": [],
   "source": [
    "s = io.StringIO('hello world')"
   ]
  },
  {
   "cell_type": "code",
   "execution_count": 15,
   "id": "e3cd8dfd",
   "metadata": {},
   "outputs": [
    {
     "data": {
      "text/plain": [
       "'hell'"
      ]
     },
     "execution_count": 15,
     "metadata": {},
     "output_type": "execute_result"
    }
   ],
   "source": [
    "s.read(4)"
   ]
  },
  {
   "cell_type": "code",
   "execution_count": 16,
   "id": "14f76bc9",
   "metadata": {},
   "outputs": [
    {
     "data": {
      "text/plain": [
       "'o world'"
      ]
     },
     "execution_count": 16,
     "metadata": {},
     "output_type": "execute_result"
    }
   ],
   "source": [
    "s.read()"
   ]
  },
  {
   "cell_type": "code",
   "execution_count": 18,
   "id": "ded8d6e8",
   "metadata": {},
   "outputs": [
    {
     "data": {
      "text/plain": [
       "b'binary data'"
      ]
     },
     "execution_count": 18,
     "metadata": {},
     "output_type": "execute_result"
    }
   ],
   "source": [
    "s_prime = io.BytesIO()\n",
    "s_prime.write(b'binary data')\n",
    "s_prime.getvalue()"
   ]
  },
  {
   "cell_type": "markdown",
   "id": "47294f6b",
   "metadata": {},
   "source": [
    "## 读写压缩文件"
   ]
  },
  {
   "cell_type": "code",
   "execution_count": 19,
   "id": "ba2a78bb",
   "metadata": {},
   "outputs": [],
   "source": [
    "import gzip\n",
    "with gzip.open('somefile.gz', 'wt') as f:\n",
    "    f.write('if you\\'re gonna let me down, let me donw gently')"
   ]
  },
  {
   "cell_type": "code",
   "execution_count": 20,
   "id": "a834d186",
   "metadata": {},
   "outputs": [],
   "source": [
    "with gzip.open('somefile.gz', 'rt') as f:\n",
    "    text = f.read()"
   ]
  },
  {
   "cell_type": "code",
   "execution_count": 21,
   "id": "5448fb69",
   "metadata": {},
   "outputs": [
    {
     "data": {
      "text/plain": [
       "\"if you're gonna let me down, let me donw gently\""
      ]
     },
     "execution_count": 21,
     "metadata": {},
     "output_type": "execute_result"
    }
   ],
   "source": [
    "text"
   ]
  },
  {
   "cell_type": "code",
   "execution_count": 22,
   "id": "db260d66",
   "metadata": {},
   "outputs": [],
   "source": [
    "import bz2\n",
    "with bz2.open('somefile.bz2', 'wt') as f:\n",
    "    f.write('don\\'t pretend that you don\\'t want me')"
   ]
  },
  {
   "cell_type": "code",
   "execution_count": 23,
   "id": "9e135887",
   "metadata": {},
   "outputs": [],
   "source": [
    "with bz2.open('somefile.bz2', 'rt') as f:\n",
    "    text = f.read()"
   ]
  },
  {
   "cell_type": "code",
   "execution_count": 24,
   "id": "2d10d413",
   "metadata": {},
   "outputs": [
    {
     "data": {
      "text/plain": [
       "\"don't pretend that you don't want me\""
      ]
     },
     "execution_count": 24,
     "metadata": {},
     "output_type": "execute_result"
    }
   ],
   "source": [
    "text"
   ]
  },
  {
   "cell_type": "markdown",
   "id": "48ca783f",
   "metadata": {},
   "source": [
    "## 固定大小记录的文件迭代"
   ]
  },
  {
   "cell_type": "code",
   "execution_count": 27,
   "id": "88cda593",
   "metadata": {},
   "outputs": [
    {
     "name": "stdout",
     "output_type": "stream",
     "text": [
      "b\"If you're not the one for me\\n\\nTh\"\n",
      "b'en how come I can bring you to y'\n",
      "b\"our knees\\n\\nIf you're not the one\"\n",
      "b' for me\\n\\nWhy do I hate the idea '\n",
      "b\"of being free\\n\\nAnd if I'm not th\"\n",
      "b\"e one for you\\n\\nYou've got to sto\"\n",
      "b'p holding me the way you do\\n\\nOh '\n",
      "b\"honey if I'm not the one for you\"\n",
      "b'\\n\\nWhy have we been through what '\n",
      "b\"we have been through\\n\\nIt's so co\"\n",
      "b'ld out here in your wilderness\\n\\n'\n",
      "b'I want you to be my keeper\\n\\nBut '\n",
      "b'not if you are so reckless\\n\\nIf y'\n",
      "b\"ou're gonna let me down, let me \"\n",
      "b\"down gently\\n\\nDon't pretend that \"\n",
      "b\"you don't want me\\n\\nOur love ain'\"\n",
      "b't water under the bridge\\n\\nIf you'\n",
      "b\"'re gonna let me down, let me do\"\n",
      "b\"wn gently\\n\\nDon't pretend that yo\"\n",
      "b\"u don't want me\\n\\nOur love ain't \"\n",
      "b'water under the bridge\\n\\nWoaah, w'\n",
      "b\"oaaah\\n\\nSay that our love ain't w\"\n",
      "b'ater under the bridge\\n\\nWhat are '\n",
      "b'you waiting for?\\n\\nYou never seem'\n",
      "b' to make it through the door\\n\\nAn'\n",
      "b'd who are you hiding from?\\n\\nIt a'\n",
      "b\"in't no life to live like you're\"\n",
      "b' on the run\\n\\nHave I ever asked f'\n",
      "b'or much?\\n\\nThe only thing that I '\n",
      "b\"want is your love\\n\\nIf you're gon\"\n",
      "b'na let me down, let me down gent'\n",
      "b\"ly\\n\\nDon't pretend that you don't\"\n",
      "b\" want me\\n\\nOur love ain't water u\"\n",
      "b\"nder the bridge\\n\\nIf you're gonna\"\n",
      "b' let me down, let me down gently'\n",
      "b\"\\n\\nDon't pretend that you don't w\"\n",
      "b\"ant me\\n\\nOur love ain't water und\"\n",
      "b'er the bridge\\n\\nWoaah, woaaah\\n\\nSa'\n",
      "b\"y that our love ain't water unde\"\n",
      "b\"r the bridge\\n\\nIt's so cold in yo\"\n",
      "b'ur wilderness\\n\\nI want you to be '\n",
      "b'my keeper\\n\\nBut not if you are so'\n",
      "b\" reckless\\n\\nIf you're gonna let m\"\n",
      "b\"e down, let me down gently\\n\\nDon'\"\n",
      "b\"t pretend that you don't want me\"\n",
      "b\"\\n\\nOur love ain't water under the\"\n",
      "b\" bridge\\n\\nIf you're gonna let me \"\n",
      "b\"down, let me down gently\\n\\nDon't \"\n",
      "b\"pretend that you don't want me\\n\\n\"\n",
      "b\"Our love ain't water under the b\"\n",
      "b\"ridge\\n\\nSay it ain't so, say it a\"\n",
      "b\"in't so\\n\\nSay it ain't so, say it\"\n",
      "b\" ain't so\\n\\nSay that our love ain\"\n",
      "b\"'t water under the bridge\\n\\nSay t\"\n",
      "b\"hat our love ain't water under t\"\n",
      "b'he bridge\\n\\nSay that our love ain'\n",
      "b\"'t water under the bridge\"\n"
     ]
    }
   ],
   "source": [
    "from functools import partial\n",
    "RECORD_SIZE = 32\n",
    "with open('somefile.bin', 'rb') as f:\n",
    "    records = iter(partial(f.read, RECORD_SIZE), b'')\n",
    "    for r in records:\n",
    "        print(r)"
   ]
  },
  {
   "cell_type": "markdown",
   "id": "e81f4d95",
   "metadata": {},
   "source": [
    "## 读取二进制数据到可变缓冲区中"
   ]
  },
  {
   "cell_type": "code",
   "execution_count": 28,
   "id": "86346b8b",
   "metadata": {},
   "outputs": [],
   "source": [
    "import os.path\n",
    "def read_into_buffer(filename):\n",
    "    buf = bytearray(os.path.getsize(filename))\n",
    "    with open(filename, 'rb') as f:\n",
    "        f.readinto(buf)\n",
    "    return buf\n",
    "\n"
   ]
  },
  {
   "cell_type": "code",
   "execution_count": 29,
   "id": "68c2f580",
   "metadata": {},
   "outputs": [
    {
     "data": {
      "text/plain": [
       "bytearray(b'Hello World')"
      ]
     },
     "execution_count": 29,
     "metadata": {},
     "output_type": "execute_result"
    }
   ],
   "source": [
    "with open('sample.bin', 'wb') as f:\n",
    "    f.write(b'Hello World')\n",
    "\n",
    "buf = read_into_buffer('sample.bin')\n",
    "buf"
   ]
  },
  {
   "cell_type": "code",
   "execution_count": 30,
   "id": "a86c98c8",
   "metadata": {},
   "outputs": [],
   "source": [
    "buf[:5] = b'Hallo'"
   ]
  },
  {
   "cell_type": "code",
   "execution_count": 31,
   "id": "a84952c8",
   "metadata": {},
   "outputs": [
    {
     "data": {
      "text/plain": [
       "bytearray(b'Hallo World')"
      ]
     },
     "execution_count": 31,
     "metadata": {},
     "output_type": "execute_result"
    }
   ],
   "source": [
    "buf"
   ]
  },
  {
   "cell_type": "code",
   "execution_count": 32,
   "id": "ecc90703",
   "metadata": {},
   "outputs": [],
   "source": [
    "with open('newsample.bin', 'wb') as f:\n",
    "    f.write(buf)"
   ]
  },
  {
   "cell_type": "code",
   "execution_count": 44,
   "id": "c02bf416",
   "metadata": {},
   "outputs": [
    {
     "name": "stdout",
     "output_type": "stream",
     "text": [
      "11\n"
     ]
    }
   ],
   "source": [
    "record_size =32\n",
    "buf = bytearray(record_size)\n",
    "with open('newsample.bin', 'rb') as f:\n",
    "    while True:\n",
    "        n = f.readinto(buf)\n",
    "        if n < record_size:\n",
    "            break\n",
    "print(n)"
   ]
  },
  {
   "cell_type": "code",
   "execution_count": 45,
   "id": "dfac4435",
   "metadata": {},
   "outputs": [
    {
     "data": {
      "text/plain": [
       "bytearray(b'Hallo World\\x00\\x00\\x00\\x00\\x00\\x00\\x00\\x00\\x00\\x00\\x00\\x00\\x00\\x00\\x00\\x00\\x00\\x00\\x00\\x00\\x00')"
      ]
     },
     "execution_count": 45,
     "metadata": {},
     "output_type": "execute_result"
    }
   ],
   "source": [
    "buf"
   ]
  },
  {
   "cell_type": "code",
   "execution_count": 46,
   "id": "717ff492",
   "metadata": {},
   "outputs": [],
   "source": [
    "m1 = memoryview(buf)\n",
    "m2 = m1[-5:]"
   ]
  },
  {
   "cell_type": "code",
   "execution_count": 47,
   "id": "cb44c2eb",
   "metadata": {},
   "outputs": [
    {
     "data": {
      "text/plain": [
       "<memory at 0x7f949126d4c0>"
      ]
     },
     "execution_count": 47,
     "metadata": {},
     "output_type": "execute_result"
    }
   ],
   "source": [
    "m2"
   ]
  },
  {
   "cell_type": "code",
   "execution_count": 50,
   "id": "a6859b54",
   "metadata": {},
   "outputs": [],
   "source": [
    "m2[:] = b'WORLD'"
   ]
  },
  {
   "cell_type": "code",
   "execution_count": 51,
   "id": "2d7af54d",
   "metadata": {},
   "outputs": [
    {
     "data": {
      "text/plain": [
       "bytearray(b'Hallo World\\x00\\x00\\x00\\x00\\x00\\x00\\x00\\x00\\x00\\x00\\x00\\x00\\x00\\x00\\x00\\x00WORLD')"
      ]
     },
     "execution_count": 51,
     "metadata": {},
     "output_type": "execute_result"
    }
   ],
   "source": [
    "buf"
   ]
  },
  {
   "cell_type": "markdown",
   "id": "52bc0dbe",
   "metadata": {},
   "source": [
    "## 内存映射的二进制文件"
   ]
  },
  {
   "cell_type": "code",
   "execution_count": 54,
   "id": "f39d17b5",
   "metadata": {},
   "outputs": [],
   "source": [
    "import os\n",
    "import mmap\n",
    "\n",
    "\n",
    "def memory_map(filename, access = mmap.ACCESS_WRITE):\n",
    "    size = os.path.getsize(filename)\n",
    "    fd = os.open(filename, os.O_RDWR)\n",
    "    return mmap.mmap(fd, size, access=access)\n"
   ]
  },
  {
   "cell_type": "code",
   "execution_count": 55,
   "id": "5eca1321",
   "metadata": {},
   "outputs": [],
   "source": [
    "size = 1000000\n",
    "with open('data', 'wb') as f:\n",
    "    f.seek(size -1)\n",
    "    f.write(b'\\x00')"
   ]
  },
  {
   "cell_type": "code",
   "execution_count": 56,
   "id": "1898ba4d",
   "metadata": {},
   "outputs": [
    {
     "data": {
      "text/plain": [
       "1000000"
      ]
     },
     "execution_count": 56,
     "metadata": {},
     "output_type": "execute_result"
    }
   ],
   "source": [
    "m = memory_map('data')\n",
    "len(m)"
   ]
  },
  {
   "cell_type": "code",
   "execution_count": 57,
   "id": "7fb8ef24",
   "metadata": {},
   "outputs": [
    {
     "data": {
      "text/plain": [
       "b'\\x00\\x00\\x00\\x00\\x00\\x00\\x00\\x00\\x00\\x00'"
      ]
     },
     "execution_count": 57,
     "metadata": {},
     "output_type": "execute_result"
    }
   ],
   "source": [
    "m[:10]"
   ]
  },
  {
   "cell_type": "code",
   "execution_count": 58,
   "id": "caee9fc7",
   "metadata": {},
   "outputs": [
    {
     "data": {
      "text/plain": [
       "0"
      ]
     },
     "execution_count": 58,
     "metadata": {},
     "output_type": "execute_result"
    }
   ],
   "source": [
    "m[0]"
   ]
  },
  {
   "cell_type": "code",
   "execution_count": 59,
   "id": "82f5a934",
   "metadata": {},
   "outputs": [],
   "source": [
    "m[:11] = b'hello world'\n",
    "m.close()"
   ]
  },
  {
   "cell_type": "code",
   "execution_count": 60,
   "id": "20f9f9ac",
   "metadata": {},
   "outputs": [
    {
     "name": "stdout",
     "output_type": "stream",
     "text": [
      "b'hello world'\n"
     ]
    }
   ],
   "source": [
    "with open('data', 'rb') as f:\n",
    "    print(f.read(11))"
   ]
  },
  {
   "cell_type": "code",
   "execution_count": 63,
   "id": "66a02d5b",
   "metadata": {},
   "outputs": [
    {
     "name": "stdout",
     "output_type": "stream",
     "text": [
      "1000000\n",
      "b'hello world\\x00\\x00\\x00\\x00\\x00\\x00\\x00\\x00\\x00\\x00\\x00\\x00\\x00\\x00\\x00\\x00\\x00\\x00\\x00'\n",
      "b'\\x00\\x00\\x00\\x00'\n"
     ]
    }
   ],
   "source": [
    "with memory_map('data') as m:\n",
    "    print(len(m))\n",
    "    print(m[:30])\n",
    "    print(m[-5:-1])"
   ]
  },
  {
   "cell_type": "code",
   "execution_count": 64,
   "id": "6facf539",
   "metadata": {},
   "outputs": [
    {
     "data": {
      "text/plain": [
       "True"
      ]
     },
     "execution_count": 64,
     "metadata": {},
     "output_type": "execute_result"
    }
   ],
   "source": [
    "m.closed"
   ]
  },
  {
   "cell_type": "markdown",
   "id": "e7bea476",
   "metadata": {},
   "source": [
    "## 文件路径名的操作"
   ]
  },
  {
   "cell_type": "code",
   "execution_count": 65,
   "id": "a5e09d7d",
   "metadata": {},
   "outputs": [
    {
     "data": {
      "text/plain": [
       "'data.bin'"
      ]
     },
     "execution_count": 65,
     "metadata": {},
     "output_type": "execute_result"
    }
   ],
   "source": [
    "import os\n",
    "path = '/Users/joriri/Code/jupyter/data.bin'\n",
    "\n",
    "os.path.basename(path)\n"
   ]
  },
  {
   "cell_type": "code",
   "execution_count": 66,
   "id": "9e0551e2",
   "metadata": {},
   "outputs": [
    {
     "data": {
      "text/plain": [
       "'/Users/joriri/Code/jupyter'"
      ]
     },
     "execution_count": 66,
     "metadata": {},
     "output_type": "execute_result"
    }
   ],
   "source": [
    "os.path.dirname(path)"
   ]
  },
  {
   "cell_type": "code",
   "execution_count": 67,
   "id": "f17feadb",
   "metadata": {},
   "outputs": [
    {
     "data": {
      "text/plain": [
       "'tmp/data/data.bin'"
      ]
     },
     "execution_count": 67,
     "metadata": {},
     "output_type": "execute_result"
    }
   ],
   "source": [
    "# join path components together\n",
    "os.path.join('tmp', 'data', os.path.basename(path))"
   ]
  },
  {
   "cell_type": "code",
   "execution_count": 68,
   "id": "6ba1eb10",
   "metadata": {},
   "outputs": [
    {
     "data": {
      "text/plain": [
       "'/Users/joriri/Code'"
      ]
     },
     "execution_count": 68,
     "metadata": {},
     "output_type": "execute_result"
    }
   ],
   "source": [
    "path = '~/Code'\n",
    "os.path.expanduser(path)"
   ]
  },
  {
   "cell_type": "code",
   "execution_count": 70,
   "id": "61fc5de7",
   "metadata": {},
   "outputs": [],
   "source": [
    "# Split the file extension\n",
    "path = '/Users/joriri/Code/jupyter/data.bin'\n",
    "li = []\n",
    "li = os.path.splitext(path)"
   ]
  },
  {
   "cell_type": "code",
   "execution_count": 71,
   "id": "1d557456",
   "metadata": {},
   "outputs": [
    {
     "data": {
      "text/plain": [
       "('/Users/joriri/Code/jupyter/data', '.bin')"
      ]
     },
     "execution_count": 71,
     "metadata": {},
     "output_type": "execute_result"
    }
   ],
   "source": [
    "li"
   ]
  },
  {
   "cell_type": "markdown",
   "id": "f6dc781b",
   "metadata": {},
   "source": [
    "⬆️ 对于数据集的处理有用"
   ]
  },
  {
   "cell_type": "markdown",
   "id": "b01df328",
   "metadata": {},
   "source": [
    "## 测试文件是否存在"
   ]
  },
  {
   "cell_type": "code",
   "execution_count": 72,
   "id": "e8e133fe",
   "metadata": {},
   "outputs": [
    {
     "data": {
      "text/plain": [
       "True"
      ]
     },
     "execution_count": 72,
     "metadata": {},
     "output_type": "execute_result"
    }
   ],
   "source": [
    "import os\n",
    "os.path.exists('/etc/passwd')"
   ]
  },
  {
   "cell_type": "code",
   "execution_count": 73,
   "id": "18f47ac3",
   "metadata": {},
   "outputs": [
    {
     "data": {
      "text/plain": [
       "False"
      ]
     },
     "execution_count": 73,
     "metadata": {},
     "output_type": "execute_result"
    }
   ],
   "source": [
    "os.path.exists('/etc/spam')"
   ]
  },
  {
   "cell_type": "code",
   "execution_count": 74,
   "id": "1c6e675a",
   "metadata": {},
   "outputs": [
    {
     "data": {
      "text/plain": [
       "True"
      ]
     },
     "execution_count": 74,
     "metadata": {},
     "output_type": "execute_result"
    }
   ],
   "source": [
    "os.path.isfile('/etc/passwd')"
   ]
  },
  {
   "cell_type": "code",
   "execution_count": 75,
   "id": "aef6f4c5",
   "metadata": {},
   "outputs": [
    {
     "data": {
      "text/plain": [
       "False"
      ]
     },
     "execution_count": 75,
     "metadata": {},
     "output_type": "execute_result"
    }
   ],
   "source": [
    "os.path.isdir('/etc/passwd')"
   ]
  },
  {
   "cell_type": "code",
   "execution_count": 79,
   "id": "a01f851d",
   "metadata": {},
   "outputs": [
    {
     "data": {
      "text/plain": [
       "False"
      ]
     },
     "execution_count": 79,
     "metadata": {},
     "output_type": "execute_result"
    }
   ],
   "source": [
    "os.path.islink('/usr/local/bin/pdf2ps')"
   ]
  },
  {
   "cell_type": "code",
   "execution_count": 81,
   "id": "79ad1ae6",
   "metadata": {},
   "outputs": [
    {
     "data": {
      "text/plain": [
       "True"
      ]
     },
     "execution_count": 81,
     "metadata": {},
     "output_type": "execute_result"
    }
   ],
   "source": [
    "os.path.islink('/Users/joriri/opt/anaconda3/share/man/man1/python3.1')"
   ]
  },
  {
   "cell_type": "code",
   "execution_count": 82,
   "id": "3dc31847",
   "metadata": {},
   "outputs": [
    {
     "data": {
      "text/plain": [
       "'/Users/joriri/opt/anaconda3/share/man/man1/python3.9.1'"
      ]
     },
     "execution_count": 82,
     "metadata": {},
     "output_type": "execute_result"
    }
   ],
   "source": [
    "os.path.realpath('/Users/joriri/opt/anaconda3/share/man/man1/python3.1')"
   ]
  },
  {
   "cell_type": "code",
   "execution_count": 83,
   "id": "2bcbbbc7",
   "metadata": {},
   "outputs": [
    {
     "data": {
      "text/plain": [
       "8160"
      ]
     },
     "execution_count": 83,
     "metadata": {},
     "output_type": "execute_result"
    }
   ],
   "source": [
    "os.path.getsize('/etc/passwd')"
   ]
  },
  {
   "cell_type": "code",
   "execution_count": 84,
   "id": "c9af192b",
   "metadata": {},
   "outputs": [
    {
     "data": {
      "text/plain": [
       "1675935593.0"
      ]
     },
     "execution_count": 84,
     "metadata": {},
     "output_type": "execute_result"
    }
   ],
   "source": [
    "os.path.getmtime('/etc/passwd')\n"
   ]
  },
  {
   "cell_type": "code",
   "execution_count": 85,
   "id": "6c690885",
   "metadata": {},
   "outputs": [
    {
     "data": {
      "text/plain": [
       "'Thu Feb  9 17:39:53 2023'"
      ]
     },
     "execution_count": 85,
     "metadata": {},
     "output_type": "execute_result"
    }
   ],
   "source": [
    "import time\n",
    "time.ctime(os.path.getmtime('/etc/passwd'))"
   ]
  },
  {
   "cell_type": "markdown",
   "id": "54001380",
   "metadata": {},
   "source": [
    "## 获取文件夹中的文件列表"
   ]
  },
  {
   "cell_type": "code",
   "execution_count": 86,
   "id": "27d37599",
   "metadata": {},
   "outputs": [],
   "source": [
    "names = os.listdir('../')"
   ]
  },
  {
   "cell_type": "code",
   "execution_count": 87,
   "id": "6783c722",
   "metadata": {},
   "outputs": [
    {
     "data": {
      "text/plain": [
       "['demo',\n",
       " 'latex_test',\n",
       " 'desc_parser.py',\n",
       " 'AHUThesis-master',\n",
       " '.DS_Store',\n",
       " 'ambition.txt',\n",
       " 'ply_parser.py',\n",
       " 'trans_rgb',\n",
       " 'parsetab.py',\n",
       " 'parser.out',\n",
       " 'img',\n",
       " 'spider_book',\n",
       " 'some_python',\n",
       " 'ch_recognition.py',\n",
       " 'git_practice',\n",
       " 'DL',\n",
       " '.vscode',\n",
       " 'jupyter']"
      ]
     },
     "execution_count": 87,
     "metadata": {},
     "output_type": "execute_result"
    }
   ],
   "source": [
    "names"
   ]
  },
  {
   "cell_type": "code",
   "execution_count": 88,
   "id": "16148198",
   "metadata": {},
   "outputs": [
    {
     "data": {
      "text/plain": [
       "18"
      ]
     },
     "execution_count": 88,
     "metadata": {},
     "output_type": "execute_result"
    }
   ],
   "source": [
    "len(names)"
   ]
  },
  {
   "cell_type": "code",
   "execution_count": 89,
   "id": "920a65cc",
   "metadata": {},
   "outputs": [],
   "source": [
    "# get all regular files\n",
    "names = [name for name in os.listdir('../')\n",
    "         if os.path.isfile(os.path.join('../', name))]"
   ]
  },
  {
   "cell_type": "code",
   "execution_count": 90,
   "id": "8326d155",
   "metadata": {},
   "outputs": [
    {
     "data": {
      "text/plain": [
       "['desc_parser.py',\n",
       " '.DS_Store',\n",
       " 'ambition.txt',\n",
       " 'ply_parser.py',\n",
       " 'parsetab.py',\n",
       " 'parser.out',\n",
       " 'ch_recognition.py']"
      ]
     },
     "execution_count": 90,
     "metadata": {},
     "output_type": "execute_result"
    }
   ],
   "source": [
    "names"
   ]
  },
  {
   "cell_type": "code",
   "execution_count": 91,
   "id": "4148d7a6",
   "metadata": {},
   "outputs": [],
   "source": [
    "# get all dirs\n",
    "dirnames = [name for name in os.listdir('../')\n",
    "            if os.path.isdir(os.path.join('../', name))]"
   ]
  },
  {
   "cell_type": "code",
   "execution_count": 92,
   "id": "e99405cf",
   "metadata": {},
   "outputs": [
    {
     "data": {
      "text/plain": [
       "['demo',\n",
       " 'latex_test',\n",
       " 'AHUThesis-master',\n",
       " 'trans_rgb',\n",
       " 'img',\n",
       " 'spider_book',\n",
       " 'some_python',\n",
       " 'git_practice',\n",
       " 'DL',\n",
       " '.vscode',\n",
       " 'jupyter']"
      ]
     },
     "execution_count": 92,
     "metadata": {},
     "output_type": "execute_result"
    }
   ],
   "source": [
    "dirnames"
   ]
  },
  {
   "cell_type": "code",
   "execution_count": 93,
   "id": "a0908d36",
   "metadata": {},
   "outputs": [],
   "source": [
    "# sting.startswith string.endswith\n",
    "pyfiles = [name for name in os.listdir('../')\n",
    "           if name.endswith('.py')]"
   ]
  },
  {
   "cell_type": "code",
   "execution_count": 94,
   "id": "33746f44",
   "metadata": {},
   "outputs": [
    {
     "data": {
      "text/plain": [
       "['desc_parser.py', 'ply_parser.py', 'parsetab.py', 'ch_recognition.py']"
      ]
     },
     "execution_count": 94,
     "metadata": {},
     "output_type": "execute_result"
    }
   ],
   "source": [
    "pyfiles"
   ]
  },
  {
   "cell_type": "code",
   "execution_count": 96,
   "id": "a0612923",
   "metadata": {},
   "outputs": [],
   "source": [
    "# 对于文件名的匹配，可以使用glob或者fnmatch\n",
    "import glob\n",
    "pyfiles = glob.glob('../*.py')"
   ]
  },
  {
   "cell_type": "code",
   "execution_count": 97,
   "id": "81375fb8",
   "metadata": {},
   "outputs": [
    {
     "data": {
      "text/plain": [
       "['../desc_parser.py',\n",
       " '../ply_parser.py',\n",
       " '../parsetab.py',\n",
       " '../ch_recognition.py']"
      ]
     },
     "execution_count": 97,
     "metadata": {},
     "output_type": "execute_result"
    }
   ],
   "source": [
    "pyfiles"
   ]
  },
  {
   "cell_type": "code",
   "execution_count": 98,
   "id": "2c31becb",
   "metadata": {},
   "outputs": [],
   "source": [
    "from fnmatch import fnmatch\n",
    "pyfiles = [name for name in os.listdir('../')\n",
    "           if fnmatch(name, '*.py')]"
   ]
  },
  {
   "cell_type": "code",
   "execution_count": 99,
   "id": "8540ab95",
   "metadata": {},
   "outputs": [
    {
     "data": {
      "text/plain": [
       "['desc_parser.py', 'ply_parser.py', 'parsetab.py', 'ch_recognition.py']"
      ]
     },
     "execution_count": 99,
     "metadata": {},
     "output_type": "execute_result"
    }
   ],
   "source": [
    "pyfiles"
   ]
  },
  {
   "cell_type": "code",
   "execution_count": 100,
   "id": "3ccdae32",
   "metadata": {},
   "outputs": [],
   "source": [
    "# 获得一些文件的其他信息\n",
    "import os\n",
    "import os.path\n",
    "import glob\n",
    "\n",
    "\n",
    "pyfiles = glob.glob('../*.py')\n",
    "\n",
    "# get file sizes and mofification dates\n",
    "name_sz_date = [(name, os.path.getsize(name), os.path.getmtime(name))\n",
    "                for name in pyfiles]"
   ]
  },
  {
   "cell_type": "code",
   "execution_count": 102,
   "id": "a4a1ff1a",
   "metadata": {},
   "outputs": [
    {
     "data": {
      "text/plain": [
       "[('../desc_parser.py', 3277, 1688449845.3543172),\n",
       " ('../ply_parser.py', 1480, 1688453479.8070745),\n",
       " ('../parsetab.py', 2039, 1688453484.5836527),\n",
       " ('../ch_recognition.py', 315, 1686577296.5326047)]"
      ]
     },
     "execution_count": 102,
     "metadata": {},
     "output_type": "execute_result"
    }
   ],
   "source": [
    "name_sz_date"
   ]
  },
  {
   "cell_type": "code",
   "execution_count": 103,
   "id": "00c2f33a",
   "metadata": {},
   "outputs": [],
   "source": [
    "# Alternative: Get file metadata\n",
    "file_metadata = [(name, os.stat(name)) for name in pyfiles]"
   ]
  },
  {
   "cell_type": "code",
   "execution_count": 104,
   "id": "6a4aa23c",
   "metadata": {},
   "outputs": [
    {
     "data": {
      "text/plain": [
       "[('../desc_parser.py',\n",
       "  os.stat_result(st_mode=33188, st_ino=12289587, st_dev=16777232, st_nlink=1, st_uid=501, st_gid=20, st_size=3277, st_atime=1688449915, st_mtime=1688449845, st_ctime=1688449845)),\n",
       " ('../ply_parser.py',\n",
       "  os.stat_result(st_mode=33188, st_ino=12306244, st_dev=16777232, st_nlink=1, st_uid=501, st_gid=20, st_size=1480, st_atime=1688453481, st_mtime=1688453479, st_ctime=1688453479)),\n",
       " ('../parsetab.py',\n",
       "  os.stat_result(st_mode=33188, st_ino=12306261, st_dev=16777232, st_nlink=1, st_uid=501, st_gid=20, st_size=2039, st_atime=1688453486, st_mtime=1688453484, st_ctime=1688453484)),\n",
       " ('../ch_recognition.py',\n",
       "  os.stat_result(st_mode=33188, st_ino=10853729, st_dev=16777232, st_nlink=1, st_uid=501, st_gid=20, st_size=315, st_atime=1687247638, st_mtime=1686577296, st_ctime=1687247636))]"
      ]
     },
     "execution_count": 104,
     "metadata": {},
     "output_type": "execute_result"
    }
   ],
   "source": [
    "file_metadata"
   ]
  },
  {
   "cell_type": "markdown",
   "id": "116b10dc",
   "metadata": {},
   "source": [
    "## 忽略文件名编码"
   ]
  },
  {
   "cell_type": "code",
   "execution_count": 105,
   "id": "cfdd8e62",
   "metadata": {},
   "outputs": [
    {
     "data": {
      "text/plain": [
       "'utf-8'"
      ]
     },
     "execution_count": 105,
     "metadata": {},
     "output_type": "execute_result"
    }
   ],
   "source": [
    "import sys\n",
    "sys.getfilesystemencoding()"
   ]
  },
  {
   "cell_type": "code",
   "execution_count": 106,
   "id": "1e6df54f",
   "metadata": {},
   "outputs": [],
   "source": [
    "# write a file using a unicode filename\n",
    "with open('halape\\xf1o.txt', 'w') as f:\n",
    "    f.write('Spicy!')"
   ]
  },
  {
   "cell_type": "code",
   "execution_count": 107,
   "id": "917b4a7b",
   "metadata": {},
   "outputs": [
    {
     "data": {
      "text/plain": [
       "['print_2_file.txt',\n",
       " 'linear.csv',\n",
       " 'sorted_file_2',\n",
       " 'newsample.bin',\n",
       " 'somefile.bin',\n",
       " '.DS_Store',\n",
       " 'somefile.txt',\n",
       " 'plot_demo1.png',\n",
       " '用vscode写jupyter.ipynb',\n",
       " 'python_cookbook_1_to_4.ipynb',\n",
       " 'anotherfile.txt',\n",
       " 'lines.txt',\n",
       " '230513_用iris来初入门jupyter.ipynb',\n",
       " 'sort_heapq.py',\n",
       " 'halapeño.txt',\n",
       " 'somefile.bz2',\n",
       " 'halape0.txt',\n",
       " 'sorted_file_1',\n",
       " 'python_cookbook_5_to_7.ipynb',\n",
       " 'yield_from_flatten.py',\n",
       " 'data_mining_numpy.ipynb',\n",
       " '.ipynb_checkpoints',\n",
       " 'data_mining_matplotlib.ipynb',\n",
       " 'merged_file',\n",
       " 'somefile.gz',\n",
       " 'data',\n",
       " 'data.bin',\n",
       " 'sample.bin']"
      ]
     },
     "execution_count": 107,
     "metadata": {},
     "output_type": "execute_result"
    }
   ],
   "source": [
    "# after decoding\n",
    "os.listdir('.')"
   ]
  },
  {
   "cell_type": "code",
   "execution_count": 108,
   "id": "a79da7fd",
   "metadata": {},
   "outputs": [
    {
     "data": {
      "text/plain": [
       "[b'print_2_file.txt',\n",
       " b'linear.csv',\n",
       " b'sorted_file_2',\n",
       " b'newsample.bin',\n",
       " b'somefile.bin',\n",
       " b'.DS_Store',\n",
       " b'somefile.txt',\n",
       " b'plot_demo1.png',\n",
       " b'\\xe7\\x94\\xa8vscode\\xe5\\x86\\x99jupyter.ipynb',\n",
       " b'python_cookbook_1_to_4.ipynb',\n",
       " b'anotherfile.txt',\n",
       " b'lines.txt',\n",
       " b'230513_\\xe7\\x94\\xa8iris\\xe6\\x9d\\xa5\\xe5\\x88\\x9d\\xe5\\x85\\xa5\\xe9\\x97\\xa8jupyter.ipynb',\n",
       " b'sort_heapq.py',\n",
       " b'halape\\xc3\\xb1o.txt',\n",
       " b'somefile.bz2',\n",
       " b'halape0.txt',\n",
       " b'sorted_file_1',\n",
       " b'python_cookbook_5_to_7.ipynb',\n",
       " b'yield_from_flatten.py',\n",
       " b'data_mining_numpy.ipynb',\n",
       " b'.ipynb_checkpoints',\n",
       " b'data_mining_matplotlib.ipynb',\n",
       " b'merged_file',\n",
       " b'somefile.gz',\n",
       " b'data',\n",
       " b'data.bin',\n",
       " b'sample.bin']"
      ]
     },
     "execution_count": 108,
     "metadata": {},
     "output_type": "execute_result"
    }
   ],
   "source": [
    "# raw\n",
    "os.listdir(b'.')"
   ]
  },
  {
   "cell_type": "markdown",
   "id": "6a863c5a",
   "metadata": {},
   "source": [
    "## 打印不合法的文件名"
   ]
  },
  {
   "cell_type": "code",
   "execution_count": 109,
   "id": "418cd213",
   "metadata": {},
   "outputs": [
    {
     "ename": "NameError",
     "evalue": "name 'filename' is not defined",
     "output_type": "error",
     "traceback": [
      "\u001b[0;31m---------------------------------------------------------------------------\u001b[0m",
      "\u001b[0;31mNameError\u001b[0m                                 Traceback (most recent call last)",
      "\u001b[0;32m/var/folders/x8/t__p3dnn0fbdd76k016s5c540000gn/T/ipykernel_5577/545459148.py\u001b[0m in \u001b[0;36m<module>\u001b[0;34m\u001b[0m\n\u001b[1;32m      3\u001b[0m \u001b[0;34m\u001b[0m\u001b[0m\n\u001b[1;32m      4\u001b[0m \u001b[0;32mtry\u001b[0m\u001b[0;34m:\u001b[0m\u001b[0;34m\u001b[0m\u001b[0;34m\u001b[0m\u001b[0m\n\u001b[0;32m----> 5\u001b[0;31m     \u001b[0mprint\u001b[0m\u001b[0;34m(\u001b[0m\u001b[0mfilename\u001b[0m\u001b[0;34m)\u001b[0m\u001b[0;34m\u001b[0m\u001b[0;34m\u001b[0m\u001b[0m\n\u001b[0m\u001b[1;32m      6\u001b[0m \u001b[0;32mexcept\u001b[0m \u001b[0mUnicodeEncodeError\u001b[0m\u001b[0;34m:\u001b[0m\u001b[0;34m\u001b[0m\u001b[0;34m\u001b[0m\u001b[0m\n\u001b[1;32m      7\u001b[0m     \u001b[0mprint\u001b[0m\u001b[0;34m(\u001b[0m\u001b[0mbad_filename\u001b[0m\u001b[0;34m(\u001b[0m\u001b[0mfilename\u001b[0m\u001b[0;34m)\u001b[0m\u001b[0;34m)\u001b[0m\u001b[0;34m\u001b[0m\u001b[0;34m\u001b[0m\u001b[0m\n",
      "\u001b[0;31mNameError\u001b[0m: name 'filename' is not defined"
     ]
    }
   ],
   "source": [
    "def bad_filename(filename):\n",
    "    return repr(filename)[1:-1]\n",
    "\n",
    "try: \n",
    "    print(filename)\n",
    "except UnicodeEncodeError:\n",
    "    print(bad_filename(filename))"
   ]
  },
  {
   "cell_type": "code",
   "execution_count": 129,
   "id": "4df96989",
   "metadata": {},
   "outputs": [
    {
     "ename": "UnicodeEncodeError",
     "evalue": "'latin-1' codec can't encode character '\\udce4' in position 1: ordinal not in range(256)",
     "output_type": "error",
     "traceback": [
      "\u001b[0;31m---------------------------------------------------------------------------\u001b[0m",
      "\u001b[0;31mUnicodeEncodeError\u001b[0m                        Traceback (most recent call last)",
      "\u001b[0;32m/var/folders/x8/t__p3dnn0fbdd76k016s5c540000gn/T/ipykernel_5577/2703196423.py\u001b[0m in \u001b[0;36m<module>\u001b[0;34m\u001b[0m\n\u001b[1;32m      1\u001b[0m \u001b[0;32mimport\u001b[0m \u001b[0mstring\u001b[0m\u001b[0;34m\u001b[0m\u001b[0;34m\u001b[0m\u001b[0m\n\u001b[1;32m      2\u001b[0m \u001b[0ms\u001b[0m \u001b[0;34m=\u001b[0m \u001b[0;34m'b\\udce4d'\u001b[0m\u001b[0;34m\u001b[0m\u001b[0;34m\u001b[0m\u001b[0m\n\u001b[0;32m----> 3\u001b[0;31m \u001b[0ms\u001b[0m\u001b[0;34m.\u001b[0m\u001b[0mencode\u001b[0m\u001b[0;34m(\u001b[0m\u001b[0mencoding\u001b[0m\u001b[0;34m=\u001b[0m\u001b[0;34m'latin-1'\u001b[0m\u001b[0;34m)\u001b[0m\u001b[0;34m\u001b[0m\u001b[0;34m\u001b[0m\u001b[0m\n\u001b[0m\u001b[1;32m      4\u001b[0m \u001b[0ms\u001b[0m\u001b[0;34m.\u001b[0m\u001b[0mdecode\u001b[0m\u001b[0;34m(\u001b[0m\u001b[0;34m'latin-1'\u001b[0m\u001b[0;34m)\u001b[0m\u001b[0;34m\u001b[0m\u001b[0;34m\u001b[0m\u001b[0m\n",
      "\u001b[0;31mUnicodeEncodeError\u001b[0m: 'latin-1' codec can't encode character '\\udce4' in position 1: ordinal not in range(256)"
     ]
    }
   ],
   "source": [
    "import string\n",
    "s = 'b\\udce4d'\n",
    "s.encode(encoding='latin-1')\n",
    "s.decode('latin-1')"
   ]
  },
  {
   "cell_type": "code",
   "execution_count": 123,
   "id": "081fbbbd",
   "metadata": {},
   "outputs": [],
   "source": [
    "files = os.listdir('.')"
   ]
  },
  {
   "cell_type": "code",
   "execution_count": 124,
   "id": "721d99fc",
   "metadata": {},
   "outputs": [
    {
     "data": {
      "text/plain": [
       "['print_2_file.txt',\n",
       " 'linear.csv',\n",
       " 'sorted_file_2',\n",
       " 'newsample.bin',\n",
       " 'somefile.bin',\n",
       " '.DS_Store',\n",
       " 'somefile.txt',\n",
       " 'plot_demo1.png',\n",
       " '用vscode写jupyter.ipynb',\n",
       " 'python_cookbook_1_to_4.ipynb',\n",
       " 'anotherfile.txt',\n",
       " 'lines.txt',\n",
       " '230513_用iris来初入门jupyter.ipynb',\n",
       " 'sort_heapq.py',\n",
       " 'halapeño.txt',\n",
       " 'somefile.bz2',\n",
       " 'halape0.txt',\n",
       " 'sorted_file_1',\n",
       " 'python_cookbook_5_to_7.ipynb',\n",
       " 'yield_from_flatten.py',\n",
       " 'data_mining_numpy.ipynb',\n",
       " '.ipynb_checkpoints',\n",
       " 'data_mining_matplotlib.ipynb',\n",
       " 'bäd.txt',\n",
       " 'merged_file',\n",
       " 'somefile.gz',\n",
       " 'data',\n",
       " 'data.bin',\n",
       " 'sample.bin']"
      ]
     },
     "execution_count": 124,
     "metadata": {},
     "output_type": "execute_result"
    }
   ],
   "source": [
    "files"
   ]
  },
  {
   "cell_type": "code",
   "execution_count": 125,
   "id": "698b653b",
   "metadata": {},
   "outputs": [
    {
     "name": "stdout",
     "output_type": "stream",
     "text": [
      "print_2_file.txt\n",
      "linear.csv\n",
      "sorted_file_2\n",
      "newsample.bin\n",
      "somefile.bin\n",
      ".DS_Store\n",
      "somefile.txt\n",
      "plot_demo1.png\n",
      "用vscode写jupyter.ipynb\n",
      "python_cookbook_1_to_4.ipynb\n",
      "anotherfile.txt\n",
      "lines.txt\n",
      "230513_用iris来初入门jupyter.ipynb\n",
      "sort_heapq.py\n",
      "halapeño.txt\n",
      "somefile.bz2\n",
      "halape0.txt\n",
      "sorted_file_1\n",
      "python_cookbook_5_to_7.ipynb\n",
      "yield_from_flatten.py\n",
      "data_mining_numpy.ipynb\n",
      ".ipynb_checkpoints\n",
      "data_mining_matplotlib.ipynb\n",
      "bäd.txt\n",
      "merged_file\n",
      "somefile.gz\n",
      "data\n",
      "data.bin\n",
      "sample.bin\n"
     ]
    }
   ],
   "source": [
    "for name in files:\n",
    "    print(name)"
   ]
  },
  {
   "cell_type": "code",
   "execution_count": 130,
   "id": "ecded106",
   "metadata": {},
   "outputs": [],
   "source": [
    "s2 = 'Spicy Jalapen\\u0303o'"
   ]
  },
  {
   "cell_type": "code",
   "execution_count": 131,
   "id": "eb241616",
   "metadata": {},
   "outputs": [
    {
     "data": {
      "text/plain": [
       "'Spicy Jalapeño'"
      ]
     },
     "execution_count": 131,
     "metadata": {},
     "output_type": "execute_result"
    }
   ],
   "source": [
    "s2"
   ]
  },
  {
   "cell_type": "markdown",
   "id": "25739011",
   "metadata": {},
   "source": [
    "## 增加或改变已打开文件的编码"
   ]
  },
  {
   "cell_type": "code",
   "execution_count": 142,
   "id": "f5db616c",
   "metadata": {},
   "outputs": [],
   "source": [
    "import urllib.request\n",
    "import io\n",
    "\n",
    "u = urllib.request.urlopen('http://www.python.org')\n",
    "f= io.TextIOWrapper(u, encoding='utf-8')\n",
    "text = f.read()"
   ]
  },
  {
   "cell_type": "code",
   "execution_count": 143,
   "id": "f518ed6e",
   "metadata": {},
   "outputs": [
    {
     "data": {
      "text/plain": [
       "'<!doctype html>\\n<!--[if lt IE 7]>   <html class=\"no-js ie6 lt-ie7 lt-ie8 lt-ie9\">   <![endif]-->\\n<!--[if IE 7]>      <html class=\"no-js ie7 lt-ie8 lt-ie9\">          <![endif]-->\\n<!--[if IE 8]>      <html class=\"no-js ie8 lt-ie9\">                 <![endif]-->\\n<!--[if gt IE 8]><!--><html class=\"no-js\" lang=\"en\" dir=\"ltr\">  <!--<![endif]-->\\n\\n<head>\\n    <!-- Google tag (gtag.js) -->\\n    <script async src=\"https://www.googletagmanager.com/gtag/js?id=G-TF35YF9CVH\"></script>\\n    <script>\\n      window.dataLayer = window.dataLayer || [];\\n      function gtag(){dataLayer.push(arguments);}\\n      gtag(\\'js\\', new Date());\\n      gtag(\\'config\\', \\'G-TF35YF9CVH\\');\\n    </script>\\n\\n    <meta charset=\"utf-8\">\\n    <meta http-equiv=\"X-UA-Compatible\" content=\"IE=edge\">\\n\\n    <link rel=\"prefetch\" href=\"//ajax.googleapis.com/ajax/libs/jquery/1.8.2/jquery.min.js\">\\n    <link rel=\"prefetch\" href=\"//ajax.googleapis.com/ajax/libs/jqueryui/1.12.1/jquery-ui.min.js\">\\n\\n    <meta name=\"application-name\" content=\"Python.org\">\\n    <meta name=\"msapplication-tooltip\" content=\"The official home of the Python Programming Language\">\\n    <meta name=\"apple-mobile-web-app-title\" content=\"Python.org\">\\n    <meta name=\"apple-mobile-web-app-capable\" content=\"yes\">\\n    <meta name=\"apple-mobile-web-app-status-bar-style\" content=\"black\">\\n\\n    <meta name=\"viewport\" content=\"width=device-width, initial-scale=1.0\">\\n    <meta name=\"HandheldFriendly\" content=\"True\">\\n    <meta name=\"format-detection\" content=\"telephone=no\">\\n    <meta http-equiv=\"cleartype\" content=\"on\">\\n    <meta http-equiv=\"imagetoolbar\" content=\"false\">\\n\\n    <script async\\n            src=\"https://media.ethicalads.io/media/client/v1.4.0/ethicalads.min.js\"\\n            integrity=\"sha256-U3hKDidudIaxBDEzwGJApJgPEf2mWk6cfMWghrAa6i0= sha384-UcmsCqcNRSLW/dV3Lo1oCi2/VaurXbib6p4HyUEOeIa/4OpsrnucrugAefzVZJfI sha512-q4t1L4xEjGV2R4hzqCa41P8jrgFUS8xTb8rdNv4FGvw7FpydVj/kkxBJHOiaoxHa8olCcx1Slk9K+3sNbsM4ug==\"\\n            crossorigin=\"anonymous\"\\n    ></script>\\n    <script src=\"/static/js/libs/modernizr.js\"></script>\\n\\n    <link href=\"/static/stylesheets/style.2135bffe4dde.css\" rel=\"stylesheet\" type=\"text/css\" media=\"all\" title=\"default\" />\\n    <link href=\"/static/stylesheets/mq.f9187444a4a1.css\" rel=\"stylesheet\" type=\"text/css\" media=\"not print, braille, embossed, speech, tty\" />\\n    \\n\\n    <!--[if (lte IE 8)&(!IEMobile)]>\\n    <link href=\"/static/stylesheets/no-mq.bf0c425cdb73.css\" rel=\"stylesheet\" type=\"text/css\" media=\"screen\" />\\n    \\n    \\n    <![endif]-->\\n    <link rel=\"stylesheet\" href=\"//ajax.googleapis.com/ajax/libs/jqueryui/1.12.1/themes/smoothness/jquery-ui.css\">\\n\\n    \\n    <link rel=\"icon\" type=\"image/x-icon\" href=\"/static/favicon.ico\">\\n    <link rel=\"apple-touch-icon-precomposed\" sizes=\"144x144\" href=\"/static/apple-touch-icon-144x144-precomposed.png\">\\n    <link rel=\"apple-touch-icon-precomposed\" sizes=\"114x114\" href=\"/static/apple-touch-icon-114x114-precomposed.png\">\\n    <link rel=\"apple-touch-icon-precomposed\" sizes=\"72x72\" href=\"/static/apple-touch-icon-72x72-precomposed.png\">\\n    <link rel=\"apple-touch-icon-precomposed\" href=\"/static/apple-touch-icon-precomposed.png\">\\n    <link rel=\"apple-touch-icon\" href=\"/static/apple-touch-icon-precomposed.png\">\\n\\n    \\n    <meta name=\"msapplication-TileImage\" content=\"/static/metro-icon-144x144-precomposed.png\"><!-- white shape -->\\n    <meta name=\"msapplication-TileColor\" content=\"#3673a5\"><!-- python blue -->\\n    <meta name=\"msapplication-navbutton-color\" content=\"#3673a5\">\\n\\n    <title>Welcome to Python.org</title>\\n\\n    <meta name=\"description\" content=\"The official home of the Python Programming Language\">\\n    <meta name=\"keywords\" content=\"Python programming language object oriented web free open source software license documentation download community\">\\n\\n    \\n    <meta property=\"og:type\" content=\"website\">\\n    <meta property=\"og:site_name\" content=\"Python.org\">\\n    <meta property=\"og:title\" content=\"Welcome to Python.org\">\\n    <meta property=\"og:description\" content=\"The official home of the Python Programming Language\">\\n    \\n    <meta property=\"og:image\" content=\"https://www.python.org/static/opengraph-icon-200x200.png\">\\n    <meta property=\"og:image:secure_url\" content=\"https://www.python.org/static/opengraph-icon-200x200.png\">\\n    \\n    <meta property=\"og:url\" content=\"https://www.python.org/\">\\n\\n    <link rel=\"author\" href=\"/humans.txt\">\\n\\n    <link rel=\"alternate\" type=\"application/rss+xml\" title=\"Python Enhancement Proposals\"\\n          href=\"https://www.python.org/dev/peps/peps.rss/\">\\n    <link rel=\"alternate\" type=\"application/rss+xml\" title=\"Python Job Opportunities\"\\n          href=\"https://www.python.org/jobs/feed/rss/\">\\n    <link rel=\"alternate\" type=\"application/rss+xml\" title=\"Python Software Foundation News\"\\n          href=\"https://feeds.feedburner.com/PythonSoftwareFoundationNews\">\\n    <link rel=\"alternate\" type=\"application/rss+xml\" title=\"Python Insider\"\\n          href=\"https://feeds.feedburner.com/PythonInsider\">\\n\\n    \\n\\n    \\n    <script type=\"application/ld+json\">\\n     {\\n       \"@context\": \"https://schema.org\",\\n       \"@type\": \"WebSite\",\\n       \"url\": \"https://www.python.org/\",\\n       \"potentialAction\": {\\n         \"@type\": \"SearchAction\",\\n         \"target\": \"https://www.python.org/search/?q={search_term_string}\",\\n         \"query-input\": \"required name=search_term_string\"\\n       }\\n     }\\n    </script>\\n\\n    \\n    <script type=\"text/javascript\">\\n    var _gaq = _gaq || [];\\n    _gaq.push([\\'_setAccount\\', \\'UA-39055973-1\\']);\\n    _gaq.push([\\'_trackPageview\\']);\\n\\n    (function() {\\n        var ga = document.createElement(\\'script\\'); ga.type = \\'text/javascript\\'; ga.async = true;\\n        ga.src = (\\'https:\\' == document.location.protocol ? \\'https://ssl\\' : \\'http://www\\') + \\'.google-analytics.com/ga.js\\';\\n        var s = document.getElementsByTagName(\\'script\\')[0]; s.parentNode.insertBefore(ga, s);\\n    })();\\n    </script>\\n    \\n</head>\\n\\n<body class=\"python home\" id=\"homepage\">\\n\\n    <div id=\"touchnav-wrapper\">\\n\\n        <div id=\"nojs\" class=\"do-not-print\">\\n            <p><strong>Notice:</strong> While JavaScript is not essential for this website, your interaction with the content will be limited. Please turn JavaScript on for the full experience. </p>\\n        </div>\\n\\n        <!--[if lte IE 8]>\\n        <div id=\"oldie-warning\" class=\"do-not-print\">\\n            <p>\\n                <strong>Notice:</strong> Your browser is <em>ancient</em>. Please\\n                <a href=\"http://browsehappy.com/\">upgrade to a different browser</a> to experience a better web.\\n            </p>\\n        </div>\\n        <![endif]-->\\n\\n        <!-- Sister Site Links -->\\n        <div id=\"top\" class=\"top-bar do-not-print\">\\n\\n            <nav class=\"meta-navigation container\" role=\"navigation\">\\n\\n                \\n                <div class=\"skip-link screen-reader-text\">\\n                    <a href=\"#content\" title=\"Skip to content\">Skip to content</a>\\n                </div>\\n\\n                \\n                <a id=\"close-python-network\" class=\"jump-link\" href=\"#python-network\" aria-hidden=\"true\">\\n                    <span aria-hidden=\"true\" class=\"icon-arrow-down\"><span>&#9660;</span></span> Close\\n                </a>\\n\\n                \\n\\n<ul class=\"menu\" role=\"tree\">\\n    \\n    <li class=\"python-meta current_item selectedcurrent_branch selected\">\\n        <a href=\"/\" title=\"The Python Programming Language\" class=\"current_item selectedcurrent_branch selected\">Python</a>\\n    </li>\\n    \\n    <li class=\"psf-meta \">\\n        <a href=\"https://www.python.org/psf/\" title=\"The Python Software Foundation\" >PSF</a>\\n    </li>\\n    \\n    <li class=\"docs-meta \">\\n        <a href=\"https://docs.python.org\" title=\"Python Documentation\" >Docs</a>\\n    </li>\\n    \\n    <li class=\"pypi-meta \">\\n        <a href=\"https://pypi.org/\" title=\"Python Package Index\" >PyPI</a>\\n    </li>\\n    \\n    <li class=\"jobs-meta \">\\n        <a href=\"/jobs/\" title=\"Python Job Board\" >Jobs</a>\\n    </li>\\n    \\n    <li class=\"shop-meta \">\\n        <a href=\"/community-landing/\"  >Community</a>\\n    </li>\\n    \\n</ul>\\n\\n\\n                <a id=\"python-network\" class=\"jump-link\" href=\"#top\" aria-hidden=\"true\">\\n                    <span aria-hidden=\"true\" class=\"icon-arrow-up\"><span>&#9650;</span></span> The Python Network\\n                </a>\\n\\n            </nav>\\n\\n        </div>\\n\\n        <!-- Header elements -->\\n        <header class=\"main-header\" role=\"banner\">\\n            <div class=\"container\">\\n\\n                <h1 class=\"site-headline\">\\n                    <a href=\"/\"><img class=\"python-logo\" src=\"/static/img/python-logo.png\" alt=\"python&trade;\"></a>\\n                </h1>\\n\\n                <div class=\"options-bar-container do-not-print\">\\n                    <a href=\"https://psfmember.org/civicrm/contribute/transact?reset=1&id=2\" class=\"donate-button\">Donate</a>\\n                    <div class=\"options-bar\">\\n                        \\n                        <a id=\"site-map-link\" class=\"jump-to-menu\" href=\"#site-map\"><span class=\"menu-icon\">&equiv;</span> Menu</a><form class=\"search-the-site\" action=\"/search/\" method=\"get\">\\n                            <fieldset title=\"Search Python.org\">\\n\\n                                <span aria-hidden=\"true\" class=\"icon-search\"></span>\\n\\n                                <label class=\"screen-reader-text\" for=\"id-search-field\">Search This Site</label>\\n                                <input id=\"id-search-field\" name=\"q\" type=\"search\" role=\"textbox\" class=\"search-field\" placeholder=\"Search\" value=\"\" tabindex=\"1\">\\n\\n                                <button type=\"submit\" name=\"submit\" id=\"submit\" class=\"search-button\" title=\"Submit this Search\" tabindex=\"3\">\\n                                    GO\\n                                </button>\\n\\n                                \\n                                <!--[if IE]><input type=\"text\" style=\"display: none;\" disabled=\"disabled\" size=\"1\" tabindex=\"4\"><![endif]-->\\n\\n                            </fieldset>\\n                        </form><span class=\"breaker\"></span><div class=\"adjust-font-size\" aria-hidden=\"true\">\\n                            <ul class=\"navigation menu\" aria-label=\"Adjust Text Size on Page\">\\n                                <li class=\"tier-1 last\" aria-haspopup=\"true\">\\n                                    <a href=\"#\" class=\"action-trigger\"><strong><small>A</small> A</strong></a>\\n                                    <ul class=\"subnav menu\">\\n                                        <li class=\"tier-2 element-1\" role=\"treeitem\"><a class=\"text-shrink\" title=\"Make Text Smaller\" href=\"javascript:;\">Smaller</a></li>\\n                                        <li class=\"tier-2 element-2\" role=\"treeitem\"><a class=\"text-grow\" title=\"Make Text Larger\" href=\"javascript:;\">Larger</a></li>\\n                                        <li class=\"tier-2 element-3\" role=\"treeitem\"><a class=\"text-reset\" title=\"Reset any font size changes I have made\" href=\"javascript:;\">Reset</a></li>\\n                                    </ul>\\n                                </li>\\n                            </ul>\\n                        </div><div class=\"winkwink-nudgenudge\">\\n                            <ul class=\"navigation menu\" aria-label=\"Social Media Navigation\">\\n                                <li class=\"tier-1 last\" aria-haspopup=\"true\">\\n                                    <a href=\"#\" class=\"action-trigger\">Socialize</a>\\n                                    <ul class=\"subnav menu\">\\n                                        <li class=\"tier-2 element-1\" role=\"treeitem\"><a href=\"https://www.facebook.com/pythonlang?fref=ts\"><span aria-hidden=\"true\" class=\"icon-facebook\"></span>Facebook</a></li>\\n                                        <li class=\"tier-2 element-2\" role=\"treeitem\"><a href=\"https://twitter.com/ThePSF\"><span aria-hidden=\"true\" class=\"icon-twitter\"></span>Twitter</a></li>\\n                                        <li class=\"tier-2 element-3\" role=\"treeitem\"><a href=\"/community/irc/\"><span aria-hidden=\"true\" class=\"icon-freenode\"></span>Chat on IRC</a></li>\\n                                    </ul>\\n                                </li>\\n                            </ul>\\n                        </div>\\n                        <span data-html-include=\"/authenticated\"></span>\\n                    </div><!-- end options-bar -->\\n                </div>\\n\\n                <nav id=\"mainnav\" class=\"python-navigation main-navigation do-not-print\" role=\"navigation\">\\n                    \\n                        \\n<ul class=\"navigation menu\" role=\"menubar\" aria-label=\"Main Navigation\">\\n  \\n    \\n    \\n    <li id=\"about\" class=\"tier-1 element-1  \" aria-haspopup=\"true\">\\n        <a href=\"/about/\" title=\"\" class=\"\">About</a>\\n        \\n            \\n\\n<ul class=\"subnav menu\" role=\"menu\" aria-hidden=\"true\">\\n    \\n        <li class=\"tier-2 element-1\" role=\"treeitem\"><a href=\"/about/apps/\" title=\"\">Applications</a></li>\\n    \\n        <li class=\"tier-2 element-2\" role=\"treeitem\"><a href=\"/about/quotes/\" title=\"\">Quotes</a></li>\\n    \\n        <li class=\"tier-2 element-3\" role=\"treeitem\"><a href=\"/about/gettingstarted/\" title=\"\">Getting Started</a></li>\\n    \\n        <li class=\"tier-2 element-4\" role=\"treeitem\"><a href=\"/about/help/\" title=\"\">Help</a></li>\\n    \\n        <li class=\"tier-2 element-5\" role=\"treeitem\"><a href=\"http://brochure.getpython.info/\" title=\"\">Python Brochure</a></li>\\n    \\n</ul>\\n\\n        \\n    </li>\\n    \\n    \\n    \\n    <li id=\"downloads\" class=\"tier-1 element-2  \" aria-haspopup=\"true\">\\n        <a href=\"/downloads/\" title=\"\" class=\"\">Downloads</a>\\n        \\n            \\n\\n<ul class=\"subnav menu\" role=\"menu\" aria-hidden=\"true\">\\n    \\n        <li class=\"tier-2 element-1\" role=\"treeitem\"><a href=\"/downloads/\" title=\"\">All releases</a></li>\\n    \\n        <li class=\"tier-2 element-2\" role=\"treeitem\"><a href=\"/downloads/source/\" title=\"\">Source code</a></li>\\n    \\n        <li class=\"tier-2 element-3\" role=\"treeitem\"><a href=\"/downloads/windows/\" title=\"\">Windows</a></li>\\n    \\n        <li class=\"tier-2 element-4\" role=\"treeitem\"><a href=\"/downloads/macos/\" title=\"\">macOS</a></li>\\n    \\n        <li class=\"tier-2 element-5\" role=\"treeitem\"><a href=\"/download/other/\" title=\"\">Other Platforms</a></li>\\n    \\n        <li class=\"tier-2 element-6\" role=\"treeitem\"><a href=\"https://docs.python.org/3/license.html\" title=\"\">License</a></li>\\n    \\n        <li class=\"tier-2 element-7\" role=\"treeitem\"><a href=\"/download/alternatives\" title=\"\">Alternative Implementations</a></li>\\n    \\n</ul>\\n\\n        \\n    </li>\\n    \\n    \\n    \\n    <li id=\"documentation\" class=\"tier-1 element-3  \" aria-haspopup=\"true\">\\n        <a href=\"/doc/\" title=\"\" class=\"\">Documentation</a>\\n        \\n            \\n\\n<ul class=\"subnav menu\" role=\"menu\" aria-hidden=\"true\">\\n    \\n        <li class=\"tier-2 element-1\" role=\"treeitem\"><a href=\"/doc/\" title=\"\">Docs</a></li>\\n    \\n        <li class=\"tier-2 element-2\" role=\"treeitem\"><a href=\"/doc/av\" title=\"\">Audio/Visual Talks</a></li>\\n    \\n        <li class=\"tier-2 element-3\" role=\"treeitem\"><a href=\"https://wiki.python.org/moin/BeginnersGuide\" title=\"\">Beginner&#39;s Guide</a></li>\\n    \\n        <li class=\"tier-2 element-4\" role=\"treeitem\"><a href=\"https://devguide.python.org/\" title=\"\">Developer&#39;s Guide</a></li>\\n    \\n        <li class=\"tier-2 element-5\" role=\"treeitem\"><a href=\"https://docs.python.org/faq/\" title=\"\">FAQ</a></li>\\n    \\n        <li class=\"tier-2 element-6\" role=\"treeitem\"><a href=\"http://wiki.python.org/moin/Languages\" title=\"\">Non-English Docs</a></li>\\n    \\n        <li class=\"tier-2 element-7\" role=\"treeitem\"><a href=\"http://python.org/dev/peps/\" title=\"\">PEP Index</a></li>\\n    \\n        <li class=\"tier-2 element-8\" role=\"treeitem\"><a href=\"https://wiki.python.org/moin/PythonBooks\" title=\"\">Python Books</a></li>\\n    \\n        <li class=\"tier-2 element-9\" role=\"treeitem\"><a href=\"/doc/essays/\" title=\"\">Python Essays</a></li>\\n    \\n</ul>\\n\\n        \\n    </li>\\n    \\n    \\n    \\n    <li id=\"community\" class=\"tier-1 element-4  \" aria-haspopup=\"true\">\\n        <a href=\"/community/\" title=\"\" class=\"\">Community</a>\\n        \\n            \\n\\n<ul class=\"subnav menu\" role=\"menu\" aria-hidden=\"true\">\\n    \\n        <li class=\"tier-2 element-1\" role=\"treeitem\"><a href=\"/community/diversity/\" title=\"\">Diversity</a></li>\\n    \\n        <li class=\"tier-2 element-2\" role=\"treeitem\"><a href=\"/community/lists/\" title=\"\">Mailing Lists</a></li>\\n    \\n        <li class=\"tier-2 element-3\" role=\"treeitem\"><a href=\"/community/irc/\" title=\"\">IRC</a></li>\\n    \\n        <li class=\"tier-2 element-4\" role=\"treeitem\"><a href=\"/community/forums/\" title=\"\">Forums</a></li>\\n    \\n        <li class=\"tier-2 element-5\" role=\"treeitem\"><a href=\"/psf/annual-report/2021/\" title=\"\">PSF Annual Impact Report</a></li>\\n    \\n        <li class=\"tier-2 element-6\" role=\"treeitem\"><a href=\"/community/workshops/\" title=\"\">Python Conferences</a></li>\\n    \\n        <li class=\"tier-2 element-7\" role=\"treeitem\"><a href=\"/community/sigs/\" title=\"\">Special Interest Groups</a></li>\\n    \\n        <li class=\"tier-2 element-8\" role=\"treeitem\"><a href=\"/community/logos/\" title=\"\">Python Logo</a></li>\\n    \\n        <li class=\"tier-2 element-9\" role=\"treeitem\"><a href=\"https://wiki.python.org/moin/\" title=\"\">Python Wiki</a></li>\\n    \\n        <li class=\"tier-2 element-10\" role=\"treeitem\"><a href=\"/psf/conduct/\" title=\"\">Code of Conduct</a></li>\\n    \\n        <li class=\"tier-2 element-11\" role=\"treeitem\"><a href=\"/community/awards\" title=\"\">Community Awards</a></li>\\n    \\n        <li class=\"tier-2 element-12\" role=\"treeitem\"><a href=\"/psf/get-involved/\" title=\"\">Get Involved</a></li>\\n    \\n        <li class=\"tier-2 element-13\" role=\"treeitem\"><a href=\"/psf/community-stories/\" title=\"\">Shared Stories</a></li>\\n    \\n</ul>\\n\\n        \\n    </li>\\n    \\n    \\n    \\n    <li id=\"success-stories\" class=\"tier-1 element-5  \" aria-haspopup=\"true\">\\n        <a href=\"/success-stories/\" title=\"success-stories\" class=\"\">Success Stories</a>\\n        \\n            \\n\\n<ul class=\"subnav menu\" role=\"menu\" aria-hidden=\"true\">\\n    \\n        <li class=\"tier-2 element-1\" role=\"treeitem\"><a href=\"/success-stories/category/arts/\" title=\"\">Arts</a></li>\\n    \\n        <li class=\"tier-2 element-2\" role=\"treeitem\"><a href=\"/success-stories/category/business/\" title=\"\">Business</a></li>\\n    \\n        <li class=\"tier-2 element-3\" role=\"treeitem\"><a href=\"/success-stories/category/education/\" title=\"\">Education</a></li>\\n    \\n        <li class=\"tier-2 element-4\" role=\"treeitem\"><a href=\"/success-stories/category/engineering/\" title=\"\">Engineering</a></li>\\n    \\n        <li class=\"tier-2 element-5\" role=\"treeitem\"><a href=\"/success-stories/category/government/\" title=\"\">Government</a></li>\\n    \\n        <li class=\"tier-2 element-6\" role=\"treeitem\"><a href=\"/success-stories/category/scientific/\" title=\"\">Scientific</a></li>\\n    \\n        <li class=\"tier-2 element-7\" role=\"treeitem\"><a href=\"/success-stories/category/software-development/\" title=\"\">Software Development</a></li>\\n    \\n</ul>\\n\\n        \\n    </li>\\n    \\n    \\n    \\n    <li id=\"news\" class=\"tier-1 element-6  \" aria-haspopup=\"true\">\\n        <a href=\"/blogs/\" title=\"News from around the Python world\" class=\"\">News</a>\\n        \\n            \\n\\n<ul class=\"subnav menu\" role=\"menu\" aria-hidden=\"true\">\\n    \\n        <li class=\"tier-2 element-1\" role=\"treeitem\"><a href=\"/blogs/\" title=\"Python Insider Blog Posts\">Python News</a></li>\\n    \\n        <li class=\"tier-2 element-2\" role=\"treeitem\"><a href=\"/psf/newsletter/\" title=\"Python Software Foundation Newsletter\">PSF Newsletter</a></li>\\n    \\n        <li class=\"tier-2 element-3\" role=\"treeitem\"><a href=\"http://pyfound.blogspot.com/\" title=\"PSF Blog\">PSF News</a></li>\\n    \\n        <li class=\"tier-2 element-4\" role=\"treeitem\"><a href=\"http://pycon.blogspot.com/\" title=\"PyCon Blog\">PyCon US News</a></li>\\n    \\n        <li class=\"tier-2 element-5\" role=\"treeitem\"><a href=\"http://planetpython.org/\" title=\"Planet Python\">News from the Community</a></li>\\n    \\n</ul>\\n\\n        \\n    </li>\\n    \\n    \\n    \\n    <li id=\"events\" class=\"tier-1 element-7  \" aria-haspopup=\"true\">\\n        <a href=\"/events/\" title=\"\" class=\"\">Events</a>\\n        \\n            \\n\\n<ul class=\"subnav menu\" role=\"menu\" aria-hidden=\"true\">\\n    \\n        <li class=\"tier-2 element-1\" role=\"treeitem\"><a href=\"/events/python-events/\" title=\"\">Python Events</a></li>\\n    \\n        <li class=\"tier-2 element-2\" role=\"treeitem\"><a href=\"/events/python-user-group/\" title=\"\">User Group Events</a></li>\\n    \\n        <li class=\"tier-2 element-3\" role=\"treeitem\"><a href=\"/events/python-events/past/\" title=\"\">Python Events Archive</a></li>\\n    \\n        <li class=\"tier-2 element-4\" role=\"treeitem\"><a href=\"/events/python-user-group/past/\" title=\"\">User Group Events Archive</a></li>\\n    \\n        <li class=\"tier-2 element-5\" role=\"treeitem\"><a href=\"https://wiki.python.org/moin/PythonEventsCalendar#Submitting_an_Event\" title=\"\">Submit an Event</a></li>\\n    \\n</ul>\\n\\n        \\n    </li>\\n    \\n    \\n    \\n    \\n  \\n</ul>\\n\\n                    \\n                </nav>\\n\\n                <div class=\"header-banner \"> <!-- for optional \"do-not-print\" class -->\\n                    \\n        <div id=\"dive-into-python\" class=\"flex-slideshow slideshow\">\\n\\n            <ul class=\"launch-shell menu\" id=\"launch-shell\">\\n                <li>\\n                    <a class=\"button prompt\" id=\"start-shell\" data-shell-container=\"#dive-into-python\" href=\"/shell/\">&gt;_\\n                        <span class=\"message\">Launch Interactive Shell</span>\\n                    </a>\\n                </li>\\n            </ul>\\n\\n            <ul class=\"slides menu\">\\n                \\n                <li>\\n                    <div class=\"slide-code\"><pre><code><span class=\"comment\"># Python 3: Fibonacci series up to n</span>\\n>>> def fib(n):\\n>>>     a, b = 0, 1\\n>>>     while a &lt; n:\\n>>>         print(a, end=\\' \\')\\n>>>         a, b = b, a+b\\n>>>     print()\\n>>> fib(1000)\\n<span class=\"output\">0 1 1 2 3 5 8 13 21 34 55 89 144 233 377 610 987</span></code></pre></div>\\n                    <div class=\"slide-copy\"><h1>Functions Defined</h1>\\n<p>The core of extensible programming is defining functions. Python allows mandatory and optional arguments, keyword arguments, and even arbitrary argument lists. <a href=\"//docs.python.org/3/tutorial/controlflow.html#defining-functions\">More about defining functions in Python&nbsp;3</a></p></div>\\n                </li>\\n                \\n                <li>\\n                    <div class=\"slide-code\"><pre><code><span class=\"comment\"># Python 3: List comprehensions</span>\\n>>> fruits = [\\'Banana\\', \\'Apple\\', \\'Lime\\']\\n>>> loud_fruits = [fruit.upper() for fruit in fruits]\\n>>> print(loud_fruits)\\n<span class=\"output\">[\\'BANANA\\', \\'APPLE\\', \\'LIME\\']</span>\\n\\n<span class=\"comment\"># List and the enumerate function</span>\\n>>> list(enumerate(fruits))\\n<span class=\"output\">[(0, \\'Banana\\'), (1, \\'Apple\\'), (2, \\'Lime\\')]</span></code></pre></div>\\n                    <div class=\"slide-copy\"><h1>Compound Data Types</h1>\\n<p>Lists (known as arrays in other languages) are one of the compound data types that Python understands. Lists can be indexed, sliced and manipulated with other built-in functions. <a href=\"//docs.python.org/3/tutorial/introduction.html#lists\">More about lists in Python&nbsp;3</a></p></div>\\n                </li>\\n                \\n                <li>\\n                    <div class=\"slide-code\"><pre><code><span class=\"comment\"># Python 3: Simple arithmetic</span>\\n>>> 1 / 2\\n<span class=\"output\">0.5</span>\\n>>> 2 ** 3\\n<span class=\"output\">8</span>\\n>>> 17 / 3  <span class=\"comment\"># classic division returns a float</span>\\n<span class=\"output\">5.666666666666667</span>\\n>>> 17 // 3  <span class=\"comment\"># floor division</span>\\n<span class=\"output\">5</span></code></pre></div>\\n                    <div class=\"slide-copy\"><h1>Intuitive Interpretation</h1>\\n<p>Calculations are simple with Python, and expression syntax is straightforward: the operators <code>+</code>, <code>-</code>, <code>*</code> and <code>/</code> work as expected; parentheses <code>()</code> can be used for grouping. <a href=\"http://docs.python.org/3/tutorial/introduction.html#using-python-as-a-calculator\">More about simple math functions in Python&nbsp;3</a>.</p></div>\\n                </li>\\n                \\n                <li>\\n                    <div class=\"slide-code\"><pre><code><span class=\"comment\"># For loop on a list</span>\\n>>> numbers = [2, 4, 6, 8]\\n>>> product = 1\\n>>> for number in numbers:\\n...    product = product * number\\n... \\n>>> print(\\'The product is:\\', product)\\n<span class=\"output\">The product is: 384</span></code></pre></div>\\n                    <div class=\"slide-copy\"><h1>All the Flow You&rsquo;d Expect</h1>\\n<p>Python knows the usual control flow statements that other languages speak &mdash; <code>if</code>, <code>for</code>, <code>while</code> and <code>range</code> &mdash; with some of its own twists, of course. <a href=\"//docs.python.org/3/tutorial/controlflow.html\">More control flow tools in Python&nbsp;3</a></p></div>\\n                </li>\\n                \\n                <li>\\n                    <div class=\"slide-code\"><pre><code><span class=\"comment\"># Simple output (with Unicode)</span>\\n>>> print(\"Hello, I\\'m Python!\")\\n<span class=\"output\">Hello, I\\'m Python!</span>\\n<span class=\"comment\"># Input, assignment</span>\\n>>> name = input(\\'What is your name?\\\\n\\')\\n<span class=\"output\">What is your name?\\nPython</span>\\n>>> print(f\\'Hi, {name}.\\')\\n<span class=\"output\">Hi, Python.</span></code>\\n</pre></div>\\n                    <div class=\"slide-copy\"><h1>Quick &amp; Easy to Learn</h1>\\n<p>Experienced programmers in any other language can pick up Python very quickly, and beginners find the clean syntax and indentation structure easy to learn. <a href=\"//docs.python.org/3/tutorial/\">Whet your appetite</a> with our Python&nbsp;3 overview.</p></div>\\n                </li>\\n                \\n            </ul>\\n        </div>\\n\\n\\n                </div>\\n\\n                \\n        <div class=\"introduction\">\\n            <p>Python is a programming language that lets you work quickly <span class=\"breaker\"></span>and integrate systems more effectively. <a class=\"readmore\" href=\"/doc/\">Learn More</a></p>\\n        </div>\\n\\n\\n             </div><!-- end .container -->\\n        </header>\\n\\n        <div id=\"content\" class=\"content-wrapper\">\\n            <!-- Main Content Column -->\\n            <div class=\"container\">\\n\\n                <section class=\"main-content \" role=\"main\">\\n\\n                    \\n                    \\n\\n                    \\n\\n                    \\n\\n                \\n\\n                <div class=\"row\">\\n\\n                    <div class=\"small-widget get-started-widget\">\\n                        <h2 class=\"widget-title\"><span aria-hidden=\"true\" class=\"icon-get-started\"></span>Get Started</h2>\\n<p>Whether you\\'re new to programming or an experienced developer, it\\'s easy to learn and use Python.</p>\\n<p><a href=\"/about/gettingstarted/\">Start with our Beginner&rsquo;s Guide</a></p>\\n                    </div>\\n\\n                    <div class=\"small-widget download-widget\">\\n                        <h2 class=\"widget-title\"><span aria-hidden=\"true\" class=\"icon-download\"></span>Download</h2>\\n<p>Python source code and installers are available for download for all versions!</p>\\n<p>Latest: <a href=\"/downloads/release/python-3114/\">Python 3.11.4</a></p>\\n                    </div>\\n\\n                    <div class=\"small-widget documentation-widget\">\\n                        <h2 class=\"widget-title\"><span aria-hidden=\"true\" class=\"icon-documentation\"></span>Docs</h2>\\n<p>Documentation for Python\\'s standard library, along with tutorials and guides, are available online.</p>\\n<p><a href=\"https://docs.python.org\">docs.python.org</a></p>\\n                    </div>\\n\\n                    <div class=\"small-widget jobs-widget last\">\\n                        <h2 class=\"widget-title\"><span aria-hidden=\"true\" class=\"icon-jobs\"></span>Jobs</h2>\\n<p>Looking for work or have a Python related position that you\\'re trying to hire for? Our <strong>relaunched community-run job board</strong> is the place to go.</p>\\n<p><a href=\"//jobs.python.org\">jobs.python.org</a></p>\\n                    </div>\\n\\n                </div>\\n\\n                <div class=\"list-widgets row\">\\n\\n                    <div class=\"medium-widget blog-widget\">\\n                        \\n                        <div class=\"shrubbery\">\\n                        \\n                            <h2 class=\"widget-title\"><span aria-hidden=\"true\" class=\"icon-news\"></span>Latest News</h2>\\n                            <p class=\"give-me-more\"><a href=\"https://blog.python.org\" title=\"More News\">More</a></p>\\n                            \\n                            <ul class=\"menu\">\\n                                \\n                                \\n                                <li>\\n<time datetime=\"2023-07-01T00:13:00.000005+00:00\"><span class=\"say-no-more\">2023-</span>07-01</time>\\n <a href=\"https://pyfound.blogspot.com/2023/06/announcing-2023-psf-board-election.html\">Announcing the 2023 PSF Board Election Results!</a></li>\\n                                \\n                                <li>\\n<time datetime=\"2023-06-22T13:50:00.000003+00:00\"><span class=\"say-no-more\">2023-</span>06-22</time>\\n <a href=\"https://pyfound.blogspot.com/2023/06/announcing-our-new-security-developer.html\">Announcing Our New Security Developer in Residence!</a></li>\\n                                \\n                                <li>\\n<time datetime=\"2023-06-20T18:52:00.000001+00:00\"><span class=\"say-no-more\">2023-</span>06-20</time>\\n <a href=\"https://pythoninsider.blogspot.com/2023/06/python-3120-beta-3-released.html\">Python 3.12.0 beta 3 released</a></li>\\n                                \\n                                <li>\\n<time datetime=\"2023-06-20T17:47:00.000001+00:00\"><span class=\"say-no-more\">2023-</span>06-20</time>\\n <a href=\"https://pyfound.blogspot.com/2023/06/the-2023-psf-board-election-is-open.html\">The 2023 PSF Board Election is Open!</a></li>\\n                                \\n                                <li>\\n<time datetime=\"2023-06-16T17:19:00.000004+00:00\"><span class=\"say-no-more\">2023-</span>06-16</time>\\n <a href=\"https://pyfound.blogspot.com/2023/06/board-candidates-for-2023-are-announced.html\">Board Candidates for 2023 are Announced!</a></li>\\n                                \\n                            </ul>\\n                        </div><!-- end .shrubbery -->\\n\\n                    </div>\\n\\n                    <div class=\"medium-widget event-widget last\">\\n                        \\n                        <div class=\"shrubbery\">\\n                        \\n                            <h2 class=\"widget-title\"><span aria-hidden=\"true\" class=\"icon-calendar\"></span>Upcoming Events</h2>\\n                            <p class=\"give-me-more\"><a href=\"/events/calendars/\" title=\"More Events\">More</a></p>\\n                            \\n                            <ul class=\"menu\">\\n                                \\n                                \\n                                \\n                                <li>\\n<time datetime=\"2023-07-17T00:00:00+00:00\"><span class=\"say-no-more\">2023-</span>07-17</time>\\n <a href=\"/events/python-events/1398/\">EuroPython 2023</a></li>\\n                                \\n                                \\n                                \\n                                <li>\\n<time datetime=\"2023-07-25T00:00:00+00:00\"><span class=\"say-no-more\">2023-</span>07-25</time>\\n <a href=\"/events/python-user-group/1505/\">PyHEP.dev 2023</a></li>\\n                                \\n                                \\n                                \\n                                <li>\\n<time datetime=\"2023-07-29T00:00:00+00:00\"><span class=\"say-no-more\">2023-</span>07-29</time>\\n <a href=\"/events/python-events/1504/\">North Bay Python</a></li>\\n                                \\n                                \\n                                \\n                                <li>\\n<time datetime=\"2023-07-29T00:00:00+00:00\"><span class=\"say-no-more\">2023-</span>07-29</time>\\n <a href=\"/events/python-user-group/1444/\">PyCamp Leipzig 2023</a></li>\\n                                \\n                                \\n                                \\n                                <li>\\n<time datetime=\"2023-07-29T00:00:00+00:00\"><span class=\"say-no-more\">2023-</span>07-29</time>\\n <a href=\"/events/python-user-group/1570/\">PythonCamp Leipzig</a></li>\\n                                \\n                                \\n                            </ul>\\n                        </div>\\n\\n                    </div>\\n\\n                </div>\\n\\n                <div class=\"row\">\\n\\n                    <div class=\"medium-widget success-stories-widget\">\\n                        \\n\\n\\n\\n                        <div class=\"shrubbery\">\\n                            \\n\\n                            <h2 class=\"widget-title\"><span aria-hidden=\"true\" class=\"icon-success-stories\"></span>Success Stories</h2>\\n                            <p class=\"give-me-more\"><a href=\"/success-stories/\" title=\"More Success Stories\">More</a></p>\\n\\n                            \\n                            <div class=\"success-story-item\" id=\"success-story-1211\">\\n\\n                            <blockquote>\\n                                <a href=\"/success-stories/reimagining-data-science-with-python-based-operators-in-einblicks-visual-canvas/\">Einblick reimagines the modern data science workflow in a collaborative data science canvas, rather than a linear notebook. Working in a canvas environment offers many advantages including live collaboration, an expansive visual interface, and a progressive computation engine. In this article, we’ll highlight one of the key ways we’re saving data scientists time–our operators. We’ll go through a couple of our core operators, why Python is such a crucial part of our software solution, and how we augmented our offerings with a user operator interface. The latter allows users to customize and use their own operators, which can be used in any Einblick canvas, and shared with other Einblick users.</a>\\n                            </blockquote>\\n\\n                            <table cellpadding=\"0\" cellspacing=\"0\" border=\"0\" width=\"100%\" class=\"quote-from\">\\n                                <tbody>\\n                                    <tr>\\n                                        \\n                                        <td><p><a href=\"/success-stories/reimagining-data-science-with-python-based-operators-in-einblicks-visual-canvas/\">Reimagining data science with Python-based operators in Einblick’s visual canvas</a> <em>by Becca Weng</em></p></td>\\n                                    </tr>\\n                                </tbody>\\n                            </table>\\n                            </div>\\n                            \\n\\n                        </div><!-- end .shrubbery -->\\n\\n                    </div>\\n\\n                    <div class=\"medium-widget applications-widget last\">\\n                        <div class=\"shrubbery\">\\n                            <h2 class=\"widget-title\"><span aria-hidden=\"true\" class=\"icon-python\"></span>Use Python for&hellip;</h2>\\n<p class=\"give-me-more\"><a href=\"/about/apps\" title=\"More Applications\">More</a></p>\\n\\n<ul class=\"menu\">\\n    <li><b>Web Development</b>:\\n        <span class=\"tag-wrapper\"><a class=\"tag\" href=\"http://www.djangoproject.com/\">Django</a>, <a class=\"tag\" href=\"http://www.pylonsproject.org/\">Pyramid</a>, <a class=\"tag\" href=\"http://bottlepy.org\">Bottle</a>, <a class=\"tag\" href=\"http://tornadoweb.org\">Tornado</a>, <a href=\"http://flask.pocoo.org/\" class=\"tag\">Flask</a>, <a class=\"tag\" href=\"http://www.web2py.com/\">web2py</a></span></li>\\n    <li><b>GUI Development</b>:\\n        <span class=\"tag-wrapper\"><a class=\"tag\" href=\"http://wiki.python.org/moin/TkInter\">tkInter</a>, <a class=\"tag\" href=\"https://wiki.gnome.org/Projects/PyGObject\">PyGObject</a>, <a class=\"tag\" href=\"http://www.riverbankcomputing.co.uk/software/pyqt/intro\">PyQt</a>, <a class=\"tag\" href=\"https://wiki.qt.io/PySide\">PySide</a>, <a class=\"tag\" href=\"https://kivy.org/\">Kivy</a>, <a class=\"tag\" href=\"http://www.wxpython.org/\">wxPython</a></span></li>\\n    <li><b>Scientific and Numeric</b>:\\n        <span class=\"tag-wrapper\">\\n<a class=\"tag\" href=\"http://www.scipy.org\">SciPy</a>, <a class=\"tag\" href=\"http://pandas.pydata.org/\">Pandas</a>, <a href=\"http://ipython.org\" class=\"tag\">IPython</a></span></li>\\n    <li><b>Software Development</b>:\\n        <span class=\"tag-wrapper\"><a class=\"tag\" href=\"http://buildbot.net/\">Buildbot</a>, <a class=\"tag\" href=\"http://trac.edgewall.org/\">Trac</a>, <a class=\"tag\" href=\"http://roundup.sourceforge.net/\">Roundup</a></span></li>\\n    <li><b>System Administration</b>:\\n        <span class=\"tag-wrapper\"><a class=\"tag\" href=\"http://www.ansible.com\">Ansible</a>, <a class=\"tag\" href=\"https://saltproject.io\">Salt</a>, <a class=\"tag\" href=\"https://www.openstack.org\">OpenStack</a>, <a class=\"tag\" href=\"https://xon.sh\">xonsh</a></span></li>\\n</ul>\\n                        </div><!-- end .shrubbery -->\\n                    </div>\\n\\n                </div>\\n\\n                \\n                <div class=\"pep-widget\">\\n\\n                    <h2 class=\"widget-title\">\\n                        <span class=\"prompt\">&gt;&gt;&gt;</span> <a href=\"/dev/peps/\">Python Enhancement Proposals<span class=\"say-no-more\"> (PEPs)</span></a>: The future of Python<span class=\"say-no-more\"> is discussed here.</span>\\n                        <a aria-hidden=\"true\" class=\"rss-link\" href=\"/dev/peps/peps.rss\"><span class=\"icon-feed\"></span> RSS</a>\\n                    </h2>\\n\\n\\n                    \\n                    \\n                </div>\\n\\n                                <div class=\"psf-widget\">\\n\\n                    <div class=\"python-logo\"></div>\\n                    \\n                    <h2 class=\"widget-title\">\\n    <span class=\"prompt\">&gt;&gt;&gt;</span> <a href=\"/psf/\">Python Software Foundation</a>\\n</h2>\\n<p>The mission of the Python Software Foundation is to promote, protect, and advance the Python programming language, and to support and facilitate the growth of a diverse and international community of Python programmers. <a class=\"readmore\" href=\"/psf/\">Learn more</a> </p>\\n<p class=\"click-these\">\\n    <a class=\"button\" href=\"/users/membership/\">Become a Member</a>\\n    <a class=\"button\" href=\"/psf/donations/\">Donate to the PSF</a>\\n</p>\\n                </div>\\n\\n\\n\\n\\n                </section>\\n\\n                \\n                \\n\\n                \\n                \\n\\n\\n            </div><!-- end .container -->\\n        </div><!-- end #content .content-wrapper -->\\n\\n        <!-- Footer and social media list -->\\n        \\n        <footer id=\"site-map\" class=\"main-footer\" role=\"contentinfo\">\\n            <div class=\"main-footer-links\">\\n                <div class=\"container\">\\n\\n                    \\n                    <a id=\"back-to-top-1\" class=\"jump-link\" href=\"#python-network\"><span aria-hidden=\"true\" class=\"icon-arrow-up\"><span>&#9650;</span></span> Back to Top</a>\\n\\n                    \\n\\n<ul class=\"sitemap navigation menu do-not-print\" role=\"tree\" id=\"container\">\\n    \\n    <li class=\"tier-1 element-1\">\\n        <a href=\"/about/\" >About</a>\\n        \\n            \\n\\n<ul class=\"subnav menu\">\\n    \\n        <li class=\"tier-2 element-1\" role=\"treeitem\"><a href=\"/about/apps/\" title=\"\">Applications</a></li>\\n    \\n        <li class=\"tier-2 element-2\" role=\"treeitem\"><a href=\"/about/quotes/\" title=\"\">Quotes</a></li>\\n    \\n        <li class=\"tier-2 element-3\" role=\"treeitem\"><a href=\"/about/gettingstarted/\" title=\"\">Getting Started</a></li>\\n    \\n        <li class=\"tier-2 element-4\" role=\"treeitem\"><a href=\"/about/help/\" title=\"\">Help</a></li>\\n    \\n        <li class=\"tier-2 element-5\" role=\"treeitem\"><a href=\"http://brochure.getpython.info/\" title=\"\">Python Brochure</a></li>\\n    \\n</ul>\\n\\n        \\n    </li>\\n    \\n    <li class=\"tier-1 element-2\">\\n        <a href=\"/downloads/\" >Downloads</a>\\n        \\n            \\n\\n<ul class=\"subnav menu\">\\n    \\n        <li class=\"tier-2 element-1\" role=\"treeitem\"><a href=\"/downloads/\" title=\"\">All releases</a></li>\\n    \\n        <li class=\"tier-2 element-2\" role=\"treeitem\"><a href=\"/downloads/source/\" title=\"\">Source code</a></li>\\n    \\n        <li class=\"tier-2 element-3\" role=\"treeitem\"><a href=\"/downloads/windows/\" title=\"\">Windows</a></li>\\n    \\n        <li class=\"tier-2 element-4\" role=\"treeitem\"><a href=\"/downloads/macos/\" title=\"\">macOS</a></li>\\n    \\n        <li class=\"tier-2 element-5\" role=\"treeitem\"><a href=\"/download/other/\" title=\"\">Other Platforms</a></li>\\n    \\n        <li class=\"tier-2 element-6\" role=\"treeitem\"><a href=\"https://docs.python.org/3/license.html\" title=\"\">License</a></li>\\n    \\n        <li class=\"tier-2 element-7\" role=\"treeitem\"><a href=\"/download/alternatives\" title=\"\">Alternative Implementations</a></li>\\n    \\n</ul>\\n\\n        \\n    </li>\\n    \\n    <li class=\"tier-1 element-3\">\\n        <a href=\"/doc/\" >Documentation</a>\\n        \\n            \\n\\n<ul class=\"subnav menu\">\\n    \\n        <li class=\"tier-2 element-1\" role=\"treeitem\"><a href=\"/doc/\" title=\"\">Docs</a></li>\\n    \\n        <li class=\"tier-2 element-2\" role=\"treeitem\"><a href=\"/doc/av\" title=\"\">Audio/Visual Talks</a></li>\\n    \\n        <li class=\"tier-2 element-3\" role=\"treeitem\"><a href=\"https://wiki.python.org/moin/BeginnersGuide\" title=\"\">Beginner&#39;s Guide</a></li>\\n    \\n        <li class=\"tier-2 element-4\" role=\"treeitem\"><a href=\"https://devguide.python.org/\" title=\"\">Developer&#39;s Guide</a></li>\\n    \\n        <li class=\"tier-2 element-5\" role=\"treeitem\"><a href=\"https://docs.python.org/faq/\" title=\"\">FAQ</a></li>\\n    \\n        <li class=\"tier-2 element-6\" role=\"treeitem\"><a href=\"http://wiki.python.org/moin/Languages\" title=\"\">Non-English Docs</a></li>\\n    \\n        <li class=\"tier-2 element-7\" role=\"treeitem\"><a href=\"http://python.org/dev/peps/\" title=\"\">PEP Index</a></li>\\n    \\n        <li class=\"tier-2 element-8\" role=\"treeitem\"><a href=\"https://wiki.python.org/moin/PythonBooks\" title=\"\">Python Books</a></li>\\n    \\n        <li class=\"tier-2 element-9\" role=\"treeitem\"><a href=\"/doc/essays/\" title=\"\">Python Essays</a></li>\\n    \\n</ul>\\n\\n        \\n    </li>\\n    \\n    <li class=\"tier-1 element-4\">\\n        <a href=\"/community/\" >Community</a>\\n        \\n            \\n\\n<ul class=\"subnav menu\">\\n    \\n        <li class=\"tier-2 element-1\" role=\"treeitem\"><a href=\"/community/diversity/\" title=\"\">Diversity</a></li>\\n    \\n        <li class=\"tier-2 element-2\" role=\"treeitem\"><a href=\"/community/lists/\" title=\"\">Mailing Lists</a></li>\\n    \\n        <li class=\"tier-2 element-3\" role=\"treeitem\"><a href=\"/community/irc/\" title=\"\">IRC</a></li>\\n    \\n        <li class=\"tier-2 element-4\" role=\"treeitem\"><a href=\"/community/forums/\" title=\"\">Forums</a></li>\\n    \\n        <li class=\"tier-2 element-5\" role=\"treeitem\"><a href=\"/psf/annual-report/2021/\" title=\"\">PSF Annual Impact Report</a></li>\\n    \\n        <li class=\"tier-2 element-6\" role=\"treeitem\"><a href=\"/community/workshops/\" title=\"\">Python Conferences</a></li>\\n    \\n        <li class=\"tier-2 element-7\" role=\"treeitem\"><a href=\"/community/sigs/\" title=\"\">Special Interest Groups</a></li>\\n    \\n        <li class=\"tier-2 element-8\" role=\"treeitem\"><a href=\"/community/logos/\" title=\"\">Python Logo</a></li>\\n    \\n        <li class=\"tier-2 element-9\" role=\"treeitem\"><a href=\"https://wiki.python.org/moin/\" title=\"\">Python Wiki</a></li>\\n    \\n        <li class=\"tier-2 element-10\" role=\"treeitem\"><a href=\"/psf/conduct/\" title=\"\">Code of Conduct</a></li>\\n    \\n        <li class=\"tier-2 element-11\" role=\"treeitem\"><a href=\"/community/awards\" title=\"\">Community Awards</a></li>\\n    \\n        <li class=\"tier-2 element-12\" role=\"treeitem\"><a href=\"/psf/get-involved/\" title=\"\">Get Involved</a></li>\\n    \\n        <li class=\"tier-2 element-13\" role=\"treeitem\"><a href=\"/psf/community-stories/\" title=\"\">Shared Stories</a></li>\\n    \\n</ul>\\n\\n        \\n    </li>\\n    \\n    <li class=\"tier-1 element-5\">\\n        <a href=\"/success-stories/\" title=\"success-stories\">Success Stories</a>\\n        \\n            \\n\\n<ul class=\"subnav menu\">\\n    \\n        <li class=\"tier-2 element-1\" role=\"treeitem\"><a href=\"/success-stories/category/arts/\" title=\"\">Arts</a></li>\\n    \\n        <li class=\"tier-2 element-2\" role=\"treeitem\"><a href=\"/success-stories/category/business/\" title=\"\">Business</a></li>\\n    \\n        <li class=\"tier-2 element-3\" role=\"treeitem\"><a href=\"/success-stories/category/education/\" title=\"\">Education</a></li>\\n    \\n        <li class=\"tier-2 element-4\" role=\"treeitem\"><a href=\"/success-stories/category/engineering/\" title=\"\">Engineering</a></li>\\n    \\n        <li class=\"tier-2 element-5\" role=\"treeitem\"><a href=\"/success-stories/category/government/\" title=\"\">Government</a></li>\\n    \\n        <li class=\"tier-2 element-6\" role=\"treeitem\"><a href=\"/success-stories/category/scientific/\" title=\"\">Scientific</a></li>\\n    \\n        <li class=\"tier-2 element-7\" role=\"treeitem\"><a href=\"/success-stories/category/software-development/\" title=\"\">Software Development</a></li>\\n    \\n</ul>\\n\\n        \\n    </li>\\n    \\n    <li class=\"tier-1 element-6\">\\n        <a href=\"/blogs/\" title=\"News from around the Python world\">News</a>\\n        \\n            \\n\\n<ul class=\"subnav menu\">\\n    \\n        <li class=\"tier-2 element-1\" role=\"treeitem\"><a href=\"/blogs/\" title=\"Python Insider Blog Posts\">Python News</a></li>\\n    \\n        <li class=\"tier-2 element-2\" role=\"treeitem\"><a href=\"/psf/newsletter/\" title=\"Python Software Foundation Newsletter\">PSF Newsletter</a></li>\\n    \\n        <li class=\"tier-2 element-3\" role=\"treeitem\"><a href=\"http://pyfound.blogspot.com/\" title=\"PSF Blog\">PSF News</a></li>\\n    \\n        <li class=\"tier-2 element-4\" role=\"treeitem\"><a href=\"http://pycon.blogspot.com/\" title=\"PyCon Blog\">PyCon US News</a></li>\\n    \\n        <li class=\"tier-2 element-5\" role=\"treeitem\"><a href=\"http://planetpython.org/\" title=\"Planet Python\">News from the Community</a></li>\\n    \\n</ul>\\n\\n        \\n    </li>\\n    \\n    <li class=\"tier-1 element-7\">\\n        <a href=\"/events/\" >Events</a>\\n        \\n            \\n\\n<ul class=\"subnav menu\">\\n    \\n        <li class=\"tier-2 element-1\" role=\"treeitem\"><a href=\"/events/python-events/\" title=\"\">Python Events</a></li>\\n    \\n        <li class=\"tier-2 element-2\" role=\"treeitem\"><a href=\"/events/python-user-group/\" title=\"\">User Group Events</a></li>\\n    \\n        <li class=\"tier-2 element-3\" role=\"treeitem\"><a href=\"/events/python-events/past/\" title=\"\">Python Events Archive</a></li>\\n    \\n        <li class=\"tier-2 element-4\" role=\"treeitem\"><a href=\"/events/python-user-group/past/\" title=\"\">User Group Events Archive</a></li>\\n    \\n        <li class=\"tier-2 element-5\" role=\"treeitem\"><a href=\"https://wiki.python.org/moin/PythonEventsCalendar#Submitting_an_Event\" title=\"\">Submit an Event</a></li>\\n    \\n</ul>\\n\\n        \\n    </li>\\n    \\n    <li class=\"tier-1 element-8\">\\n        <a href=\"/dev/\" >Contributing</a>\\n        \\n            \\n\\n<ul class=\"subnav menu\">\\n    \\n        <li class=\"tier-2 element-1\" role=\"treeitem\"><a href=\"https://devguide.python.org/\" title=\"\">Developer&#39;s Guide</a></li>\\n    \\n        <li class=\"tier-2 element-2\" role=\"treeitem\"><a href=\"https://bugs.python.org/\" title=\"\">Issue Tracker</a></li>\\n    \\n        <li class=\"tier-2 element-3\" role=\"treeitem\"><a href=\"https://mail.python.org/mailman/listinfo/python-dev\" title=\"\">python-dev list</a></li>\\n    \\n        <li class=\"tier-2 element-4\" role=\"treeitem\"><a href=\"/dev/core-mentorship/\" title=\"\">Core Mentorship</a></li>\\n    \\n        <li class=\"tier-2 element-5\" role=\"treeitem\"><a href=\"/dev/security/\" title=\"\">Report a Security Issue</a></li>\\n    \\n</ul>\\n\\n        \\n    </li>\\n    \\n</ul>\\n\\n\\n                    <a id=\"back-to-top-2\" class=\"jump-link\" href=\"#python-network\"><span aria-hidden=\"true\" class=\"icon-arrow-up\"><span>&#9650;</span></span> Back to Top</a>\\n                    \\n\\n                </div><!-- end .container -->\\n            </div> <!-- end .main-footer-links -->\\n\\n            <div class=\"site-base\">\\n                <div class=\"container\">\\n                    \\n                    <ul class=\"footer-links navigation menu do-not-print\" role=\"tree\">\\n                        <li class=\"tier-1 element-1\"><a href=\"/about/help/\">Help &amp; <span class=\"say-no-more\">General</span> Contact</a></li>\\n                        <li class=\"tier-1 element-2\"><a href=\"/community/diversity/\">Diversity <span class=\"say-no-more\">Initiatives</span></a></li>\\n                        <li class=\"tier-1 element-3\"><a href=\"https://github.com/python/pythondotorg/issues\">Submit Website Bug</a></li>\\n                        <li class=\"tier-1 element-4\">\\n                            <a href=\"https://status.python.org/\">Status <span class=\"python-status-indicator-default\" id=\"python-status-indicator\"></span></a>\\n                        </li>\\n                    </ul>\\n\\n                    <div class=\"copyright\">\\n                        <p><small>\\n                            <span class=\"pre\">Copyright &copy;2001-2023.</span>\\n                            &nbsp;<span class=\"pre\"><a href=\"/psf-landing/\">Python Software Foundation</a></span>\\n                            &nbsp;<span class=\"pre\"><a href=\"/about/legal/\">Legal Statements</a></span>\\n                            &nbsp;<span class=\"pre\"><a href=\"/privacy/\">Privacy Policy</a></span>\\n                            &nbsp;<span class=\"pre\"><a href=\"/psf/sponsorship/sponsors/#heroku\">Powered by Heroku</a></span>\\n                        </small></p>\\n                    </div>\\n\\n                </div><!-- end .container -->\\n            </div><!-- end .site-base -->\\n\\n        </footer>\\n        \\n\\n    </div><!-- end #touchnav-wrapper -->\\n\\n    \\n    <script src=\"//ajax.googleapis.com/ajax/libs/jquery/1.8.2/jquery.min.js\"></script>\\n    <script>window.jQuery || document.write(\\'<script src=\"/static/js/libs/jquery-1.8.2.min.js\"><\\\\/script>\\')</script>\\n    <script src=\"//ajax.googleapis.com/ajax/libs/jqueryui/1.12.1/jquery-ui.min.js\"></script>\\n    <script>window.jQuery || document.write(\\'<script src=\"/static/js/libs/jquery-ui-1.12.1.min.js\"><\\\\/script>\\')</script>\\n\\n    <script src=\"/static/js/libs/masonry.pkgd.min.js\"></script>\\n    <script src=\"/static/js/libs/html-includes.js\"></script>\\n\\n    <script type=\"text/javascript\" src=\"/static/js/main-min.f5487accf7ed.js\" charset=\"utf-8\"></script>\\n    \\n\\n    <!--[if lte IE 7]>\\n    <script type=\"text/javascript\" src=\"/static/js/plugins/IE8-min.8af6e26c7a3b.js\" charset=\"utf-8\"></script>\\n    \\n    \\n    <![endif]-->\\n\\n    <!--[if lte IE 8]>\\n    <script type=\"text/javascript\" src=\"/static/js/plugins/getComputedStyle-min.d41d8cd98f00.js\" charset=\"utf-8\"></script>\\n    \\n    \\n    <![endif]-->\\n\\n    \\n\\n    \\n    \\n\\n</body>\\n</html>\\n'"
      ]
     },
     "execution_count": 143,
     "metadata": {},
     "output_type": "execute_result"
    }
   ],
   "source": [
    "text"
   ]
  },
  {
   "cell_type": "code",
   "execution_count": 144,
   "id": "6bced32b",
   "metadata": {},
   "outputs": [
    {
     "data": {
      "text/plain": [
       "'UTF-8'"
      ]
     },
     "execution_count": 144,
     "metadata": {},
     "output_type": "execute_result"
    }
   ],
   "source": [
    "import sys\n",
    "sys.stdout.encoding"
   ]
  },
  {
   "cell_type": "code",
   "execution_count": 145,
   "id": "77ce592a",
   "metadata": {},
   "outputs": [
    {
     "ename": "UnsupportedOperation",
     "evalue": "detach",
     "output_type": "error",
     "traceback": [
      "\u001b[0;31m---------------------------------------------------------------------------\u001b[0m",
      "\u001b[0;31mUnsupportedOperation\u001b[0m                      Traceback (most recent call last)",
      "\u001b[0;32m/var/folders/x8/t__p3dnn0fbdd76k016s5c540000gn/T/ipykernel_5577/562121698.py\u001b[0m in \u001b[0;36m<module>\u001b[0;34m\u001b[0m\n\u001b[0;32m----> 1\u001b[0;31m \u001b[0msys\u001b[0m\u001b[0;34m.\u001b[0m\u001b[0mstdout\u001b[0m \u001b[0;34m=\u001b[0m \u001b[0mio\u001b[0m\u001b[0;34m.\u001b[0m\u001b[0mTextIOWrapper\u001b[0m\u001b[0;34m(\u001b[0m\u001b[0msys\u001b[0m\u001b[0;34m.\u001b[0m\u001b[0mstdout\u001b[0m\u001b[0;34m.\u001b[0m\u001b[0mdetach\u001b[0m\u001b[0;34m(\u001b[0m\u001b[0;34m)\u001b[0m\u001b[0;34m,\u001b[0m \u001b[0mencoding\u001b[0m\u001b[0;34m=\u001b[0m\u001b[0;34m'latin-1'\u001b[0m\u001b[0;34m)\u001b[0m\u001b[0;34m\u001b[0m\u001b[0;34m\u001b[0m\u001b[0m\n\u001b[0m",
      "\u001b[0;31mUnsupportedOperation\u001b[0m: detach"
     ]
    }
   ],
   "source": [
    "sys.stdout = io.TextIOWrapper(sys.stdout.detach(), encoding='latin-1')"
   ]
  },
  {
   "cell_type": "markdown",
   "id": "2b1a2ede",
   "metadata": {},
   "source": [
    "将在vscode中演示"
   ]
  },
  {
   "cell_type": "markdown",
   "id": "b7570d7f",
   "metadata": {},
   "source": [
    "## 将字节写入文本文件"
   ]
  },
  {
   "cell_type": "code",
   "execution_count": 146,
   "id": "ac94ce67",
   "metadata": {},
   "outputs": [
    {
     "ename": "TypeError",
     "evalue": "write() argument must be str, not <class 'bytes'>",
     "output_type": "error",
     "traceback": [
      "\u001b[0;31m---------------------------------------------------------------------------\u001b[0m",
      "\u001b[0;31mTypeError\u001b[0m                                 Traceback (most recent call last)",
      "\u001b[0;32m/var/folders/x8/t__p3dnn0fbdd76k016s5c540000gn/T/ipykernel_5577/753971479.py\u001b[0m in \u001b[0;36m<module>\u001b[0;34m\u001b[0m\n\u001b[1;32m      1\u001b[0m \u001b[0;32mimport\u001b[0m \u001b[0msys\u001b[0m\u001b[0;34m\u001b[0m\u001b[0;34m\u001b[0m\u001b[0m\n\u001b[0;32m----> 2\u001b[0;31m \u001b[0msys\u001b[0m\u001b[0;34m.\u001b[0m\u001b[0mstdout\u001b[0m\u001b[0;34m.\u001b[0m\u001b[0mwrite\u001b[0m\u001b[0;34m(\u001b[0m\u001b[0;34mb'hello\\n'\u001b[0m\u001b[0;34m)\u001b[0m\u001b[0;34m\u001b[0m\u001b[0;34m\u001b[0m\u001b[0m\n\u001b[0m",
      "\u001b[0;32m~/opt/anaconda3/lib/python3.9/site-packages/ipykernel/iostream.py\u001b[0m in \u001b[0;36mwrite\u001b[0;34m(self, string)\u001b[0m\n\u001b[1;32m    527\u001b[0m \u001b[0;34m\u001b[0m\u001b[0m\n\u001b[1;32m    528\u001b[0m         \u001b[0;32mif\u001b[0m \u001b[0;32mnot\u001b[0m \u001b[0misinstance\u001b[0m\u001b[0;34m(\u001b[0m\u001b[0mstring\u001b[0m\u001b[0;34m,\u001b[0m \u001b[0mstr\u001b[0m\u001b[0;34m)\u001b[0m\u001b[0;34m:\u001b[0m\u001b[0;34m\u001b[0m\u001b[0;34m\u001b[0m\u001b[0m\n\u001b[0;32m--> 529\u001b[0;31m             \u001b[0;32mraise\u001b[0m \u001b[0mTypeError\u001b[0m\u001b[0;34m(\u001b[0m\u001b[0;34mf\"write() argument must be str, not {type(string)}\"\u001b[0m\u001b[0;34m)\u001b[0m\u001b[0;34m\u001b[0m\u001b[0;34m\u001b[0m\u001b[0m\n\u001b[0m\u001b[1;32m    530\u001b[0m \u001b[0;34m\u001b[0m\u001b[0m\n\u001b[1;32m    531\u001b[0m         \u001b[0;32mif\u001b[0m \u001b[0mself\u001b[0m\u001b[0;34m.\u001b[0m\u001b[0mecho\u001b[0m \u001b[0;32mis\u001b[0m \u001b[0;32mnot\u001b[0m \u001b[0;32mNone\u001b[0m\u001b[0;34m:\u001b[0m\u001b[0;34m\u001b[0m\u001b[0;34m\u001b[0m\u001b[0m\n",
      "\u001b[0;31mTypeError\u001b[0m: write() argument must be str, not <class 'bytes'>"
     ]
    }
   ],
   "source": [
    "import sys\n",
    "sys.stdout.write(b'hello\\n')"
   ]
  },
  {
   "cell_type": "code",
   "execution_count": 149,
   "id": "b4d469a1",
   "metadata": {},
   "outputs": [
    {
     "ename": "AttributeError",
     "evalue": "'OutStream' object has no attribute 'buffer'",
     "output_type": "error",
     "traceback": [
      "\u001b[0;31m---------------------------------------------------------------------------\u001b[0m",
      "\u001b[0;31mAttributeError\u001b[0m                            Traceback (most recent call last)",
      "\u001b[0;32m/var/folders/x8/t__p3dnn0fbdd76k016s5c540000gn/T/ipykernel_5577/1629359939.py\u001b[0m in \u001b[0;36m<module>\u001b[0;34m\u001b[0m\n\u001b[1;32m      1\u001b[0m \u001b[0;31m# 在vscode中可行\u001b[0m\u001b[0;34m\u001b[0m\u001b[0;34m\u001b[0m\u001b[0m\n\u001b[0;32m----> 2\u001b[0;31m \u001b[0msys\u001b[0m\u001b[0;34m.\u001b[0m\u001b[0mstdout\u001b[0m\u001b[0;34m.\u001b[0m\u001b[0mbuffer\u001b[0m\u001b[0;34m.\u001b[0m\u001b[0mwrite\u001b[0m\u001b[0;34m(\u001b[0m\u001b[0;34mb'hello\\n'\u001b[0m\u001b[0;34m)\u001b[0m\u001b[0;34m\u001b[0m\u001b[0;34m\u001b[0m\u001b[0m\n\u001b[0m",
      "\u001b[0;31mAttributeError\u001b[0m: 'OutStream' object has no attribute 'buffer'"
     ]
    }
   ],
   "source": [
    "# 在vscode中可行\n",
    "sys.stdout.buffer.write(b'hello\\n')"
   ]
  },
  {
   "cell_type": "markdown",
   "id": "33e8c610",
   "metadata": {},
   "source": [
    "## 将文件描述符包装成文件对象"
   ]
  },
  {
   "cell_type": "code",
   "execution_count": 150,
   "id": "09d0f4ae",
   "metadata": {},
   "outputs": [],
   "source": [
    "import os\n",
    "# open a low-level file descriptor\n",
    "fd = os.open('somefile.txt', os.O_WRONLY | os.O_CREAT)\n",
    "\n",
    "# turn into a proper file\n",
    "f = open(fd, 'wt')\n",
    "f.write('hello from the other side\\n')\n",
    "f.close()"
   ]
  },
  {
   "cell_type": "code",
   "execution_count": 153,
   "id": "fd7d8fb4",
   "metadata": {},
   "outputs": [],
   "source": [
    "# 仅适用于基于Unix的系统， 可移植性不好\n",
    "from socket import socket, AF_INET, SOCK_STREAM\n",
    "\n",
    "def echo_client(client_sock, addr):\n",
    "    print('Got connection from ', addr)\n",
    "    \n",
    "    # make text-mode file wrappers for socket reading/writing\n",
    "    client_in = open(client_sock.fileno(), 'rt', encoding='latin-1', closed=False)\n",
    "    client_out = open(client_sock.fileno(), 'wt', encoding='latin-1', closefd=False)\n",
    "    \n",
    "    # Echo lines back to the client using file I/O\n",
    "    for line in client_in:\n",
    "        client_out.write(line)\n",
    "        client_out.flush()\n",
    "    client_sock.close()\n",
    "    \n",
    "def echo_server(address):\n",
    "    sock = socket(AF_INET, SOCK_STREAM)\n",
    "    sock.bind(address)\n",
    "    sock.listen(1)\n",
    "    while True:\n",
    "        client, addr = sock.accept()\n",
    "        echo_client(client, addr)"
   ]
  },
  {
   "cell_type": "code",
   "execution_count": 154,
   "id": "16dc1815",
   "metadata": {},
   "outputs": [],
   "source": [
    "# create a binary-mode file for stdout\n",
    "bstdout = open(sys.stdout.fileno(), 'wb', closefd=False)\n",
    "bstdout.write(b'Hello World')\n",
    "bstdout.flush()"
   ]
  },
  {
   "cell_type": "code",
   "execution_count": 155,
   "id": "2b943dce",
   "metadata": {},
   "outputs": [
    {
     "data": {
      "text/plain": [
       "<_io.BufferedWriter name=56>"
      ]
     },
     "execution_count": 155,
     "metadata": {},
     "output_type": "execute_result"
    }
   ],
   "source": [
    "bstdout"
   ]
  },
  {
   "cell_type": "code",
   "execution_count": 156,
   "id": "ca4d89cc",
   "metadata": {},
   "outputs": [
    {
     "data": {
      "text/plain": [
       "False"
      ]
     },
     "execution_count": 156,
     "metadata": {},
     "output_type": "execute_result"
    }
   ],
   "source": [
    "bstdout.closed"
   ]
  },
  {
   "cell_type": "code",
   "execution_count": 157,
   "id": "de68fea2",
   "metadata": {},
   "outputs": [],
   "source": [
    "bstdout.close()"
   ]
  },
  {
   "cell_type": "code",
   "execution_count": 158,
   "id": "3f917193",
   "metadata": {},
   "outputs": [
    {
     "data": {
      "text/plain": [
       "True"
      ]
     },
     "execution_count": 158,
     "metadata": {},
     "output_type": "execute_result"
    }
   ],
   "source": [
    "bstdout.closed"
   ]
  },
  {
   "cell_type": "markdown",
   "id": "6142f4b4",
   "metadata": {},
   "source": [
    "## 创建临时文件和文件夹"
   ]
  },
  {
   "cell_type": "code",
   "execution_count": 159,
   "id": "60aa46df",
   "metadata": {},
   "outputs": [],
   "source": [
    "from tempfile import TemporaryFile\n",
    "\n",
    "with TemporaryFile('w+t') as f:\n",
    "    # Read/write to the file\n",
    "    f.write('hello world\\n')\n",
    "    f.write('testing\\n')\n",
    "    \n",
    "    # Seek back to beginning and read the data\n",
    "    f.seek(0)\n",
    "    data = f.read()"
   ]
  },
  {
   "cell_type": "code",
   "execution_count": 160,
   "id": "1f1a5577",
   "metadata": {},
   "outputs": [
    {
     "data": {
      "text/plain": [
       "'hello world\\ntesting\\n'"
      ]
     },
     "execution_count": 160,
     "metadata": {},
     "output_type": "execute_result"
    }
   ],
   "source": [
    "data"
   ]
  },
  {
   "cell_type": "code",
   "execution_count": 161,
   "id": "c9403757",
   "metadata": {},
   "outputs": [
    {
     "name": "stdout",
     "output_type": "stream",
     "text": [
      "file name: /var/folders/x8/t__p3dnn0fbdd76k016s5c540000gn/T/tmp0u2gedpz\n"
     ]
    }
   ],
   "source": [
    "from tempfile import NamedTemporaryFile\n",
    "with NamedTemporaryFile('w+t') as f:\n",
    "    print(f'file name: {f.name}')\n",
    "    "
   ]
  },
  {
   "cell_type": "code",
   "execution_count": 162,
   "id": "584592b5",
   "metadata": {},
   "outputs": [
    {
     "name": "stdout",
     "output_type": "stream",
     "text": [
      "file name: /var/folders/x8/t__p3dnn0fbdd76k016s5c540000gn/T/tmp8p52xupd\n"
     ]
    }
   ],
   "source": [
    "with NamedTemporaryFile('w+t', delete=False) as f:\n",
    "    print(f'file name: {f.name}')"
   ]
  },
  {
   "cell_type": "code",
   "execution_count": 163,
   "id": "9c3d8253",
   "metadata": {},
   "outputs": [
    {
     "name": "stdout",
     "output_type": "stream",
     "text": [
      "dirname: /var/folders/x8/t__p3dnn0fbdd76k016s5c540000gn/T/tmpzmc20scl\n"
     ]
    }
   ],
   "source": [
    "from tempfile import TemporaryDirectory\n",
    "\n",
    "with TemporaryDirectory() as dirname:\n",
    "    print(f'dirname: {dirname}')"
   ]
  },
  {
   "cell_type": "code",
   "execution_count": 164,
   "id": "f2ef5195",
   "metadata": {},
   "outputs": [
    {
     "ename": "NameError",
     "evalue": "name 'tempfile' is not defined",
     "output_type": "error",
     "traceback": [
      "\u001b[0;31m---------------------------------------------------------------------------\u001b[0m",
      "\u001b[0;31mNameError\u001b[0m                                 Traceback (most recent call last)",
      "\u001b[0;32m/var/folders/x8/t__p3dnn0fbdd76k016s5c540000gn/T/ipykernel_5577/1248669633.py\u001b[0m in \u001b[0;36m<module>\u001b[0;34m\u001b[0m\n\u001b[0;32m----> 1\u001b[0;31m \u001b[0mtempfile\u001b[0m\u001b[0;34m.\u001b[0m\u001b[0mgettempdir\u001b[0m\u001b[0;34m(\u001b[0m\u001b[0;34m)\u001b[0m\u001b[0;34m\u001b[0m\u001b[0;34m\u001b[0m\u001b[0m\n\u001b[0m",
      "\u001b[0;31mNameError\u001b[0m: name 'tempfile' is not defined"
     ]
    }
   ],
   "source": [
    "tempfile.gettempdir()"
   ]
  },
  {
   "cell_type": "code",
   "execution_count": 165,
   "id": "f902bf45",
   "metadata": {},
   "outputs": [
    {
     "data": {
      "text/plain": [
       "'/var/folders/x8/t__p3dnn0fbdd76k016s5c540000gn/T'"
      ]
     },
     "execution_count": 165,
     "metadata": {},
     "output_type": "execute_result"
    }
   ],
   "source": [
    "import tempfile\n",
    "tempfile.gettempdir()"
   ]
  },
  {
   "cell_type": "code",
   "execution_count": 166,
   "id": "dcf8e52e",
   "metadata": {},
   "outputs": [],
   "source": [
    "# 自定义命名\n",
    "f = NamedTemporaryFile(prefix='Mymymy', suffix='.txt', dir='/tmp')"
   ]
  },
  {
   "cell_type": "code",
   "execution_count": 167,
   "id": "f2254758",
   "metadata": {},
   "outputs": [
    {
     "data": {
      "text/plain": [
       "'/tmp/Mymymyw2opq1h2.txt'"
      ]
     },
     "execution_count": 167,
     "metadata": {},
     "output_type": "execute_result"
    }
   ],
   "source": [
    "f.name"
   ]
  },
  {
   "cell_type": "code",
   "execution_count": 168,
   "id": "956a2632",
   "metadata": {},
   "outputs": [],
   "source": [
    "f.close()"
   ]
  },
  {
   "cell_type": "markdown",
   "id": "676b7bb7",
   "metadata": {},
   "source": [
    "## 与串行端口的数据通信"
   ]
  },
  {
   "cell_type": "code",
   "execution_count": 169,
   "id": "010de6bc",
   "metadata": {},
   "outputs": [],
   "source": [
    "# ......"
   ]
  },
  {
   "cell_type": "markdown",
   "id": "2db26ffc",
   "metadata": {},
   "source": [
    "## 序列化python对象"
   ]
  },
  {
   "cell_type": "code",
   "execution_count": null,
   "id": "cfd766ef",
   "metadata": {},
   "outputs": [],
   "source": [
    "import pickle\n",
    "\n",
    "data = ... # some python object\n",
    "f = open('somefile', 'wb')\n",
    "pickle.dump(data, f)\n",
    "\n",
    "# restore from a file\n",
    "f = open('somefile', 'rb')\n",
    "data = pickle.load(f)\n",
    "\n",
    "# restore from a string\n",
    "data = pickle.loadss(s)\n",
    "\n",
    "\n",
    "# don't execute"
   ]
  },
  {
   "cell_type": "markdown",
   "id": "ff8f265d",
   "metadata": {},
   "source": [
    "pickle 是一种Python 特有的自描述的数据编码。通过自描述，被序列化后的数据包含每个对象开始和结束以及它的类型信息。因此，你无需担心对象记录的定义，它总是能工作"
   ]
  },
  {
   "cell_type": "code",
   "execution_count": 170,
   "id": "3cc15be6",
   "metadata": {},
   "outputs": [],
   "source": [
    "import pickle\n",
    "f = open('somedata', 'wb')\n",
    "pickle.dump([1,2,3,4], f)\n",
    "pickle.dump('hello', f)\n",
    "pickle.dump({'apple', 'banana', 'orange'},f)\n",
    "f.close()\n"
   ]
  },
  {
   "cell_type": "code",
   "execution_count": 171,
   "id": "94ab1201",
   "metadata": {},
   "outputs": [
    {
     "data": {
      "text/plain": [
       "[1, 2, 3, 4]"
      ]
     },
     "execution_count": 171,
     "metadata": {},
     "output_type": "execute_result"
    }
   ],
   "source": [
    "f = open('somedata', 'rb')\n",
    "pickle.load(f)"
   ]
  },
  {
   "cell_type": "code",
   "execution_count": 172,
   "id": "8fc396f5",
   "metadata": {},
   "outputs": [
    {
     "data": {
      "text/plain": [
       "'hello'"
      ]
     },
     "execution_count": 172,
     "metadata": {},
     "output_type": "execute_result"
    }
   ],
   "source": [
    "pickle.load(f)"
   ]
  },
  {
   "cell_type": "code",
   "execution_count": 173,
   "id": "da59e9e1",
   "metadata": {},
   "outputs": [
    {
     "data": {
      "text/plain": [
       "{'apple', 'banana', 'orange'}"
      ]
     },
     "execution_count": 173,
     "metadata": {},
     "output_type": "execute_result"
    }
   ],
   "source": [
    "pickle.load(f)"
   ]
  },
  {
   "cell_type": "code",
   "execution_count": 174,
   "id": "895d7516",
   "metadata": {},
   "outputs": [
    {
     "ename": "EOFError",
     "evalue": "Ran out of input",
     "output_type": "error",
     "traceback": [
      "\u001b[0;31m---------------------------------------------------------------------------\u001b[0m",
      "\u001b[0;31mEOFError\u001b[0m                                  Traceback (most recent call last)",
      "\u001b[0;32m/var/folders/x8/t__p3dnn0fbdd76k016s5c540000gn/T/ipykernel_5577/2823072338.py\u001b[0m in \u001b[0;36m<module>\u001b[0;34m\u001b[0m\n\u001b[0;32m----> 1\u001b[0;31m \u001b[0mpickle\u001b[0m\u001b[0;34m.\u001b[0m\u001b[0mload\u001b[0m\u001b[0;34m(\u001b[0m\u001b[0mf\u001b[0m\u001b[0;34m)\u001b[0m\u001b[0;34m\u001b[0m\u001b[0;34m\u001b[0m\u001b[0m\n\u001b[0m",
      "\u001b[0;31mEOFError\u001b[0m: Ran out of input"
     ]
    }
   ],
   "source": [
    "pickle.load(f)"
   ]
  },
  {
   "cell_type": "code",
   "execution_count": 175,
   "id": "a761b916",
   "metadata": {},
   "outputs": [],
   "source": [
    "# 定义一个线程但仍然可以序列化和反序列化\n",
    "# countdown.py\n",
    "import time\n",
    "import threading\n",
    "\n",
    "\n",
    "class Countdown:\n",
    "    def __init__(self, n):\n",
    "        self.n = n\n",
    "        self.thr = threading.Thread(target= self.run)\n",
    "        self.thr.daemon = True\n",
    "        self.thr. start()\n",
    "        \n",
    "    def run(self):\n",
    "        while self.n > 0:\n",
    "            print('T-minus', self.n)\n",
    "            self.n -=1\n",
    "            time.sleep(5)\n",
    "        \n",
    "    def __getstate__(self):\n",
    "        return self.n\n",
    "    \n",
    "    def __setstate__(self):\n",
    "        self.__init__(n)"
   ]
  },
  {
   "cell_type": "code",
   "execution_count": 176,
   "id": "e831ac21",
   "metadata": {},
   "outputs": [
    {
     "name": "stdout",
     "output_type": "stream",
     "text": [
      "T-minus 30\n"
     ]
    }
   ],
   "source": [
    "import countdown\n",
    "\n",
    "c = countdown.Countdown(30)"
   ]
  },
  {
   "cell_type": "code",
   "execution_count": 177,
   "id": "c817a967",
   "metadata": {},
   "outputs": [],
   "source": [
    "f = open('cstate.p', 'wb')\n",
    "import pickle\n",
    "pickle.dump(c, f)\n",
    "f.close()"
   ]
  },
  {
   "cell_type": "code",
   "execution_count": 178,
   "id": "401c32a3",
   "metadata": {},
   "outputs": [
    {
     "name": "stdout",
     "output_type": "stream",
     "text": [
      "T-minus 23\n"
     ]
    },
    {
     "data": {
      "text/plain": [
       "<countdown.Countdown at 0x7f9480854cd0>"
      ]
     },
     "execution_count": 178,
     "metadata": {},
     "output_type": "execute_result"
    },
    {
     "name": "stdout",
     "output_type": "stream",
     "text": [
      "T-minus 19\n",
      "T-minus 22\n",
      "T-minus 18\n",
      "T-minus 21\n",
      "T-minus 17\n",
      "T-minus 20\n",
      "T-minus 16\n",
      "T-minus 19\n",
      "T-minus 15\n",
      "T-minus 18\n",
      "T-minus 14\n",
      "T-minus 17\n",
      "T-minus 13\n",
      "T-minus 16\n",
      "T-minus 12\n",
      "T-minus 15\n",
      "T-minus 11\n",
      "T-minus 14\n",
      "T-minus 10\n",
      "T-minus 13\n",
      "T-minus 9\n",
      "T-minus 12\n",
      "T-minus 8\n",
      "T-minus 11\n",
      "T-minus 7\n",
      "T-minus 10\n",
      "T-minus 6\n",
      "T-minus 9\n",
      "T-minus 5\n",
      "T-minus 8\n",
      "T-minus 4\n",
      "T-minus 7\n",
      "T-minus 3\n",
      "T-minus 6\n",
      "T-minus 2\n",
      "T-minus 5\n",
      "T-minus 1\n",
      "T-minus 4\n",
      "T-minus 3\n",
      "T-minus 2\n",
      "T-minus 1\n"
     ]
    }
   ],
   "source": [
    "f = open('cstate.p', 'rb')\n",
    "pickle.load(f)"
   ]
  },
  {
   "cell_type": "markdown",
   "id": "3cb98fdd",
   "metadata": {},
   "source": [
    "# 第六章\n",
    "# 数据编码和处理"
   ]
  },
  {
   "cell_type": "markdown",
   "id": "a748af27",
   "metadata": {},
   "source": [
    "## 读写csv文件"
   ]
  },
  {
   "cell_type": "code",
   "execution_count": 181,
   "id": "b29a5446",
   "metadata": {},
   "outputs": [
    {
     "name": "stdout",
     "output_type": "stream",
     "text": [
      "['AA', '39.48', '6/11/2007', '9:36am', '-0.18', '181800']\n",
      "<class 'list'>\n",
      "['AIG', '71.38', '6/11/2007', '9:36am', '-0.15', '195500']\n",
      "<class 'list'>\n",
      "['AXP', '62.58', '6/11/2007', '9:36am', '-0.46', '935000']\n",
      "<class 'list'>\n",
      "['BA', '98.31', '6/11/2007', '9:36am', '+0.12', '104800']\n",
      "<class 'list'>\n",
      "['C', '53.08', '6/11/2007', '9:36am', '-0.25', '360900']\n",
      "<class 'list'>\n",
      "['CAT', '78.29', '6/11/2007', '9:36am', '-0.23', '225400']\n",
      "<class 'list'>\n"
     ]
    }
   ],
   "source": [
    "import csv \n",
    "with open('stocks.csv') as f:\n",
    "    f_csv = csv.reader(f)\n",
    "    headers = next(f_csv)\n",
    "    for row in f_csv:\n",
    "        print(row)\n",
    "        print(type(row))"
   ]
  },
  {
   "cell_type": "code",
   "execution_count": 185,
   "id": "8e06c057",
   "metadata": {},
   "outputs": [
    {
     "name": "stdout",
     "output_type": "stream",
     "text": [
      "6/11/2007 39.48\n",
      "6/11/2007 71.38\n",
      "6/11/2007 62.58\n",
      "6/11/2007 98.31\n",
      "6/11/2007 53.08\n",
      "6/11/2007 78.29\n"
     ]
    }
   ],
   "source": [
    "from collections import namedtuple\n",
    "\n",
    "with open('stocks.csv') as f:\n",
    "    f_csv = csv.reader(f)\n",
    "    headings = next(f_csv)\n",
    "    Row = namedtuple('Row', headings)\n",
    "    ss = set()\n",
    "    for r in f_csv:\n",
    "        row = Row(*r)\n",
    "        ss.add(row)\n",
    "        print(row.Date, row.Price)"
   ]
  },
  {
   "cell_type": "code",
   "execution_count": 186,
   "id": "5611e588",
   "metadata": {},
   "outputs": [
    {
     "data": {
      "text/plain": [
       "{Row(Symbol='AA', Price='39.48', Date='6/11/2007', Time='9:36am', Change='-0.18', Volume='181800'),\n",
       " Row(Symbol='AIG', Price='71.38', Date='6/11/2007', Time='9:36am', Change='-0.15', Volume='195500'),\n",
       " Row(Symbol='AXP', Price='62.58', Date='6/11/2007', Time='9:36am', Change='-0.46', Volume='935000'),\n",
       " Row(Symbol='BA', Price='98.31', Date='6/11/2007', Time='9:36am', Change='+0.12', Volume='104800'),\n",
       " Row(Symbol='C', Price='53.08', Date='6/11/2007', Time='9:36am', Change='-0.25', Volume='360900'),\n",
       " Row(Symbol='CAT', Price='78.29', Date='6/11/2007', Time='9:36am', Change='-0.23', Volume='225400')}"
      ]
     },
     "execution_count": 186,
     "metadata": {},
     "output_type": "execute_result"
    }
   ],
   "source": [
    "ss "
   ]
  },
  {
   "cell_type": "code",
   "execution_count": 187,
   "id": "c9fea10a",
   "metadata": {},
   "outputs": [
    {
     "name": "stdout",
     "output_type": "stream",
     "text": [
      "{'Symbol': 'AA', 'Price': '39.48', 'Date': '6/11/2007', 'Time': '9:36am', 'Change': '-0.18', 'Volume': '181800'}\n",
      "{'Symbol': 'AIG', 'Price': '71.38', 'Date': '6/11/2007', 'Time': '9:36am', 'Change': '-0.15', 'Volume': '195500'}\n",
      "{'Symbol': 'AXP', 'Price': '62.58', 'Date': '6/11/2007', 'Time': '9:36am', 'Change': '-0.46', 'Volume': '935000'}\n",
      "{'Symbol': 'BA', 'Price': '98.31', 'Date': '6/11/2007', 'Time': '9:36am', 'Change': '+0.12', 'Volume': '104800'}\n",
      "{'Symbol': 'C', 'Price': '53.08', 'Date': '6/11/2007', 'Time': '9:36am', 'Change': '-0.25', 'Volume': '360900'}\n",
      "{'Symbol': 'CAT', 'Price': '78.29', 'Date': '6/11/2007', 'Time': '9:36am', 'Change': '-0.23', 'Volume': '225400'}\n"
     ]
    }
   ],
   "source": [
    "# 使用dictreader\n",
    "with open('stocks.csv') as f:\n",
    "    f_csv = csv.DictReader(f)\n",
    "    for row in f_csv:\n",
    "        print(row)"
   ]
  },
  {
   "cell_type": "markdown",
   "id": "4140b176",
   "metadata": {},
   "source": [
    "### 写csv文件"
   ]
  },
  {
   "cell_type": "code",
   "execution_count": 189,
   "id": "dc983f0f",
   "metadata": {},
   "outputs": [],
   "source": [
    "headers = ['Symbol','Price','Date','Time','Change','Volume']\n",
    "rows = [('AA', 39.48, '6/11/2007', '9:36am', -0.18, 181800),\n",
    "('AIG', 71.38, '6/11/2007', '9:36am', -0.15, 195500),\n",
    "('AXP', 62.58, '6/11/2007', '9:36am', -0.46, 935000),\n",
    "]\n",
    "\n",
    "with open('another_stocks.csv', 'w') as f:\n",
    "    f_csv = csv.writer(f)\n",
    "    f_csv.writerow(headers)\n",
    "    f_csv.writerows(rows)    "
   ]
  },
  {
   "cell_type": "code",
   "execution_count": 190,
   "id": "e74d501c",
   "metadata": {},
   "outputs": [],
   "source": [
    "# 对于字典序列的数据\n",
    "headers = ['Symbol', 'Price', 'Date', 'Time', 'Change', 'Volume']\n",
    "rows = [{'Symbol':'AA', 'Price':39.48, 'Date':'6/11/2007',\n",
    "'Time':'9:36am', 'Change':-0.18, 'Volume':181800},\n",
    "{'Symbol':'AIG', 'Price': 71.38, 'Date':'6/11/2007',\n",
    "'Time':'9:36am', 'Change':-0.15, 'Volume': 195500},\n",
    "{'Symbol':'AXP', 'Price': 62.58, 'Date':'6/11/2007',\n",
    "'Time':'9:36am', 'Change':-0.46, 'Volume': 935000},]\n",
    "\n",
    "with open('other_stocks.csv', 'w') as f:\n",
    "    f_csv = csv.DictWriter(f, headers)\n",
    "    f_csv.writeheader()\n",
    "    f_csv.writerows(rows)"
   ]
  },
  {
   "cell_type": "markdown",
   "id": "7f914782",
   "metadata": {},
   "source": [
    "### 分隔符不是逗号是tab"
   ]
  },
  {
   "cell_type": "code",
   "execution_count": null,
   "id": "e250842d",
   "metadata": {},
   "outputs": [],
   "source": [
    "# Example of reading tab-separated values\n",
    "with open('stock.csv') as f:\n",
    "f_tsv = csv.reader(f, delimiter='\\t')\n",
    "for row in f_tsv:\n",
    "# Process row\n",
    "..."
   ]
  },
  {
   "cell_type": "markdown",
   "id": "456c0c8a",
   "metadata": {},
   "source": [
    "### 字段名含有非法字符"
   ]
  },
  {
   "cell_type": "code",
   "execution_count": 194,
   "id": "22dd117c",
   "metadata": {},
   "outputs": [
    {
     "name": "stdout",
     "output_type": "stream",
     "text": [
      "Row(Symbol='AA', Price='39.48', Date='6/11/2007', ime='9:36am', Change='-0.18', Volume='181800')\n",
      "Row(Symbol='AIG', Price='71.38', Date='6/11/2007', ime='9:36am', Change='-0.15', Volume='195500')\n",
      "Row(Symbol='AXP', Price='62.58', Date='6/11/2007', ime='9:36am', Change='-0.46', Volume='935000')\n",
      "Row(Symbol='BA', Price='98.31', Date='6/11/2007', ime='9:36am', Change='+0.12', Volume='104800')\n",
      "Row(Symbol='C', Price='53.08', Date='6/11/2007', ime='9:36am', Change='-0.25', Volume='360900')\n",
      "Row(Symbol='CAT', Price='78.29', Date='6/11/2007', ime='9:36am', Change='-0.23', Volume='225400')\n"
     ]
    }
   ],
   "source": [
    "# 列名合法性认证\n",
    "# 我把文件中的'time‘ 改成了 ’åime'。原本代码是换成下划线的，但会报错，所以我设置成丢弃\n",
    "import re\n",
    "\n",
    "with open('stocks.csv') as f:\n",
    "    f_csv = csv.reader(f)\n",
    "    headers = [re.sub('[^a-zA-Z]', '', h) for h in next(f_csv)]\n",
    "    Row = namedtuple('Row', headers)\n",
    "    for r in f_csv:\n",
    "        row = Row(*r)\n",
    "        print(row)"
   ]
  },
  {
   "cell_type": "markdown",
   "id": "c4c982f8",
   "metadata": {},
   "source": [
    "### 转换格式"
   ]
  },
  {
   "cell_type": "code",
   "execution_count": 195,
   "id": "c8a85315",
   "metadata": {},
   "outputs": [
    {
     "name": "stdout",
     "output_type": "stream",
     "text": [
      "('AA', 39.48, '6/11/2007', '9:36am', -0.18, 181800)\n",
      "('AIG', 71.38, '6/11/2007', '9:36am', -0.15, 195500)\n",
      "('AXP', 62.58, '6/11/2007', '9:36am', -0.46, 935000)\n",
      "('BA', 98.31, '6/11/2007', '9:36am', 0.12, 104800)\n",
      "('C', 53.08, '6/11/2007', '9:36am', -0.25, 360900)\n",
      "('CAT', 78.29, '6/11/2007', '9:36am', -0.23, 225400)\n"
     ]
    }
   ],
   "source": [
    "# csv所产生的数据都是字符串，需手动转换格式\n",
    "\n",
    "col_type = [str, float, str, str, float, int]\n",
    "with open('stocks.csv') as f:\n",
    "    f_csv = csv.reader(f)\n",
    "    headers = next(f_csv)\n",
    "    for row in f_csv:\n",
    "        # Apply conversions to the row items\n",
    "        row = tuple(convert(value) for convert, value in zip(col_type, row))\n",
    "        print(row)"
   ]
  },
  {
   "cell_type": "code",
   "execution_count": 197,
   "id": "45b81405",
   "metadata": {},
   "outputs": [
    {
     "name": "stdout",
     "output_type": "stream",
     "text": [
      "{'Symbol': 'AA', 'Price': 39.48, 'Date': '6/11/2007', 'time': '9:36am', 'Change': -0.18, 'Volume': 181800}\n",
      "{'Symbol': 'AIG', 'Price': 71.38, 'Date': '6/11/2007', 'time': '9:36am', 'Change': -0.15, 'Volume': 195500}\n",
      "{'Symbol': 'AXP', 'Price': 62.58, 'Date': '6/11/2007', 'time': '9:36am', 'Change': -0.46, 'Volume': 935000}\n",
      "{'Symbol': 'BA', 'Price': 98.31, 'Date': '6/11/2007', 'time': '9:36am', 'Change': 0.12, 'Volume': 104800}\n",
      "{'Symbol': 'C', 'Price': 53.08, 'Date': '6/11/2007', 'time': '9:36am', 'Change': -0.25, 'Volume': 360900}\n",
      "{'Symbol': 'CAT', 'Price': 78.29, 'Date': '6/11/2007', 'time': '9:36am', 'Change': -0.23, 'Volume': 225400}\n"
     ]
    }
   ],
   "source": [
    "# 转换字典\n",
    "field_type = [('Price', float),\n",
    "             ('Change', float),\n",
    "             ('Volume', int)]\n",
    "\n",
    "with open('stocks.csv') as f:\n",
    "    for row in csv.DictReader(f):\n",
    "        row.update((key, conversion(row[key])) for key, conversion\n",
    "                   in field_type)\n",
    "        print(row)\n",
    "        "
   ]
  },
  {
   "cell_type": "markdown",
   "id": "9d713a79",
   "metadata": {},
   "source": [
    "## 读写json文件"
   ]
  },
  {
   "cell_type": "markdown",
   "id": "8c363abc",
   "metadata": {},
   "source": [
    "### json.dumps    &     json.loads     --> str\n",
    "### json.dump     &    json.load   --> file"
   ]
  },
  {
   "cell_type": "code",
   "execution_count": 1,
   "id": "c07ee822",
   "metadata": {},
   "outputs": [],
   "source": [
    "import json"
   ]
  },
  {
   "cell_type": "code",
   "execution_count": 2,
   "id": "06280c27",
   "metadata": {},
   "outputs": [],
   "source": [
    "data = { \n",
    "    'name': 'ACME',\n",
    "    'shares': 100,\n",
    "    'price': 542.3}\n",
    "\n",
    "json_str = json.dumps(data)"
   ]
  },
  {
   "cell_type": "code",
   "execution_count": 3,
   "id": "263b3165",
   "metadata": {},
   "outputs": [
    {
     "data": {
      "text/plain": [
       "'{\"name\": \"ACME\", \"shares\": 100, \"price\": 542.3}'"
      ]
     },
     "execution_count": 3,
     "metadata": {},
     "output_type": "execute_result"
    }
   ],
   "source": [
    "json_str"
   ]
  },
  {
   "cell_type": "code",
   "execution_count": 4,
   "id": "2172f7dc",
   "metadata": {},
   "outputs": [
    {
     "data": {
      "text/plain": [
       "str"
      ]
     },
     "execution_count": 4,
     "metadata": {},
     "output_type": "execute_result"
    }
   ],
   "source": [
    "type(json_str)"
   ]
  },
  {
   "cell_type": "code",
   "execution_count": 5,
   "id": "26d61367",
   "metadata": {},
   "outputs": [],
   "source": [
    "with open('data.json', 'w') as f:\n",
    "    json.dump(data,f)\n"
   ]
  },
  {
   "cell_type": "code",
   "execution_count": 7,
   "id": "4f8d55ba",
   "metadata": {},
   "outputs": [
    {
     "ename": "HTTPError",
     "evalue": "HTTP Error 410: Gone",
     "output_type": "error",
     "traceback": [
      "\u001b[0;31m---------------------------------------------------------------------------\u001b[0m",
      "\u001b[0;31mHTTPError\u001b[0m                                 Traceback (most recent call last)",
      "\u001b[0;32m<ipython-input-7-39b16b60af34>\u001b[0m in \u001b[0;36m<module>\u001b[0;34m\u001b[0m\n\u001b[1;32m      3\u001b[0m \u001b[0;32mfrom\u001b[0m \u001b[0mpprint\u001b[0m \u001b[0;32mimport\u001b[0m \u001b[0mpprint\u001b[0m\u001b[0;34m\u001b[0m\u001b[0;34m\u001b[0m\u001b[0m\n\u001b[1;32m      4\u001b[0m \u001b[0;34m\u001b[0m\u001b[0m\n\u001b[0;32m----> 5\u001b[0;31m \u001b[0mu\u001b[0m\u001b[0;34m=\u001b[0m \u001b[0murlopen\u001b[0m\u001b[0;34m(\u001b[0m\u001b[0;34m'http://search.twitter.com/search.json?q=python&rpp=5'\u001b[0m\u001b[0;34m)\u001b[0m\u001b[0;34m\u001b[0m\u001b[0;34m\u001b[0m\u001b[0m\n\u001b[0m\u001b[1;32m      6\u001b[0m \u001b[0mresp\u001b[0m \u001b[0;34m=\u001b[0m \u001b[0mjson\u001b[0m\u001b[0;34m.\u001b[0m\u001b[0mloads\u001b[0m\u001b[0;34m(\u001b[0m\u001b[0mu\u001b[0m\u001b[0;34m.\u001b[0m\u001b[0mread\u001b[0m\u001b[0;34m(\u001b[0m\u001b[0;34m)\u001b[0m\u001b[0;34m.\u001b[0m\u001b[0mdecode\u001b[0m\u001b[0;34m(\u001b[0m\u001b[0;34m'utf-8'\u001b[0m\u001b[0;34m)\u001b[0m\u001b[0;34m)\u001b[0m\u001b[0;34m\u001b[0m\u001b[0;34m\u001b[0m\u001b[0m\n\u001b[1;32m      7\u001b[0m \u001b[0mpprint\u001b[0m\u001b[0;34m(\u001b[0m\u001b[0mresp\u001b[0m\u001b[0;34m)\u001b[0m\u001b[0;34m\u001b[0m\u001b[0;34m\u001b[0m\u001b[0m\n",
      "\u001b[0;32m~/opt/anaconda3/envs/data_mining/lib/python3.6/urllib/request.py\u001b[0m in \u001b[0;36murlopen\u001b[0;34m(url, data, timeout, cafile, capath, cadefault, context)\u001b[0m\n\u001b[1;32m    221\u001b[0m     \u001b[0;32melse\u001b[0m\u001b[0;34m:\u001b[0m\u001b[0;34m\u001b[0m\u001b[0;34m\u001b[0m\u001b[0m\n\u001b[1;32m    222\u001b[0m         \u001b[0mopener\u001b[0m \u001b[0;34m=\u001b[0m \u001b[0m_opener\u001b[0m\u001b[0;34m\u001b[0m\u001b[0;34m\u001b[0m\u001b[0m\n\u001b[0;32m--> 223\u001b[0;31m     \u001b[0;32mreturn\u001b[0m \u001b[0mopener\u001b[0m\u001b[0;34m.\u001b[0m\u001b[0mopen\u001b[0m\u001b[0;34m(\u001b[0m\u001b[0murl\u001b[0m\u001b[0;34m,\u001b[0m \u001b[0mdata\u001b[0m\u001b[0;34m,\u001b[0m \u001b[0mtimeout\u001b[0m\u001b[0;34m)\u001b[0m\u001b[0;34m\u001b[0m\u001b[0;34m\u001b[0m\u001b[0m\n\u001b[0m\u001b[1;32m    224\u001b[0m \u001b[0;34m\u001b[0m\u001b[0m\n\u001b[1;32m    225\u001b[0m \u001b[0;32mdef\u001b[0m \u001b[0minstall_opener\u001b[0m\u001b[0;34m(\u001b[0m\u001b[0mopener\u001b[0m\u001b[0;34m)\u001b[0m\u001b[0;34m:\u001b[0m\u001b[0;34m\u001b[0m\u001b[0;34m\u001b[0m\u001b[0m\n",
      "\u001b[0;32m~/opt/anaconda3/envs/data_mining/lib/python3.6/urllib/request.py\u001b[0m in \u001b[0;36mopen\u001b[0;34m(self, fullurl, data, timeout)\u001b[0m\n\u001b[1;32m    530\u001b[0m         \u001b[0;32mfor\u001b[0m \u001b[0mprocessor\u001b[0m \u001b[0;32min\u001b[0m \u001b[0mself\u001b[0m\u001b[0;34m.\u001b[0m\u001b[0mprocess_response\u001b[0m\u001b[0;34m.\u001b[0m\u001b[0mget\u001b[0m\u001b[0;34m(\u001b[0m\u001b[0mprotocol\u001b[0m\u001b[0;34m,\u001b[0m \u001b[0;34m[\u001b[0m\u001b[0;34m]\u001b[0m\u001b[0;34m)\u001b[0m\u001b[0;34m:\u001b[0m\u001b[0;34m\u001b[0m\u001b[0;34m\u001b[0m\u001b[0m\n\u001b[1;32m    531\u001b[0m             \u001b[0mmeth\u001b[0m \u001b[0;34m=\u001b[0m \u001b[0mgetattr\u001b[0m\u001b[0;34m(\u001b[0m\u001b[0mprocessor\u001b[0m\u001b[0;34m,\u001b[0m \u001b[0mmeth_name\u001b[0m\u001b[0;34m)\u001b[0m\u001b[0;34m\u001b[0m\u001b[0;34m\u001b[0m\u001b[0m\n\u001b[0;32m--> 532\u001b[0;31m             \u001b[0mresponse\u001b[0m \u001b[0;34m=\u001b[0m \u001b[0mmeth\u001b[0m\u001b[0;34m(\u001b[0m\u001b[0mreq\u001b[0m\u001b[0;34m,\u001b[0m \u001b[0mresponse\u001b[0m\u001b[0;34m)\u001b[0m\u001b[0;34m\u001b[0m\u001b[0;34m\u001b[0m\u001b[0m\n\u001b[0m\u001b[1;32m    533\u001b[0m \u001b[0;34m\u001b[0m\u001b[0m\n\u001b[1;32m    534\u001b[0m         \u001b[0;32mreturn\u001b[0m \u001b[0mresponse\u001b[0m\u001b[0;34m\u001b[0m\u001b[0;34m\u001b[0m\u001b[0m\n",
      "\u001b[0;32m~/opt/anaconda3/envs/data_mining/lib/python3.6/urllib/request.py\u001b[0m in \u001b[0;36mhttp_response\u001b[0;34m(self, request, response)\u001b[0m\n\u001b[1;32m    640\u001b[0m         \u001b[0;32mif\u001b[0m \u001b[0;32mnot\u001b[0m \u001b[0;34m(\u001b[0m\u001b[0;36m200\u001b[0m \u001b[0;34m<=\u001b[0m \u001b[0mcode\u001b[0m \u001b[0;34m<\u001b[0m \u001b[0;36m300\u001b[0m\u001b[0;34m)\u001b[0m\u001b[0;34m:\u001b[0m\u001b[0;34m\u001b[0m\u001b[0;34m\u001b[0m\u001b[0m\n\u001b[1;32m    641\u001b[0m             response = self.parent.error(\n\u001b[0;32m--> 642\u001b[0;31m                 'http', request, response, code, msg, hdrs)\n\u001b[0m\u001b[1;32m    643\u001b[0m \u001b[0;34m\u001b[0m\u001b[0m\n\u001b[1;32m    644\u001b[0m         \u001b[0;32mreturn\u001b[0m \u001b[0mresponse\u001b[0m\u001b[0;34m\u001b[0m\u001b[0;34m\u001b[0m\u001b[0m\n",
      "\u001b[0;32m~/opt/anaconda3/envs/data_mining/lib/python3.6/urllib/request.py\u001b[0m in \u001b[0;36merror\u001b[0;34m(self, proto, *args)\u001b[0m\n\u001b[1;32m    568\u001b[0m         \u001b[0;32mif\u001b[0m \u001b[0mhttp_err\u001b[0m\u001b[0;34m:\u001b[0m\u001b[0;34m\u001b[0m\u001b[0;34m\u001b[0m\u001b[0m\n\u001b[1;32m    569\u001b[0m             \u001b[0margs\u001b[0m \u001b[0;34m=\u001b[0m \u001b[0;34m(\u001b[0m\u001b[0mdict\u001b[0m\u001b[0;34m,\u001b[0m \u001b[0;34m'default'\u001b[0m\u001b[0;34m,\u001b[0m \u001b[0;34m'http_error_default'\u001b[0m\u001b[0;34m)\u001b[0m \u001b[0;34m+\u001b[0m \u001b[0morig_args\u001b[0m\u001b[0;34m\u001b[0m\u001b[0;34m\u001b[0m\u001b[0m\n\u001b[0;32m--> 570\u001b[0;31m             \u001b[0;32mreturn\u001b[0m \u001b[0mself\u001b[0m\u001b[0;34m.\u001b[0m\u001b[0m_call_chain\u001b[0m\u001b[0;34m(\u001b[0m\u001b[0;34m*\u001b[0m\u001b[0margs\u001b[0m\u001b[0;34m)\u001b[0m\u001b[0;34m\u001b[0m\u001b[0;34m\u001b[0m\u001b[0m\n\u001b[0m\u001b[1;32m    571\u001b[0m \u001b[0;34m\u001b[0m\u001b[0m\n\u001b[1;32m    572\u001b[0m \u001b[0;31m# XXX probably also want an abstract factory that knows when it makes\u001b[0m\u001b[0;34m\u001b[0m\u001b[0;34m\u001b[0m\u001b[0;34m\u001b[0m\u001b[0m\n",
      "\u001b[0;32m~/opt/anaconda3/envs/data_mining/lib/python3.6/urllib/request.py\u001b[0m in \u001b[0;36m_call_chain\u001b[0;34m(self, chain, kind, meth_name, *args)\u001b[0m\n\u001b[1;32m    502\u001b[0m         \u001b[0;32mfor\u001b[0m \u001b[0mhandler\u001b[0m \u001b[0;32min\u001b[0m \u001b[0mhandlers\u001b[0m\u001b[0;34m:\u001b[0m\u001b[0;34m\u001b[0m\u001b[0;34m\u001b[0m\u001b[0m\n\u001b[1;32m    503\u001b[0m             \u001b[0mfunc\u001b[0m \u001b[0;34m=\u001b[0m \u001b[0mgetattr\u001b[0m\u001b[0;34m(\u001b[0m\u001b[0mhandler\u001b[0m\u001b[0;34m,\u001b[0m \u001b[0mmeth_name\u001b[0m\u001b[0;34m)\u001b[0m\u001b[0;34m\u001b[0m\u001b[0;34m\u001b[0m\u001b[0m\n\u001b[0;32m--> 504\u001b[0;31m             \u001b[0mresult\u001b[0m \u001b[0;34m=\u001b[0m \u001b[0mfunc\u001b[0m\u001b[0;34m(\u001b[0m\u001b[0;34m*\u001b[0m\u001b[0margs\u001b[0m\u001b[0;34m)\u001b[0m\u001b[0;34m\u001b[0m\u001b[0;34m\u001b[0m\u001b[0m\n\u001b[0m\u001b[1;32m    505\u001b[0m             \u001b[0;32mif\u001b[0m \u001b[0mresult\u001b[0m \u001b[0;32mis\u001b[0m \u001b[0;32mnot\u001b[0m \u001b[0;32mNone\u001b[0m\u001b[0;34m:\u001b[0m\u001b[0;34m\u001b[0m\u001b[0;34m\u001b[0m\u001b[0m\n\u001b[1;32m    506\u001b[0m                 \u001b[0;32mreturn\u001b[0m \u001b[0mresult\u001b[0m\u001b[0;34m\u001b[0m\u001b[0;34m\u001b[0m\u001b[0m\n",
      "\u001b[0;32m~/opt/anaconda3/envs/data_mining/lib/python3.6/urllib/request.py\u001b[0m in \u001b[0;36mhttp_error_default\u001b[0;34m(self, req, fp, code, msg, hdrs)\u001b[0m\n\u001b[1;32m    648\u001b[0m \u001b[0;32mclass\u001b[0m \u001b[0mHTTPDefaultErrorHandler\u001b[0m\u001b[0;34m(\u001b[0m\u001b[0mBaseHandler\u001b[0m\u001b[0;34m)\u001b[0m\u001b[0;34m:\u001b[0m\u001b[0;34m\u001b[0m\u001b[0;34m\u001b[0m\u001b[0m\n\u001b[1;32m    649\u001b[0m     \u001b[0;32mdef\u001b[0m \u001b[0mhttp_error_default\u001b[0m\u001b[0;34m(\u001b[0m\u001b[0mself\u001b[0m\u001b[0;34m,\u001b[0m \u001b[0mreq\u001b[0m\u001b[0;34m,\u001b[0m \u001b[0mfp\u001b[0m\u001b[0;34m,\u001b[0m \u001b[0mcode\u001b[0m\u001b[0;34m,\u001b[0m \u001b[0mmsg\u001b[0m\u001b[0;34m,\u001b[0m \u001b[0mhdrs\u001b[0m\u001b[0;34m)\u001b[0m\u001b[0;34m:\u001b[0m\u001b[0;34m\u001b[0m\u001b[0;34m\u001b[0m\u001b[0m\n\u001b[0;32m--> 650\u001b[0;31m         \u001b[0;32mraise\u001b[0m \u001b[0mHTTPError\u001b[0m\u001b[0;34m(\u001b[0m\u001b[0mreq\u001b[0m\u001b[0;34m.\u001b[0m\u001b[0mfull_url\u001b[0m\u001b[0;34m,\u001b[0m \u001b[0mcode\u001b[0m\u001b[0;34m,\u001b[0m \u001b[0mmsg\u001b[0m\u001b[0;34m,\u001b[0m \u001b[0mhdrs\u001b[0m\u001b[0;34m,\u001b[0m \u001b[0mfp\u001b[0m\u001b[0;34m)\u001b[0m\u001b[0;34m\u001b[0m\u001b[0;34m\u001b[0m\u001b[0m\n\u001b[0m\u001b[1;32m    651\u001b[0m \u001b[0;34m\u001b[0m\u001b[0m\n\u001b[1;32m    652\u001b[0m \u001b[0;32mclass\u001b[0m \u001b[0mHTTPRedirectHandler\u001b[0m\u001b[0;34m(\u001b[0m\u001b[0mBaseHandler\u001b[0m\u001b[0;34m)\u001b[0m\u001b[0;34m:\u001b[0m\u001b[0;34m\u001b[0m\u001b[0;34m\u001b[0m\u001b[0m\n",
      "\u001b[0;31mHTTPError\u001b[0m: HTTP Error 410: Gone"
     ]
    }
   ],
   "source": [
    "from urllib.request import urlopen\n",
    "import json\n",
    "from pprint import pprint\n",
    "\n",
    "u= urlopen('http://search.twitter.com/search.json?q=python&rpp=5')\n",
    "resp = json.loads(u.read().decode('utf-8'))\n",
    "pprint(resp)"
   ]
  },
  {
   "cell_type": "code",
   "execution_count": 1,
   "id": "79896692",
   "metadata": {},
   "outputs": [],
   "source": [
    "# 将JSON字典转化为python对象\n",
    "class JSONObject:\n",
    "    def __init__(self, d):\n",
    "        self.__dict__ = d"
   ]
  },
  {
   "cell_type": "code",
   "execution_count": 2,
   "id": "47d5f608",
   "metadata": {},
   "outputs": [],
   "source": [
    "import json\n",
    "\n",
    "\n",
    "s = '{\"name\": \"ACME\", \"shares\": 50, \"price\": 490.1}'\n",
    "data = json.loads(s, object_hook=JSONObject)"
   ]
  },
  {
   "cell_type": "code",
   "execution_count": 3,
   "id": "ba1b0043",
   "metadata": {},
   "outputs": [
    {
     "data": {
      "text/plain": [
       "__main__.JSONObject"
      ]
     },
     "execution_count": 3,
     "metadata": {},
     "output_type": "execute_result"
    }
   ],
   "source": [
    "type(data)"
   ]
  },
  {
   "cell_type": "code",
   "execution_count": 4,
   "id": "6a027d7f",
   "metadata": {},
   "outputs": [
    {
     "data": {
      "text/plain": [
       "'ACME'"
      ]
     },
     "execution_count": 4,
     "metadata": {},
     "output_type": "execute_result"
    }
   ],
   "source": [
    "data.name"
   ]
  },
  {
   "cell_type": "code",
   "execution_count": 5,
   "id": "7541fc3b",
   "metadata": {},
   "outputs": [
    {
     "name": "stdout",
     "output_type": "stream",
     "text": [
      "<__main__.JSONObject object at 0x7f9f78defaf0>\n"
     ]
    }
   ],
   "source": [
    "print(data)"
   ]
  },
  {
   "cell_type": "code",
   "execution_count": 7,
   "id": "4b05cced",
   "metadata": {},
   "outputs": [
    {
     "ename": "TypeError",
     "evalue": "Object of type JSONObject is not JSON serializable",
     "output_type": "error",
     "traceback": [
      "\u001b[0;31m---------------------------------------------------------------------------\u001b[0m",
      "\u001b[0;31mTypeError\u001b[0m                                 Traceback (most recent call last)",
      "\u001b[0;32m/var/folders/x8/t__p3dnn0fbdd76k016s5c540000gn/T/ipykernel_19863/2279736802.py\u001b[0m in \u001b[0;36m<module>\u001b[0;34m\u001b[0m\n\u001b[0;32m----> 1\u001b[0;31m \u001b[0mprint\u001b[0m\u001b[0;34m(\u001b[0m\u001b[0mjson\u001b[0m\u001b[0;34m.\u001b[0m\u001b[0mdumps\u001b[0m\u001b[0;34m(\u001b[0m\u001b[0mdata\u001b[0m\u001b[0;34m)\u001b[0m\u001b[0;34m)\u001b[0m\u001b[0;34m\u001b[0m\u001b[0;34m\u001b[0m\u001b[0m\n\u001b[0m",
      "\u001b[0;32m~/opt/anaconda3/lib/python3.9/json/__init__.py\u001b[0m in \u001b[0;36mdumps\u001b[0;34m(obj, skipkeys, ensure_ascii, check_circular, allow_nan, cls, indent, separators, default, sort_keys, **kw)\u001b[0m\n\u001b[1;32m    229\u001b[0m         \u001b[0mcls\u001b[0m \u001b[0;32mis\u001b[0m \u001b[0;32mNone\u001b[0m \u001b[0;32mand\u001b[0m \u001b[0mindent\u001b[0m \u001b[0;32mis\u001b[0m \u001b[0;32mNone\u001b[0m \u001b[0;32mand\u001b[0m \u001b[0mseparators\u001b[0m \u001b[0;32mis\u001b[0m \u001b[0;32mNone\u001b[0m \u001b[0;32mand\u001b[0m\u001b[0;34m\u001b[0m\u001b[0;34m\u001b[0m\u001b[0m\n\u001b[1;32m    230\u001b[0m         default is None and not sort_keys and not kw):\n\u001b[0;32m--> 231\u001b[0;31m         \u001b[0;32mreturn\u001b[0m \u001b[0m_default_encoder\u001b[0m\u001b[0;34m.\u001b[0m\u001b[0mencode\u001b[0m\u001b[0;34m(\u001b[0m\u001b[0mobj\u001b[0m\u001b[0;34m)\u001b[0m\u001b[0;34m\u001b[0m\u001b[0;34m\u001b[0m\u001b[0m\n\u001b[0m\u001b[1;32m    232\u001b[0m     \u001b[0;32mif\u001b[0m \u001b[0mcls\u001b[0m \u001b[0;32mis\u001b[0m \u001b[0;32mNone\u001b[0m\u001b[0;34m:\u001b[0m\u001b[0;34m\u001b[0m\u001b[0;34m\u001b[0m\u001b[0m\n\u001b[1;32m    233\u001b[0m         \u001b[0mcls\u001b[0m \u001b[0;34m=\u001b[0m \u001b[0mJSONEncoder\u001b[0m\u001b[0;34m\u001b[0m\u001b[0;34m\u001b[0m\u001b[0m\n",
      "\u001b[0;32m~/opt/anaconda3/lib/python3.9/json/encoder.py\u001b[0m in \u001b[0;36mencode\u001b[0;34m(self, o)\u001b[0m\n\u001b[1;32m    197\u001b[0m         \u001b[0;31m# exceptions aren't as detailed.  The list call should be roughly\u001b[0m\u001b[0;34m\u001b[0m\u001b[0;34m\u001b[0m\u001b[0m\n\u001b[1;32m    198\u001b[0m         \u001b[0;31m# equivalent to the PySequence_Fast that ''.join() would do.\u001b[0m\u001b[0;34m\u001b[0m\u001b[0;34m\u001b[0m\u001b[0m\n\u001b[0;32m--> 199\u001b[0;31m         \u001b[0mchunks\u001b[0m \u001b[0;34m=\u001b[0m \u001b[0mself\u001b[0m\u001b[0;34m.\u001b[0m\u001b[0miterencode\u001b[0m\u001b[0;34m(\u001b[0m\u001b[0mo\u001b[0m\u001b[0;34m,\u001b[0m \u001b[0m_one_shot\u001b[0m\u001b[0;34m=\u001b[0m\u001b[0;32mTrue\u001b[0m\u001b[0;34m)\u001b[0m\u001b[0;34m\u001b[0m\u001b[0;34m\u001b[0m\u001b[0m\n\u001b[0m\u001b[1;32m    200\u001b[0m         \u001b[0;32mif\u001b[0m \u001b[0;32mnot\u001b[0m \u001b[0misinstance\u001b[0m\u001b[0;34m(\u001b[0m\u001b[0mchunks\u001b[0m\u001b[0;34m,\u001b[0m \u001b[0;34m(\u001b[0m\u001b[0mlist\u001b[0m\u001b[0;34m,\u001b[0m \u001b[0mtuple\u001b[0m\u001b[0;34m)\u001b[0m\u001b[0;34m)\u001b[0m\u001b[0;34m:\u001b[0m\u001b[0;34m\u001b[0m\u001b[0;34m\u001b[0m\u001b[0m\n\u001b[1;32m    201\u001b[0m             \u001b[0mchunks\u001b[0m \u001b[0;34m=\u001b[0m \u001b[0mlist\u001b[0m\u001b[0;34m(\u001b[0m\u001b[0mchunks\u001b[0m\u001b[0;34m)\u001b[0m\u001b[0;34m\u001b[0m\u001b[0;34m\u001b[0m\u001b[0m\n",
      "\u001b[0;32m~/opt/anaconda3/lib/python3.9/json/encoder.py\u001b[0m in \u001b[0;36miterencode\u001b[0;34m(self, o, _one_shot)\u001b[0m\n\u001b[1;32m    255\u001b[0m                 \u001b[0mself\u001b[0m\u001b[0;34m.\u001b[0m\u001b[0mkey_separator\u001b[0m\u001b[0;34m,\u001b[0m \u001b[0mself\u001b[0m\u001b[0;34m.\u001b[0m\u001b[0mitem_separator\u001b[0m\u001b[0;34m,\u001b[0m \u001b[0mself\u001b[0m\u001b[0;34m.\u001b[0m\u001b[0msort_keys\u001b[0m\u001b[0;34m,\u001b[0m\u001b[0;34m\u001b[0m\u001b[0;34m\u001b[0m\u001b[0m\n\u001b[1;32m    256\u001b[0m                 self.skipkeys, _one_shot)\n\u001b[0;32m--> 257\u001b[0;31m         \u001b[0;32mreturn\u001b[0m \u001b[0m_iterencode\u001b[0m\u001b[0;34m(\u001b[0m\u001b[0mo\u001b[0m\u001b[0;34m,\u001b[0m \u001b[0;36m0\u001b[0m\u001b[0;34m)\u001b[0m\u001b[0;34m\u001b[0m\u001b[0;34m\u001b[0m\u001b[0m\n\u001b[0m\u001b[1;32m    258\u001b[0m \u001b[0;34m\u001b[0m\u001b[0m\n\u001b[1;32m    259\u001b[0m def _make_iterencode(markers, _default, _encoder, _indent, _floatstr,\n",
      "\u001b[0;32m~/opt/anaconda3/lib/python3.9/json/encoder.py\u001b[0m in \u001b[0;36mdefault\u001b[0;34m(self, o)\u001b[0m\n\u001b[1;32m    177\u001b[0m \u001b[0;34m\u001b[0m\u001b[0m\n\u001b[1;32m    178\u001b[0m         \"\"\"\n\u001b[0;32m--> 179\u001b[0;31m         raise TypeError(f'Object of type {o.__class__.__name__} '\n\u001b[0m\u001b[1;32m    180\u001b[0m                         f'is not JSON serializable')\n\u001b[1;32m    181\u001b[0m \u001b[0;34m\u001b[0m\u001b[0m\n",
      "\u001b[0;31mTypeError\u001b[0m: Object of type JSONObject is not JSON serializable"
     ]
    }
   ],
   "source": [
    "print(json.dumps(data))"
   ]
  },
  {
   "cell_type": "code",
   "execution_count": 9,
   "id": "5cf78941",
   "metadata": {},
   "outputs": [],
   "source": [
    "class Point:\n",
    "    def __init__(self, x, y):\n",
    "        self.x = x\n",
    "        self.y = y"
   ]
  },
  {
   "cell_type": "code",
   "execution_count": 8,
   "id": "2edc1da9",
   "metadata": {},
   "outputs": [],
   "source": [
    "def serialize_instance(obj):\n",
    "    d = {'__classname__' : type(obj).__name__}\n",
    "    d.update(vars(obj))\n",
    "    return d\n"
   ]
  },
  {
   "cell_type": "code",
   "execution_count": 10,
   "id": "0c75b087",
   "metadata": {},
   "outputs": [],
   "source": [
    "# Dictionary mapping names to known classes\n",
    "classes = {'Point': Point}\n",
    "\n",
    "def unserialize_object(d):\n",
    "    clsname = d.pop('__classname__', None)\n",
    "    if clsname:\n",
    "        cls = classes[clsname]\n",
    "        obj = cls.__new__(cls)     # Make instance without calling __init__\n",
    "        for key, value in d.items():\n",
    "            setattr(obj, key, value)\n",
    "            return obj\n",
    "    else:\n",
    "        return d"
   ]
  },
  {
   "cell_type": "code",
   "execution_count": 11,
   "id": "363e5854",
   "metadata": {},
   "outputs": [],
   "source": [
    "p = Point(2,3)\n",
    "s = json.dumps(p, default=serialize_instance)"
   ]
  },
  {
   "cell_type": "code",
   "execution_count": 12,
   "id": "7be4ef09",
   "metadata": {},
   "outputs": [
    {
     "data": {
      "text/plain": [
       "'{\"__classname__\": \"Point\", \"x\": 2, \"y\": 3}'"
      ]
     },
     "execution_count": 12,
     "metadata": {},
     "output_type": "execute_result"
    }
   ],
   "source": [
    "s "
   ]
  },
  {
   "cell_type": "code",
   "execution_count": 16,
   "id": "07ded6de",
   "metadata": {},
   "outputs": [
    {
     "data": {
      "text/plain": [
       "str"
      ]
     },
     "execution_count": 16,
     "metadata": {},
     "output_type": "execute_result"
    }
   ],
   "source": [
    "type(s)"
   ]
  },
  {
   "cell_type": "code",
   "execution_count": 17,
   "id": "0754f1b9",
   "metadata": {},
   "outputs": [],
   "source": [
    "a = json.loads(s, object_hook=unserialize_object)"
   ]
  },
  {
   "cell_type": "code",
   "execution_count": 18,
   "id": "14179d31",
   "metadata": {},
   "outputs": [
    {
     "data": {
      "text/plain": [
       "<__main__.Point at 0x7f9fa8eaccd0>"
      ]
     },
     "execution_count": 18,
     "metadata": {},
     "output_type": "execute_result"
    }
   ],
   "source": [
    "a"
   ]
  },
  {
   "cell_type": "code",
   "execution_count": 19,
   "id": "05cbec02",
   "metadata": {},
   "outputs": [
    {
     "data": {
      "text/plain": [
       "2"
      ]
     },
     "execution_count": 19,
     "metadata": {},
     "output_type": "execute_result"
    }
   ],
   "source": [
    "a.x"
   ]
  },
  {
   "cell_type": "markdown",
   "id": "dd61ec2c",
   "metadata": {},
   "source": [
    "## 解析简单的xml数据"
   ]
  },
  {
   "cell_type": "code",
   "execution_count": 22,
   "id": "43585b14",
   "metadata": {},
   "outputs": [
    {
     "name": "stdout",
     "output_type": "stream",
     "text": [
      "John Cook: Searching for proper nouns\n",
      "Mon, 17 Jul 2023 21:03:33 +0000\n",
      "https://www.johndcook.com/blog/2023/07/17/searching-for-proper-nouns/\n",
      "----------\n",
      "Test and Code: Open Source at Intel\n",
      "Mon, 17 Jul 2023 16:35:18 +0000\n",
      "https://share.transistor.fm/s/d56d8bef\n",
      "----------\n",
      "Python Morsels: Python's \"next\" function\n",
      "Mon, 17 Jul 2023 15:00:00 +0000\n",
      "https://www.pythonmorsels.com/next/\n",
      "----------\n",
      "Real Python: Python News: What's New From June 2023\n",
      "Mon, 17 Jul 2023 14:00:00 +0000\n",
      "https://realpython.com/python-news-june-2023/\n",
      "----------\n",
      "Mike Driscoll: PyDev of the Week:  Sophia Yang\n",
      "Mon, 17 Jul 2023 12:45:39 +0000\n",
      "https://www.blog.pythonlibrary.org/2023/07/17/pydev-of-the-week-sophia-yang/\n",
      "----------\n",
      "Matt Layman: Announcing luatest: A Lua test runner inspired by pytest\n",
      "Mon, 17 Jul 2023 00:00:00 +0000\n",
      "https://www.mattlayman.com/blog/2023/announcing-luatest/\n",
      "----------\n",
      "William Minchin: u202307152242\n",
      "Sun, 16 Jul 2023 04:42:00 +0000\n",
      "https://blog.minchin.ca/2023/07/u202307152242.html\n",
      "----------\n",
      "death and gravity: reader 3.7 released – contributor docs, 300 stars\n",
      "Sat, 15 Jul 2023 18:00:00 +0000\n",
      "https://death.andgravity.com/reader-3-7\n",
      "----------\n",
      "Kay Hayen: Nuitka Release 1.7\n",
      "Sat, 15 Jul 2023 07:21:00 +0000\n",
      "https://nuitka.net/posts/nuitka-release-17.html\n",
      "----------\n",
      "William Minchin: u202307141230\n",
      "Fri, 14 Jul 2023 18:30:00 +0000\n",
      "https://blog.minchin.ca/2023/07/u202307141230.html\n",
      "----------\n",
      "William Minchin: u202307141227\n",
      "Fri, 14 Jul 2023 18:27:00 +0000\n",
      "https://blog.minchin.ca/2023/07/u202307141227.html\n",
      "----------\n",
      "William Minchin: Microblogging 1.1.0 for Pelican Released\n",
      "Fri, 14 Jul 2023 17:52:00 +0000\n",
      "https://blog.minchin.ca/2023/07/microblogging-110.html\n",
      "----------\n",
      "PyCharm: Build Django Apps on Google Cloud With PyCharm and Cloud Code\n",
      "Fri, 14 Jul 2023 15:39:43 +0000\n",
      "https://blog.jetbrains.com/pycharm/2023/07/build-django-apps-on-google-cloud-with-pycharm-and-cloud-code/\n",
      "----------\n",
      "Mike Driscoll: What is the Python GIL?\n",
      "Fri, 14 Jul 2023 14:15:54 +0000\n",
      "https://www.blog.pythonlibrary.org/2023/07/14/what-is-the-python-gil/\n",
      "----------\n",
      "Real Python: The Real Python Podcast – Episode #164: Constructing Python Library APIs &amp; Tackling Jinja Templating\n",
      "Fri, 14 Jul 2023 12:00:00 +0000\n",
      "https://realpython.com/podcasts/rpp/164/\n",
      "----------\n",
      "PyBites: Using Python (and FastAPI) to support PFAS research\n",
      "Fri, 14 Jul 2023 11:38:14 +0000\n",
      "https://pybit.es/articles/using-python-and-fastapi-to-support-pfas-research/\n",
      "----------\n",
      "ListenData: Python for Data Science: Beginner's Guide\n",
      "Thu, 13 Jul 2023 21:38:47 +0000\n",
      "https://www.listendata.com/2020/10/learn-python-for-data-science.html\n",
      "----------\n",
      "Python Engineering at Microsoft: Package Management in the Python extension for Visual Studio Code\n",
      "Thu, 13 Jul 2023 21:02:21 +0000\n",
      "https://devblogs.microsoft.com/python/python-package-management-proposal/\n",
      "----------\n",
      "PyCharm: PyCharm 2023.2 EAP 5: Black Formatter Integration, Endpoints Tool Window for Django REST Framework\n",
      "Thu, 13 Jul 2023 16:53:42 +0000\n",
      "https://blog.jetbrains.com/pycharm/2023/07/2023-2-eap-5/\n",
      "----------\n",
      "Erik Marsja: Find the Highest Value in Dictionary in Python\n",
      "Thu, 13 Jul 2023 09:36:01 +0000\n",
      "https://www.marsja.se/find-highest-value-in-dictionary-python/\n",
      "----------\n",
      "William Minchin: AutoLoader Plugin 1.2.0 for Pelican Released\n",
      "Thu, 13 Jul 2023 01:14:00 +0000\n",
      "https://blog.minchin.ca/2023/07/autoloader-120.html\n",
      "----------\n",
      "EuroPython: Microsoft at EuroPython 2023\n",
      "Wed, 12 Jul 2023 18:12:13 +0000\n",
      "https://blog.europython.eu/microsoft-at-europython-2023/\n",
      "----------\n",
      "Real Python: Unlock IPython's Magical Toolbox for Your Coding Journey\n",
      "Wed, 12 Jul 2023 14:00:00 +0000\n",
      "https://realpython.com/ipython-interactive-python-shell/\n",
      "----------\n",
      "Python for Beginners: PySpark Select Distinct Rows From DataFrame\n",
      "Wed, 12 Jul 2023 13:00:00 +0000\n",
      "https://www.pythonforbeginners.com/pyspark/pyspark-select-distinct-rows-from-dataframe\n",
      "----------\n",
      "Stack Abuse: Data Integrity: How OrderedDict Preserves Key Order in Python\n",
      "Wed, 12 Jul 2023 12:05:00 +0000\n",
      "https://stackabuse.com/data-integrity-how-ordereddict-preserves-key-order-in-python/\n",
      "----------\n"
     ]
    }
   ],
   "source": [
    "from urllib.request import urlopen\n",
    "from xml.etree.ElementTree import parse\n",
    "\n",
    "\n",
    "# Downlaod the RSS feed and parse it \n",
    "u = urlopen('http://planet.python.org/rss20.xml')\n",
    "doc = parse(u)\n",
    "\n",
    "# Extract and output tags of interest \n",
    "for item in doc.iterfind('channel/item'):\n",
    "    title = item.findtext('title')\n",
    "    date = item.findtext('pubDate')\n",
    "    link = item.findtext('link')\n",
    "    \n",
    "    print(title)\n",
    "    print(date)\n",
    "    print(link)\n",
    "    print('-'*10)"
   ]
  },
  {
   "cell_type": "markdown",
   "id": "f54cdd6a",
   "metadata": {},
   "source": [
    "## 增量式解析大型xml文件"
   ]
  },
  {
   "cell_type": "code",
   "execution_count": 23,
   "id": "a28bbdb6",
   "metadata": {},
   "outputs": [
    {
     "data": {
      "text/plain": [
       "'a'"
      ]
     },
     "execution_count": 23,
     "metadata": {},
     "output_type": "execute_result"
    }
   ],
   "source": [
    "li = ['a', 'b', 'c']\n",
    "ss = iter(li)\n",
    "next(ss)"
   ]
  },
  {
   "cell_type": "code",
   "execution_count": 24,
   "id": "81d18cee",
   "metadata": {},
   "outputs": [
    {
     "data": {
      "text/plain": [
       "'b'"
      ]
     },
     "execution_count": 24,
     "metadata": {},
     "output_type": "execute_result"
    }
   ],
   "source": [
    "next(ss)"
   ]
  },
  {
   "cell_type": "code",
   "execution_count": 25,
   "id": "8718cc2f",
   "metadata": {},
   "outputs": [
    {
     "data": {
      "text/plain": [
       "'c'"
      ]
     },
     "execution_count": 25,
     "metadata": {},
     "output_type": "execute_result"
    }
   ],
   "source": [
    "next(ss)"
   ]
  },
  {
   "cell_type": "code",
   "execution_count": 26,
   "id": "fd6fe0da",
   "metadata": {},
   "outputs": [],
   "source": [
    "li.append('z')"
   ]
  },
  {
   "cell_type": "code",
   "execution_count": 27,
   "id": "41fb5fb3",
   "metadata": {},
   "outputs": [
    {
     "data": {
      "text/plain": [
       "'z'"
      ]
     },
     "execution_count": 27,
     "metadata": {},
     "output_type": "execute_result"
    }
   ],
   "source": [
    "next(ss)"
   ]
  },
  {
   "cell_type": "code",
   "execution_count": 30,
   "id": "c2d3aa0d",
   "metadata": {},
   "outputs": [],
   "source": [
    "from xml.etree.ElementTree import iterparse"
   ]
  },
  {
   "cell_type": "code",
   "execution_count": 32,
   "id": "114b156c",
   "metadata": {},
   "outputs": [],
   "source": [
    "def parse_and_remove(filename, path):\n",
    "    path_parts = path.split('/')\n",
    "    doc = iterparse(filename, ('start', 'end'))\n",
    "    # Skip the root element\n",
    "    next(doc)\n",
    "    \n",
    "    tag_stack = []\n",
    "    elem_stack = []\n",
    "    for event, elem in doc:\n",
    "        if event == 'start':\n",
    "            tag_stack.append(elem.tag)\n",
    "            elem_stack.append(elem)\n",
    "        elif event == 'end':\n",
    "            if tag_stack == path_parts:\n",
    "                yield elem\n",
    "                elem_stack[-2].remove(elem)\n",
    "            try: \n",
    "                tag_stack.pop()\n",
    "                elem_stack.pop()\n",
    "            except IndexError:\n",
    "                pass"
   ]
  },
  {
   "cell_type": "markdown",
   "id": "8a970dd4",
   "metadata": {},
   "source": [
    "## 将字典转换为xml"
   ]
  },
  {
   "cell_type": "code",
   "execution_count": 33,
   "id": "38497564",
   "metadata": {},
   "outputs": [],
   "source": [
    "from xml.etree.ElementTree import Element\n",
    "\n",
    "def dict_to_xml(tag, d):\n",
    "    '''\n",
    "    Turn a simple dict of key/value pairs into XML\n",
    "    '''\n",
    "    elem = Element(tag)\n",
    "    for key, val in d.items():\n",
    "        child = Element(key)\n",
    "        child.text = str(val)\n",
    "        elem.append(child)\n",
    "    return elem\n",
    "\n",
    "s = { 'name': 'GOOG', 'shares': 100, 'price':490.1 }\n",
    "e = dict_to_xml('stock', s)"
   ]
  },
  {
   "cell_type": "code",
   "execution_count": 34,
   "id": "75329cf1",
   "metadata": {},
   "outputs": [
    {
     "data": {
      "text/plain": [
       "<Element 'stock' at 0x7f9f9a28e9f0>"
      ]
     },
     "execution_count": 34,
     "metadata": {},
     "output_type": "execute_result"
    }
   ],
   "source": [
    "e"
   ]
  },
  {
   "cell_type": "code",
   "execution_count": 35,
   "id": "1b6655b6",
   "metadata": {},
   "outputs": [
    {
     "data": {
      "text/plain": [
       "b'<stock><name>GOOG</name><shares>100</shares><price>490.1</price></stock>'"
      ]
     },
     "execution_count": 35,
     "metadata": {},
     "output_type": "execute_result"
    }
   ],
   "source": [
    "from xml.etree.ElementTree import tostring\n",
    "\n",
    "tostring(e)"
   ]
  },
  {
   "cell_type": "code",
   "execution_count": 36,
   "id": "3d313290",
   "metadata": {},
   "outputs": [],
   "source": [
    "# 给元素添加属性值\n",
    "e.set('_id', '9526')"
   ]
  },
  {
   "cell_type": "code",
   "execution_count": 37,
   "id": "868d6cb0",
   "metadata": {},
   "outputs": [
    {
     "data": {
      "text/plain": [
       "b'<stock _id=\"9526\"><name>GOOG</name><shares>100</shares><price>490.1</price></stock>'"
      ]
     },
     "execution_count": 37,
     "metadata": {},
     "output_type": "execute_result"
    }
   ],
   "source": [
    "tostring(e)"
   ]
  },
  {
   "cell_type": "code",
   "execution_count": 42,
   "id": "027f7bb4",
   "metadata": {},
   "outputs": [],
   "source": [
    "# xml 只限构造str类型的值\n",
    "def dict_to_xml_str(tag, d):\n",
    "    '''\n",
    "    Turn a simple dict of key/value pairs into XML\n",
    "    '''\n",
    "    parts = ['<{}>'.format(tag)]\n",
    "    for key, val in d.items():\n",
    "        parts.append('<{0}>{1}</{0}>'.format(key, val))\n",
    "    parts.append('</{}>'.format(tag))\n",
    "    return ''.join(parts)"
   ]
  },
  {
   "cell_type": "code",
   "execution_count": 43,
   "id": "abc76672",
   "metadata": {},
   "outputs": [
    {
     "data": {
      "text/plain": [
       "'<item><name><spam></name></item>'"
      ]
     },
     "execution_count": 43,
     "metadata": {},
     "output_type": "execute_result"
    }
   ],
   "source": [
    "d = {'name': '<spam>'}\n",
    "dict_to_xml_str('item', d)"
   ]
  },
  {
   "cell_type": "code",
   "execution_count": 44,
   "id": "afc26c97",
   "metadata": {},
   "outputs": [],
   "source": [
    "# It's problomatic in case above\n",
    "# Proper XML creation\n",
    "e = dict_to_xml('item', d)"
   ]
  },
  {
   "cell_type": "code",
   "execution_count": 45,
   "id": "111df581",
   "metadata": {},
   "outputs": [
    {
     "data": {
      "text/plain": [
       "b'<item><name>&lt;spam&gt;</name></item>'"
      ]
     },
     "execution_count": 45,
     "metadata": {},
     "output_type": "execute_result"
    }
   ],
   "source": [
    "tostring(e)"
   ]
  },
  {
   "cell_type": "code",
   "execution_count": 46,
   "id": "68915b24",
   "metadata": {},
   "outputs": [
    {
     "data": {
      "text/plain": [
       "'&lt;spam&gt;'"
      ]
     },
     "execution_count": 46,
     "metadata": {},
     "output_type": "execute_result"
    }
   ],
   "source": [
    "from xml.sax.saxutils import escape, unescape\n",
    "escape('<spam>')"
   ]
  },
  {
   "cell_type": "code",
   "execution_count": 47,
   "id": "309d336a",
   "metadata": {},
   "outputs": [
    {
     "data": {
      "text/plain": [
       "'<spam>'"
      ]
     },
     "execution_count": 47,
     "metadata": {},
     "output_type": "execute_result"
    }
   ],
   "source": [
    "unescape(_)"
   ]
  },
  {
   "cell_type": "code",
   "execution_count": 48,
   "id": "5a7ed692",
   "metadata": {},
   "outputs": [
    {
     "data": {
      "text/plain": [
       "'<spam>'"
      ]
     },
     "execution_count": 48,
     "metadata": {},
     "output_type": "execute_result"
    }
   ],
   "source": [
    "unescape('&lt;spam&gt;')"
   ]
  },
  {
   "cell_type": "markdown",
   "id": "1723941a",
   "metadata": {},
   "source": [
    "## 解析和修改XML"
   ]
  },
  {
   "cell_type": "code",
   "execution_count": 50,
   "id": "2f0d5008",
   "metadata": {},
   "outputs": [],
   "source": [
    "# 读取一个XML文档，对其修改并将结果写回\n",
    "from xml.etree.ElementTree import parse, Element\n",
    "\n",
    "doc = parse('/Users/joriri/Code/jupyter/cartoon.xml')\n",
    "root = doc.getroot()"
   ]
  },
  {
   "cell_type": "code",
   "execution_count": 51,
   "id": "6a946030",
   "metadata": {},
   "outputs": [
    {
     "data": {
      "text/plain": [
       "<Element 'families' at 0x7f9f9a355130>"
      ]
     },
     "execution_count": 51,
     "metadata": {},
     "output_type": "execute_result"
    }
   ],
   "source": [
    "root"
   ]
  },
  {
   "cell_type": "code",
   "execution_count": 59,
   "id": "e6e28fb2",
   "metadata": {},
   "outputs": [
    {
     "data": {
      "text/plain": [
       "[<Element 'family2' at 0x7f9f99f26090>]"
      ]
     },
     "execution_count": 59,
     "metadata": {},
     "output_type": "execute_result"
    }
   ],
   "source": [
    "# romove a few elements\n",
    "# root.remove(root.find('family1'))\n",
    "# root.remove(root.find('Peter'))\n",
    "\n",
    "# Insert a new element after <members> ... </members>\n",
    "list(root)"
   ]
  },
  {
   "cell_type": "code",
   "execution_count": 61,
   "id": "ba546aab",
   "metadata": {},
   "outputs": [
    {
     "data": {
      "text/plain": [
       "0"
      ]
     },
     "execution_count": 61,
     "metadata": {},
     "output_type": "execute_result"
    }
   ],
   "source": [
    "list(root).index(root.find('family2'))"
   ]
  },
  {
   "cell_type": "code",
   "execution_count": 62,
   "id": "24a8f90b",
   "metadata": {},
   "outputs": [],
   "source": [
    "e = Element('spam')\n",
    "e.text = 'This is a test'\n",
    "root.insert(1,e)"
   ]
  },
  {
   "cell_type": "code",
   "execution_count": 63,
   "id": "da5b7c55",
   "metadata": {},
   "outputs": [],
   "source": [
    "doc.write('new_cartoon.xml', xml_declaration=True)"
   ]
  },
  {
   "cell_type": "markdown",
   "id": "13cd9c6a",
   "metadata": {},
   "source": [
    "## 利用命名空间解析XML文档"
   ]
  },
  {
   "cell_type": "markdown",
   "id": "9c22c7e8",
   "metadata": {},
   "source": [
    "xmlns（XML Namespaces的缩写）是一个属性，是XML（标准通用标记语言的子集）命名空间。作用是赋予命名空间一个唯一的名称。"
   ]
  },
  {
   "cell_type": "markdown",
   "id": "02a86270",
   "metadata": {},
   "source": [
    "#ns2.xml\n",
    "<?xml version=\"1.0\" encoding=\"utf-8\"?>\n",
    "<top>\n",
    "    <author>David Beazley</author>\n",
    "    <content>\n",
    "        <html xmlns=\"http://www.w3.org/1999/xhtml\">\n",
    "            <head>\n",
    "                <title>Hello World</title>\n",
    "            </head>\n",
    "            <body>\n",
    "                <h1>Hello World!</h1>\n",
    "            </body>\n",
    "        </html>\n",
    "    </content>\n",
    "</top>\n"
   ]
  },
  {
   "cell_type": "code",
   "execution_count": 81,
   "id": "cf7c9d93",
   "metadata": {},
   "outputs": [],
   "source": [
    "class XMLNamespace:\n",
    "    def __init__(self, **kwargs):\n",
    "        self.namespaces = {}\n",
    "        for name ,uri in kwargs.items():\n",
    "            self.register(name, uri)\n",
    "    \n",
    "    def register(self, name, uri):\n",
    "        self.namespaces[name] = '{'+uri+'}'\n",
    "        \n",
    "    def __call__(self, path):\n",
    "        return path.format_map(self.namespaces)"
   ]
  },
  {
   "cell_type": "code",
   "execution_count": 82,
   "id": "ade260ce",
   "metadata": {},
   "outputs": [],
   "source": [
    "doc = parse('ns2.xml')"
   ]
  },
  {
   "cell_type": "code",
   "execution_count": 83,
   "id": "66aa9688",
   "metadata": {},
   "outputs": [],
   "source": [
    "root = doc.getroot()"
   ]
  },
  {
   "cell_type": "code",
   "execution_count": 84,
   "id": "a1ff7ce1",
   "metadata": {},
   "outputs": [
    {
     "data": {
      "text/plain": [
       "'David Beazley'"
      ]
     },
     "execution_count": 84,
     "metadata": {},
     "output_type": "execute_result"
    }
   ],
   "source": [
    "doc.findtext('author')"
   ]
  },
  {
   "cell_type": "code",
   "execution_count": 85,
   "id": "4df09201",
   "metadata": {},
   "outputs": [
    {
     "data": {
      "text/plain": [
       "<Element 'content' at 0x7f9f880f21d0>"
      ]
     },
     "execution_count": 85,
     "metadata": {},
     "output_type": "execute_result"
    }
   ],
   "source": [
    "doc.find('content')"
   ]
  },
  {
   "cell_type": "code",
   "execution_count": 86,
   "id": "f689dcfe",
   "metadata": {},
   "outputs": [],
   "source": [
    "# ???????"
   ]
  },
  {
   "cell_type": "code",
   "execution_count": 87,
   "id": "ff1f5621",
   "metadata": {},
   "outputs": [],
   "source": [
    "# A query involving a namespace (doesn't work)\n",
    "doc.find('content/html')"
   ]
  },
  {
   "cell_type": "code",
   "execution_count": 88,
   "id": "9a658857",
   "metadata": {},
   "outputs": [
    {
     "data": {
      "text/plain": [
       "<Element '{http://www.w3.org/1999/xhtml}html' at 0x7f9fb87aec70>"
      ]
     },
     "execution_count": 88,
     "metadata": {},
     "output_type": "execute_result"
    }
   ],
   "source": [
    "# Workds if fully qualified\n",
    "doc.find('content/{http://www.w3.org/1999/xhtml}html')"
   ]
  },
  {
   "cell_type": "code",
   "execution_count": 89,
   "id": "ef0705fc",
   "metadata": {},
   "outputs": [],
   "source": [
    "# Doesn't work\n",
    "doc.findtext('content/{http://www.w3.org/1999/xhtml}html/head/title')"
   ]
  },
  {
   "cell_type": "code",
   "execution_count": 90,
   "id": "fb480dd3",
   "metadata": {},
   "outputs": [
    {
     "data": {
      "text/plain": [
       "'Hello World'"
      ]
     },
     "execution_count": 90,
     "metadata": {},
     "output_type": "execute_result"
    }
   ],
   "source": [
    "# Fully qualified\n",
    "doc.findtext('content/{http://www.w3.org/1999/xhtml}html/{http://www.w3.org/1999/xhtml}head/{http://www.w3.org/1999/xhtml}title')"
   ]
  },
  {
   "cell_type": "code",
   "execution_count": 91,
   "id": "bde4a607",
   "metadata": {},
   "outputs": [],
   "source": [
    "ns = XMLNamespace(html= 'http://www.w3.org/1999/xhtml')"
   ]
  },
  {
   "cell_type": "code",
   "execution_count": 92,
   "id": "788f6486",
   "metadata": {},
   "outputs": [
    {
     "data": {
      "text/plain": [
       "<Element '{http://www.w3.org/1999/xhtml}html' at 0x7f9fb87aec70>"
      ]
     },
     "execution_count": 92,
     "metadata": {},
     "output_type": "execute_result"
    }
   ],
   "source": [
    "doc.find(ns('content/{html}html'))  "
   ]
  },
  {
   "cell_type": "markdown",
   "id": "0647dedd",
   "metadata": {},
   "source": [
    "### 仅仅使用缩略名代替完整的URL使其简洁一些"
   ]
  },
  {
   "cell_type": "code",
   "execution_count": 94,
   "id": "aaf593de",
   "metadata": {},
   "outputs": [
    {
     "name": "stdout",
     "output_type": "stream",
     "text": [
      "end <Element 'author' at 0x7f9f99f06bd0>\n",
      "start-ns ('', 'http://www.w3.org/1999/xhtml')\n",
      "end <Element '{http://www.w3.org/1999/xhtml}title' at 0x7f9f99fcac70>\n",
      "end <Element '{http://www.w3.org/1999/xhtml}head' at 0x7f9f99fca5e0>\n",
      "end <Element '{http://www.w3.org/1999/xhtml}h1' at 0x7f9f9a240310>\n",
      "end <Element '{http://www.w3.org/1999/xhtml}body' at 0x7f9f99fca8b0>\n",
      "end <Element '{http://www.w3.org/1999/xhtml}html' at 0x7f9f683f4310>\n",
      "end-ns None\n",
      "end <Element 'content' at 0x7f9f99f060e0>\n",
      "end <Element 'top' at 0x7f9f99f06400>\n"
     ]
    }
   ],
   "source": [
    "from xml.etree.ElementTree import iterparse\n",
    "for evt, elem in iterparse('ns2.xml', ('end', 'start-ns', 'end-ns')):\n",
    "    print(evt, elem)"
   ]
  },
  {
   "cell_type": "code",
   "execution_count": 96,
   "id": "f6ecce02",
   "metadata": {},
   "outputs": [
    {
     "data": {
      "text/plain": [
       "<Element 'top' at 0x7f9f99f06400>"
      ]
     },
     "execution_count": 96,
     "metadata": {},
     "output_type": "execute_result"
    }
   ],
   "source": [
    "# this is the topmost elem\n",
    "elem"
   ]
  },
  {
   "cell_type": "markdown",
   "id": "61ed68b6",
   "metadata": {},
   "source": [
    "## 与关系型数据库的交互"
   ]
  },
  {
   "cell_type": "markdown",
   "id": "2db46508",
   "metadata": {},
   "source": [
    "### 进行增删查"
   ]
  },
  {
   "cell_type": "code",
   "execution_count": 102,
   "id": "2c0129c6",
   "metadata": {},
   "outputs": [],
   "source": [
    "stocks = [\n",
    "('GOOG', 100, 490.1),\n",
    "('AAPL', 50, 545.75),\n",
    "('FB', 150, 7.45),\n",
    "('HPQ', 75, 33.2)\n",
    "]\n",
    "    "
   ]
  },
  {
   "cell_type": "code",
   "execution_count": 103,
   "id": "98aafcf6",
   "metadata": {},
   "outputs": [],
   "source": [
    "# python中表示多行数据的标准方式是一个由元组构成的序列。\n",
    "import sqlite3\n",
    "db = sqlite3.connect('database.db')"
   ]
  },
  {
   "cell_type": "code",
   "execution_count": 104,
   "id": "772b7c0c",
   "metadata": {},
   "outputs": [],
   "source": [
    "c = db.cursor()"
   ]
  },
  {
   "cell_type": "code",
   "execution_count": 114,
   "id": "ca3e469a",
   "metadata": {},
   "outputs": [
    {
     "data": {
      "text/plain": [
       "<sqlite3.Cursor at 0x7f9f9a2c7180>"
      ]
     },
     "execution_count": 114,
     "metadata": {},
     "output_type": "execute_result"
    }
   ],
   "source": [
    "c.execute('create table portfolio (symbol text, shares integer, price real)')"
   ]
  },
  {
   "cell_type": "code",
   "execution_count": 115,
   "id": "f8b82511",
   "metadata": {},
   "outputs": [],
   "source": [
    "db.commit()"
   ]
  },
  {
   "cell_type": "code",
   "execution_count": 116,
   "id": "4193593d",
   "metadata": {},
   "outputs": [
    {
     "data": {
      "text/plain": [
       "<sqlite3.Cursor at 0x7f9f9a2c7180>"
      ]
     },
     "execution_count": 116,
     "metadata": {},
     "output_type": "execute_result"
    }
   ],
   "source": [
    "c.executemany('insert into portfolio values (?, ?, ?)', stocks)"
   ]
  },
  {
   "cell_type": "code",
   "execution_count": 117,
   "id": "382fc786",
   "metadata": {},
   "outputs": [],
   "source": [
    "db.commit()"
   ]
  },
  {
   "cell_type": "code",
   "execution_count": 118,
   "id": "20b8a2f6",
   "metadata": {},
   "outputs": [
    {
     "name": "stdout",
     "output_type": "stream",
     "text": [
      "('GOOG', 100, 490.1)\n",
      "('AAPL', 50, 545.75)\n",
      "('FB', 150, 7.45)\n",
      "('HPQ', 75, 33.2)\n"
     ]
    }
   ],
   "source": [
    "for row in db.execute('select * from portfolio'):\n",
    "    print(row)"
   ]
  },
  {
   "cell_type": "code",
   "execution_count": 119,
   "id": "69b272f6",
   "metadata": {},
   "outputs": [
    {
     "data": {
      "text/plain": [
       "<sqlite3.Cursor at 0x7f9f9a2c7180>"
      ]
     },
     "execution_count": 119,
     "metadata": {},
     "output_type": "execute_result"
    }
   ],
   "source": [
    "c.execute('PRAGMA table_info(portfolio)')"
   ]
  },
  {
   "cell_type": "code",
   "execution_count": 120,
   "id": "ee3ca2ba",
   "metadata": {},
   "outputs": [
    {
     "data": {
      "text/plain": [
       "[(0, 'symbol', 'TEXT', 0, None, 0),\n",
       " (1, 'shares', 'INTEGER', 0, None, 0),\n",
       " (2, 'price', 'REAL', 0, None, 0)]"
      ]
     },
     "execution_count": 120,
     "metadata": {},
     "output_type": "execute_result"
    }
   ],
   "source": [
    "c.fetchall()"
   ]
  },
  {
   "cell_type": "code",
   "execution_count": 121,
   "id": "f163aa42",
   "metadata": {},
   "outputs": [
    {
     "name": "stdout",
     "output_type": "stream",
     "text": [
      "('GOOG', 100, 490.1)\n",
      "('AAPL', 50, 545.75)\n"
     ]
    }
   ],
   "source": [
    "min_price = 100\n",
    "# 使用“ ？ ” 作为占位符\n",
    "for row in db.execute('select * from portfolio where price >= ?', (min_price,)):\n",
    "    print(row)"
   ]
  },
  {
   "cell_type": "markdown",
   "id": "723be5af",
   "metadata": {},
   "source": [
    "## 编码和解码十六进制数"
   ]
  },
  {
   "cell_type": "markdown",
   "id": "ac231c3f",
   "metadata": {},
   "source": [
    "### b -> a : encode\n",
    "### a -> b: decode"
   ]
  },
  {
   "cell_type": "code",
   "execution_count": 122,
   "id": "8897b160",
   "metadata": {},
   "outputs": [
    {
     "data": {
      "text/plain": [
       "b'68656c6c6f'"
      ]
     },
     "execution_count": 122,
     "metadata": {},
     "output_type": "execute_result"
    }
   ],
   "source": [
    "# Initial byte string\n",
    "s = b'hello'\n",
    "# Encode as hex\n",
    "import binascii\n",
    "h = binascii.b2a_hex(s)\n",
    "h"
   ]
  },
  {
   "cell_type": "code",
   "execution_count": 123,
   "id": "40c6f4d0",
   "metadata": {},
   "outputs": [
    {
     "data": {
      "text/plain": [
       "b'hello'"
      ]
     },
     "execution_count": 123,
     "metadata": {},
     "output_type": "execute_result"
    }
   ],
   "source": [
    "# Decode back to bytes\n",
    "binascii.a2b_hex(h)"
   ]
  },
  {
   "cell_type": "code",
   "execution_count": 124,
   "id": "b693d8b2",
   "metadata": {},
   "outputs": [],
   "source": [
    "import base64\n",
    "\n",
    "h = base64.b16encode(s)\n"
   ]
  },
  {
   "cell_type": "code",
   "execution_count": 125,
   "id": "52dcd8a0",
   "metadata": {},
   "outputs": [
    {
     "data": {
      "text/plain": [
       "b'68656C6C6F'"
      ]
     },
     "execution_count": 125,
     "metadata": {},
     "output_type": "execute_result"
    }
   ],
   "source": [
    "h"
   ]
  },
  {
   "cell_type": "code",
   "execution_count": 126,
   "id": "1333100c",
   "metadata": {},
   "outputs": [
    {
     "data": {
      "text/plain": [
       "b'hello'"
      ]
     },
     "execution_count": 126,
     "metadata": {},
     "output_type": "execute_result"
    }
   ],
   "source": [
    "base64.b16decode(h)"
   ]
  },
  {
   "cell_type": "code",
   "execution_count": 127,
   "id": "d8f01ff9",
   "metadata": {},
   "outputs": [
    {
     "data": {
      "text/plain": [
       "b'68656C6C6F'"
      ]
     },
     "execution_count": 127,
     "metadata": {},
     "output_type": "execute_result"
    }
   ],
   "source": [
    "h"
   ]
  },
  {
   "cell_type": "code",
   "execution_count": 128,
   "id": "a46cf43e",
   "metadata": {},
   "outputs": [
    {
     "name": "stdout",
     "output_type": "stream",
     "text": [
      "68656C6C6F\n"
     ]
    }
   ],
   "source": [
    "print(h.decode('ascii'))"
   ]
  },
  {
   "cell_type": "markdown",
   "id": "af0ef141",
   "metadata": {},
   "source": [
    "## 解码编码Base64数据"
   ]
  },
  {
   "cell_type": "code",
   "execution_count": 129,
   "id": "9a706f95",
   "metadata": {},
   "outputs": [],
   "source": [
    "# some byte data\n",
    "s = b'hello'\n",
    "import base64\n",
    "\n",
    "# Encode as Base64\n",
    "a = base64.b64encode(s)"
   ]
  },
  {
   "cell_type": "code",
   "execution_count": 130,
   "id": "d1db2e90",
   "metadata": {},
   "outputs": [
    {
     "data": {
      "text/plain": [
       "b'aGVsbG8='"
      ]
     },
     "execution_count": 130,
     "metadata": {},
     "output_type": "execute_result"
    }
   ],
   "source": [
    "a"
   ]
  },
  {
   "cell_type": "code",
   "execution_count": 131,
   "id": "ed1c14f2",
   "metadata": {},
   "outputs": [
    {
     "data": {
      "text/plain": [
       "b'hello'"
      ]
     },
     "execution_count": 131,
     "metadata": {},
     "output_type": "execute_result"
    }
   ],
   "source": [
    "# Decode from Base64\n",
    "base64.b64decode(a)"
   ]
  },
  {
   "cell_type": "code",
   "execution_count": 132,
   "id": "3fbef4ce",
   "metadata": {},
   "outputs": [],
   "source": [
    "a = base64.b64encode(s).decode('ascii')"
   ]
  },
  {
   "cell_type": "code",
   "execution_count": 133,
   "id": "5c2d18e2",
   "metadata": {},
   "outputs": [
    {
     "data": {
      "text/plain": [
       "'aGVsbG8='"
      ]
     },
     "execution_count": 133,
     "metadata": {},
     "output_type": "execute_result"
    }
   ],
   "source": [
    "a"
   ]
  },
  {
   "cell_type": "markdown",
   "id": "82e0c95e",
   "metadata": {},
   "source": [
    "## 读写二进制数组数据"
   ]
  },
  {
   "cell_type": "code",
   "execution_count": 135,
   "id": "bb913cf0",
   "metadata": {},
   "outputs": [],
   "source": [
    "from struct import Struct\n",
    "\n",
    "def write_records(records, format, f):\n",
    "    '''\n",
    "    Write a sequence of typles to a binary file of structures\n",
    "    '''\n",
    "    record_struct = Struct(format)\n",
    "    for r in records:\n",
    "        f.write(record_struct.pack(*r))\n",
    "        \n",
    "# Example\n",
    "if __name__ == '__main__':\n",
    "    records = [\n",
    "        (1, 2.3, 4.5),\n",
    "        (6, 7.8, 9.0),\n",
    "        (12, 13.4, 56.7)\n",
    "    ]\n",
    "    \n",
    "    with open('data.b', 'wb') as f:\n",
    "        write_records(records, '<idd', f)"
   ]
  },
  {
   "cell_type": "code",
   "execution_count": 13,
   "id": "b4014ad6",
   "metadata": {},
   "outputs": [
    {
     "name": "stdout",
     "output_type": "stream",
     "text": [
      "(1, 2.3, 4.5)\n",
      "(6, 7.8, 9.0)\n",
      "(12, 13.4, 56.7)\n"
     ]
    }
   ],
   "source": [
    "# 增量读取\n",
    "def read_records(format, f):\n",
    "    records_struct = Struct(format)\n",
    "    chunks = iter(lambda: f.read(records_struct.size), b'')\n",
    "    return (records_struct.unpack(chunk) for chunk in chunks)\n",
    "\n",
    "# Example \n",
    "if __name__ == '__main__':\n",
    "    with open('data.b', 'rb') as f:\n",
    "        for rec in read_records('<idd', f):\n",
    "            print(rec)"
   ]
  },
  {
   "cell_type": "code",
   "execution_count": 143,
   "id": "b5b4ba49",
   "metadata": {},
   "outputs": [
    {
     "name": "stdout",
     "output_type": "stream",
     "text": [
      "(1, 2.3, 4.5)\n",
      "(6, 7.8, 9.0)\n",
      "(12, 13.4, 56.7)\n"
     ]
    }
   ],
   "source": [
    "# 一次性读取整个， 分片解析\n",
    "def unpack_records(format, data):\n",
    "    record_struct = Struct(format)\n",
    "    return (record_struct.unpack_from(data, offset) for offset in range(0, len(data),\n",
    "                                                                       record_struct.size))\n",
    "\n",
    "# Example \n",
    "if __name__ == '__main__':\n",
    "    with open('data.b', 'rb') as f:\n",
    "        data = f.read()\n",
    "        for rec in unpack_records('<idd', data):\n",
    "            print(rec)"
   ]
  },
  {
   "cell_type": "code",
   "execution_count": 3,
   "id": "f0c880fe",
   "metadata": {},
   "outputs": [
    {
     "data": {
      "text/plain": [
       "b'\\x01\\x00\\x00\\x00\\x00\\x00\\x00\\x00\\x00\\x00\\x00@\\x00\\x00\\x00\\x00\\x00\\x00\\x08@'"
      ]
     },
     "execution_count": 3,
     "metadata": {},
     "output_type": "execute_result"
    }
   ],
   "source": [
    "import struct\n",
    "struct.pack('<idd', 1, 2.0, 3.0)"
   ]
  },
  {
   "cell_type": "code",
   "execution_count": 4,
   "id": "93fa8c96",
   "metadata": {},
   "outputs": [
    {
     "data": {
      "text/plain": [
       "(1, 2.0, 3.0)"
      ]
     },
     "execution_count": 4,
     "metadata": {},
     "output_type": "execute_result"
    }
   ],
   "source": [
    "struct.unpack('<idd', _)"
   ]
  },
  {
   "cell_type": "code",
   "execution_count": 5,
   "id": "32af45c1",
   "metadata": {},
   "outputs": [
    {
     "data": {
      "text/plain": [
       "<callable_iterator at 0x7fae7170bd60>"
      ]
     },
     "execution_count": 5,
     "metadata": {},
     "output_type": "execute_result"
    }
   ],
   "source": [
    "f= open('data.b', 'rb')\n",
    "chunks = iter(lambda: f.read(20), b'')\n",
    "chunks"
   ]
  },
  {
   "cell_type": "code",
   "execution_count": 6,
   "id": "cab51da2",
   "metadata": {},
   "outputs": [
    {
     "name": "stdout",
     "output_type": "stream",
     "text": [
      "b'\\x01\\x00\\x00\\x00ffffff\\x02@\\x00\\x00\\x00\\x00\\x00\\x00\\x12@'\n",
      "b'\\x06\\x00\\x00\\x00333333\\x1f@\\x00\\x00\\x00\\x00\\x00\\x00\"@'\n",
      "b'\\x0c\\x00\\x00\\x00\\xcd\\xcc\\xcc\\xcc\\xcc\\xcc*@\\x9a\\x99\\x99\\x99\\x99YL@'\n"
     ]
    }
   ],
   "source": [
    "for chk in chunks:\n",
    "    print(chk)"
   ]
  },
  {
   "cell_type": "code",
   "execution_count": 18,
   "id": "09b17e2d",
   "metadata": {},
   "outputs": [],
   "source": [
    "f.close()"
   ]
  },
  {
   "cell_type": "code",
   "execution_count": 19,
   "id": "1acd8534",
   "metadata": {},
   "outputs": [
    {
     "data": {
      "text/plain": [
       "True"
      ]
     },
     "execution_count": 19,
     "metadata": {},
     "output_type": "execute_result"
    }
   ],
   "source": [
    "f.closed"
   ]
  },
  {
   "cell_type": "code",
   "execution_count": 14,
   "id": "cb36273e",
   "metadata": {},
   "outputs": [],
   "source": [
    "from collections import namedtuple\n",
    "\n",
    "Record = namedtuple('Record', ['kind','x','y'])\n",
    "\n",
    "with open('data.b', 'rb') as f:\n",
    "    records = (Record(*r) for r in read_records('<idd', f))\n",
    "    "
   ]
  },
  {
   "cell_type": "code",
   "execution_count": 20,
   "id": "7fff1a24",
   "metadata": {},
   "outputs": [],
   "source": [
    "# 用numpy读\n",
    "import numpy as np\n",
    "\n",
    "f = open('data.b', 'rb')\n",
    "records = np.fromfile(f, dtype='<i, <d, <d')\n"
   ]
  },
  {
   "cell_type": "code",
   "execution_count": 21,
   "id": "515d0ec1",
   "metadata": {},
   "outputs": [
    {
     "data": {
      "text/plain": [
       "array([( 1,  2.3,  4.5), ( 6,  7.8,  9. ), (12, 13.4, 56.7)],\n",
       "      dtype=[('f0', '<i4'), ('f1', '<f8'), ('f2', '<f8')])"
      ]
     },
     "execution_count": 21,
     "metadata": {},
     "output_type": "execute_result"
    }
   ],
   "source": [
    "records"
   ]
  },
  {
   "cell_type": "markdown",
   "id": "e6517f48",
   "metadata": {},
   "source": [
    "## 读取嵌套和可变长二进制数据"
   ]
  },
  {
   "cell_type": "code",
   "execution_count": 22,
   "id": "98930fdf",
   "metadata": {},
   "outputs": [],
   "source": [
    "polys = [\n",
    "[ (1.0, 2.5), (3.5, 4.0), (2.5, 1.5) ],\n",
    "[ (7.0, 1.2), (5.1, 3.0), (0.5, 7.5), (0.8, 9.0) ],\n",
    "[ (3.4, 6.3), (1.2, 0.5), (4.6, 9.2) ],\n",
    "]"
   ]
  },
  {
   "cell_type": "code",
   "execution_count": 23,
   "id": "0bc9b966",
   "metadata": {},
   "outputs": [],
   "source": [
    "# 将这个数据编码到如下的一个头部开始的二进制文件"
   ]
  },
  {
   "cell_type": "code",
   "execution_count": 24,
   "id": "aa47d688",
   "metadata": {},
   "outputs": [],
   "source": [
    "import matplotlib.pyplot as plt\n",
    "import matplotlib.image as mpimg\n",
    "%matplotlib inline"
   ]
  },
  {
   "cell_type": "code",
   "execution_count": 26,
   "id": "9c8d1ab6",
   "metadata": {},
   "outputs": [
    {
     "data": {
      "text/plain": [
       "<matplotlib.image.AxesImage at 0x7fae48cbf130>"
      ]
     },
     "execution_count": 26,
     "metadata": {},
     "output_type": "execute_result"
    },
    {
     "data": {
      "image/png": "[encoded data removed]",
      "text/plain": [
       "<Figure size 640x480 with 1 Axes>"
      ]
     },
     "metadata": {},
     "output_type": "display_data"
    }
   ],
   "source": [
    "img = mpimg.imread('./imgs/py_cookbook_1.jpg')\n",
    "plt.imshow(img)\n",
    "plt.show()"
   ]
  },
  {
   "cell_type": "code",
   "execution_count": 31,
   "id": "56e7f46a",
   "metadata": {},
   "outputs": [
    {
     "data": {
      "text/plain": [
       "<matplotlib.image.AxesImage at 0x7fae732130a0>"
      ]
     },
     "execution_count": 31,
     "metadata": {},
     "output_type": "execute_result"
    },
    {
     "data": {
      "image/png": "[encoded data removed]",
      "text/plain": [
       "<Figure size 640x480 with 1 Axes>"
      ]
     },
     "metadata": {},
     "output_type": "display_data"
    }
   ],
   "source": [
    "img = mpimg.imread('./imgs/py_cookbook_2.jpg')\n",
    "plt.imshow(img)"
   ]
  },
  {
   "cell_type": "code",
   "execution_count": 28,
   "id": "d2219a22",
   "metadata": {},
   "outputs": [
    {
     "data": {
      "text/plain": [
       "<matplotlib.image.AxesImage at 0x7fae635d6670>"
      ]
     },
     "execution_count": 28,
     "metadata": {},
     "output_type": "execute_result"
    },
    {
     "data": {
      "image/png": "[encoded data removed]",
      "text/plain": [
       "<Figure size 640x480 with 1 Axes>"
      ]
     },
     "metadata": {},
     "output_type": "display_data"
    }
   ],
   "source": [
    "img = mpimg.imread('./imgs/py_cookbook_3.jpg')\n",
    "plt.imshow(img)"
   ]
  },
  {
   "cell_type": "code",
   "execution_count": 32,
   "id": "7b15b870",
   "metadata": {},
   "outputs": [],
   "source": [
    "# 开写\n",
    "import struct\n",
    "import itertools\n",
    "\n",
    "\n",
    "def write_polys(filename, polys):\n",
    "    # Determine bounding box\n",
    "    flattened = list(itertools.chain(*polys))\n",
    "    min_x = min(x for x, y in flattened)\n",
    "    max_x = max(x for x, y in flattened)\n",
    "    min_y = min(y for x, y in flattened)\n",
    "    max_y = max(y for x, y in flattened)\n",
    "    with open(filename, 'wb') as f:\n",
    "        f.write(struct.pack('<iddddi', 0x12334, min_x, min_y, max_x, max_y, len(polys)))\n",
    "        \n",
    "        for poly in polys:\n",
    "            size = len(poly) * struct.calcsize('<dd')\n",
    "            f.write(struct.pack('<i', size+4))\n",
    "            for pt in poly:\n",
    "                f.write(struct.pack('<dd', *pt))"
   ]
  },
  {
   "cell_type": "code",
   "execution_count": 33,
   "id": "e36fe34e",
   "metadata": {},
   "outputs": [],
   "source": [
    "def read_polys(filename):\n",
    "    with open(filename, 'rb') as f:\n",
    "        # Read the header\n",
    "        header = f.read(40)\n",
    "        file_code, min_x, min_y, max_x, max_y, num_polys = struct.unpack('<iddddi', header)\n",
    "        polys = []\n",
    "        for n in range(num_polys):\n",
    "            pbytes, = struct.unpack('<i', f.read(4))\n",
    "            poly = []\n",
    "            for m in range(pbytes // 16):\n",
    "                pt = struct.unpack('<dd', f.read(16))\n",
    "                poly.append(pt)\n",
    "            polys.append(poly)\n",
    "    return polys"
   ]
  },
  {
   "cell_type": "code",
   "execution_count": null,
   "id": "fdfcf75a",
   "metadata": {},
   "outputs": [],
   "source": []
  }
 ],
 "metadata": {
  "kernelspec": {
   "display_name": "Python 3",
   "language": "python",
   "name": "python3"
  },
  "language_info": {
   "codemirror_mode": {
    "name": "ipython",
    "version": 3
   },
   "file_extension": ".py",
   "mimetype": "text/x-python",
   "name": "python",
   "nbconvert_exporter": "python",
   "pygments_lexer": "ipython3",
   "version": "3.6.13"
  }
 },
 "nbformat": 4,
 "nbformat_minor": 5
}
