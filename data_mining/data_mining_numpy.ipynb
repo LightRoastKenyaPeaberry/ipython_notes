{
 "cells": [
  {
   "cell_type": "code",
   "execution_count": 2,
   "id": "0c89c2f2",
   "metadata": {},
   "outputs": [],
   "source": [
    "import numpy as np\n",
    "scores=np.array([[80, 89, 86, 67, 79],\n",
    "[78, 97, 89, 67, 81],\n",
    "[90, 94, 78, 67, 74],\n",
    "[91, 91, 90, 67, 69],\n",
    "[76, 87, 75, 67, 86],\n",
    "[70, 79, 84, 67, 84],\n",
    "[94, 92, 93, 67, 64],\n",
    "[86, 85, 83, 67, 80]])\n"
   ]
  },
  {
   "cell_type": "code",
   "execution_count": 3,
   "id": "a54ea1d9",
   "metadata": {},
   "outputs": [
    {
     "data": {
      "text/plain": [
       "array([[80, 89, 86, 67, 79],\n",
       "       [78, 97, 89, 67, 81],\n",
       "       [90, 94, 78, 67, 74],\n",
       "       [91, 91, 90, 67, 69],\n",
       "       [76, 87, 75, 67, 86],\n",
       "       [70, 79, 84, 67, 84],\n",
       "       [94, 92, 93, 67, 64],\n",
       "       [86, 85, 83, 67, 80]])"
      ]
     },
     "execution_count": 3,
     "metadata": {},
     "output_type": "execute_result"
    }
   ],
   "source": [
    "scores\n"
   ]
  },
  {
   "cell_type": "markdown",
   "id": "b53e32e2",
   "metadata": {},
   "source": [
    "# ndarray 和 python的list 之效率对比"
   ]
  },
  {
   "cell_type": "code",
   "execution_count": 4,
   "id": "1899ef4d",
   "metadata": {},
   "outputs": [],
   "source": [
    "import random\n",
    "import time"
   ]
  },
  {
   "cell_type": "code",
   "execution_count": 5,
   "id": "38f27ac5",
   "metadata": {},
   "outputs": [],
   "source": [
    "py_list = []\n",
    "for i in range(10000000):\n",
    "    py_list.append(random.random())"
   ]
  },
  {
   "cell_type": "code",
   "execution_count": 6,
   "id": "36ff0e32",
   "metadata": {},
   "outputs": [],
   "source": [
    "ndarray_list = np.array(py_list)"
   ]
  },
  {
   "cell_type": "code",
   "execution_count": 7,
   "id": "9685d41a",
   "metadata": {},
   "outputs": [
    {
     "data": {
      "text/plain": [
       "10000000"
      ]
     },
     "execution_count": 7,
     "metadata": {},
     "output_type": "execute_result"
    }
   ],
   "source": [
    "len(ndarray_list)"
   ]
  },
  {
   "cell_type": "code",
   "execution_count": 16,
   "id": "ccdd5999",
   "metadata": {},
   "outputs": [],
   "source": [
    "# 原生python求和\n",
    "t1= time.time()\n",
    "a = sum(py_list)\n",
    "t2= time.time()\n",
    "d1 = t2-t1\n",
    "\n",
    "# ndarray 求和\n",
    "t3= time.time()\n",
    "b= np.sum(ndarray_list)\n",
    "t4=time.time()\n",
    "d2=t4-t3\n",
    "\n"
   ]
  },
  {
   "cell_type": "code",
   "execution_count": 17,
   "id": "cc8aaca4",
   "metadata": {},
   "outputs": [
    {
     "data": {
      "text/plain": [
       "0.06423282623291016"
      ]
     },
     "execution_count": 17,
     "metadata": {},
     "output_type": "execute_result"
    }
   ],
   "source": [
    "d1\n"
   ]
  },
  {
   "cell_type": "code",
   "execution_count": 18,
   "id": "8e069434",
   "metadata": {},
   "outputs": [
    {
     "data": {
      "text/plain": [
       "0.0037980079650878906"
      ]
     },
     "execution_count": 18,
     "metadata": {},
     "output_type": "execute_result"
    }
   ],
   "source": [
    "d2"
   ]
  },
  {
   "cell_type": "code",
   "execution_count": 20,
   "id": "f363cc32",
   "metadata": {},
   "outputs": [
    {
     "data": {
      "text/plain": [
       "(10000000,)"
      ]
     },
     "execution_count": 20,
     "metadata": {},
     "output_type": "execute_result"
    }
   ],
   "source": [
    "ndarray_list.shape"
   ]
  },
  {
   "cell_type": "code",
   "execution_count": 21,
   "id": "b97b8035",
   "metadata": {},
   "outputs": [
    {
     "data": {
      "text/plain": [
       "dtype('float64')"
      ]
     },
     "execution_count": 21,
     "metadata": {},
     "output_type": "execute_result"
    }
   ],
   "source": [
    "ndarray_list.dtype"
   ]
  },
  {
   "cell_type": "code",
   "execution_count": 22,
   "id": "5dddd993",
   "metadata": {},
   "outputs": [
    {
     "data": {
      "text/plain": [
       "(8, 5)"
      ]
     },
     "execution_count": 22,
     "metadata": {},
     "output_type": "execute_result"
    }
   ],
   "source": [
    "scores.shape"
   ]
  },
  {
   "cell_type": "code",
   "execution_count": 23,
   "id": "5262077a",
   "metadata": {},
   "outputs": [
    {
     "data": {
      "text/plain": [
       "dtype('int64')"
      ]
     },
     "execution_count": 23,
     "metadata": {},
     "output_type": "execute_result"
    }
   ],
   "source": [
    "scores.dtype"
   ]
  },
  {
   "cell_type": "code",
   "execution_count": 24,
   "id": "6f1bde78",
   "metadata": {},
   "outputs": [
    {
     "data": {
      "text/plain": [
       "2"
      ]
     },
     "execution_count": 24,
     "metadata": {},
     "output_type": "execute_result"
    }
   ],
   "source": [
    "scores.ndim"
   ]
  },
  {
   "cell_type": "code",
   "execution_count": 26,
   "id": "8506af9c",
   "metadata": {},
   "outputs": [
    {
     "data": {
      "text/plain": [
       "40"
      ]
     },
     "execution_count": 26,
     "metadata": {},
     "output_type": "execute_result"
    }
   ],
   "source": [
    "scores.size"
   ]
  },
  {
   "cell_type": "code",
   "execution_count": 27,
   "id": "539d2534",
   "metadata": {},
   "outputs": [
    {
     "data": {
      "text/plain": [
       "8"
      ]
     },
     "execution_count": 27,
     "metadata": {},
     "output_type": "execute_result"
    }
   ],
   "source": [
    "scores.itemsize\n"
   ]
  },
  {
   "cell_type": "markdown",
   "id": "2bca1651",
   "metadata": {},
   "source": [
    "# 生成数组"
   ]
  },
  {
   "cell_type": "code",
   "execution_count": 72,
   "id": "77eb7e28",
   "metadata": {},
   "outputs": [],
   "source": [
    "test = np.zeros([3,4], dtype='float32')"
   ]
  },
  {
   "cell_type": "code",
   "execution_count": 71,
   "id": "9eb3e20a",
   "metadata": {},
   "outputs": [
    {
     "data": {
      "text/plain": [
       "array([[1, 1, 1],\n",
       "       [1, 1, 1]], dtype=int32)"
      ]
     },
     "execution_count": 71,
     "metadata": {},
     "output_type": "execute_result"
    }
   ],
   "source": [
    "np.ones((2,3), dtype=np.int32)"
   ]
  },
  {
   "cell_type": "code",
   "execution_count": 73,
   "id": "06937725",
   "metadata": {},
   "outputs": [
    {
     "data": {
      "text/plain": [
       "4"
      ]
     },
     "execution_count": 73,
     "metadata": {},
     "output_type": "execute_result"
    }
   ],
   "source": [
    "test.itemsize"
   ]
  },
  {
   "cell_type": "markdown",
   "id": "9804e0b2",
   "metadata": {},
   "source": [
    "## 从现有数组生成"
   ]
  },
  {
   "cell_type": "code",
   "execution_count": 30,
   "id": "cb1c8b88",
   "metadata": {},
   "outputs": [
    {
     "data": {
      "text/plain": [
       "array([[80, 89, 86, 67, 79],\n",
       "       [78, 97, 89, 67, 81],\n",
       "       [90, 94, 78, 67, 74],\n",
       "       [91, 91, 90, 67, 69],\n",
       "       [76, 87, 75, 67, 86],\n",
       "       [70, 79, 84, 67, 84],\n",
       "       [94, 92, 93, 67, 64],\n",
       "       [86, 85, 83, 67, 80]])"
      ]
     },
     "execution_count": 30,
     "metadata": {},
     "output_type": "execute_result"
    }
   ],
   "source": [
    "scores\n"
   ]
  },
  {
   "cell_type": "code",
   "execution_count": 31,
   "id": "0824b645",
   "metadata": {},
   "outputs": [],
   "source": [
    "data1= np.array(scores)"
   ]
  },
  {
   "cell_type": "code",
   "execution_count": 32,
   "id": "f3937937",
   "metadata": {},
   "outputs": [
    {
     "data": {
      "text/plain": [
       "array([[80, 89, 86, 67, 79],\n",
       "       [78, 97, 89, 67, 81],\n",
       "       [90, 94, 78, 67, 74],\n",
       "       [91, 91, 90, 67, 69],\n",
       "       [76, 87, 75, 67, 86],\n",
       "       [70, 79, 84, 67, 84],\n",
       "       [94, 92, 93, 67, 64],\n",
       "       [86, 85, 83, 67, 80]])"
      ]
     },
     "execution_count": 32,
     "metadata": {},
     "output_type": "execute_result"
    }
   ],
   "source": [
    "data1"
   ]
  },
  {
   "cell_type": "code",
   "execution_count": 33,
   "id": "d3aafefe",
   "metadata": {},
   "outputs": [],
   "source": [
    "data2 = np.asarray(scores)"
   ]
  },
  {
   "cell_type": "code",
   "execution_count": 34,
   "id": "9e2096ee",
   "metadata": {},
   "outputs": [
    {
     "data": {
      "text/plain": [
       "array([[80, 89, 86, 67, 79],\n",
       "       [78, 97, 89, 67, 81],\n",
       "       [90, 94, 78, 67, 74],\n",
       "       [91, 91, 90, 67, 69],\n",
       "       [76, 87, 75, 67, 86],\n",
       "       [70, 79, 84, 67, 84],\n",
       "       [94, 92, 93, 67, 64],\n",
       "       [86, 85, 83, 67, 80]])"
      ]
     },
     "execution_count": 34,
     "metadata": {},
     "output_type": "execute_result"
    }
   ],
   "source": [
    "data2"
   ]
  },
  {
   "cell_type": "code",
   "execution_count": 35,
   "id": "c1fcc8c8",
   "metadata": {},
   "outputs": [],
   "source": [
    "data3 = np.copy(scores)"
   ]
  },
  {
   "cell_type": "code",
   "execution_count": 36,
   "id": "c2af9295",
   "metadata": {},
   "outputs": [
    {
     "data": {
      "text/plain": [
       "array([[80, 89, 86, 67, 79],\n",
       "       [78, 97, 89, 67, 81],\n",
       "       [90, 94, 78, 67, 74],\n",
       "       [91, 91, 90, 67, 69],\n",
       "       [76, 87, 75, 67, 86],\n",
       "       [70, 79, 84, 67, 84],\n",
       "       [94, 92, 93, 67, 64],\n",
       "       [86, 85, 83, 67, 80]])"
      ]
     },
     "execution_count": 36,
     "metadata": {},
     "output_type": "execute_result"
    }
   ],
   "source": [
    "data3"
   ]
  },
  {
   "cell_type": "code",
   "execution_count": 38,
   "id": "42b7b37f",
   "metadata": {},
   "outputs": [],
   "source": [
    "scores[3,1] = 380000"
   ]
  },
  {
   "cell_type": "code",
   "execution_count": 39,
   "id": "61f6e2a6",
   "metadata": {},
   "outputs": [
    {
     "data": {
      "text/plain": [
       "array([[    80,     89,     86,     67,     79],\n",
       "       [    78,     97,     89,     67,     81],\n",
       "       [    90,     94,     78,     67,     74],\n",
       "       [    91, 380000,     90,     67,     69],\n",
       "       [    76,     87,     75,     67,     86],\n",
       "       [    70,     79,     84,     67,     84],\n",
       "       [    94,     92,     93,     67,     64],\n",
       "       [    86,     85,     83,     67,     80]])"
      ]
     },
     "execution_count": 39,
     "metadata": {},
     "output_type": "execute_result"
    }
   ],
   "source": [
    "scores"
   ]
  },
  {
   "cell_type": "code",
   "execution_count": 40,
   "id": "af9bbc18",
   "metadata": {},
   "outputs": [
    {
     "data": {
      "text/plain": [
       "array([[80, 89, 86, 67, 79],\n",
       "       [78, 97, 89, 67, 81],\n",
       "       [90, 94, 78, 67, 74],\n",
       "       [91, 91, 90, 67, 69],\n",
       "       [76, 87, 75, 67, 86],\n",
       "       [70, 79, 84, 67, 84],\n",
       "       [94, 92, 93, 67, 64],\n",
       "       [86, 85, 83, 67, 80]])"
      ]
     },
     "execution_count": 40,
     "metadata": {},
     "output_type": "execute_result"
    }
   ],
   "source": [
    "data1"
   ]
  },
  {
   "cell_type": "code",
   "execution_count": 41,
   "id": "7c7e5a16",
   "metadata": {},
   "outputs": [
    {
     "data": {
      "text/plain": [
       "array([[    80,     89,     86,     67,     79],\n",
       "       [    78,     97,     89,     67,     81],\n",
       "       [    90,     94,     78,     67,     74],\n",
       "       [    91, 380000,     90,     67,     69],\n",
       "       [    76,     87,     75,     67,     86],\n",
       "       [    70,     79,     84,     67,     84],\n",
       "       [    94,     92,     93,     67,     64],\n",
       "       [    86,     85,     83,     67,     80]])"
      ]
     },
     "execution_count": 41,
     "metadata": {},
     "output_type": "execute_result"
    }
   ],
   "source": [
    "data2"
   ]
  },
  {
   "cell_type": "code",
   "execution_count": 42,
   "id": "a1bf3900",
   "metadata": {},
   "outputs": [
    {
     "data": {
      "text/plain": [
       "array([[80, 89, 86, 67, 79],\n",
       "       [78, 97, 89, 67, 81],\n",
       "       [90, 94, 78, 67, 74],\n",
       "       [91, 91, 90, 67, 69],\n",
       "       [76, 87, 75, 67, 86],\n",
       "       [70, 79, 84, 67, 84],\n",
       "       [94, 92, 93, 67, 64],\n",
       "       [86, 85, 83, 67, 80]])"
      ]
     },
     "execution_count": 42,
     "metadata": {},
     "output_type": "execute_result"
    }
   ],
   "source": [
    "data3"
   ]
  },
  {
   "cell_type": "markdown",
   "id": "e04fa045",
   "metadata": {},
   "source": [
    "## 生成固定范围的数组"
   ]
  },
  {
   "cell_type": "code",
   "execution_count": 43,
   "id": "53975245",
   "metadata": {},
   "outputs": [
    {
     "data": {
      "text/plain": [
       "array([ 0. ,  2.5,  5. ,  7.5, 10. ])"
      ]
     },
     "execution_count": 43,
     "metadata": {},
     "output_type": "execute_result"
    }
   ],
   "source": [
    "np.linspace(0,10,5)"
   ]
  },
  {
   "cell_type": "code",
   "execution_count": 45,
   "id": "7bb1a6e2",
   "metadata": {},
   "outputs": [
    {
     "data": {
      "text/plain": [
       "array([0, 5])"
      ]
     },
     "execution_count": 45,
     "metadata": {},
     "output_type": "execute_result"
    }
   ],
   "source": [
    "np.arange(0,10,5)"
   ]
  },
  {
   "cell_type": "markdown",
   "id": "dc7d7b8c",
   "metadata": {},
   "source": [
    "## 生成随机数组（有分布状态）"
   ]
  },
  {
   "cell_type": "code",
   "execution_count": 53,
   "id": "41b507a4",
   "metadata": {},
   "outputs": [
    {
     "data": {
      "image/png": "[encoded data removed]",
      "text/plain": [
       "<Figure size 640x480 with 1 Axes>"
      ]
     },
     "metadata": {},
     "output_type": "display_data"
    }
   ],
   "source": [
    "import matplotlib.pyplot as plt\n",
    "%matplotlib inline\n",
    "\n",
    "data= np.random.uniform(-1,1, 10000)\n",
    "plt.figure()\n",
    "plt.hist(data,bins=100)\n",
    "plt.show()\n"
   ]
  },
  {
   "cell_type": "code",
   "execution_count": 55,
   "id": "bb49b987",
   "metadata": {},
   "outputs": [
    {
     "data": {
      "image/png": "[encoded data removed]",
      "text/plain": [
       "<Figure size 640x480 with 1 Axes>"
      ]
     },
     "metadata": {},
     "output_type": "display_data"
    }
   ],
   "source": [
    "datan= np.random.normal(0,1, 10000)\n",
    "plt.figure()\n",
    "plt.hist(datan,bins=100)\n",
    "plt.show()"
   ]
  },
  {
   "cell_type": "code",
   "execution_count": 60,
   "id": "5c920dba",
   "metadata": {},
   "outputs": [
    {
     "data": {
      "image/png": "[encoded data removed]",
      "text/plain": [
       "<Figure size 640x480 with 1 Axes>"
      ]
     },
     "metadata": {},
     "output_type": "display_data"
    }
   ],
   "source": [
    "datap=np.random.poisson(lam=2,size=10000)\n",
    "plt.figure()\n",
    "plt.hist(datap,bins=10)\n",
    "plt.show()"
   ]
  },
  {
   "cell_type": "markdown",
   "id": "0b3d43b9",
   "metadata": {},
   "source": [
    "# 案例： 随机生成8只股票两周交易日涨幅数据"
   ]
  },
  {
   "cell_type": "code",
   "execution_count": 64,
   "id": "dccd9422",
   "metadata": {},
   "outputs": [],
   "source": [
    "stock_change = np.random.normal(loc=0, scale=1, size=(8,10))"
   ]
  },
  {
   "cell_type": "code",
   "execution_count": 65,
   "id": "36915312",
   "metadata": {},
   "outputs": [
    {
     "data": {
      "text/plain": [
       "array([[-6.59745469e-01,  1.32817528e-01,  2.27913784e+00,\n",
       "         1.13829876e+00, -5.23123546e-01, -1.73559548e+00,\n",
       "         1.04346676e+00,  5.36698636e-01, -4.52084081e-01,\n",
       "        -2.10314286e+00],\n",
       "       [-3.64160628e-01,  6.18028425e-01,  1.09271686e+00,\n",
       "        -5.88653960e-01,  1.19819151e+00,  2.01992145e+00,\n",
       "         2.91081384e+00, -4.55238708e-01, -7.39703500e-01,\n",
       "         1.19150002e+00],\n",
       "       [-1.41732069e+00,  2.04939590e+00,  2.10608061e+00,\n",
       "        -4.92512053e-01,  6.49371290e-01, -1.39142078e+00,\n",
       "         7.52190733e-01, -7.22349169e-01, -9.36490900e-01,\n",
       "         5.51559289e-01],\n",
       "       [ 2.83114682e-01, -2.26853222e-02,  1.41566402e+00,\n",
       "        -4.05560992e-01, -1.26869550e+00,  7.15596988e-02,\n",
       "         6.75019615e-01,  5.50796926e-01,  6.21973017e-01,\n",
       "        -1.85153667e-01],\n",
       "       [-5.28856287e-01, -1.17844303e+00, -8.49863517e-01,\n",
       "         6.06261853e-01, -7.27299564e-02, -9.10199996e-01,\n",
       "         2.07344045e+00, -7.51616447e-02,  1.79542128e-01,\n",
       "         1.37408000e+00],\n",
       "       [-2.16277036e+00,  4.23679865e-01,  5.00951114e-01,\n",
       "        -1.74094011e-01,  7.19064850e-01,  5.45317295e-01,\n",
       "        -2.21489875e-01, -1.69469119e+00, -4.22585024e-01,\n",
       "        -4.36073711e-01],\n",
       "       [ 5.46160294e-01, -1.00591718e-01, -3.22145383e-01,\n",
       "        -4.40465691e-02,  5.56413553e-01, -1.24052441e+00,\n",
       "         5.60466646e-01,  1.85632023e+00,  1.56945695e+00,\n",
       "         6.91848698e-02],\n",
       "       [-4.94920836e-01, -1.50913311e+00, -1.17590741e+00,\n",
       "        -1.38605575e+00,  3.48772564e-03,  1.28415176e-01,\n",
       "         3.58481377e-01,  4.69339056e-04,  1.78934379e+00,\n",
       "         6.61341526e-02]])"
      ]
     },
     "execution_count": 65,
     "metadata": {},
     "output_type": "execute_result"
    }
   ],
   "source": [
    "stock_change"
   ]
  },
  {
   "cell_type": "markdown",
   "id": "4d5ec35c",
   "metadata": {},
   "source": [
    "## array index and slice"
   ]
  },
  {
   "cell_type": "code",
   "execution_count": 67,
   "id": "9eb8eac5",
   "metadata": {},
   "outputs": [
    {
     "data": {
      "text/plain": [
       "array([-0.65974547,  0.13281753,  2.27913784])"
      ]
     },
     "execution_count": 67,
     "metadata": {},
     "output_type": "execute_result"
    }
   ],
   "source": [
    "# get the fist stock changes in previous 3 days\n",
    "stock_change[0][:3]"
   ]
  },
  {
   "cell_type": "code",
   "execution_count": 68,
   "id": "5b777072",
   "metadata": {},
   "outputs": [
    {
     "data": {
      "text/plain": [
       "array([-0.65974547,  0.13281753,  2.27913784])"
      ]
     },
     "execution_count": 68,
     "metadata": {},
     "output_type": "execute_result"
    }
   ],
   "source": [
    "stock_change[0, :3]"
   ]
  },
  {
   "cell_type": "markdown",
   "id": "005d88e5",
   "metadata": {},
   "source": [
    "## change shape"
   ]
  },
  {
   "cell_type": "code",
   "execution_count": 69,
   "id": "805e3dbb",
   "metadata": {},
   "outputs": [
    {
     "data": {
      "text/plain": [
       "array([[-6.59745469e-01,  1.32817528e-01,  2.27913784e+00,\n",
       "         1.13829876e+00, -5.23123546e-01, -1.73559548e+00,\n",
       "         1.04346676e+00,  5.36698636e-01],\n",
       "       [-4.52084081e-01, -2.10314286e+00, -3.64160628e-01,\n",
       "         6.18028425e-01,  1.09271686e+00, -5.88653960e-01,\n",
       "         1.19819151e+00,  2.01992145e+00],\n",
       "       [ 2.91081384e+00, -4.55238708e-01, -7.39703500e-01,\n",
       "         1.19150002e+00, -1.41732069e+00,  2.04939590e+00,\n",
       "         2.10608061e+00, -4.92512053e-01],\n",
       "       [ 6.49371290e-01, -1.39142078e+00,  7.52190733e-01,\n",
       "        -7.22349169e-01, -9.36490900e-01,  5.51559289e-01,\n",
       "         2.83114682e-01, -2.26853222e-02],\n",
       "       [ 1.41566402e+00, -4.05560992e-01, -1.26869550e+00,\n",
       "         7.15596988e-02,  6.75019615e-01,  5.50796926e-01,\n",
       "         6.21973017e-01, -1.85153667e-01],\n",
       "       [-5.28856287e-01, -1.17844303e+00, -8.49863517e-01,\n",
       "         6.06261853e-01, -7.27299564e-02, -9.10199996e-01,\n",
       "         2.07344045e+00, -7.51616447e-02],\n",
       "       [ 1.79542128e-01,  1.37408000e+00, -2.16277036e+00,\n",
       "         4.23679865e-01,  5.00951114e-01, -1.74094011e-01,\n",
       "         7.19064850e-01,  5.45317295e-01],\n",
       "       [-2.21489875e-01, -1.69469119e+00, -4.22585024e-01,\n",
       "        -4.36073711e-01,  5.46160294e-01, -1.00591718e-01,\n",
       "        -3.22145383e-01, -4.40465691e-02],\n",
       "       [ 5.56413553e-01, -1.24052441e+00,  5.60466646e-01,\n",
       "         1.85632023e+00,  1.56945695e+00,  6.91848698e-02,\n",
       "        -4.94920836e-01, -1.50913311e+00],\n",
       "       [-1.17590741e+00, -1.38605575e+00,  3.48772564e-03,\n",
       "         1.28415176e-01,  3.58481377e-01,  4.69339056e-04,\n",
       "         1.78934379e+00,  6.61341526e-02]])"
      ]
     },
     "execution_count": 69,
     "metadata": {},
     "output_type": "execute_result"
    }
   ],
   "source": [
    "# return a new one\n",
    "stock_change.reshape((10,8))"
   ]
  },
  {
   "cell_type": "code",
   "execution_count": 73,
   "id": "57597813",
   "metadata": {},
   "outputs": [],
   "source": [
    "# no return, it changes the original one\n",
    "stock_change.resize((10,8))"
   ]
  },
  {
   "cell_type": "code",
   "execution_count": 75,
   "id": "fff72cc7",
   "metadata": {},
   "outputs": [
    {
     "data": {
      "text/plain": [
       "(10, 8)"
      ]
     },
     "execution_count": 75,
     "metadata": {},
     "output_type": "execute_result"
    }
   ],
   "source": [
    "stock_change.shape"
   ]
  },
  {
   "cell_type": "code",
   "execution_count": 76,
   "id": "aed1e464",
   "metadata": {},
   "outputs": [
    {
     "data": {
      "text/plain": [
       "array([[-6.59745469e-01, -4.52084081e-01,  2.91081384e+00,\n",
       "         6.49371290e-01,  1.41566402e+00, -5.28856287e-01,\n",
       "         1.79542128e-01, -2.21489875e-01,  5.56413553e-01,\n",
       "        -1.17590741e+00],\n",
       "       [ 1.32817528e-01, -2.10314286e+00, -4.55238708e-01,\n",
       "        -1.39142078e+00, -4.05560992e-01, -1.17844303e+00,\n",
       "         1.37408000e+00, -1.69469119e+00, -1.24052441e+00,\n",
       "        -1.38605575e+00],\n",
       "       [ 2.27913784e+00, -3.64160628e-01, -7.39703500e-01,\n",
       "         7.52190733e-01, -1.26869550e+00, -8.49863517e-01,\n",
       "        -2.16277036e+00, -4.22585024e-01,  5.60466646e-01,\n",
       "         3.48772564e-03],\n",
       "       [ 1.13829876e+00,  6.18028425e-01,  1.19150002e+00,\n",
       "        -7.22349169e-01,  7.15596988e-02,  6.06261853e-01,\n",
       "         4.23679865e-01, -4.36073711e-01,  1.85632023e+00,\n",
       "         1.28415176e-01],\n",
       "       [-5.23123546e-01,  1.09271686e+00, -1.41732069e+00,\n",
       "        -9.36490900e-01,  6.75019615e-01, -7.27299564e-02,\n",
       "         5.00951114e-01,  5.46160294e-01,  1.56945695e+00,\n",
       "         3.58481377e-01],\n",
       "       [-1.73559548e+00, -5.88653960e-01,  2.04939590e+00,\n",
       "         5.51559289e-01,  5.50796926e-01, -9.10199996e-01,\n",
       "        -1.74094011e-01, -1.00591718e-01,  6.91848698e-02,\n",
       "         4.69339056e-04],\n",
       "       [ 1.04346676e+00,  1.19819151e+00,  2.10608061e+00,\n",
       "         2.83114682e-01,  6.21973017e-01,  2.07344045e+00,\n",
       "         7.19064850e-01, -3.22145383e-01, -4.94920836e-01,\n",
       "         1.78934379e+00],\n",
       "       [ 5.36698636e-01,  2.01992145e+00, -4.92512053e-01,\n",
       "        -2.26853222e-02, -1.85153667e-01, -7.51616447e-02,\n",
       "         5.45317295e-01, -4.40465691e-02, -1.50913311e+00,\n",
       "         6.61341526e-02]])"
      ]
     },
     "execution_count": 76,
     "metadata": {},
     "output_type": "execute_result"
    }
   ],
   "source": [
    "stock_change.T"
   ]
  },
  {
   "cell_type": "code",
   "execution_count": 77,
   "id": "1f1aee46",
   "metadata": {},
   "outputs": [
    {
     "data": {
      "text/plain": [
       "(8, 10)"
      ]
     },
     "execution_count": 77,
     "metadata": {},
     "output_type": "execute_result"
    }
   ],
   "source": [
    "stock_change.T.shape"
   ]
  },
  {
   "cell_type": "markdown",
   "id": "eef90fb3",
   "metadata": {},
   "source": [
    "## change type"
   ]
  },
  {
   "cell_type": "code",
   "execution_count": 80,
   "id": "c8ea31d5",
   "metadata": {},
   "outputs": [
    {
     "data": {
      "text/plain": [
       "array([[ 0,  0,  2,  1,  0, -1,  1,  0],\n",
       "       [ 0, -2,  0,  0,  1,  0,  1,  2],\n",
       "       [ 2,  0,  0,  1, -1,  2,  2,  0],\n",
       "       [ 0, -1,  0,  0,  0,  0,  0,  0],\n",
       "       [ 1,  0, -1,  0,  0,  0,  0,  0],\n",
       "       [ 0, -1,  0,  0,  0,  0,  2,  0],\n",
       "       [ 0,  1, -2,  0,  0,  0,  0,  0],\n",
       "       [ 0, -1,  0,  0,  0,  0,  0,  0],\n",
       "       [ 0, -1,  0,  1,  1,  0,  0, -1],\n",
       "       [-1, -1,  0,  0,  0,  0,  1,  0]], dtype=int32)"
      ]
     },
     "execution_count": 80,
     "metadata": {},
     "output_type": "execute_result"
    }
   ],
   "source": [
    "stock_change.astype(dtype=np.int32)"
   ]
  },
  {
   "cell_type": "code",
   "execution_count": 81,
   "id": "ccd83cfe",
   "metadata": {},
   "outputs": [
    {
     "data": {
      "text/plain": [
       "array([[-6.59745469e-01,  1.32817528e-01,  2.27913784e+00,\n",
       "         1.13829876e+00, -5.23123546e-01, -1.73559548e+00,\n",
       "         1.04346676e+00,  5.36698636e-01],\n",
       "       [-4.52084081e-01, -2.10314286e+00, -3.64160628e-01,\n",
       "         6.18028425e-01,  1.09271686e+00, -5.88653960e-01,\n",
       "         1.19819151e+00,  2.01992145e+00],\n",
       "       [ 2.91081384e+00, -4.55238708e-01, -7.39703500e-01,\n",
       "         1.19150002e+00, -1.41732069e+00,  2.04939590e+00,\n",
       "         2.10608061e+00, -4.92512053e-01],\n",
       "       [ 6.49371290e-01, -1.39142078e+00,  7.52190733e-01,\n",
       "        -7.22349169e-01, -9.36490900e-01,  5.51559289e-01,\n",
       "         2.83114682e-01, -2.26853222e-02],\n",
       "       [ 1.41566402e+00, -4.05560992e-01, -1.26869550e+00,\n",
       "         7.15596988e-02,  6.75019615e-01,  5.50796926e-01,\n",
       "         6.21973017e-01, -1.85153667e-01],\n",
       "       [-5.28856287e-01, -1.17844303e+00, -8.49863517e-01,\n",
       "         6.06261853e-01, -7.27299564e-02, -9.10199996e-01,\n",
       "         2.07344045e+00, -7.51616447e-02],\n",
       "       [ 1.79542128e-01,  1.37408000e+00, -2.16277036e+00,\n",
       "         4.23679865e-01,  5.00951114e-01, -1.74094011e-01,\n",
       "         7.19064850e-01,  5.45317295e-01],\n",
       "       [-2.21489875e-01, -1.69469119e+00, -4.22585024e-01,\n",
       "        -4.36073711e-01,  5.46160294e-01, -1.00591718e-01,\n",
       "        -3.22145383e-01, -4.40465691e-02],\n",
       "       [ 5.56413553e-01, -1.24052441e+00,  5.60466646e-01,\n",
       "         1.85632023e+00,  1.56945695e+00,  6.91848698e-02,\n",
       "        -4.94920836e-01, -1.50913311e+00],\n",
       "       [-1.17590741e+00, -1.38605575e+00,  3.48772564e-03,\n",
       "         1.28415176e-01,  3.58481377e-01,  4.69339056e-04,\n",
       "         1.78934379e+00,  6.61341526e-02]])"
      ]
     },
     "execution_count": 81,
     "metadata": {},
     "output_type": "execute_result"
    }
   ],
   "source": [
    "stock_change"
   ]
  },
  {
   "cell_type": "code",
   "execution_count": 82,
   "id": "bfb2b3f5",
   "metadata": {},
   "outputs": [
    {
     "name": "stderr",
     "output_type": "stream",
     "text": [
      "/Users/joriri/opt/anaconda3/envs/data_mining/lib/python3.7/site-packages/ipykernel_launcher.py:1: DeprecationWarning: tostring() is deprecated. Use tobytes() instead.\n",
      "  \"\"\"Entry point for launching an IPython kernel.\n"
     ]
    },
    {
     "data": {
      "text/plain": [
       "b'\\t\\xf6\\xce\\x87\\xa2\\x1c\\xe5\\xbf\\x9d\\xbd\\x80-*\\x00\\xc1?\\x0bf\\x86\\x9e\\xac;\\x02@\\x88\\x82\\xf8\\xc1x6\\xf2?S\\xd2h\\x97m\\xbd\\xe0\\xbf)\\x9a\\x93\\xc4\\xff\\xc4\\xfb\\xbf\\xf9K\\xc84\\n\\xb2\\xf0?\\xb1\\x15R\\x9e\\xa2,\\xe1?\\xfb\\x85\\xfe\\x11\\xf2\\xee\\xdc\\xbf\\xc7\\xef\\xd0\\x90<\\xd3\\x00\\xc0V\\xf5!ahN\\xd7\\xbf\\xca7\\xfa\\x8b\\xe3\\xc6\\xe3?\\xbeM\\x8d\\xad\\xc4{\\xf1?\\xed\"r\\xd4@\\xd6\\xe2\\xbf\\xe0xA\\xdb\\xca+\\xf3?\\x13F<\\x94\\xcc(\\x00@\\xa3\\xa86\\xc4XI\\x07@\\xc2<*\\x88\\xa1\"\\xdd\\xbf\\x02\\xd7q\\xac\\xa6\\xab\\xe7\\xbf\\xf6\\rDTb\\x10\\xf3?;(\\xd7tX\\xad\\xf6\\xbf\\xf6\\xf2\\xcd\\xad)e\\x00@\\xdd\\xac\\x88\\xca@\\xd9\\x00@\\x0f\\xee\\x9dFQ\\x85\\xdf\\xbf\\x16m\\x90L\\xa6\\xc7\\xe4?_N\\x16pBC\\xf6\\xbf\\xb2C\\xa4L\\xf2\\x11\\xe8?Nd\\xf1\\x00|\\x1d\\xe7\\xbf\\xbd\\xa3p\\xc3\\xbb\\xf7\\xed\\xbfhQ\\x89\\xaa_\\xa6\\xe1?\\xdfB\\x11\\x0b\\x8d\\x1e\\xd2?\\xb9\\xef\\xbf3\\xd2:\\x97\\xbf\\xc0\\x15\\xd5P\\x8f\\xa6\\xf6?8(R\\x17\\xb6\\xf4\\xd9\\xbf\\x84D\\xba\\xa6\\x93L\\xf4\\xbfy\\x15?\\x86\\xbcQ\\xb2?iI?\\xbc\\xc2\\x99\\xe5?\\xe4\\x900\\xe0 \\xa0\\xe1?\\xde\\x7f\\xcb\\xf43\\xe7\\xe3?\\xd7\\xcd<\\x88\\x1d\\xb3\\xc7\\xbfF;\"\\x05d\\xec\\xe0\\xbfA\\x82h\\x13\\xe7\\xda\\xf2\\xbfQ\\xf7w\\xf9\\x142\\xeb\\xbf\\xb4$\\xb5A\\x7ff\\xe3?\\xc44.0n\\x9e\\xb2\\xbfj\\x05\\xcf\\xbd[ \\xed\\xbf\\x934\\xaf\\xf2g\\x96\\x00@a\\xdf\\xf0%\\xcb=\\xb3\\xbf^Ll\\x87<\\xfb\\xc6?p\\xc9JP;\\xfc\\xf5?\\x95ye\\x8bZM\\x01\\xc0@&\\n\\'\\x92\\x1d\\xdb?I0^\\xa1\\xca\\x07\\xe0?Eg\\xcfh\\xb6H\\xc6\\xbfou\\x02J\\x94\\x02\\xe7?\\xa6#\\xb5A=s\\xe1?\\x1f%\\xa1\\xbd\\xc7Y\\xcc\\xbf?\\xa3\\xe0\\x82t\\x1d\\xfb\\xbfY\\xa1\\x8a\\x0e\\xa2\\x0b\\xdb\\xbf\\xa8=T\\xb6\\xa1\\xe8\\xdb\\xbf\\xdfZX\\'%z\\xe1?9\\xf2t\\xfc`\\xc0\\xb9\\xbf\\xd5IJ\\xab\\x07\\x9e\\xd4\\xbf\\x96\\xef\\x9d\\x9bE\\x8d\\xa6\\xbf\\x10\\xd3\\xab\\xcb#\\xce\\xe1?\\xd7JL\\x1f0\\xd9\\xf3\\xbf\\x8d\\xc2k\\xbfW\\xef\\xe1?W\\xc5V\\xd7|\\xb3\\xfd?{\\x19&\\xe4~\\x1c\\xf9? \\xc6\\x05\\x81\\x19\\xb6\\xb1?\\xbb\\x88rq\\xc8\\xac\\xdf\\xbf\\x08\\xea\\xbf\\xc2h%\\xf8\\xbf\\x1f8\\x1cK\\x84\\xd0\\xf2\\xbf+eQ\\xcaH-\\xf6\\xbff\\xb3MqJ\\x92l?)\\xf9\\xf6\\x91\\xe8o\\xc0?\\xff\\xcd\\xb2\\xdf[\\xf1\\xd6?\\x9d\\x9e\\xb5\\xe53\\xc2>?\\xeaA\\xf9\\xf3&\\xa1\\xfc?\\x08,{\\xf6*\\xee\\xb0?'"
      ]
     },
     "execution_count": 82,
     "metadata": {},
     "output_type": "execute_result"
    }
   ],
   "source": [
    "stock_change.tostring()"
   ]
  },
  {
   "cell_type": "code",
   "execution_count": 83,
   "id": "2e4eb8f3",
   "metadata": {},
   "outputs": [
    {
     "data": {
      "text/plain": [
       "b'\\t\\xf6\\xce\\x87\\xa2\\x1c\\xe5\\xbf\\x9d\\xbd\\x80-*\\x00\\xc1?\\x0bf\\x86\\x9e\\xac;\\x02@\\x88\\x82\\xf8\\xc1x6\\xf2?S\\xd2h\\x97m\\xbd\\xe0\\xbf)\\x9a\\x93\\xc4\\xff\\xc4\\xfb\\xbf\\xf9K\\xc84\\n\\xb2\\xf0?\\xb1\\x15R\\x9e\\xa2,\\xe1?\\xfb\\x85\\xfe\\x11\\xf2\\xee\\xdc\\xbf\\xc7\\xef\\xd0\\x90<\\xd3\\x00\\xc0V\\xf5!ahN\\xd7\\xbf\\xca7\\xfa\\x8b\\xe3\\xc6\\xe3?\\xbeM\\x8d\\xad\\xc4{\\xf1?\\xed\"r\\xd4@\\xd6\\xe2\\xbf\\xe0xA\\xdb\\xca+\\xf3?\\x13F<\\x94\\xcc(\\x00@\\xa3\\xa86\\xc4XI\\x07@\\xc2<*\\x88\\xa1\"\\xdd\\xbf\\x02\\xd7q\\xac\\xa6\\xab\\xe7\\xbf\\xf6\\rDTb\\x10\\xf3?;(\\xd7tX\\xad\\xf6\\xbf\\xf6\\xf2\\xcd\\xad)e\\x00@\\xdd\\xac\\x88\\xca@\\xd9\\x00@\\x0f\\xee\\x9dFQ\\x85\\xdf\\xbf\\x16m\\x90L\\xa6\\xc7\\xe4?_N\\x16pBC\\xf6\\xbf\\xb2C\\xa4L\\xf2\\x11\\xe8?Nd\\xf1\\x00|\\x1d\\xe7\\xbf\\xbd\\xa3p\\xc3\\xbb\\xf7\\xed\\xbfhQ\\x89\\xaa_\\xa6\\xe1?\\xdfB\\x11\\x0b\\x8d\\x1e\\xd2?\\xb9\\xef\\xbf3\\xd2:\\x97\\xbf\\xc0\\x15\\xd5P\\x8f\\xa6\\xf6?8(R\\x17\\xb6\\xf4\\xd9\\xbf\\x84D\\xba\\xa6\\x93L\\xf4\\xbfy\\x15?\\x86\\xbcQ\\xb2?iI?\\xbc\\xc2\\x99\\xe5?\\xe4\\x900\\xe0 \\xa0\\xe1?\\xde\\x7f\\xcb\\xf43\\xe7\\xe3?\\xd7\\xcd<\\x88\\x1d\\xb3\\xc7\\xbfF;\"\\x05d\\xec\\xe0\\xbfA\\x82h\\x13\\xe7\\xda\\xf2\\xbfQ\\xf7w\\xf9\\x142\\xeb\\xbf\\xb4$\\xb5A\\x7ff\\xe3?\\xc44.0n\\x9e\\xb2\\xbfj\\x05\\xcf\\xbd[ \\xed\\xbf\\x934\\xaf\\xf2g\\x96\\x00@a\\xdf\\xf0%\\xcb=\\xb3\\xbf^Ll\\x87<\\xfb\\xc6?p\\xc9JP;\\xfc\\xf5?\\x95ye\\x8bZM\\x01\\xc0@&\\n\\'\\x92\\x1d\\xdb?I0^\\xa1\\xca\\x07\\xe0?Eg\\xcfh\\xb6H\\xc6\\xbfou\\x02J\\x94\\x02\\xe7?\\xa6#\\xb5A=s\\xe1?\\x1f%\\xa1\\xbd\\xc7Y\\xcc\\xbf?\\xa3\\xe0\\x82t\\x1d\\xfb\\xbfY\\xa1\\x8a\\x0e\\xa2\\x0b\\xdb\\xbf\\xa8=T\\xb6\\xa1\\xe8\\xdb\\xbf\\xdfZX\\'%z\\xe1?9\\xf2t\\xfc`\\xc0\\xb9\\xbf\\xd5IJ\\xab\\x07\\x9e\\xd4\\xbf\\x96\\xef\\x9d\\x9bE\\x8d\\xa6\\xbf\\x10\\xd3\\xab\\xcb#\\xce\\xe1?\\xd7JL\\x1f0\\xd9\\xf3\\xbf\\x8d\\xc2k\\xbfW\\xef\\xe1?W\\xc5V\\xd7|\\xb3\\xfd?{\\x19&\\xe4~\\x1c\\xf9? \\xc6\\x05\\x81\\x19\\xb6\\xb1?\\xbb\\x88rq\\xc8\\xac\\xdf\\xbf\\x08\\xea\\xbf\\xc2h%\\xf8\\xbf\\x1f8\\x1cK\\x84\\xd0\\xf2\\xbf+eQ\\xcaH-\\xf6\\xbff\\xb3MqJ\\x92l?)\\xf9\\xf6\\x91\\xe8o\\xc0?\\xff\\xcd\\xb2\\xdf[\\xf1\\xd6?\\x9d\\x9e\\xb5\\xe53\\xc2>?\\xeaA\\xf9\\xf3&\\xa1\\xfc?\\x08,{\\xf6*\\xee\\xb0?'"
      ]
     },
     "execution_count": 83,
     "metadata": {},
     "output_type": "execute_result"
    }
   ],
   "source": [
    "stock_change.tobytes()"
   ]
  },
  {
   "cell_type": "markdown",
   "id": "75f576ee",
   "metadata": {},
   "source": [
    "## deduplicate"
   ]
  },
  {
   "cell_type": "code",
   "execution_count": 84,
   "id": "5c0fe62e",
   "metadata": {},
   "outputs": [],
   "source": [
    "temp = np.array([[1,2,3,4], [3,4,5,6]])"
   ]
  },
  {
   "cell_type": "code",
   "execution_count": 85,
   "id": "d6fed8cd",
   "metadata": {},
   "outputs": [
    {
     "data": {
      "text/plain": [
       "array([[1, 2, 3, 4],\n",
       "       [3, 4, 5, 6]])"
      ]
     },
     "execution_count": 85,
     "metadata": {},
     "output_type": "execute_result"
    }
   ],
   "source": [
    "temp"
   ]
  },
  {
   "cell_type": "code",
   "execution_count": 87,
   "id": "4d93beca",
   "metadata": {},
   "outputs": [
    {
     "data": {
      "text/plain": [
       "array([1, 2, 3, 4, 5, 6])"
      ]
     },
     "execution_count": 87,
     "metadata": {},
     "output_type": "execute_result"
    }
   ],
   "source": [
    "np.unique(temp)"
   ]
  },
  {
   "cell_type": "code",
   "execution_count": 88,
   "id": "9a1630c9",
   "metadata": {},
   "outputs": [
    {
     "data": {
      "text/plain": [
       "{1, 2, 3, 4, 5, 6}"
      ]
     },
     "execution_count": 88,
     "metadata": {},
     "output_type": "execute_result"
    }
   ],
   "source": [
    "# only doable in 1D\n",
    "set(temp.flatten())"
   ]
  },
  {
   "cell_type": "markdown",
   "id": "e9d6f97b",
   "metadata": {},
   "source": [
    "## 逻辑运算"
   ]
  },
  {
   "cell_type": "code",
   "execution_count": 89,
   "id": "2f355e2c",
   "metadata": {},
   "outputs": [],
   "source": [
    "stock_change = np.random.normal(loc=0, scale=1, size=(8,10))"
   ]
  },
  {
   "cell_type": "code",
   "execution_count": 90,
   "id": "2a2b2699",
   "metadata": {},
   "outputs": [
    {
     "data": {
      "text/plain": [
       "array([[ True, False,  True, False, False, False, False, False, False,\n",
       "        False],\n",
       "       [False, False, False, False, False, False,  True, False,  True,\n",
       "         True],\n",
       "       [False, False, False, False,  True,  True, False, False,  True,\n",
       "        False],\n",
       "       [ True, False,  True, False, False, False, False, False, False,\n",
       "        False],\n",
       "       [False,  True, False, False, False, False,  True, False, False,\n",
       "        False],\n",
       "       [False,  True,  True,  True, False, False,  True, False,  True,\n",
       "         True],\n",
       "       [ True, False, False,  True, False,  True, False, False,  True,\n",
       "        False],\n",
       "       [False, False,  True, False, False,  True, False, False, False,\n",
       "        False]])"
      ]
     },
     "execution_count": 90,
     "metadata": {},
     "output_type": "execute_result"
    }
   ],
   "source": [
    "# 判断，如果涨幅大于0.5 标记为True\n",
    "stock_change > 0.5"
   ]
  },
  {
   "cell_type": "code",
   "execution_count": 91,
   "id": "d3d4ecf1",
   "metadata": {},
   "outputs": [
    {
     "data": {
      "text/plain": [
       "array([[ 1.11107592, -0.52804875,  0.99500505, -0.03616189, -1.83851869,\n",
       "         0.40988347, -0.8984814 , -0.13191298, -0.32830481,  0.11368334],\n",
       "       [-1.50360399, -0.74704508,  0.40394542, -0.63659904, -0.71797432,\n",
       "        -1.16893529,  1.32880392, -1.02909367,  1.11404858,  1.27573998],\n",
       "       [-0.07023557, -0.03679921, -0.9370087 , -1.00497285,  0.69452598,\n",
       "         0.60952579, -1.69518322, -1.27746303,  0.58260584,  0.48046335],\n",
       "       [ 1.11637405, -0.78197581,  1.19189397, -0.04792277, -0.14596117,\n",
       "         0.12883539, -0.565984  ,  0.2790019 , -0.36578444, -0.05379768],\n",
       "       [ 0.31914263,  1.03287631, -1.72508219, -0.35327261,  0.31133133,\n",
       "        -0.07854796,  2.51782707, -0.16604008, -1.58384001, -0.03941042],\n",
       "       [-0.2280911 ,  1.69730712,  1.24941494,  2.56101802, -1.2178865 ,\n",
       "        -0.24702425,  0.50532331, -1.4796454 ,  0.87191069,  1.58821835],\n",
       "       [ 0.56664732, -2.33430928, -0.12956764,  0.76843751,  0.15690527,\n",
       "         1.13151425, -0.45677448, -0.44176599,  1.00093499, -1.41745853],\n",
       "       [-0.47851957, -1.51263296,  0.54771639, -0.14766693, -0.27299943,\n",
       "         1.40294106, -0.19039909, -1.19963767, -1.62978455,  0.00377441]])"
      ]
     },
     "execution_count": 91,
     "metadata": {},
     "output_type": "execute_result"
    }
   ],
   "source": [
    "stock_change"
   ]
  },
  {
   "cell_type": "code",
   "execution_count": 93,
   "id": "3ef4dddc",
   "metadata": {},
   "outputs": [
    {
     "data": {
      "text/plain": [
       "array([1.11107592, 0.99500505, 1.32880392, 1.11404858, 1.27573998,\n",
       "       0.69452598, 0.60952579, 0.58260584, 1.11637405, 1.19189397,\n",
       "       1.03287631, 2.51782707, 1.69730712, 1.24941494, 2.56101802,\n",
       "       0.50532331, 0.87191069, 1.58821835, 0.56664732, 0.76843751,\n",
       "       1.13151425, 1.00093499, 0.54771639, 1.40294106])"
      ]
     },
     "execution_count": 93,
     "metadata": {},
     "output_type": "execute_result"
    }
   ],
   "source": [
    "# 布尔索引\n",
    "stock_change[stock_change>0.5]"
   ]
  },
  {
   "cell_type": "code",
   "execution_count": 94,
   "id": "20718b61",
   "metadata": {},
   "outputs": [],
   "source": [
    "stock_change[stock_change>0.5] = 233"
   ]
  },
  {
   "cell_type": "code",
   "execution_count": 95,
   "id": "1b57c23d",
   "metadata": {},
   "outputs": [
    {
     "data": {
      "text/plain": [
       "array([[ 2.33000000e+02, -5.28048752e-01,  2.33000000e+02,\n",
       "        -3.61618944e-02, -1.83851869e+00,  4.09883474e-01,\n",
       "        -8.98481398e-01, -1.31912977e-01, -3.28304813e-01,\n",
       "         1.13683336e-01],\n",
       "       [-1.50360399e+00, -7.47045076e-01,  4.03945420e-01,\n",
       "        -6.36599044e-01, -7.17974321e-01, -1.16893529e+00,\n",
       "         2.33000000e+02, -1.02909367e+00,  2.33000000e+02,\n",
       "         2.33000000e+02],\n",
       "       [-7.02355706e-02, -3.67992116e-02, -9.37008700e-01,\n",
       "        -1.00497285e+00,  2.33000000e+02,  2.33000000e+02,\n",
       "        -1.69518322e+00, -1.27746303e+00,  2.33000000e+02,\n",
       "         4.80463352e-01],\n",
       "       [ 2.33000000e+02, -7.81975814e-01,  2.33000000e+02,\n",
       "        -4.79227668e-02, -1.45961173e-01,  1.28835388e-01,\n",
       "        -5.65984000e-01,  2.79001905e-01, -3.65784439e-01,\n",
       "        -5.37976828e-02],\n",
       "       [ 3.19142632e-01,  2.33000000e+02, -1.72508219e+00,\n",
       "        -3.53272607e-01,  3.11331326e-01, -7.85479600e-02,\n",
       "         2.33000000e+02, -1.66040083e-01, -1.58384001e+00,\n",
       "        -3.94104185e-02],\n",
       "       [-2.28091096e-01,  2.33000000e+02,  2.33000000e+02,\n",
       "         2.33000000e+02, -1.21788650e+00, -2.47024250e-01,\n",
       "         2.33000000e+02, -1.47964540e+00,  2.33000000e+02,\n",
       "         2.33000000e+02],\n",
       "       [ 2.33000000e+02, -2.33430928e+00, -1.29567635e-01,\n",
       "         2.33000000e+02,  1.56905270e-01,  2.33000000e+02,\n",
       "        -4.56774485e-01, -4.41765990e-01,  2.33000000e+02,\n",
       "        -1.41745853e+00],\n",
       "       [-4.78519571e-01, -1.51263296e+00,  2.33000000e+02,\n",
       "        -1.47666934e-01, -2.72999430e-01,  2.33000000e+02,\n",
       "        -1.90399087e-01, -1.19963767e+00, -1.62978455e+00,\n",
       "         3.77440530e-03]])"
      ]
     },
     "execution_count": 95,
     "metadata": {},
     "output_type": "execute_result"
    }
   ],
   "source": [
    "stock_change"
   ]
  },
  {
   "cell_type": "code",
   "execution_count": 96,
   "id": "bfe02d36",
   "metadata": {},
   "outputs": [
    {
     "data": {
      "text/plain": [
       "False"
      ]
     },
     "execution_count": 96,
     "metadata": {},
     "output_type": "execute_result"
    }
   ],
   "source": [
    "# 通用判断函数\n",
    "# 判断前五只股票每天是否全部涨幅大于0.5\n",
    "np.all(stock_change[0:5]>0.5)"
   ]
  },
  {
   "cell_type": "code",
   "execution_count": 97,
   "id": "b15b18a3",
   "metadata": {},
   "outputs": [
    {
     "data": {
      "text/plain": [
       "True"
      ]
     },
     "execution_count": 97,
     "metadata": {},
     "output_type": "execute_result"
    }
   ],
   "source": [
    "# 判断前五只股票任一是否有涨幅大于0.5的时候\n",
    "np.any(stock_change[0:5]>0.5)"
   ]
  },
  {
   "cell_type": "code",
   "execution_count": 98,
   "id": "f87fdd3f",
   "metadata": {},
   "outputs": [
    {
     "data": {
      "text/plain": [
       "array([[1, 0, 1, 0, 0, 1, 0, 0, 0, 1],\n",
       "       [0, 0, 1, 0, 0, 0, 1, 0, 1, 1],\n",
       "       [0, 0, 0, 0, 1, 1, 0, 0, 1, 1],\n",
       "       [1, 0, 1, 0, 0, 1, 0, 1, 0, 0],\n",
       "       [1, 1, 0, 0, 1, 0, 1, 0, 0, 0]])"
      ]
     },
     "execution_count": 98,
     "metadata": {},
     "output_type": "execute_result"
    }
   ],
   "source": [
    "# 三元运算符\n",
    "# 判断前五只股票前五天的涨幅， 涨的置为1， 否则为0\n",
    "np.where(stock_change[:5][:5]>0, 1, 0)"
   ]
  },
  {
   "cell_type": "code",
   "execution_count": 99,
   "id": "855ca935",
   "metadata": {},
   "outputs": [
    {
     "data": {
      "text/plain": [
       "array([[ 2.33000000e+02, -5.28048752e-01,  2.33000000e+02,\n",
       "        -3.61618944e-02, -1.83851869e+00,  4.09883474e-01,\n",
       "        -8.98481398e-01, -1.31912977e-01, -3.28304813e-01,\n",
       "         1.13683336e-01],\n",
       "       [-1.50360399e+00, -7.47045076e-01,  4.03945420e-01,\n",
       "        -6.36599044e-01, -7.17974321e-01, -1.16893529e+00,\n",
       "         2.33000000e+02, -1.02909367e+00,  2.33000000e+02,\n",
       "         2.33000000e+02],\n",
       "       [-7.02355706e-02, -3.67992116e-02, -9.37008700e-01,\n",
       "        -1.00497285e+00,  2.33000000e+02,  2.33000000e+02,\n",
       "        -1.69518322e+00, -1.27746303e+00,  2.33000000e+02,\n",
       "         4.80463352e-01],\n",
       "       [ 2.33000000e+02, -7.81975814e-01,  2.33000000e+02,\n",
       "        -4.79227668e-02, -1.45961173e-01,  1.28835388e-01,\n",
       "        -5.65984000e-01,  2.79001905e-01, -3.65784439e-01,\n",
       "        -5.37976828e-02],\n",
       "       [ 3.19142632e-01,  2.33000000e+02, -1.72508219e+00,\n",
       "        -3.53272607e-01,  3.11331326e-01, -7.85479600e-02,\n",
       "         2.33000000e+02, -1.66040083e-01, -1.58384001e+00,\n",
       "        -3.94104185e-02],\n",
       "       [-2.28091096e-01,  2.33000000e+02,  2.33000000e+02,\n",
       "         2.33000000e+02, -1.21788650e+00, -2.47024250e-01,\n",
       "         2.33000000e+02, -1.47964540e+00,  2.33000000e+02,\n",
       "         2.33000000e+02],\n",
       "       [ 2.33000000e+02, -2.33430928e+00, -1.29567635e-01,\n",
       "         2.33000000e+02,  1.56905270e-01,  2.33000000e+02,\n",
       "        -4.56774485e-01, -4.41765990e-01,  2.33000000e+02,\n",
       "        -1.41745853e+00],\n",
       "       [-4.78519571e-01, -1.51263296e+00,  2.33000000e+02,\n",
       "        -1.47666934e-01, -2.72999430e-01,  2.33000000e+02,\n",
       "        -1.90399087e-01, -1.19963767e+00, -1.62978455e+00,\n",
       "         3.77440530e-03]])"
      ]
     },
     "execution_count": 99,
     "metadata": {},
     "output_type": "execute_result"
    }
   ],
   "source": [
    "stock_change"
   ]
  },
  {
   "cell_type": "code",
   "execution_count": 107,
   "id": "ff3f1f48",
   "metadata": {},
   "outputs": [
    {
     "data": {
      "text/plain": [
       "array([[ True,  True,  True,  True],\n",
       "       [ True,  True,  True,  True]])"
      ]
     },
     "execution_count": 107,
     "metadata": {},
     "output_type": "execute_result"
    }
   ],
   "source": [
    "test = np.array([[1,4,5,7], [2,3,5,9]])\n",
    "# 符合逻辑\n",
    "np.logical_and(test>0, test<10)\n"
   ]
  },
  {
   "cell_type": "markdown",
   "id": "31cff49d",
   "metadata": {},
   "source": [
    "## 统计运算"
   ]
  },
  {
   "cell_type": "code",
   "execution_count": 110,
   "id": "00570c37",
   "metadata": {},
   "outputs": [
    {
     "data": {
      "text/plain": [
       "array([[ 2.33000000e+02, -5.28048752e-01,  2.33000000e+02,\n",
       "        -3.61618944e-02, -1.83851869e+00,  4.09883474e-01,\n",
       "        -8.98481398e-01, -1.31912977e-01, -3.28304813e-01,\n",
       "         1.13683336e-01],\n",
       "       [-1.50360399e+00, -7.47045076e-01,  4.03945420e-01,\n",
       "        -6.36599044e-01, -7.17974321e-01, -1.16893529e+00,\n",
       "         2.33000000e+02, -1.02909367e+00,  2.33000000e+02,\n",
       "         2.33000000e+02],\n",
       "       [-7.02355706e-02, -3.67992116e-02, -9.37008700e-01,\n",
       "        -1.00497285e+00,  2.33000000e+02,  2.33000000e+02,\n",
       "        -1.69518322e+00, -1.27746303e+00,  2.33000000e+02,\n",
       "         4.80463352e-01],\n",
       "       [ 2.33000000e+02, -7.81975814e-01,  2.33000000e+02,\n",
       "        -4.79227668e-02, -1.45961173e-01,  1.28835388e-01,\n",
       "        -5.65984000e-01,  2.79001905e-01, -3.65784439e-01,\n",
       "        -5.37976828e-02],\n",
       "       [ 3.19142632e-01,  2.33000000e+02, -1.72508219e+00,\n",
       "        -3.53272607e-01,  3.11331326e-01, -7.85479600e-02,\n",
       "         2.33000000e+02, -1.66040083e-01, -1.58384001e+00,\n",
       "        -3.94104185e-02],\n",
       "       [-2.28091096e-01,  2.33000000e+02,  2.33000000e+02,\n",
       "         2.33000000e+02, -1.21788650e+00, -2.47024250e-01,\n",
       "         2.33000000e+02, -1.47964540e+00,  2.33000000e+02,\n",
       "         2.33000000e+02],\n",
       "       [ 2.33000000e+02, -2.33430928e+00, -1.29567635e-01,\n",
       "         2.33000000e+02,  1.56905270e-01,  2.33000000e+02,\n",
       "        -4.56774485e-01, -4.41765990e-01,  2.33000000e+02,\n",
       "        -1.41745853e+00],\n",
       "       [-4.78519571e-01, -1.51263296e+00,  2.33000000e+02,\n",
       "        -1.47666934e-01, -2.72999430e-01,  2.33000000e+02,\n",
       "        -1.90399087e-01, -1.19963767e+00, -1.62978455e+00,\n",
       "         3.77440530e-03]])"
      ]
     },
     "execution_count": 110,
     "metadata": {},
     "output_type": "execute_result"
    }
   ],
   "source": [
    "stock_change"
   ]
  },
  {
   "cell_type": "code",
   "execution_count": 112,
   "id": "b3aec0b7",
   "metadata": {},
   "outputs": [
    {
     "data": {
      "text/plain": [
       "array([[ 2.33000000e+02, -5.28048752e-01,  2.33000000e+02,\n",
       "        -3.61618944e-02],\n",
       "       [-1.50360399e+00, -7.47045076e-01,  4.03945420e-01,\n",
       "        -6.36599044e-01],\n",
       "       [-7.02355706e-02, -3.67992116e-02, -9.37008700e-01,\n",
       "        -1.00497285e+00],\n",
       "       [ 2.33000000e+02, -7.81975814e-01,  2.33000000e+02,\n",
       "        -4.79227668e-02]])"
      ]
     },
     "execution_count": 112,
     "metadata": {},
     "output_type": "execute_result"
    }
   ],
   "source": [
    "stock_change[:4,:4]\n"
   ]
  },
  {
   "cell_type": "code",
   "execution_count": 113,
   "id": "801a05ff",
   "metadata": {},
   "outputs": [
    {
     "data": {
      "text/plain": [
       "array([ 2.33000000e+02,  4.03945420e-01, -3.67992116e-02,  2.33000000e+02])"
      ]
     },
     "execution_count": 113,
     "metadata": {},
     "output_type": "execute_result"
    }
   ],
   "source": [
    "# 前四只股票前四天的最大涨幅\n",
    "np.max(stock_change[:4,:4], axis=1)"
   ]
  },
  {
   "cell_type": "code",
   "execution_count": 115,
   "id": "05e0175d",
   "metadata": {},
   "outputs": [
    {
     "data": {
      "text/plain": [
       "array([ 2.33000000e+02,  4.03945420e-01, -3.67992116e-02,  2.33000000e+02])"
      ]
     },
     "execution_count": 115,
     "metadata": {},
     "output_type": "execute_result"
    }
   ],
   "source": [
    "stock_change[:4,:4].max(axis=1)"
   ]
  },
  {
   "cell_type": "code",
   "execution_count": 116,
   "id": "73a1389c",
   "metadata": {},
   "outputs": [
    {
     "data": {
      "text/plain": [
       "array([[1, 4, 5, 7],\n",
       "       [2, 3, 5, 9]])"
      ]
     },
     "execution_count": 116,
     "metadata": {},
     "output_type": "execute_result"
    }
   ],
   "source": [
    "test"
   ]
  },
  {
   "cell_type": "code",
   "execution_count": 117,
   "id": "8866cbce",
   "metadata": {},
   "outputs": [
    {
     "data": {
      "text/plain": [
       "array([7, 9])"
      ]
     },
     "execution_count": 117,
     "metadata": {},
     "output_type": "execute_result"
    }
   ],
   "source": [
    "np.max(test, axis=1)"
   ]
  },
  {
   "cell_type": "code",
   "execution_count": 118,
   "id": "3058de6c",
   "metadata": {},
   "outputs": [
    {
     "data": {
      "text/plain": [
       "array([2, 4, 5, 9])"
      ]
     },
     "execution_count": 118,
     "metadata": {},
     "output_type": "execute_result"
    }
   ],
   "source": [
    "np.max(test, axis=0)"
   ]
  },
  {
   "cell_type": "code",
   "execution_count": 119,
   "id": "1ddfd548",
   "metadata": {},
   "outputs": [
    {
     "data": {
      "text/plain": [
       "(2, 4)"
      ]
     },
     "execution_count": 119,
     "metadata": {},
     "output_type": "execute_result"
    }
   ],
   "source": [
    "test.shape"
   ]
  },
  {
   "cell_type": "code",
   "execution_count": 121,
   "id": "5bbd2108",
   "metadata": {},
   "outputs": [],
   "source": [
    "test2= np.array([[\n",
    "    [1,2,4],[3,5,8]],[[4,7,0],[1,9,6]]])"
   ]
  },
  {
   "cell_type": "code",
   "execution_count": 122,
   "id": "e049639e",
   "metadata": {},
   "outputs": [
    {
     "data": {
      "text/plain": [
       "array([[[1, 2, 4],\n",
       "        [3, 5, 8]],\n",
       "\n",
       "       [[4, 7, 0],\n",
       "        [1, 9, 6]]])"
      ]
     },
     "execution_count": 122,
     "metadata": {},
     "output_type": "execute_result"
    }
   ],
   "source": [
    "test2"
   ]
  },
  {
   "cell_type": "code",
   "execution_count": 123,
   "id": "61e98df3",
   "metadata": {},
   "outputs": [
    {
     "data": {
      "text/plain": [
       "(2, 2, 3)"
      ]
     },
     "execution_count": 123,
     "metadata": {},
     "output_type": "execute_result"
    }
   ],
   "source": [
    "test2.shape"
   ]
  },
  {
   "cell_type": "code",
   "execution_count": 124,
   "id": "1522a49c",
   "metadata": {},
   "outputs": [
    {
     "data": {
      "text/plain": [
       "array([[4, 7, 4],\n",
       "       [3, 9, 8]])"
      ]
     },
     "execution_count": 124,
     "metadata": {},
     "output_type": "execute_result"
    }
   ],
   "source": [
    "test2.max(axis=0)"
   ]
  },
  {
   "cell_type": "code",
   "execution_count": 125,
   "id": "32e00760",
   "metadata": {},
   "outputs": [
    {
     "data": {
      "text/plain": [
       "array([[3, 5, 8],\n",
       "       [4, 9, 6]])"
      ]
     },
     "execution_count": 125,
     "metadata": {},
     "output_type": "execute_result"
    }
   ],
   "source": [
    "test2.max(axis=1)"
   ]
  },
  {
   "cell_type": "code",
   "execution_count": 126,
   "id": "00191562",
   "metadata": {},
   "outputs": [
    {
     "data": {
      "text/plain": [
       "array([[4, 8],\n",
       "       [7, 9]])"
      ]
     },
     "execution_count": 126,
     "metadata": {},
     "output_type": "execute_result"
    }
   ],
   "source": [
    "test2.max(axis=2)"
   ]
  },
  {
   "cell_type": "code",
   "execution_count": 127,
   "id": "8095c0b9",
   "metadata": {},
   "outputs": [
    {
     "data": {
      "text/plain": [
       "array([[4, 8],\n",
       "       [7, 9]])"
      ]
     },
     "execution_count": 127,
     "metadata": {},
     "output_type": "execute_result"
    }
   ],
   "source": [
    "test2.max(axis=-1)"
   ]
  },
  {
   "cell_type": "code",
   "execution_count": 128,
   "id": "23ad5098",
   "metadata": {},
   "outputs": [
    {
     "data": {
      "text/plain": [
       "array([[2, 2],\n",
       "       [1, 1]])"
      ]
     },
     "execution_count": 128,
     "metadata": {},
     "output_type": "execute_result"
    }
   ],
   "source": [
    "test2.argmax(axis=-1)"
   ]
  },
  {
   "cell_type": "code",
   "execution_count": 129,
   "id": "c61d6fd7",
   "metadata": {},
   "outputs": [
    {
     "data": {
      "text/plain": [
       "array([[1, 1, 0],\n",
       "       [0, 1, 0]])"
      ]
     },
     "execution_count": 129,
     "metadata": {},
     "output_type": "execute_result"
    }
   ],
   "source": [
    "test2.argmax(axis=0)"
   ]
  },
  {
   "cell_type": "markdown",
   "id": "89b7cf12",
   "metadata": {},
   "source": [
    "## 数组间的运算"
   ]
  },
  {
   "cell_type": "code",
   "execution_count": 130,
   "id": "74d04a44",
   "metadata": {},
   "outputs": [
    {
     "data": {
      "text/plain": [
       "array([[1, 4, 5, 7],\n",
       "       [2, 3, 5, 9]])"
      ]
     },
     "execution_count": 130,
     "metadata": {},
     "output_type": "execute_result"
    }
   ],
   "source": [
    "test"
   ]
  },
  {
   "cell_type": "code",
   "execution_count": 131,
   "id": "85b9441e",
   "metadata": {},
   "outputs": [
    {
     "data": {
      "text/plain": [
       "array([[10, 40, 50, 70],\n",
       "       [20, 30, 50, 90]])"
      ]
     },
     "execution_count": 131,
     "metadata": {},
     "output_type": "execute_result"
    }
   ],
   "source": [
    "# 数组与数字\n",
    "test *10 "
   ]
  },
  {
   "cell_type": "code",
   "execution_count": 132,
   "id": "e1fc233a",
   "metadata": {},
   "outputs": [],
   "source": [
    "# 广播机制\n",
    "# 满足一下两点\n",
    "# 1. 维度相等\n",
    "# 2. 两者对应的维度里，其中一个为1\n",
    "arr1 = np.random.randint(0,10,size=(2,6))"
   ]
  },
  {
   "cell_type": "code",
   "execution_count": 133,
   "id": "2eadb8af",
   "metadata": {},
   "outputs": [
    {
     "data": {
      "text/plain": [
       "array([[2, 2, 9, 8, 5, 1],\n",
       "       [6, 6, 9, 4, 8, 1]])"
      ]
     },
     "execution_count": 133,
     "metadata": {},
     "output_type": "execute_result"
    }
   ],
   "source": [
    "arr1"
   ]
  },
  {
   "cell_type": "code",
   "execution_count": 134,
   "id": "ec7c7cf9",
   "metadata": {},
   "outputs": [],
   "source": [
    "arr2 = np.random.randint(10,20, size=(2,1))"
   ]
  },
  {
   "cell_type": "code",
   "execution_count": 135,
   "id": "401f99c7",
   "metadata": {},
   "outputs": [
    {
     "data": {
      "text/plain": [
       "array([[14],\n",
       "       [19]])"
      ]
     },
     "execution_count": 135,
     "metadata": {},
     "output_type": "execute_result"
    }
   ],
   "source": [
    "arr2"
   ]
  },
  {
   "cell_type": "code",
   "execution_count": 136,
   "id": "291a0dc6",
   "metadata": {},
   "outputs": [
    {
     "data": {
      "text/plain": [
       "array([[16, 16, 23, 22, 19, 15],\n",
       "       [25, 25, 28, 23, 27, 20]])"
      ]
     },
     "execution_count": 136,
     "metadata": {},
     "output_type": "execute_result"
    }
   ],
   "source": [
    "# 符合广播规则\n",
    "arr1 + arr2"
   ]
  },
  {
   "cell_type": "markdown",
   "id": "834efd18",
   "metadata": {},
   "source": [
    "### 矩阵运算\n"
   ]
  },
  {
   "cell_type": "code",
   "execution_count": 74,
   "id": "0549c46b",
   "metadata": {},
   "outputs": [],
   "source": [
    "data = np.array([[80, 86],\n",
    "[82, 80],\n",
    "[85, 78],\n",
    "[90, 90],\n",
    "[86, 82],\n",
    "[82, 90],\n",
    "[78, 80],\n",
    "[92, 94]])"
   ]
  },
  {
   "cell_type": "code",
   "execution_count": 75,
   "id": "fd1a307d",
   "metadata": {},
   "outputs": [
    {
     "data": {
      "text/plain": [
       "array([[80, 86],\n",
       "       [82, 80],\n",
       "       [85, 78],\n",
       "       [90, 90],\n",
       "       [86, 82],\n",
       "       [82, 90],\n",
       "       [78, 80],\n",
       "       [92, 94]])"
      ]
     },
     "execution_count": 75,
     "metadata": {},
     "output_type": "execute_result"
    }
   ],
   "source": [
    "data\n"
   ]
  },
  {
   "cell_type": "code",
   "execution_count": 76,
   "id": "6b61c221",
   "metadata": {},
   "outputs": [
    {
     "data": {
      "text/plain": [
       "(8, 2)"
      ]
     },
     "execution_count": 76,
     "metadata": {},
     "output_type": "execute_result"
    }
   ],
   "source": [
    "data.shape"
   ]
  },
  {
   "cell_type": "code",
   "execution_count": 78,
   "id": "2011ebb5",
   "metadata": {},
   "outputs": [],
   "source": [
    "# 新添加的\n",
    "weights_prime = np.array([[0.3],\n",
    "                          [0.7]])"
   ]
  },
  {
   "cell_type": "code",
   "execution_count": 80,
   "id": "4179a543",
   "metadata": {},
   "outputs": [
    {
     "data": {
      "text/plain": [
       "array([[84.2],\n",
       "       [80.6],\n",
       "       [80.1],\n",
       "       [90. ],\n",
       "       [83.2],\n",
       "       [87.6],\n",
       "       [79.4],\n",
       "       [93.4]])"
      ]
     },
     "execution_count": 80,
     "metadata": {},
     "output_type": "execute_result"
    }
   ],
   "source": [
    "data @ weights_prime"
   ]
  },
  {
   "cell_type": "code",
   "execution_count": 155,
   "id": "0ab18f70",
   "metadata": {},
   "outputs": [],
   "source": [
    "weights=np.array([[0.3, 0.7]])"
   ]
  },
  {
   "cell_type": "code",
   "execution_count": 156,
   "id": "97a55e33",
   "metadata": {},
   "outputs": [
    {
     "data": {
      "text/plain": [
       "array([[0.3, 0.7]])"
      ]
     },
     "execution_count": 156,
     "metadata": {},
     "output_type": "execute_result"
    }
   ],
   "source": [
    "weights"
   ]
  },
  {
   "cell_type": "code",
   "execution_count": 157,
   "id": "9daeb7e6",
   "metadata": {},
   "outputs": [
    {
     "data": {
      "text/plain": [
       "array([[24. , 60.2],\n",
       "       [24.6, 56. ],\n",
       "       [25.5, 54.6],\n",
       "       [27. , 63. ],\n",
       "       [25.8, 57.4],\n",
       "       [24.6, 63. ],\n",
       "       [23.4, 56. ],\n",
       "       [27.6, 65.8]])"
      ]
     },
     "execution_count": 157,
     "metadata": {},
     "output_type": "execute_result"
    }
   ],
   "source": [
    "data * weights"
   ]
  },
  {
   "cell_type": "code",
   "execution_count": 164,
   "id": "033a7665",
   "metadata": {},
   "outputs": [],
   "source": [
    "new_weights = weights.repeat(8, axis=0)"
   ]
  },
  {
   "cell_type": "code",
   "execution_count": 165,
   "id": "195b7c7e",
   "metadata": {},
   "outputs": [
    {
     "data": {
      "text/plain": [
       "array([[0.3, 0.7],\n",
       "       [0.3, 0.7],\n",
       "       [0.3, 0.7],\n",
       "       [0.3, 0.7],\n",
       "       [0.3, 0.7],\n",
       "       [0.3, 0.7],\n",
       "       [0.3, 0.7],\n",
       "       [0.3, 0.7]])"
      ]
     },
     "execution_count": 165,
     "metadata": {},
     "output_type": "execute_result"
    }
   ],
   "source": [
    "new_weights"
   ]
  },
  {
   "cell_type": "code",
   "execution_count": 166,
   "id": "1d5788d7",
   "metadata": {},
   "outputs": [
    {
     "data": {
      "text/plain": [
       "(8, 2)"
      ]
     },
     "execution_count": 166,
     "metadata": {},
     "output_type": "execute_result"
    }
   ],
   "source": [
    "new_weights.shape"
   ]
  },
  {
   "cell_type": "code",
   "execution_count": 172,
   "id": "1a7038a1",
   "metadata": {},
   "outputs": [
    {
     "data": {
      "text/plain": [
       "array([[0.3, 0.3, 0.3, 0.3, 0.3, 0.3, 0.3, 0.3],\n",
       "       [0.7, 0.7, 0.7, 0.7, 0.7, 0.7, 0.7, 0.7]])"
      ]
     },
     "execution_count": 172,
     "metadata": {},
     "output_type": "execute_result"
    }
   ],
   "source": [
    "new_weights.T"
   ]
  },
  {
   "cell_type": "code",
   "execution_count": 189,
   "id": "41efe64f",
   "metadata": {},
   "outputs": [
    {
     "data": {
      "text/plain": [
       "matrix([[84.2, 84.2, 84.2, 84.2, 84.2, 84.2, 84.2, 84.2],\n",
       "        [80.6, 80.6, 80.6, 80.6, 80.6, 80.6, 80.6, 80.6],\n",
       "        [80.1, 80.1, 80.1, 80.1, 80.1, 80.1, 80.1, 80.1],\n",
       "        [90. , 90. , 90. , 90. , 90. , 90. , 90. , 90. ],\n",
       "        [83.2, 83.2, 83.2, 83.2, 83.2, 83.2, 83.2, 83.2],\n",
       "        [87.6, 87.6, 87.6, 87.6, 87.6, 87.6, 87.6, 87.6],\n",
       "        [79.4, 79.4, 79.4, 79.4, 79.4, 79.4, 79.4, 79.4],\n",
       "        [93.4, 93.4, 93.4, 93.4, 93.4, 93.4, 93.4, 93.4]])"
      ]
     },
     "execution_count": 189,
     "metadata": {},
     "output_type": "execute_result"
    }
   ],
   "source": [
    "np.matmul(data, new_weights.T)"
   ]
  },
  {
   "cell_type": "code",
   "execution_count": 197,
   "id": "d07f217f",
   "metadata": {},
   "outputs": [
    {
     "data": {
      "text/plain": [
       "matrix([[0.3, 0.7]])"
      ]
     },
     "execution_count": 197,
     "metadata": {},
     "output_type": "execute_result"
    }
   ],
   "source": [
    "weights"
   ]
  },
  {
   "cell_type": "code",
   "execution_count": 199,
   "id": "56f947f4",
   "metadata": {},
   "outputs": [
    {
     "data": {
      "text/plain": [
       "(1, 2)"
      ]
     },
     "execution_count": 199,
     "metadata": {},
     "output_type": "execute_result"
    }
   ],
   "source": [
    "weights.shape"
   ]
  },
  {
   "cell_type": "code",
   "execution_count": 198,
   "id": "3dcd2b6f",
   "metadata": {},
   "outputs": [
    {
     "data": {
      "text/plain": [
       "matrix([[80, 86],\n",
       "        [82, 80],\n",
       "        [85, 78],\n",
       "        [90, 90],\n",
       "        [86, 82],\n",
       "        [82, 90],\n",
       "        [78, 80],\n",
       "        [92, 94]])"
      ]
     },
     "execution_count": 198,
     "metadata": {},
     "output_type": "execute_result"
    }
   ],
   "source": [
    "data"
   ]
  },
  {
   "cell_type": "code",
   "execution_count": 201,
   "id": "72009488",
   "metadata": {},
   "outputs": [
    {
     "data": {
      "text/plain": [
       "(8, 2)"
      ]
     },
     "execution_count": 201,
     "metadata": {},
     "output_type": "execute_result"
    }
   ],
   "source": [
    "data.shape"
   ]
  },
  {
   "cell_type": "code",
   "execution_count": 203,
   "id": "0e5247c4",
   "metadata": {},
   "outputs": [
    {
     "data": {
      "text/plain": [
       "matrix([[84.2],\n",
       "        [80.6],\n",
       "        [80.1],\n",
       "        [90. ],\n",
       "        [83.2],\n",
       "        [87.6],\n",
       "        [79.4],\n",
       "        [93.4]])"
      ]
     },
     "execution_count": 203,
     "metadata": {},
     "output_type": "execute_result"
    }
   ],
   "source": [
    "data @ weights.T"
   ]
  },
  {
   "cell_type": "code",
   "execution_count": 195,
   "id": "1e1e4fc9",
   "metadata": {},
   "outputs": [
    {
     "data": {
      "text/plain": [
       "matrix([[84.2],\n",
       "        [80.6],\n",
       "        [80.1],\n",
       "        [90. ],\n",
       "        [83.2],\n",
       "        [87.6],\n",
       "        [79.4],\n",
       "        [93.4]])"
      ]
     },
     "execution_count": 195,
     "metadata": {},
     "output_type": "execute_result"
    }
   ],
   "source": [
    "np.mat(data) * np.mat(weights)"
   ]
  },
  {
   "cell_type": "markdown",
   "id": "6158ad51",
   "metadata": {},
   "source": [
    "## 合并与分割"
   ]
  },
  {
   "cell_type": "code",
   "execution_count": 2,
   "id": "c50c9705",
   "metadata": {},
   "outputs": [],
   "source": [
    "import numpy as np"
   ]
  },
  {
   "cell_type": "code",
   "execution_count": 3,
   "id": "1c9f4073",
   "metadata": {},
   "outputs": [
    {
     "data": {
      "text/plain": [
       "array([1, 3, 4, 6, 7, 9])"
      ]
     },
     "execution_count": 3,
     "metadata": {},
     "output_type": "execute_result"
    }
   ],
   "source": [
    "# np.hstack\n",
    "a = np.array([1,3,4])\n",
    "b = np.array([6,7,9])\n",
    "np.hstack((a,b))"
   ]
  },
  {
   "cell_type": "code",
   "execution_count": 4,
   "id": "5848658c",
   "metadata": {},
   "outputs": [],
   "source": [
    "a = np.array([[1], [2], [3]])"
   ]
  },
  {
   "cell_type": "code",
   "execution_count": 5,
   "id": "deaada98",
   "metadata": {},
   "outputs": [
    {
     "data": {
      "text/plain": [
       "array([[1],\n",
       "       [2],\n",
       "       [3]])"
      ]
     },
     "execution_count": 5,
     "metadata": {},
     "output_type": "execute_result"
    }
   ],
   "source": [
    "a"
   ]
  },
  {
   "cell_type": "code",
   "execution_count": 6,
   "id": "9277e835",
   "metadata": {},
   "outputs": [
    {
     "data": {
      "text/plain": [
       "(3, 1)"
      ]
     },
     "execution_count": 6,
     "metadata": {},
     "output_type": "execute_result"
    }
   ],
   "source": [
    "a.shape"
   ]
  },
  {
   "cell_type": "code",
   "execution_count": 7,
   "id": "085119b5",
   "metadata": {},
   "outputs": [],
   "source": [
    "b = np.array([[5], [7], [9]])"
   ]
  },
  {
   "cell_type": "code",
   "execution_count": 8,
   "id": "4a322288",
   "metadata": {},
   "outputs": [
    {
     "data": {
      "text/plain": [
       "array([[5],\n",
       "       [7],\n",
       "       [9]])"
      ]
     },
     "execution_count": 8,
     "metadata": {},
     "output_type": "execute_result"
    }
   ],
   "source": [
    "b"
   ]
  },
  {
   "cell_type": "code",
   "execution_count": 11,
   "id": "9e619c9a",
   "metadata": {},
   "outputs": [],
   "source": [
    "c= np.vstack((a,b))"
   ]
  },
  {
   "cell_type": "code",
   "execution_count": 12,
   "id": "f0b0baef",
   "metadata": {},
   "outputs": [
    {
     "data": {
      "text/plain": [
       "array([[1],\n",
       "       [2],\n",
       "       [3],\n",
       "       [5],\n",
       "       [7],\n",
       "       [9]])"
      ]
     },
     "execution_count": 12,
     "metadata": {},
     "output_type": "execute_result"
    }
   ],
   "source": [
    "c"
   ]
  },
  {
   "cell_type": "code",
   "execution_count": 14,
   "id": "fc47527b",
   "metadata": {},
   "outputs": [
    {
     "data": {
      "text/plain": [
       "(6, 1)"
      ]
     },
     "execution_count": 14,
     "metadata": {},
     "output_type": "execute_result"
    }
   ],
   "source": [
    "c.shape"
   ]
  },
  {
   "cell_type": "code",
   "execution_count": 15,
   "id": "73073bd8",
   "metadata": {},
   "outputs": [],
   "source": [
    "c_prime=np.concatenate((a,b), axis=0) "
   ]
  },
  {
   "cell_type": "code",
   "execution_count": 16,
   "id": "a44e81df",
   "metadata": {},
   "outputs": [
    {
     "data": {
      "text/plain": [
       "array([[1],\n",
       "       [2],\n",
       "       [3],\n",
       "       [5],\n",
       "       [7],\n",
       "       [9]])"
      ]
     },
     "execution_count": 16,
     "metadata": {},
     "output_type": "execute_result"
    }
   ],
   "source": [
    "c_prime"
   ]
  },
  {
   "cell_type": "code",
   "execution_count": 17,
   "id": "61726dec",
   "metadata": {},
   "outputs": [
    {
     "data": {
      "text/plain": [
       "(6, 1)"
      ]
     },
     "execution_count": 17,
     "metadata": {},
     "output_type": "execute_result"
    }
   ],
   "source": [
    "c_prime.shape"
   ]
  },
  {
   "cell_type": "code",
   "execution_count": 18,
   "id": "4931013b",
   "metadata": {},
   "outputs": [],
   "source": [
    "another_c= np.concatenate((a,b), axis=1)"
   ]
  },
  {
   "cell_type": "code",
   "execution_count": 19,
   "id": "f1239f99",
   "metadata": {},
   "outputs": [
    {
     "data": {
      "text/plain": [
       "array([[1, 5],\n",
       "       [2, 7],\n",
       "       [3, 9]])"
      ]
     },
     "execution_count": 19,
     "metadata": {},
     "output_type": "execute_result"
    }
   ],
   "source": [
    "another_c"
   ]
  },
  {
   "cell_type": "code",
   "execution_count": 20,
   "id": "9d06d9ea",
   "metadata": {},
   "outputs": [
    {
     "data": {
      "text/plain": [
       "(3, 2)"
      ]
     },
     "execution_count": 20,
     "metadata": {},
     "output_type": "execute_result"
    }
   ],
   "source": [
    "another_c.shape"
   ]
  },
  {
   "cell_type": "code",
   "execution_count": 21,
   "id": "b122170e",
   "metadata": {},
   "outputs": [],
   "source": [
    " x= np.arange(9.0)"
   ]
  },
  {
   "cell_type": "code",
   "execution_count": 22,
   "id": "f77e97a0",
   "metadata": {},
   "outputs": [
    {
     "data": {
      "text/plain": [
       "array([0., 1., 2., 3., 4., 5., 6., 7., 8.])"
      ]
     },
     "execution_count": 22,
     "metadata": {},
     "output_type": "execute_result"
    }
   ],
   "source": [
    "x"
   ]
  },
  {
   "cell_type": "code",
   "execution_count": 23,
   "id": "e8302f0c",
   "metadata": {},
   "outputs": [
    {
     "data": {
      "text/plain": [
       "[array([0., 1., 2.]), array([3., 4., 5.]), array([6., 7., 8.])]"
      ]
     },
     "execution_count": 23,
     "metadata": {},
     "output_type": "execute_result"
    }
   ],
   "source": [
    "np.split(x, 3)"
   ]
  },
  {
   "cell_type": "code",
   "execution_count": 25,
   "id": "2f59aca3",
   "metadata": {},
   "outputs": [
    {
     "data": {
      "text/plain": [
       "[array([0., 1., 2.]), array([3., 4.]), array([5., 6., 7.])]"
      ]
     },
     "execution_count": 25,
     "metadata": {},
     "output_type": "execute_result"
    }
   ],
   "source": [
    " # 按索引分割\n",
    "x = np.arange(8.0)\n",
    "np.split(x, [3,5,])"
   ]
  },
  {
   "cell_type": "markdown",
   "id": "702ca7fc",
   "metadata": {},
   "source": [
    "# I/O操作和数据处理"
   ]
  },
  {
   "cell_type": "markdown",
   "id": "f98df2d7",
   "metadata": {},
   "source": [
    "大多数数据都存在于文件，而不是现造的"
   ]
  },
  {
   "cell_type": "code",
   "execution_count": 26,
   "id": "2da27823",
   "metadata": {},
   "outputs": [],
   "source": [
    "import numpy as np"
   ]
  },
  {
   "cell_type": "code",
   "execution_count": 27,
   "id": "3877efcc",
   "metadata": {},
   "outputs": [],
   "source": [
    "data = np.genfromtxt('/Users/joriri/Downloads/百度网盘下载/day2资料/02-代码/test.csv', delimiter=',')"
   ]
  },
  {
   "cell_type": "code",
   "execution_count": 28,
   "id": "b152a42d",
   "metadata": {},
   "outputs": [
    {
     "data": {
      "text/plain": [
       "array([[  nan,   nan,   nan,   nan],\n",
       "       [  1. , 123. ,   1.4,  23. ],\n",
       "       [  2. , 110. ,   nan,  18. ],\n",
       "       [  3. ,   nan,   2.1,  19. ]])"
      ]
     },
     "execution_count": 28,
     "metadata": {},
     "output_type": "execute_result"
    }
   ],
   "source": [
    "data"
   ]
  },
  {
   "cell_type": "markdown",
   "id": "331e8bab",
   "metadata": {},
   "source": [
    "读的有问题，所以一般不用numpy读文件"
   ]
  },
  {
   "cell_type": "markdown",
   "id": "665b7b98",
   "metadata": {},
   "source": [
    "###  对于缺失值的处理： \n",
    "                +删除该行样本（数据量足够大）\n",
    "                +插补 （求该字段平均数/中位数）"
   ]
  },
  {
   "cell_type": "code",
   "execution_count": 33,
   "id": "ebb8cc12",
   "metadata": {},
   "outputs": [
    {
     "data": {
      "text/plain": [
       "array([nan])"
      ]
     },
     "execution_count": 33,
     "metadata": {},
     "output_type": "execute_result"
    }
   ],
   "source": [
    "data[:,0][data[:,0]!=data[:,0]]"
   ]
  },
  {
   "cell_type": "code",
   "execution_count": 62,
   "id": "7e6964f6",
   "metadata": {},
   "outputs": [
    {
     "data": {
      "text/plain": [
       "array([2.1])"
      ]
     },
     "execution_count": 62,
     "metadata": {},
     "output_type": "execute_result"
    }
   ],
   "source": [
    "data[3:,][data[3:,]< 3.0]"
   ]
  },
  {
   "cell_type": "code",
   "execution_count": 67,
   "id": "19eaaf02",
   "metadata": {},
   "outputs": [],
   "source": [
    "def fill_nan_by_column_mean(t):\n",
    "    for i in range(t.shape[1]):\n",
    "        # count nan in  a column\n",
    "        nan_num = np.count_nonzero(t[:,i][t[:,i]!=t[:,i]])\n",
    "        if nan_num > 0:\n",
    "            # find this column\n",
    "            now_col = t[:, i]\n",
    "            # sum this column without nan\n",
    "            now_col_not_nan = now_col[np.isnan(now_col)==False].sum()\n",
    "            # get mean value of this column\n",
    "            now_col_mean = now_col_not_nan / (t.shape[0]- nan_num)\n",
    "            # replace nan with mean value\n",
    "            now_col[np.isnan(now_col)] = now_col_mean\n",
    "            t[:,i] = now_col\n",
    "    return t"
   ]
  },
  {
   "cell_type": "code",
   "execution_count": 68,
   "id": "dd31190c",
   "metadata": {},
   "outputs": [],
   "source": [
    "data_prime  = fill_nan_by_column_mean(data)"
   ]
  },
  {
   "cell_type": "code",
   "execution_count": 69,
   "id": "010be1b1",
   "metadata": {},
   "outputs": [
    {
     "data": {
      "text/plain": [
       "array([[  2.  , 116.5 ,   1.75,  20.  ],\n",
       "       [  1.  , 123.  ,   1.4 ,  23.  ],\n",
       "       [  2.  , 110.  ,   1.75,  18.  ],\n",
       "       [  3.  , 116.5 ,   2.1 ,  19.  ]])"
      ]
     },
     "execution_count": 69,
     "metadata": {},
     "output_type": "execute_result"
    }
   ],
   "source": [
    "data_prime"
   ]
  },
  {
   "cell_type": "markdown",
   "id": "cb0c7122",
   "metadata": {},
   "source": [
    "### 这种数据缺失值处理之类的操作， 用pandas"
   ]
  },
  {
   "cell_type": "code",
   "execution_count": null,
   "id": "1934c99f",
   "metadata": {},
   "outputs": [],
   "source": []
  }
 ],
 "metadata": {
  "kernelspec": {
   "display_name": "Python 3 (ipykernel)",
   "language": "python",
   "name": "python3"
  },
  "language_info": {
   "codemirror_mode": {
    "name": "ipython",
    "version": 3
   },
   "file_extension": ".py",
   "mimetype": "text/x-python",
   "name": "python",
   "nbconvert_exporter": "python",
   "pygments_lexer": "ipython3",
   "version": "3.9.13"
  }
 },
 "nbformat": 4,
 "nbformat_minor": 5
}
