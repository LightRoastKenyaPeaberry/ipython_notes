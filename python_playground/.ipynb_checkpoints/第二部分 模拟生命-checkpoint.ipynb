{
 "cells": [
  {
   "cell_type": "markdown",
   "metadata": {},
   "source": [
    "# Chapter 3 Conway生命游戏"
   ]
  },
  {
   "cell_type": "markdown",
   "metadata": {},
   "source": [
    "利用以下概念\n",
    "+ 利用matplotlib imshow展示\n",
    "+ 利用matplotlib 生成动画\n",
    "+ 使用numpy\n",
    "+ 将%运算符运用在边界条件\n",
    "+ 设置值的随机分布"
   ]
  },
  {
   "cell_type": "code",
   "execution_count": null,
   "metadata": {},
   "outputs": [],
   "source": []
  }
 ],
 "metadata": {
  "kernelspec": {
   "display_name": "base",
   "language": "python",
   "name": "python3"
  },
  "language_info": {
   "name": "python",
   "version": "3.11.4"
  }
 },
 "nbformat": 4,
 "nbformat_minor": 2
}
